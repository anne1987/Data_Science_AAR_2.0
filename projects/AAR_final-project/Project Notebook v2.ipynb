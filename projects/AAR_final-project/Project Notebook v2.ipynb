{
 "cells": [
  {
   "cell_type": "markdown",
   "metadata": {},
   "source": [
    "# Project Notebook v2"
   ]
  },
  {
   "cell_type": "markdown",
   "metadata": {},
   "source": [
    "# Notes\n",
    "    * Need to figure out how to rename empty cells for parents\n",
    "    * Need to combine disc buy and digital buy into just total buy for numbers and percents\n",
    "    * Need to figure out how to split a groupby over more than one line\n",
    "    * Need to figure out how to use compound logic/conditions in a groupby"
   ]
  },
  {
   "cell_type": "code",
   "execution_count": 55,
   "metadata": {
    "collapsed": false
   },
   "outputs": [],
   "source": [
    "%matplotlib inline\n",
    "import numpy as np\n",
    "import pandas as pd\n",
    "from matplotlib import pyplot as plt\n",
    "import seaborn as sns\n",
    "import sklearn.linear_model"
   ]
  },
  {
   "cell_type": "code",
   "execution_count": 56,
   "metadata": {
    "collapsed": false
   },
   "outputs": [
    {
     "data": {
      "text/html": [
       "<div>\n",
       "<style>\n",
       "    .dataframe thead tr:only-child th {\n",
       "        text-align: right;\n",
       "    }\n",
       "\n",
       "    .dataframe thead th {\n",
       "        text-align: left;\n",
       "    }\n",
       "\n",
       "    .dataframe tbody tr th {\n",
       "        vertical-align: top;\n",
       "    }\n",
       "</style>\n",
       "<table border=\"1\" class=\"dataframe\">\n",
       "  <thead>\n",
       "    <tr style=\"text-align: right;\">\n",
       "      <th></th>\n",
       "      <th>Gender</th>\n",
       "      <th>Age</th>\n",
       "      <th>Age_Breaks</th>\n",
       "      <th>Region2</th>\n",
       "      <th>Race</th>\n",
       "      <th>Language_Dominance</th>\n",
       "      <th>Parent</th>\n",
       "      <th>HH_Income</th>\n",
       "      <th>Employment</th>\n",
       "      <th>Education</th>\n",
       "      <th>...</th>\n",
       "      <th>Rented_Digital_iVOD</th>\n",
       "      <th>Rented_Digital_sVOD</th>\n",
       "      <th>Rented_Digital_cVOD</th>\n",
       "      <th>cqhidGroup</th>\n",
       "      <th>filter_$</th>\n",
       "      <th>ZTotal_Paid_HE_Movies</th>\n",
       "      <th>Buy_Disc_Percent</th>\n",
       "      <th>Buy_Digital_Percent</th>\n",
       "      <th>Rent_Disc_Percent</th>\n",
       "      <th>Rent_Digital_Percent</th>\n",
       "    </tr>\n",
       "    <tr>\n",
       "      <th>respid</th>\n",
       "      <th></th>\n",
       "      <th></th>\n",
       "      <th></th>\n",
       "      <th></th>\n",
       "      <th></th>\n",
       "      <th></th>\n",
       "      <th></th>\n",
       "      <th></th>\n",
       "      <th></th>\n",
       "      <th></th>\n",
       "      <th></th>\n",
       "      <th></th>\n",
       "      <th></th>\n",
       "      <th></th>\n",
       "      <th></th>\n",
       "      <th></th>\n",
       "      <th></th>\n",
       "      <th></th>\n",
       "      <th></th>\n",
       "      <th></th>\n",
       "      <th></th>\n",
       "    </tr>\n",
       "  </thead>\n",
       "  <tbody>\n",
       "    <tr>\n",
       "      <th>44</th>\n",
       "      <td>Female</td>\n",
       "      <td>20</td>\n",
       "      <td>18-24</td>\n",
       "      <td>South</td>\n",
       "      <td>Black</td>\n",
       "      <td></td>\n",
       "      <td></td>\n",
       "      <td>1 - &lt; $20K</td>\n",
       "      <td>4 - Not employed</td>\n",
       "      <td>2 - HS Grad</td>\n",
       "      <td>...</td>\n",
       "      <td>5</td>\n",
       "      <td>18</td>\n",
       "      <td>4</td>\n",
       "      <td>Gen-Pop</td>\n",
       "      <td>Selected</td>\n",
       "      <td>1.492690</td>\n",
       "      <td>0.363636</td>\n",
       "      <td>0.0</td>\n",
       "      <td>0.145455</td>\n",
       "      <td>0.490909</td>\n",
       "    </tr>\n",
       "    <tr>\n",
       "      <th>108</th>\n",
       "      <td>Male</td>\n",
       "      <td>31</td>\n",
       "      <td>25-34</td>\n",
       "      <td>Northeast</td>\n",
       "      <td>Hispanic</td>\n",
       "      <td>Only English</td>\n",
       "      <td>No</td>\n",
       "      <td>1 - &lt; $20K</td>\n",
       "      <td>4 - Not employed</td>\n",
       "      <td>2 - HS Grad</td>\n",
       "      <td>...</td>\n",
       "      <td>0</td>\n",
       "      <td>0</td>\n",
       "      <td>0</td>\n",
       "      <td>Gen-Pop</td>\n",
       "      <td>Selected</td>\n",
       "      <td>0.009386</td>\n",
       "      <td>0.157895</td>\n",
       "      <td>0.0</td>\n",
       "      <td>0.842105</td>\n",
       "      <td>0.000000</td>\n",
       "    </tr>\n",
       "    <tr>\n",
       "      <th>147</th>\n",
       "      <td>Female</td>\n",
       "      <td>19</td>\n",
       "      <td>18-24</td>\n",
       "      <td>South</td>\n",
       "      <td>White</td>\n",
       "      <td></td>\n",
       "      <td></td>\n",
       "      <td>1 - &lt; $20K</td>\n",
       "      <td>4 - Not employed</td>\n",
       "      <td>2 - HS Grad</td>\n",
       "      <td>...</td>\n",
       "      <td>0</td>\n",
       "      <td>5</td>\n",
       "      <td>0</td>\n",
       "      <td>Gen-Pop</td>\n",
       "      <td>Selected</td>\n",
       "      <td>-0.567454</td>\n",
       "      <td>0.000000</td>\n",
       "      <td>0.0</td>\n",
       "      <td>0.000000</td>\n",
       "      <td>1.000000</td>\n",
       "    </tr>\n",
       "    <tr>\n",
       "      <th>171</th>\n",
       "      <td>Female</td>\n",
       "      <td>18</td>\n",
       "      <td>18-24</td>\n",
       "      <td>Northeast</td>\n",
       "      <td>White</td>\n",
       "      <td></td>\n",
       "      <td></td>\n",
       "      <td>1 - &lt; $20K</td>\n",
       "      <td>2 - Part time</td>\n",
       "      <td>3 - Some coll</td>\n",
       "      <td>...</td>\n",
       "      <td>0</td>\n",
       "      <td>7</td>\n",
       "      <td>0</td>\n",
       "      <td>Gen-Pop</td>\n",
       "      <td>Selected</td>\n",
       "      <td>-0.485048</td>\n",
       "      <td>0.000000</td>\n",
       "      <td>0.0</td>\n",
       "      <td>0.000000</td>\n",
       "      <td>1.000000</td>\n",
       "    </tr>\n",
       "    <tr>\n",
       "      <th>174</th>\n",
       "      <td>Female</td>\n",
       "      <td>54</td>\n",
       "      <td>45-54</td>\n",
       "      <td>South</td>\n",
       "      <td>White</td>\n",
       "      <td></td>\n",
       "      <td>No</td>\n",
       "      <td>1 - &lt; $20K</td>\n",
       "      <td>4 - Not employed</td>\n",
       "      <td>2 - HS Grad</td>\n",
       "      <td>...</td>\n",
       "      <td>0</td>\n",
       "      <td>50</td>\n",
       "      <td>0</td>\n",
       "      <td>Gen-Pop</td>\n",
       "      <td>Selected</td>\n",
       "      <td>1.286676</td>\n",
       "      <td>0.000000</td>\n",
       "      <td>0.0</td>\n",
       "      <td>0.000000</td>\n",
       "      <td>1.000000</td>\n",
       "    </tr>\n",
       "  </tbody>\n",
       "</table>\n",
       "<p>5 rows × 28 columns</p>\n",
       "</div>"
      ],
      "text/plain": [
       "        Gender  Age Age_Breaks    Region2      Race Language_Dominance Parent  \\\n",
       "respid                                                                          \n",
       "44      Female   20      18-24      South     Black                             \n",
       "108       Male   31      25-34  Northeast  Hispanic       Only English     No   \n",
       "147     Female   19      18-24      South     White                             \n",
       "171     Female   18      18-24  Northeast     White                             \n",
       "174     Female   54      45-54      South     White                        No   \n",
       "\n",
       "         HH_Income        Employment      Education          ...           \\\n",
       "respid                                                       ...            \n",
       "44      1 - < $20K  4 - Not employed    2 - HS Grad          ...            \n",
       "108     1 - < $20K  4 - Not employed    2 - HS Grad          ...            \n",
       "147     1 - < $20K  4 - Not employed    2 - HS Grad          ...            \n",
       "171     1 - < $20K     2 - Part time  3 - Some coll          ...            \n",
       "174     1 - < $20K  4 - Not employed    2 - HS Grad          ...            \n",
       "\n",
       "       Rented_Digital_iVOD  Rented_Digital_sVOD  Rented_Digital_cVOD  \\\n",
       "respid                                                                 \n",
       "44                       5                   18                    4   \n",
       "108                      0                    0                    0   \n",
       "147                      0                    5                    0   \n",
       "171                      0                    7                    0   \n",
       "174                      0                   50                    0   \n",
       "\n",
       "        cqhidGroup  filter_$  ZTotal_Paid_HE_Movies  Buy_Disc_Percent  \\\n",
       "respid                                                                  \n",
       "44         Gen-Pop  Selected               1.492690          0.363636   \n",
       "108        Gen-Pop  Selected               0.009386          0.157895   \n",
       "147        Gen-Pop  Selected              -0.567454          0.000000   \n",
       "171        Gen-Pop  Selected              -0.485048          0.000000   \n",
       "174        Gen-Pop  Selected               1.286676          0.000000   \n",
       "\n",
       "        Buy_Digital_Percent  Rent_Disc_Percent  Rent_Digital_Percent  \n",
       "respid                                                                \n",
       "44                      0.0           0.145455              0.490909  \n",
       "108                     0.0           0.842105              0.000000  \n",
       "147                     0.0           0.000000              1.000000  \n",
       "171                     0.0           0.000000              1.000000  \n",
       "174                     0.0           0.000000              1.000000  \n",
       "\n",
       "[5 rows x 28 columns]"
      ]
     },
     "execution_count": 56,
     "metadata": {},
     "output_type": "execute_result"
    }
   ],
   "source": [
    "# loads in csv\n",
    "dtt = pd.read_csv(\"Data\\DTT Final Data w labels.csv\",index_col=0)\n",
    "dtt.head()"
   ]
  },
  {
   "cell_type": "code",
   "execution_count": 99,
   "metadata": {
    "collapsed": false
   },
   "outputs": [
    {
     "name": "stdout",
     "output_type": "stream",
     "text": [
      "[' ' 'No' 'Yes']\n"
     ]
    }
   ],
   "source": [
    "print dtt.Parent.unique()"
   ]
  },
  {
   "cell_type": "code",
   "execution_count": 57,
   "metadata": {
    "collapsed": false
   },
   "outputs": [],
   "source": [
    "#Calculates all rollups and adds as columns\n",
    "\n",
    "#total movies bought on disc\n",
    "dtt['Total Discs Bought'] = (dtt['Bought_Disc_BD'] + dtt['Bought_Disc_DVD'])\n",
    "\n",
    "#total movies rented on disc\n",
    "dtt['Total Discs Rented'] = (dtt['Rented_Disc_Kiosk'] + dtt['Rented_Disc_Mail'] + dtt['Rented_Disc_Store'])\n",
    "\n",
    "#total movies rented on digital\n",
    "dtt['Total Digital Rented'] = (dtt['Rented_Digital_cVOD'] + dtt['Rented_Digital_iVOD'] + dtt['Rented_Digital_sVOD'])\n",
    "\n",
    "#total movies purchased\n",
    "dtt['Total Bought'] = (dtt['Bought_Disc_BD'] + dtt['Bought_Disc_DVD'] + dtt['Bought_Digital'])\n",
    "\n",
    "#total movies purchased as percent of total\n",
    "dtt['Buy_percent'] = dtt['Total Bought']/dtt['Total_Paid_HE_Movies']\n"
   ]
  },
  {
   "cell_type": "code",
   "execution_count": 58,
   "metadata": {
    "collapsed": false
   },
   "outputs": [
    {
     "name": "stdout",
     "output_type": "stream",
     "text": [
      "Gender\n",
      "Age\n",
      "Age_Breaks\n",
      "Region2\n",
      "Race\n",
      "Language_Dominance\n",
      "Parent\n",
      "HH_Income\n",
      "Employment\n",
      "Education\n",
      "Marital_Status\n",
      "Total_Paid_HE_Movies\n",
      "Bought_Disc_DVD\n",
      "Bought_Disc_BD\n",
      "Bought_Digital\n",
      "Rented_Disc_Store\n",
      "Rented_Disc_Kiosk\n",
      "Rented_Disc_Mail\n",
      "Rented_Digital_iVOD\n",
      "Rented_Digital_sVOD\n",
      "Rented_Digital_cVOD\n",
      "cqhidGroup\n",
      "filter_$\n",
      "ZTotal_Paid_HE_Movies\n",
      "Buy_Disc_Percent\n",
      "Buy_Digital_Percent\n",
      "Rent_Disc_Percent\n",
      "Rent_Digital_Percent\n",
      "Total Discs Bought\n",
      "Total Discs Rented\n",
      "Total Digital Rented\n",
      "Total Bought\n",
      "Buy_percent\n"
     ]
    }
   ],
   "source": [
    "for x in dtt.columns.values:\n",
    "    print x"
   ]
  },
  {
   "cell_type": "markdown",
   "metadata": {},
   "source": [
    "# Key Measures by Demographics"
   ]
  },
  {
   "cell_type": "code",
   "execution_count": 59,
   "metadata": {
    "collapsed": false
   },
   "outputs": [],
   "source": [
    "Cons_Meas_wTot = ['Total_Paid_HE_Movies','Total Bought','Total Discs Rented',\n",
    "                  'Total Digital Rented']\n",
    "\n",
    "Cons_Meas_noTot = ['Total Bought','Total Discs Rented','Total Digital Rented']"
   ]
  },
  {
   "cell_type": "markdown",
   "metadata": {},
   "source": [
    "### Consumption by Gender"
   ]
  },
  {
   "cell_type": "code",
   "execution_count": 60,
   "metadata": {
    "collapsed": false
   },
   "outputs": [
    {
     "data": {
      "text/html": [
       "<div>\n",
       "<style>\n",
       "    .dataframe thead tr:only-child th {\n",
       "        text-align: right;\n",
       "    }\n",
       "\n",
       "    .dataframe thead th {\n",
       "        text-align: left;\n",
       "    }\n",
       "\n",
       "    .dataframe tbody tr th {\n",
       "        vertical-align: top;\n",
       "    }\n",
       "</style>\n",
       "<table border=\"1\" class=\"dataframe\">\n",
       "  <thead>\n",
       "    <tr style=\"text-align: right;\">\n",
       "      <th></th>\n",
       "      <th>Total_Paid_HE_Movies</th>\n",
       "      <th>Total Bought</th>\n",
       "      <th>Total Discs Rented</th>\n",
       "      <th>Total Digital Rented</th>\n",
       "    </tr>\n",
       "    <tr>\n",
       "      <th>Gender</th>\n",
       "      <th></th>\n",
       "      <th></th>\n",
       "      <th></th>\n",
       "      <th></th>\n",
       "    </tr>\n",
       "  </thead>\n",
       "  <tbody>\n",
       "    <tr>\n",
       "      <th>Female</th>\n",
       "      <td>15.535457</td>\n",
       "      <td>3.151079</td>\n",
       "      <td>3.685509</td>\n",
       "      <td>8.698869</td>\n",
       "    </tr>\n",
       "    <tr>\n",
       "      <th>Male</th>\n",
       "      <td>16.768908</td>\n",
       "      <td>4.050420</td>\n",
       "      <td>4.014706</td>\n",
       "      <td>8.703782</td>\n",
       "    </tr>\n",
       "  </tbody>\n",
       "</table>\n",
       "</div>"
      ],
      "text/plain": [
       "        Total_Paid_HE_Movies  Total Bought  Total Discs Rented  \\\n",
       "Gender                                                           \n",
       "Female             15.535457      3.151079            3.685509   \n",
       "Male               16.768908      4.050420            4.014706   \n",
       "\n",
       "        Total Digital Rented  \n",
       "Gender                        \n",
       "Female              8.698869  \n",
       "Male                8.703782  "
      ]
     },
     "execution_count": 60,
     "metadata": {},
     "output_type": "execute_result"
    }
   ],
   "source": [
    "dtt.groupby(dtt.Gender)[Cons_Meas_wTot].mean()"
   ]
  },
  {
   "cell_type": "code",
   "execution_count": 61,
   "metadata": {
    "collapsed": false
   },
   "outputs": [
    {
     "data": {
      "text/plain": [
       "<matplotlib.axes._subplots.AxesSubplot at 0x1314ecf8>"
      ]
     },
     "execution_count": 61,
     "metadata": {},
     "output_type": "execute_result"
    },
    {
     "data": {
      "image/png": "[encoded data removed]",
      "text/plain": [
       "<matplotlib.figure.Figure at 0x13441a20>"
      ]
     },
     "metadata": {},
     "output_type": "display_data"
    }
   ],
   "source": [
    "gby_gender = dtt.groupby(dtt.Gender)[Cons_Meas_noTot].mean()\n",
    "gby_gender.plot(kind='bar',stacked=True,title = \"Average Consumption by Gender\")"
   ]
  },
  {
   "cell_type": "code",
   "execution_count": 62,
   "metadata": {
    "collapsed": false
   },
   "outputs": [
    {
     "data": {
      "text/plain": [
       "<matplotlib.axes._subplots.AxesSubplot at 0x1365e6a0>"
      ]
     },
     "execution_count": 62,
     "metadata": {},
     "output_type": "execute_result"
    },
    {
     "data": {
      "image/png": "[encoded data removed]",
      "text/plain": [
       "<matplotlib.figure.Figure at 0x13a02c50>"
      ]
     },
     "metadata": {},
     "output_type": "display_data"
    }
   ],
   "source": [
    "gby_gender = dtt.groupby(dtt.Gender)[Cons_Meas_noTot].mean()\n",
    "gby_gender.plot(kind='bar',stacked=False,title = \"Average Consumption by Gender\")"
   ]
  },
  {
   "cell_type": "markdown",
   "metadata": {},
   "source": [
    "### Consumption by Age Breaks"
   ]
  },
  {
   "cell_type": "code",
   "execution_count": 63,
   "metadata": {
    "collapsed": false
   },
   "outputs": [
    {
     "data": {
      "text/html": [
       "<div>\n",
       "<style>\n",
       "    .dataframe thead tr:only-child th {\n",
       "        text-align: right;\n",
       "    }\n",
       "\n",
       "    .dataframe thead th {\n",
       "        text-align: left;\n",
       "    }\n",
       "\n",
       "    .dataframe tbody tr th {\n",
       "        vertical-align: top;\n",
       "    }\n",
       "</style>\n",
       "<table border=\"1\" class=\"dataframe\">\n",
       "  <thead>\n",
       "    <tr style=\"text-align: right;\">\n",
       "      <th></th>\n",
       "      <th>Total_Paid_HE_Movies</th>\n",
       "      <th>Total Bought</th>\n",
       "      <th>Total Discs Rented</th>\n",
       "      <th>Total Digital Rented</th>\n",
       "    </tr>\n",
       "    <tr>\n",
       "      <th>Age_Breaks</th>\n",
       "      <th></th>\n",
       "      <th></th>\n",
       "      <th></th>\n",
       "      <th></th>\n",
       "    </tr>\n",
       "  </thead>\n",
       "  <tbody>\n",
       "    <tr>\n",
       "      <th>12-17</th>\n",
       "      <td>16.028736</td>\n",
       "      <td>3.321839</td>\n",
       "      <td>4.017241</td>\n",
       "      <td>8.689655</td>\n",
       "    </tr>\n",
       "    <tr>\n",
       "      <th>18-24</th>\n",
       "      <td>15.015385</td>\n",
       "      <td>3.553846</td>\n",
       "      <td>2.888462</td>\n",
       "      <td>8.573077</td>\n",
       "    </tr>\n",
       "    <tr>\n",
       "      <th>25-34</th>\n",
       "      <td>19.552198</td>\n",
       "      <td>4.961538</td>\n",
       "      <td>4.129121</td>\n",
       "      <td>10.461538</td>\n",
       "    </tr>\n",
       "    <tr>\n",
       "      <th>35-44</th>\n",
       "      <td>19.269231</td>\n",
       "      <td>4.272189</td>\n",
       "      <td>4.656805</td>\n",
       "      <td>10.340237</td>\n",
       "    </tr>\n",
       "    <tr>\n",
       "      <th>45-54</th>\n",
       "      <td>14.893733</td>\n",
       "      <td>3.313351</td>\n",
       "      <td>3.476839</td>\n",
       "      <td>8.103542</td>\n",
       "    </tr>\n",
       "    <tr>\n",
       "      <th>55-64</th>\n",
       "      <td>13.156250</td>\n",
       "      <td>2.736111</td>\n",
       "      <td>3.770833</td>\n",
       "      <td>6.649306</td>\n",
       "    </tr>\n",
       "    <tr>\n",
       "      <th>65-74</th>\n",
       "      <td>11.208955</td>\n",
       "      <td>1.238806</td>\n",
       "      <td>3.873134</td>\n",
       "      <td>6.097015</td>\n",
       "    </tr>\n",
       "  </tbody>\n",
       "</table>\n",
       "</div>"
      ],
      "text/plain": [
       "            Total_Paid_HE_Movies  Total Bought  Total Discs Rented  \\\n",
       "Age_Breaks                                                           \n",
       "12-17                  16.028736      3.321839            4.017241   \n",
       "18-24                  15.015385      3.553846            2.888462   \n",
       "25-34                  19.552198      4.961538            4.129121   \n",
       "35-44                  19.269231      4.272189            4.656805   \n",
       "45-54                  14.893733      3.313351            3.476839   \n",
       "55-64                  13.156250      2.736111            3.770833   \n",
       "65-74                  11.208955      1.238806            3.873134   \n",
       "\n",
       "            Total Digital Rented  \n",
       "Age_Breaks                        \n",
       "12-17                   8.689655  \n",
       "18-24                   8.573077  \n",
       "25-34                  10.461538  \n",
       "35-44                  10.340237  \n",
       "45-54                   8.103542  \n",
       "55-64                   6.649306  \n",
       "65-74                   6.097015  "
      ]
     },
     "execution_count": 63,
     "metadata": {},
     "output_type": "execute_result"
    }
   ],
   "source": [
    "dtt.groupby(dtt.Age_Breaks)[Cons_Meas_wTot].mean()"
   ]
  },
  {
   "cell_type": "code",
   "execution_count": 64,
   "metadata": {
    "collapsed": false
   },
   "outputs": [
    {
     "data": {
      "text/plain": [
       "<matplotlib.axes._subplots.AxesSubplot at 0x13c0fa90>"
      ]
     },
     "execution_count": 64,
     "metadata": {},
     "output_type": "execute_result"
    },
    {
     "data": {
      "image/png": "[encoded data removed]",
      "text/plain": [
       "<matplotlib.figure.Figure at 0x11e9f128>"
      ]
     },
     "metadata": {},
     "output_type": "display_data"
    }
   ],
   "source": [
    "gby_age = dtt.groupby(dtt.Age_Breaks)[Cons_Meas_noTot].mean()\n",
    "gby_age.plot(kind = 'bar', stacked = True, title = 'Average Consumption by Age')"
   ]
  },
  {
   "cell_type": "code",
   "execution_count": 65,
   "metadata": {
    "collapsed": false
   },
   "outputs": [
    {
     "data": {
      "text/plain": [
       "<matplotlib.axes._subplots.AxesSubplot at 0x13e3bcf8>"
      ]
     },
     "execution_count": 65,
     "metadata": {},
     "output_type": "execute_result"
    },
    {
     "data": {
      "image/png": "[encoded data removed]",
      "text/plain": [
       "<matplotlib.figure.Figure at 0x12232630>"
      ]
     },
     "metadata": {},
     "output_type": "display_data"
    }
   ],
   "source": [
    "gby_age = dtt.groupby(dtt.Age_Breaks)[Cons_Meas_noTot].mean()\n",
    "gby_age.plot(kind = 'bar', stacked = False, title = 'Average Consumption by Age')"
   ]
  },
  {
   "cell_type": "markdown",
   "metadata": {},
   "source": [
    "### Consumption by Race"
   ]
  },
  {
   "cell_type": "code",
   "execution_count": 66,
   "metadata": {
    "collapsed": false
   },
   "outputs": [
    {
     "data": {
      "text/html": [
       "<div>\n",
       "<style>\n",
       "    .dataframe thead tr:only-child th {\n",
       "        text-align: right;\n",
       "    }\n",
       "\n",
       "    .dataframe thead th {\n",
       "        text-align: left;\n",
       "    }\n",
       "\n",
       "    .dataframe tbody tr th {\n",
       "        vertical-align: top;\n",
       "    }\n",
       "</style>\n",
       "<table border=\"1\" class=\"dataframe\">\n",
       "  <thead>\n",
       "    <tr style=\"text-align: right;\">\n",
       "      <th></th>\n",
       "      <th>Total_Paid_HE_Movies</th>\n",
       "      <th>Total Bought</th>\n",
       "      <th>Total Discs Rented</th>\n",
       "      <th>Total Digital Rented</th>\n",
       "    </tr>\n",
       "    <tr>\n",
       "      <th>Race</th>\n",
       "      <th></th>\n",
       "      <th></th>\n",
       "      <th></th>\n",
       "      <th></th>\n",
       "    </tr>\n",
       "  </thead>\n",
       "  <tbody>\n",
       "    <tr>\n",
       "      <th>Asian</th>\n",
       "      <td>14.287356</td>\n",
       "      <td>3.517241</td>\n",
       "      <td>3.517241</td>\n",
       "      <td>7.252874</td>\n",
       "    </tr>\n",
       "    <tr>\n",
       "      <th>Black</th>\n",
       "      <td>16.890110</td>\n",
       "      <td>4.236264</td>\n",
       "      <td>3.186813</td>\n",
       "      <td>9.467033</td>\n",
       "    </tr>\n",
       "    <tr>\n",
       "      <th>Hispanic</th>\n",
       "      <td>19.531646</td>\n",
       "      <td>4.420886</td>\n",
       "      <td>5.367089</td>\n",
       "      <td>9.743671</td>\n",
       "    </tr>\n",
       "    <tr>\n",
       "      <th>Other</th>\n",
       "      <td>17.125000</td>\n",
       "      <td>3.562500</td>\n",
       "      <td>4.291667</td>\n",
       "      <td>9.270833</td>\n",
       "    </tr>\n",
       "    <tr>\n",
       "      <th>White</th>\n",
       "      <td>15.301084</td>\n",
       "      <td>3.310372</td>\n",
       "      <td>3.575851</td>\n",
       "      <td>8.414861</td>\n",
       "    </tr>\n",
       "  </tbody>\n",
       "</table>\n",
       "</div>"
      ],
      "text/plain": [
       "          Total_Paid_HE_Movies  Total Bought  Total Discs Rented  \\\n",
       "Race                                                               \n",
       "Asian                14.287356      3.517241            3.517241   \n",
       "Black                16.890110      4.236264            3.186813   \n",
       "Hispanic             19.531646      4.420886            5.367089   \n",
       "Other                17.125000      3.562500            4.291667   \n",
       "White                15.301084      3.310372            3.575851   \n",
       "\n",
       "          Total Digital Rented  \n",
       "Race                            \n",
       "Asian                 7.252874  \n",
       "Black                 9.467033  \n",
       "Hispanic              9.743671  \n",
       "Other                 9.270833  \n",
       "White                 8.414861  "
      ]
     },
     "execution_count": 66,
     "metadata": {},
     "output_type": "execute_result"
    }
   ],
   "source": [
    "dtt.groupby(dtt.Race)[Cons_Meas_wTot].mean()"
   ]
  },
  {
   "cell_type": "code",
   "execution_count": 67,
   "metadata": {
    "collapsed": false
   },
   "outputs": [
    {
     "data": {
      "text/plain": [
       "<matplotlib.axes._subplots.AxesSubplot at 0x141bffd0>"
      ]
     },
     "execution_count": 67,
     "metadata": {},
     "output_type": "execute_result"
    },
    {
     "data": {
      "image/png": "[encoded data removed]",
      "text/plain": [
       "<matplotlib.figure.Figure at 0x13a8d0f0>"
      ]
     },
     "metadata": {},
     "output_type": "display_data"
    }
   ],
   "source": [
    "gby_race = dtt.groupby(dtt.Race)[Cons_Meas_noTot].mean()\n",
    "gby_race.plot(kind = 'bar', stacked = True, title = 'Average Consumption by Race')"
   ]
  },
  {
   "cell_type": "code",
   "execution_count": 68,
   "metadata": {
    "collapsed": false
   },
   "outputs": [
    {
     "data": {
      "text/plain": [
       "<matplotlib.axes._subplots.AxesSubplot at 0x13c8b2b0>"
      ]
     },
     "execution_count": 68,
     "metadata": {},
     "output_type": "execute_result"
    },
    {
     "data": {
      "image/png": "[encoded data removed]",
      "text/plain": [
       "<matplotlib.figure.Figure at 0x13eaac18>"
      ]
     },
     "metadata": {},
     "output_type": "display_data"
    }
   ],
   "source": [
    "gby_race = dtt.groupby(dtt.Race)[Cons_Meas_noTot].mean()\n",
    "gby_race.plot(kind = 'bar', stacked = False, title = 'Average Consumption by Race')"
   ]
  },
  {
   "cell_type": "markdown",
   "metadata": {},
   "source": [
    "### Consumption by Employment Status"
   ]
  },
  {
   "cell_type": "code",
   "execution_count": 69,
   "metadata": {
    "collapsed": false
   },
   "outputs": [
    {
     "data": {
      "text/html": [
       "<div>\n",
       "<style>\n",
       "    .dataframe thead tr:only-child th {\n",
       "        text-align: right;\n",
       "    }\n",
       "\n",
       "    .dataframe thead th {\n",
       "        text-align: left;\n",
       "    }\n",
       "\n",
       "    .dataframe tbody tr th {\n",
       "        vertical-align: top;\n",
       "    }\n",
       "</style>\n",
       "<table border=\"1\" class=\"dataframe\">\n",
       "  <thead>\n",
       "    <tr style=\"text-align: right;\">\n",
       "      <th></th>\n",
       "      <th>Total_Paid_HE_Movies</th>\n",
       "      <th>Total Bought</th>\n",
       "      <th>Total Discs Rented</th>\n",
       "      <th>Total Digital Rented</th>\n",
       "    </tr>\n",
       "    <tr>\n",
       "      <th>Employment</th>\n",
       "      <th></th>\n",
       "      <th></th>\n",
       "      <th></th>\n",
       "      <th></th>\n",
       "    </tr>\n",
       "  </thead>\n",
       "  <tbody>\n",
       "    <tr>\n",
       "      <th>1 - Full time</th>\n",
       "      <td>18.290389</td>\n",
       "      <td>4.309816</td>\n",
       "      <td>4.423313</td>\n",
       "      <td>9.557260</td>\n",
       "    </tr>\n",
       "    <tr>\n",
       "      <th>2 - Part time</th>\n",
       "      <td>15.083665</td>\n",
       "      <td>3.446215</td>\n",
       "      <td>3.326693</td>\n",
       "      <td>8.310757</td>\n",
       "    </tr>\n",
       "    <tr>\n",
       "      <th>3 - Retired</th>\n",
       "      <td>12.918552</td>\n",
       "      <td>1.909502</td>\n",
       "      <td>3.909502</td>\n",
       "      <td>7.099548</td>\n",
       "    </tr>\n",
       "    <tr>\n",
       "      <th>4 - Not employed</th>\n",
       "      <td>13.791579</td>\n",
       "      <td>2.989474</td>\n",
       "      <td>2.911579</td>\n",
       "      <td>7.890526</td>\n",
       "    </tr>\n",
       "  </tbody>\n",
       "</table>\n",
       "</div>"
      ],
      "text/plain": [
       "                  Total_Paid_HE_Movies  Total Bought  Total Discs Rented  \\\n",
       "Employment                                                                 \n",
       "1 - Full time                18.290389      4.309816            4.423313   \n",
       "2 - Part time                15.083665      3.446215            3.326693   \n",
       "3 - Retired                  12.918552      1.909502            3.909502   \n",
       "4 - Not employed             13.791579      2.989474            2.911579   \n",
       "\n",
       "                  Total Digital Rented  \n",
       "Employment                              \n",
       "1 - Full time                 9.557260  \n",
       "2 - Part time                 8.310757  \n",
       "3 - Retired                   7.099548  \n",
       "4 - Not employed              7.890526  "
      ]
     },
     "execution_count": 69,
     "metadata": {},
     "output_type": "execute_result"
    }
   ],
   "source": [
    "dtt.groupby(dtt.Employment)[Cons_Meas_wTot].mean()"
   ]
  },
  {
   "cell_type": "code",
   "execution_count": 70,
   "metadata": {
    "collapsed": false
   },
   "outputs": [
    {
     "data": {
      "text/plain": [
       "<matplotlib.axes._subplots.AxesSubplot at 0x145e8c18>"
      ]
     },
     "execution_count": 70,
     "metadata": {},
     "output_type": "execute_result"
    },
    {
     "data": {
      "image/png": "[encoded data removed]",
      "text/plain": [
       "<matplotlib.figure.Figure at 0x14171208>"
      ]
     },
     "metadata": {},
     "output_type": "display_data"
    }
   ],
   "source": [
    "gby_emply = dtt.groupby(dtt.Employment)[Cons_Meas_noTot].mean()\n",
    "gby_emply.plot(kind = 'bar', stacked = True, title = 'Average Consumption by Employment')"
   ]
  },
  {
   "cell_type": "code",
   "execution_count": 71,
   "metadata": {
    "collapsed": false
   },
   "outputs": [
    {
     "data": {
      "text/plain": [
       "<matplotlib.axes._subplots.AxesSubplot at 0x147488d0>"
      ]
     },
     "execution_count": 71,
     "metadata": {},
     "output_type": "execute_result"
    },
    {
     "data": {
      "image/png": "[encoded data removed]",
      "text/plain": [
       "<matplotlib.figure.Figure at 0x149cd358>"
      ]
     },
     "metadata": {},
     "output_type": "display_data"
    }
   ],
   "source": [
    "gby_emply = dtt.groupby(dtt.Employment)[Cons_Meas_noTot].mean()\n",
    "gby_emply.plot(kind = 'bar', stacked = False, title = 'Average Consumption by Employment')"
   ]
  },
  {
   "cell_type": "markdown",
   "metadata": {},
   "source": [
    "### Consumption by Education"
   ]
  },
  {
   "cell_type": "code",
   "execution_count": 72,
   "metadata": {
    "collapsed": false
   },
   "outputs": [
    {
     "data": {
      "text/html": [
       "<div>\n",
       "<style>\n",
       "    .dataframe thead tr:only-child th {\n",
       "        text-align: right;\n",
       "    }\n",
       "\n",
       "    .dataframe thead th {\n",
       "        text-align: left;\n",
       "    }\n",
       "\n",
       "    .dataframe tbody tr th {\n",
       "        vertical-align: top;\n",
       "    }\n",
       "</style>\n",
       "<table border=\"1\" class=\"dataframe\">\n",
       "  <thead>\n",
       "    <tr style=\"text-align: right;\">\n",
       "      <th></th>\n",
       "      <th>Total_Paid_HE_Movies</th>\n",
       "      <th>Total Bought</th>\n",
       "      <th>Total Discs Rented</th>\n",
       "      <th>Total Digital Rented</th>\n",
       "    </tr>\n",
       "    <tr>\n",
       "      <th>Education</th>\n",
       "      <th></th>\n",
       "      <th></th>\n",
       "      <th></th>\n",
       "      <th></th>\n",
       "    </tr>\n",
       "  </thead>\n",
       "  <tbody>\n",
       "    <tr>\n",
       "      <th>1 - HS or less</th>\n",
       "      <td>13.870229</td>\n",
       "      <td>2.854962</td>\n",
       "      <td>2.923664</td>\n",
       "      <td>8.091603</td>\n",
       "    </tr>\n",
       "    <tr>\n",
       "      <th>2 - HS Grad</th>\n",
       "      <td>15.467857</td>\n",
       "      <td>3.796429</td>\n",
       "      <td>3.089286</td>\n",
       "      <td>8.582143</td>\n",
       "    </tr>\n",
       "    <tr>\n",
       "      <th>3 - Some coll</th>\n",
       "      <td>15.831325</td>\n",
       "      <td>2.975904</td>\n",
       "      <td>3.891566</td>\n",
       "      <td>8.963855</td>\n",
       "    </tr>\n",
       "    <tr>\n",
       "      <th>4 - Coll Grad</th>\n",
       "      <td>17.709677</td>\n",
       "      <td>4.480475</td>\n",
       "      <td>4.193548</td>\n",
       "      <td>9.035654</td>\n",
       "    </tr>\n",
       "    <tr>\n",
       "      <th>5 - Some Post-grad</th>\n",
       "      <td>17.278689</td>\n",
       "      <td>2.377049</td>\n",
       "      <td>4.950820</td>\n",
       "      <td>9.950820</td>\n",
       "    </tr>\n",
       "    <tr>\n",
       "      <th>6 - Post-grad</th>\n",
       "      <td>15.200000</td>\n",
       "      <td>3.451852</td>\n",
       "      <td>4.029630</td>\n",
       "      <td>7.718519</td>\n",
       "    </tr>\n",
       "    <tr>\n",
       "      <th>7 - Prefer not to answer</th>\n",
       "      <td>11.153846</td>\n",
       "      <td>3.076923</td>\n",
       "      <td>3.000000</td>\n",
       "      <td>5.076923</td>\n",
       "    </tr>\n",
       "  </tbody>\n",
       "</table>\n",
       "</div>"
      ],
      "text/plain": [
       "                          Total_Paid_HE_Movies  Total Bought  \\\n",
       "Education                                                      \n",
       "1 - HS or less                       13.870229      2.854962   \n",
       "2 - HS Grad                          15.467857      3.796429   \n",
       "3 - Some coll                        15.831325      2.975904   \n",
       "4 - Coll Grad                        17.709677      4.480475   \n",
       "5 - Some Post-grad                   17.278689      2.377049   \n",
       "6 - Post-grad                        15.200000      3.451852   \n",
       "7 - Prefer not to answer             11.153846      3.076923   \n",
       "\n",
       "                          Total Discs Rented  Total Digital Rented  \n",
       "Education                                                           \n",
       "1 - HS or less                      2.923664              8.091603  \n",
       "2 - HS Grad                         3.089286              8.582143  \n",
       "3 - Some coll                       3.891566              8.963855  \n",
       "4 - Coll Grad                       4.193548              9.035654  \n",
       "5 - Some Post-grad                  4.950820              9.950820  \n",
       "6 - Post-grad                       4.029630              7.718519  \n",
       "7 - Prefer not to answer            3.000000              5.076923  "
      ]
     },
     "execution_count": 72,
     "metadata": {},
     "output_type": "execute_result"
    }
   ],
   "source": [
    "dtt.groupby(dtt.Education)[Cons_Meas_wTot].mean()"
   ]
  },
  {
   "cell_type": "code",
   "execution_count": 73,
   "metadata": {
    "collapsed": false
   },
   "outputs": [
    {
     "data": {
      "text/plain": [
       "<matplotlib.axes._subplots.AxesSubplot at 0x14b596d8>"
      ]
     },
     "execution_count": 73,
     "metadata": {},
     "output_type": "execute_result"
    },
    {
     "data": {
      "image/png": "[encoded data removed]",
      "text/plain": [
       "<matplotlib.figure.Figure at 0xc80ecc0>"
      ]
     },
     "metadata": {},
     "output_type": "display_data"
    }
   ],
   "source": [
    "gby_educ = dtt.groupby(dtt.Education)[Cons_Meas_noTot].mean()\n",
    "gby_educ = gby_educ.drop(['7 - Prefer not to answer'])\n",
    "\n",
    "gby_educ.plot(kind = 'bar', stacked = True, title = 'Average Consumption by Education')"
   ]
  },
  {
   "cell_type": "code",
   "execution_count": 74,
   "metadata": {
    "collapsed": false
   },
   "outputs": [
    {
     "data": {
      "text/plain": [
       "<matplotlib.axes._subplots.AxesSubplot at 0x14f49cc0>"
      ]
     },
     "execution_count": 74,
     "metadata": {},
     "output_type": "execute_result"
    },
    {
     "data": {
      "image/png": "[encoded data removed]",
      "text/plain": [
       "<matplotlib.figure.Figure at 0x1499f9b0>"
      ]
     },
     "metadata": {},
     "output_type": "display_data"
    }
   ],
   "source": [
    "gby_educ = dtt.groupby(dtt.Education)[Cons_Meas_noTot].mean()\n",
    "gby_educ = gby_educ.drop(['7 - Prefer not to answer'])\n",
    "gby_educ.plot(kind = 'bar', stacked = False, title = 'Average Consumption by Education')"
   ]
  },
  {
   "cell_type": "markdown",
   "metadata": {},
   "source": [
    "### Consumption by Marital Status"
   ]
  },
  {
   "cell_type": "code",
   "execution_count": 75,
   "metadata": {
    "collapsed": false
   },
   "outputs": [
    {
     "data": {
      "text/html": [
       "<div>\n",
       "<style>\n",
       "    .dataframe thead tr:only-child th {\n",
       "        text-align: right;\n",
       "    }\n",
       "\n",
       "    .dataframe thead th {\n",
       "        text-align: left;\n",
       "    }\n",
       "\n",
       "    .dataframe tbody tr th {\n",
       "        vertical-align: top;\n",
       "    }\n",
       "</style>\n",
       "<table border=\"1\" class=\"dataframe\">\n",
       "  <thead>\n",
       "    <tr style=\"text-align: right;\">\n",
       "      <th></th>\n",
       "      <th>Total_Paid_HE_Movies</th>\n",
       "      <th>Total Bought</th>\n",
       "      <th>Total Discs Rented</th>\n",
       "      <th>Total Digital Rented</th>\n",
       "    </tr>\n",
       "    <tr>\n",
       "      <th>Marital_Status</th>\n",
       "      <th></th>\n",
       "      <th></th>\n",
       "      <th></th>\n",
       "      <th></th>\n",
       "    </tr>\n",
       "  </thead>\n",
       "  <tbody>\n",
       "    <tr>\n",
       "      <th>Living with a partner</th>\n",
       "      <td>17.082192</td>\n",
       "      <td>3.616438</td>\n",
       "      <td>3.458904</td>\n",
       "      <td>10.006849</td>\n",
       "    </tr>\n",
       "    <tr>\n",
       "      <th>Married</th>\n",
       "      <td>16.836858</td>\n",
       "      <td>3.832830</td>\n",
       "      <td>4.327291</td>\n",
       "      <td>8.676737</td>\n",
       "    </tr>\n",
       "    <tr>\n",
       "      <th>Single</th>\n",
       "      <td>15.219160</td>\n",
       "      <td>3.320210</td>\n",
       "      <td>3.321522</td>\n",
       "      <td>8.577428</td>\n",
       "    </tr>\n",
       "  </tbody>\n",
       "</table>\n",
       "</div>"
      ],
      "text/plain": [
       "                       Total_Paid_HE_Movies  Total Bought  Total Discs Rented  \\\n",
       "Marital_Status                                                                  \n",
       "Living with a partner             17.082192      3.616438            3.458904   \n",
       "Married                           16.836858      3.832830            4.327291   \n",
       "Single                            15.219160      3.320210            3.321522   \n",
       "\n",
       "                       Total Digital Rented  \n",
       "Marital_Status                               \n",
       "Living with a partner             10.006849  \n",
       "Married                            8.676737  \n",
       "Single                             8.577428  "
      ]
     },
     "execution_count": 75,
     "metadata": {},
     "output_type": "execute_result"
    }
   ],
   "source": [
    "dtt.groupby(dtt.Marital_Status[dtt.Marital_Status != 'Prefer not to answer'])[Cons_Meas_wTot].mean()"
   ]
  },
  {
   "cell_type": "code",
   "execution_count": 76,
   "metadata": {
    "collapsed": false
   },
   "outputs": [
    {
     "data": {
      "text/plain": [
       "<matplotlib.axes._subplots.AxesSubplot at 0x151dd7f0>"
      ]
     },
     "execution_count": 76,
     "metadata": {},
     "output_type": "execute_result"
    },
    {
     "data": {
      "image/png": "[encoded data removed]",
      "text/plain": [
       "<matplotlib.figure.Figure at 0x144e3b38>"
      ]
     },
     "metadata": {},
     "output_type": "display_data"
    }
   ],
   "source": [
    "dtt.groupby(dtt.Marital_Status[dtt.Marital_Status != 'Prefer not to answer'])[Cons_Meas_noTot].mean().plot(kind='bar',stacked = True)"
   ]
  },
  {
   "cell_type": "code",
   "execution_count": 77,
   "metadata": {
    "collapsed": false
   },
   "outputs": [
    {
     "data": {
      "text/plain": [
       "<matplotlib.axes._subplots.AxesSubplot at 0x1551e978>"
      ]
     },
     "execution_count": 77,
     "metadata": {},
     "output_type": "execute_result"
    },
    {
     "data": {
      "image/png": "[encoded data removed]",
      "text/plain": [
       "<matplotlib.figure.Figure at 0x154ca240>"
      ]
     },
     "metadata": {},
     "output_type": "display_data"
    }
   ],
   "source": [
    "dtt.groupby(\n",
    "    dtt.Marital_Status[dtt.Marital_Status != 'Prefer not to answer'])[Cons_Meas_noTot].mean().plot(kind='bar',\n",
    "                                                                                                   stacked = False)"
   ]
  },
  {
   "cell_type": "markdown",
   "metadata": {},
   "source": [
    "### Consumption by Parental status"
   ]
  },
  {
   "cell_type": "code",
   "execution_count": 78,
   "metadata": {
    "collapsed": false
   },
   "outputs": [
    {
     "data": {
      "text/plain": [
       "No     944\n",
       "Yes    719\n",
       "       262\n",
       "Name: Parent, dtype: int64"
      ]
     },
     "execution_count": 78,
     "metadata": {},
     "output_type": "execute_result"
    }
   ],
   "source": [
    "dtt.Parent.value_counts()"
   ]
  },
  {
   "cell_type": "code",
   "execution_count": 79,
   "metadata": {
    "collapsed": false
   },
   "outputs": [
    {
     "data": {
      "text/plain": [
       "array([' ', 'No', 'Yes'], dtype=object)"
      ]
     },
     "execution_count": 79,
     "metadata": {},
     "output_type": "execute_result"
    }
   ],
   "source": [
    "dtt.Parent.unique()"
   ]
  },
  {
   "cell_type": "code",
   "execution_count": 80,
   "metadata": {
    "collapsed": false
   },
   "outputs": [
    {
     "data": {
      "text/html": [
       "<div>\n",
       "<style>\n",
       "    .dataframe thead tr:only-child th {\n",
       "        text-align: right;\n",
       "    }\n",
       "\n",
       "    .dataframe thead th {\n",
       "        text-align: left;\n",
       "    }\n",
       "\n",
       "    .dataframe tbody tr th {\n",
       "        vertical-align: top;\n",
       "    }\n",
       "</style>\n",
       "<table border=\"1\" class=\"dataframe\">\n",
       "  <thead>\n",
       "    <tr style=\"text-align: right;\">\n",
       "      <th></th>\n",
       "      <th>Total_Paid_HE_Movies</th>\n",
       "      <th>Total Bought</th>\n",
       "      <th>Total Discs Rented</th>\n",
       "      <th>Total Digital Rented</th>\n",
       "    </tr>\n",
       "    <tr>\n",
       "      <th>Parent</th>\n",
       "      <th></th>\n",
       "      <th></th>\n",
       "      <th></th>\n",
       "      <th></th>\n",
       "    </tr>\n",
       "  </thead>\n",
       "  <tbody>\n",
       "    <tr>\n",
       "      <th>No</th>\n",
       "      <td>14.310381</td>\n",
       "      <td>2.863347</td>\n",
       "      <td>3.264831</td>\n",
       "      <td>8.182203</td>\n",
       "    </tr>\n",
       "    <tr>\n",
       "      <th>Yes</th>\n",
       "      <td>18.781641</td>\n",
       "      <td>4.649513</td>\n",
       "      <td>4.713491</td>\n",
       "      <td>9.418637</td>\n",
       "    </tr>\n",
       "  </tbody>\n",
       "</table>\n",
       "</div>"
      ],
      "text/plain": [
       "        Total_Paid_HE_Movies  Total Bought  Total Discs Rented  \\\n",
       "Parent                                                           \n",
       "No                 14.310381      2.863347            3.264831   \n",
       "Yes                18.781641      4.649513            4.713491   \n",
       "\n",
       "        Total Digital Rented  \n",
       "Parent                        \n",
       "No                  8.182203  \n",
       "Yes                 9.418637  "
      ]
     },
     "execution_count": 80,
     "metadata": {},
     "output_type": "execute_result"
    }
   ],
   "source": [
    "dtt.groupby(dtt.Parent [(dtt.Parent == \"Yes\") | (dtt.Parent == \"No\")])[Cons_Meas_wTot].mean()"
   ]
  },
  {
   "cell_type": "code",
   "execution_count": 81,
   "metadata": {
    "collapsed": false
   },
   "outputs": [
    {
     "data": {
      "text/plain": [
       "<matplotlib.axes._subplots.AxesSubplot at 0x15283160>"
      ]
     },
     "execution_count": 81,
     "metadata": {},
     "output_type": "execute_result"
    },
    {
     "data": {
      "image/png": "[encoded data removed]",
      "text/plain": [
       "<matplotlib.figure.Figure at 0x14ccd278>"
      ]
     },
     "metadata": {},
     "output_type": "display_data"
    }
   ],
   "source": [
    "dtt.groupby(\n",
    "    dtt.Parent[(dtt.Parent == 'Yes')|(dtt.Parent == 'No')])[Cons_Meas_noTot].mean().plot(kind='bar',\n",
    "                                                                                         title = 'Consumption by Parental Status', \n",
    "                                                                                         stacked = True)"
   ]
  },
  {
   "cell_type": "code",
   "execution_count": 82,
   "metadata": {
    "collapsed": false
   },
   "outputs": [
    {
     "data": {
      "text/plain": [
       "<matplotlib.axes._subplots.AxesSubplot at 0x15a41a90>"
      ]
     },
     "execution_count": 82,
     "metadata": {},
     "output_type": "execute_result"
    },
    {
     "data": {
      "image/png": "[encoded data removed]",
      "text/plain": [
       "<matplotlib.figure.Figure at 0x15a368d0>"
      ]
     },
     "metadata": {},
     "output_type": "display_data"
    }
   ],
   "source": [
    "dtt.groupby(\n",
    "    dtt.Parent[(dtt.Parent == 'Yes')|(dtt.Parent == 'No')])[Cons_Meas_noTot].mean().plot(kind='bar',\n",
    "                                                                                         title = 'Consumption by Parental Status', \n",
    "                                                                                         stacked = False)"
   ]
  },
  {
   "cell_type": "markdown",
   "metadata": {},
   "source": [
    "### Consumption by Income (TO DO)"
   ]
  },
  {
   "cell_type": "markdown",
   "metadata": {},
   "source": [
    "### Consumption Distributions"
   ]
  },
  {
   "cell_type": "markdown",
   "metadata": {},
   "source": [
    "Probably need to combine disc and digital purchase into just purchase"
   ]
  },
  {
   "cell_type": "code",
   "execution_count": 83,
   "metadata": {
    "collapsed": false
   },
   "outputs": [
    {
     "data": {
      "text/plain": [
       "(1925, 9)"
      ]
     },
     "execution_count": 83,
     "metadata": {},
     "output_type": "execute_result"
    }
   ],
   "source": [
    "dtt_numbers = dtt[['Total_Paid_HE_Movies','Total Discs Bought','Bought_Digital','Total Discs Rented',\n",
    "      'Total Digital Rented','Buy_Disc_Percent','Buy_Digital_Percent','Rent_Disc_Percent',\n",
    "      'Rent_Digital_Percent']]\n",
    "\n",
    "dtt_numbers.shape"
   ]
  },
  {
   "cell_type": "code",
   "execution_count": 84,
   "metadata": {
    "collapsed": false
   },
   "outputs": [
    {
     "data": {
      "text/html": [
       "<div>\n",
       "<style>\n",
       "    .dataframe thead tr:only-child th {\n",
       "        text-align: right;\n",
       "    }\n",
       "\n",
       "    .dataframe thead th {\n",
       "        text-align: left;\n",
       "    }\n",
       "\n",
       "    .dataframe tbody tr th {\n",
       "        vertical-align: top;\n",
       "    }\n",
       "</style>\n",
       "<table border=\"1\" class=\"dataframe\">\n",
       "  <thead>\n",
       "    <tr style=\"text-align: right;\">\n",
       "      <th></th>\n",
       "      <th>Total_Paid_HE_Movies</th>\n",
       "      <th>Total Discs Bought</th>\n",
       "      <th>Bought_Digital</th>\n",
       "      <th>Total Discs Rented</th>\n",
       "      <th>Total Digital Rented</th>\n",
       "      <th>Buy_Disc_Percent</th>\n",
       "      <th>Buy_Digital_Percent</th>\n",
       "      <th>Rent_Disc_Percent</th>\n",
       "      <th>Rent_Digital_Percent</th>\n",
       "    </tr>\n",
       "  </thead>\n",
       "  <tbody>\n",
       "    <tr>\n",
       "      <th>count</th>\n",
       "      <td>1925.000000</td>\n",
       "      <td>1925.000000</td>\n",
       "      <td>1925.000000</td>\n",
       "      <td>1925.000000</td>\n",
       "      <td>1925.000000</td>\n",
       "      <td>1925.000000</td>\n",
       "      <td>1925.000000</td>\n",
       "      <td>1925.000000</td>\n",
       "      <td>1925.000000</td>\n",
       "    </tr>\n",
       "    <tr>\n",
       "      <th>mean</th>\n",
       "      <td>16.145455</td>\n",
       "      <td>2.872208</td>\n",
       "      <td>0.723636</td>\n",
       "      <td>3.848312</td>\n",
       "      <td>8.701299</td>\n",
       "      <td>0.239981</td>\n",
       "      <td>0.041825</td>\n",
       "      <td>0.234541</td>\n",
       "      <td>0.483653</td>\n",
       "    </tr>\n",
       "    <tr>\n",
       "      <th>std</th>\n",
       "      <td>16.526946</td>\n",
       "      <td>4.604784</td>\n",
       "      <td>2.081871</td>\n",
       "      <td>6.915127</td>\n",
       "      <td>11.978178</td>\n",
       "      <td>0.306352</td>\n",
       "      <td>0.111739</td>\n",
       "      <td>0.292798</td>\n",
       "      <td>0.369288</td>\n",
       "    </tr>\n",
       "    <tr>\n",
       "      <th>min</th>\n",
       "      <td>1.000000</td>\n",
       "      <td>0.000000</td>\n",
       "      <td>0.000000</td>\n",
       "      <td>0.000000</td>\n",
       "      <td>0.000000</td>\n",
       "      <td>0.000000</td>\n",
       "      <td>0.000000</td>\n",
       "      <td>0.000000</td>\n",
       "      <td>0.000000</td>\n",
       "    </tr>\n",
       "    <tr>\n",
       "      <th>25%</th>\n",
       "      <td>5.000000</td>\n",
       "      <td>0.000000</td>\n",
       "      <td>0.000000</td>\n",
       "      <td>0.000000</td>\n",
       "      <td>1.000000</td>\n",
       "      <td>0.000000</td>\n",
       "      <td>0.000000</td>\n",
       "      <td>0.000000</td>\n",
       "      <td>0.133333</td>\n",
       "    </tr>\n",
       "    <tr>\n",
       "      <th>50%</th>\n",
       "      <td>10.000000</td>\n",
       "      <td>1.000000</td>\n",
       "      <td>0.000000</td>\n",
       "      <td>1.000000</td>\n",
       "      <td>5.000000</td>\n",
       "      <td>0.136364</td>\n",
       "      <td>0.000000</td>\n",
       "      <td>0.116279</td>\n",
       "      <td>0.483871</td>\n",
       "    </tr>\n",
       "    <tr>\n",
       "      <th>75%</th>\n",
       "      <td>22.000000</td>\n",
       "      <td>4.000000</td>\n",
       "      <td>1.000000</td>\n",
       "      <td>5.000000</td>\n",
       "      <td>11.000000</td>\n",
       "      <td>0.333333</td>\n",
       "      <td>0.014925</td>\n",
       "      <td>0.375000</td>\n",
       "      <td>0.833333</td>\n",
       "    </tr>\n",
       "    <tr>\n",
       "      <th>max</th>\n",
       "      <td>91.000000</td>\n",
       "      <td>55.000000</td>\n",
       "      <td>30.000000</td>\n",
       "      <td>70.000000</td>\n",
       "      <td>90.000000</td>\n",
       "      <td>1.000000</td>\n",
       "      <td>1.000000</td>\n",
       "      <td>1.000000</td>\n",
       "      <td>1.000000</td>\n",
       "    </tr>\n",
       "  </tbody>\n",
       "</table>\n",
       "</div>"
      ],
      "text/plain": [
       "       Total_Paid_HE_Movies  Total Discs Bought  Bought_Digital  \\\n",
       "count           1925.000000         1925.000000     1925.000000   \n",
       "mean              16.145455            2.872208        0.723636   \n",
       "std               16.526946            4.604784        2.081871   \n",
       "min                1.000000            0.000000        0.000000   \n",
       "25%                5.000000            0.000000        0.000000   \n",
       "50%               10.000000            1.000000        0.000000   \n",
       "75%               22.000000            4.000000        1.000000   \n",
       "max               91.000000           55.000000       30.000000   \n",
       "\n",
       "       Total Discs Rented  Total Digital Rented  Buy_Disc_Percent  \\\n",
       "count         1925.000000           1925.000000       1925.000000   \n",
       "mean             3.848312              8.701299          0.239981   \n",
       "std              6.915127             11.978178          0.306352   \n",
       "min              0.000000              0.000000          0.000000   \n",
       "25%              0.000000              1.000000          0.000000   \n",
       "50%              1.000000              5.000000          0.136364   \n",
       "75%              5.000000             11.000000          0.333333   \n",
       "max             70.000000             90.000000          1.000000   \n",
       "\n",
       "       Buy_Digital_Percent  Rent_Disc_Percent  Rent_Digital_Percent  \n",
       "count          1925.000000        1925.000000           1925.000000  \n",
       "mean              0.041825           0.234541              0.483653  \n",
       "std               0.111739           0.292798              0.369288  \n",
       "min               0.000000           0.000000              0.000000  \n",
       "25%               0.000000           0.000000              0.133333  \n",
       "50%               0.000000           0.116279              0.483871  \n",
       "75%               0.014925           0.375000              0.833333  \n",
       "max               1.000000           1.000000              1.000000  "
      ]
     },
     "execution_count": 84,
     "metadata": {},
     "output_type": "execute_result"
    }
   ],
   "source": [
    "dtt_numbers.describe()"
   ]
  },
  {
   "cell_type": "code",
   "execution_count": 85,
   "metadata": {
    "collapsed": false
   },
   "outputs": [
    {
     "name": "stdout",
     "output_type": "stream",
     "text": [
      "Correlations across Consumption\n"
     ]
    },
    {
     "data": {
      "text/html": [
       "<div>\n",
       "<style>\n",
       "    .dataframe thead tr:only-child th {\n",
       "        text-align: right;\n",
       "    }\n",
       "\n",
       "    .dataframe thead th {\n",
       "        text-align: left;\n",
       "    }\n",
       "\n",
       "    .dataframe tbody tr th {\n",
       "        vertical-align: top;\n",
       "    }\n",
       "</style>\n",
       "<table border=\"1\" class=\"dataframe\">\n",
       "  <thead>\n",
       "    <tr style=\"text-align: right;\">\n",
       "      <th></th>\n",
       "      <th>Total_Paid_HE_Movies</th>\n",
       "      <th>Total Discs Bought</th>\n",
       "      <th>Bought_Digital</th>\n",
       "      <th>Total Digital Rented</th>\n",
       "      <th>Total Discs Rented</th>\n",
       "    </tr>\n",
       "  </thead>\n",
       "  <tbody>\n",
       "    <tr>\n",
       "      <th>Total_Paid_HE_Movies</th>\n",
       "      <td>1.000000</td>\n",
       "      <td>0.453878</td>\n",
       "      <td>0.353621</td>\n",
       "      <td>0.816166</td>\n",
       "      <td>0.567532</td>\n",
       "    </tr>\n",
       "    <tr>\n",
       "      <th>Total Discs Bought</th>\n",
       "      <td>0.453878</td>\n",
       "      <td>1.000000</td>\n",
       "      <td>0.301445</td>\n",
       "      <td>0.088601</td>\n",
       "      <td>0.174629</td>\n",
       "    </tr>\n",
       "    <tr>\n",
       "      <th>Bought_Digital</th>\n",
       "      <td>0.353621</td>\n",
       "      <td>0.301445</td>\n",
       "      <td>1.000000</td>\n",
       "      <td>0.133707</td>\n",
       "      <td>0.111749</td>\n",
       "    </tr>\n",
       "    <tr>\n",
       "      <th>Total Digital Rented</th>\n",
       "      <td>0.816166</td>\n",
       "      <td>0.088601</td>\n",
       "      <td>0.133707</td>\n",
       "      <td>1.000000</td>\n",
       "      <td>0.119190</td>\n",
       "    </tr>\n",
       "    <tr>\n",
       "      <th>Total Discs Rented</th>\n",
       "      <td>0.567532</td>\n",
       "      <td>0.174629</td>\n",
       "      <td>0.111749</td>\n",
       "      <td>0.119190</td>\n",
       "      <td>1.000000</td>\n",
       "    </tr>\n",
       "  </tbody>\n",
       "</table>\n",
       "</div>"
      ],
      "text/plain": [
       "                      Total_Paid_HE_Movies  Total Discs Bought  \\\n",
       "Total_Paid_HE_Movies              1.000000            0.453878   \n",
       "Total Discs Bought                0.453878            1.000000   \n",
       "Bought_Digital                    0.353621            0.301445   \n",
       "Total Digital Rented              0.816166            0.088601   \n",
       "Total Discs Rented                0.567532            0.174629   \n",
       "\n",
       "                      Bought_Digital  Total Digital Rented  Total Discs Rented  \n",
       "Total_Paid_HE_Movies        0.353621              0.816166            0.567532  \n",
       "Total Discs Bought          0.301445              0.088601            0.174629  \n",
       "Bought_Digital              1.000000              0.133707            0.111749  \n",
       "Total Digital Rented        0.133707              1.000000            0.119190  \n",
       "Total Discs Rented          0.111749              0.119190            1.000000  "
      ]
     },
     "execution_count": 85,
     "metadata": {},
     "output_type": "execute_result"
    }
   ],
   "source": [
    "print \"Correlations across Consumption\"\n",
    "dtt_numbers[['Total_Paid_HE_Movies','Total Discs Bought','Bought_Digital', 'Total Digital Rented','Total Discs Rented']].corr()\n",
    "\n"
   ]
  },
  {
   "cell_type": "code",
   "execution_count": 86,
   "metadata": {
    "collapsed": false
   },
   "outputs": [
    {
     "data": {
      "text/plain": [
       "<matplotlib.axes._subplots.AxesSubplot at 0x155ec400>"
      ]
     },
     "execution_count": 86,
     "metadata": {},
     "output_type": "execute_result"
    },
    {
     "data": {
      "image/png": "[encoded data removed]",
      "text/plain": [
       "<matplotlib.figure.Figure at 0x15c19f28>"
      ]
     },
     "metadata": {},
     "output_type": "display_data"
    }
   ],
   "source": [
    "corr = dtt_numbers[\n",
    "    ['Total_Paid_HE_Movies','Total Discs Bought','Bought_Digital',\n",
    "     'Total Digital Rented','Total Discs Rented']].corr()\n",
    "\n",
    "sns.heatmap(corr)"
   ]
  },
  {
   "cell_type": "code",
   "execution_count": 87,
   "metadata": {
    "collapsed": false
   },
   "outputs": [
    {
     "data": {
      "text/plain": [
       "<matplotlib.axes._subplots.AxesSubplot at 0x15dcf4e0>"
      ]
     },
     "execution_count": 87,
     "metadata": {},
     "output_type": "execute_result"
    },
    {
     "data": {
      "image/png": "[encoded data removed]",
      "text/plain": [
       "<matplotlib.figure.Figure at 0x154d97f0>"
      ]
     },
     "metadata": {},
     "output_type": "display_data"
    }
   ],
   "source": [
    "dtt.Total_Paid_HE_Movies.plot(kind='hist', bins = 50, title = 'Total Paid HE Movies')"
   ]
  },
  {
   "cell_type": "code",
   "execution_count": 88,
   "metadata": {
    "collapsed": false
   },
   "outputs": [
    {
     "data": {
      "text/plain": [
       "<matplotlib.axes._subplots.AxesSubplot at 0x162d50f0>"
      ]
     },
     "execution_count": 88,
     "metadata": {},
     "output_type": "execute_result"
    },
    {
     "data": {
      "image/png": "[encoded data removed]",
      "text/plain": [
       "<matplotlib.figure.Figure at 0x15c3c3c8>"
      ]
     },
     "metadata": {},
     "output_type": "display_data"
    }
   ],
   "source": [
    "dtt['Total Discs Bought'].plot(kind='hist', bins = 50, title = 'Total Discs Bought')"
   ]
  },
  {
   "cell_type": "code",
   "execution_count": 89,
   "metadata": {
    "collapsed": false
   },
   "outputs": [
    {
     "data": {
      "text/plain": [
       "<matplotlib.axes._subplots.AxesSubplot at 0x164bd2e8>"
      ]
     },
     "execution_count": 89,
     "metadata": {},
     "output_type": "execute_result"
    },
    {
     "data": {
      "image/png": "[encoded data removed]",
      "text/plain": [
       "<matplotlib.figure.Figure at 0x166221d0>"
      ]
     },
     "metadata": {},
     "output_type": "display_data"
    }
   ],
   "source": [
    "dtt['Buy_Disc_Percent'].plot(kind='hist', bins = 50, title = 'Total Discs as % of Total')"
   ]
  },
  {
   "cell_type": "code",
   "execution_count": 90,
   "metadata": {
    "collapsed": false
   },
   "outputs": [
    {
     "data": {
      "text/plain": [
       "<matplotlib.axes._subplots.AxesSubplot at 0x16622240>"
      ]
     },
     "execution_count": 90,
     "metadata": {},
     "output_type": "execute_result"
    },
    {
     "data": {
      "image/png": "[encoded data removed]",
      "text/plain": [
       "<matplotlib.figure.Figure at 0x15a2a978>"
      ]
     },
     "metadata": {},
     "output_type": "display_data"
    }
   ],
   "source": [
    "dtt['Bought_Digital'].plot(kind='hist', bins = 50, title = 'Total Digital Bought')"
   ]
  },
  {
   "cell_type": "code",
   "execution_count": 91,
   "metadata": {
    "collapsed": false
   },
   "outputs": [
    {
     "data": {
      "text/plain": [
       "<matplotlib.axes._subplots.AxesSubplot at 0x16cabcf8>"
      ]
     },
     "execution_count": 91,
     "metadata": {},
     "output_type": "execute_result"
    },
    {
     "data": {
      "image/png": "[encoded data removed]",
      "text/plain": [
       "<matplotlib.figure.Figure at 0x169f8da0>"
      ]
     },
     "metadata": {},
     "output_type": "display_data"
    }
   ],
   "source": [
    "dtt['Buy_Digital_Percent'].plot(kind='hist', bins = 50, title = 'Total Digital Purchases as % of Total')"
   ]
  },
  {
   "cell_type": "code",
   "execution_count": 92,
   "metadata": {
    "collapsed": false
   },
   "outputs": [
    {
     "data": {
      "text/plain": [
       "<matplotlib.axes._subplots.AxesSubplot at 0x17109d68>"
      ]
     },
     "execution_count": 92,
     "metadata": {},
     "output_type": "execute_result"
    },
    {
     "data": {
      "image/png": "[encoded data removed]",
      "text/plain": [
       "<matplotlib.figure.Figure at 0x17173240>"
      ]
     },
     "metadata": {},
     "output_type": "display_data"
    }
   ],
   "source": [
    "dtt['Total Discs Rented'].plot(kind='hist', bins = 50, title = 'Total Discs Rented')"
   ]
  },
  {
   "cell_type": "code",
   "execution_count": 93,
   "metadata": {
    "collapsed": false
   },
   "outputs": [
    {
     "data": {
      "text/plain": [
       "<matplotlib.axes._subplots.AxesSubplot at 0x173c96a0>"
      ]
     },
     "execution_count": 93,
     "metadata": {},
     "output_type": "execute_result"
    },
    {
     "data": {
      "image/png": "[encoded data removed]",
      "text/plain": [
       "<matplotlib.figure.Figure at 0x1685e630>"
      ]
     },
     "metadata": {},
     "output_type": "display_data"
    }
   ],
   "source": [
    "dtt['Rent_Disc_Percent'].plot(kind='hist', bins = 50, title = 'Total Disc Rental as % of Total')"
   ]
  },
  {
   "cell_type": "code",
   "execution_count": 94,
   "metadata": {
    "collapsed": false
   },
   "outputs": [
    {
     "data": {
      "text/plain": [
       "<matplotlib.axes._subplots.AxesSubplot at 0x177422e8>"
      ]
     },
     "execution_count": 94,
     "metadata": {},
     "output_type": "execute_result"
    },
    {
     "data": {
      "image/png": "[encoded data removed]",
      "text/plain": [
       "<matplotlib.figure.Figure at 0x1718bb70>"
      ]
     },
     "metadata": {},
     "output_type": "display_data"
    }
   ],
   "source": [
    "dtt['Total Digital Rented'].plot(kind='hist', bins = 50, title = 'Total Digital Rented')"
   ]
  },
  {
   "cell_type": "code",
   "execution_count": 95,
   "metadata": {
    "collapsed": false
   },
   "outputs": [
    {
     "data": {
      "text/plain": [
       "<matplotlib.axes._subplots.AxesSubplot at 0x17c24fd0>"
      ]
     },
     "execution_count": 95,
     "metadata": {},
     "output_type": "execute_result"
    },
    {
     "data": {
      "image/png": "[encoded data removed]",
      "text/plain": [
       "<matplotlib.figure.Figure at 0x171d5fd0>"
      ]
     },
     "metadata": {},
     "output_type": "display_data"
    }
   ],
   "source": [
    "dtt['Rent_Digital_Percent'].plot(kind='hist', bins = 50, title = 'Total Digital Rental as % of Total')"
   ]
  },
  {
   "cell_type": "code",
   "execution_count": 113,
   "metadata": {
    "collapsed": false
   },
   "outputs": [
    {
     "data": {
      "text/plain": [
       "<seaborn.axisgrid.FacetGrid at 0x182ef358>"
      ]
     },
     "execution_count": 113,
     "metadata": {},
     "output_type": "execute_result"
    },
    {
     "data": {
      "image/png": "[encoded data removed]",
      "text/plain": [
       "<matplotlib.figure.Figure at 0x182929b0>"
      ]
     },
     "metadata": {},
     "output_type": "display_data"
    }
   ],
   "source": [
    "demos = ['Gender', 'Age_Breaks', 'Region2', 'Race', 'Parent', 'HH_Income', 'Employment', 'Education', 'Marital_Status']\n",
    "\n",
    "sns.factorplot(data=dtt, x='Gender', y='Total_Paid_HE_Movies', hue=None)\n"
   ]
  },
  {
   "cell_type": "markdown",
   "metadata": {},
   "source": [
    "# Model Building"
   ]
  },
  {
   "cell_type": "code",
   "execution_count": null,
   "metadata": {
    "collapsed": true
   },
   "outputs": [],
   "source": []
  }
 ],
 "metadata": {
  "kernelspec": {
   "display_name": "Python 2",
   "language": "python",
   "name": "python2"
  },
  "language_info": {
   "codemirror_mode": {
    "name": "ipython",
    "version": 2
   },
   "file_extension": ".py",
   "mimetype": "text/x-python",
   "name": "python",
   "nbconvert_exporter": "python",
   "pygments_lexer": "ipython2",
   "version": "2.7.13"
  }
 },
 "nbformat": 4,
 "nbformat_minor": 2
}
