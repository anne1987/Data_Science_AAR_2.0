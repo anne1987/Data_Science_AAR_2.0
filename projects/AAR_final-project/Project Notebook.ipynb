{
 "cells": [
  {
   "cell_type": "markdown",
   "metadata": {},
   "source": [
    "# Project Notebook"
   ]
  },
  {
   "cell_type": "code",
   "execution_count": 1,
   "metadata": {
    "collapsed": true
   },
   "outputs": [],
   "source": [
    "%matplotlib inline\n",
    "import numpy as np\n",
    "import pandas as pd\n",
    "from matplotlib import pyplot as plt\n",
    "import seaborn as sns\n",
    "sns.set_style(\"darkgrid\")\n",
    "import sklearn.linear_model"
   ]
  },
  {
   "cell_type": "code",
   "execution_count": 2,
   "metadata": {
    "collapsed": false
   },
   "outputs": [
    {
     "data": {
      "text/html": [
       "<div>\n",
       "<style>\n",
       "    .dataframe thead tr:only-child th {\n",
       "        text-align: right;\n",
       "    }\n",
       "\n",
       "    .dataframe thead th {\n",
       "        text-align: left;\n",
       "    }\n",
       "\n",
       "    .dataframe tbody tr th {\n",
       "        vertical-align: top;\n",
       "    }\n",
       "</style>\n",
       "<table border=\"1\" class=\"dataframe\">\n",
       "  <thead>\n",
       "    <tr style=\"text-align: right;\">\n",
       "      <th></th>\n",
       "      <th>b1_1_TV_Buy_Disc_DVD_FS_All</th>\n",
       "      <th>b1_2_TV_Buy_Disc_Blu.ray_FS_All</th>\n",
       "      <th>b1_3_TV_Buy_Digtl_FS_All</th>\n",
       "      <th>b1_4_TV_Buy_Digtl_Ep_All</th>\n",
       "      <th>b1_5_TV_Rent_Disc_Store_FS_All</th>\n",
       "      <th>b1_6_TV_Rent_Disc_Mail_FS_All</th>\n",
       "      <th>b1_7_TV_Rent_Digtl_Sub_FS_All</th>\n",
       "      <th>b1_8_TV_Rent_Digtl_Sub_Ep_All</th>\n",
       "      <th>b1_9_TV_Free_Digtl_Ads_FS_All</th>\n",
       "      <th>b1_10_TV_Free_Digtl_Ads_Ep_All</th>\n",
       "      <th>...</th>\n",
       "      <th>Typ.Dev.Watch.Digital_Game_Xbox.One</th>\n",
       "      <th>Typ.Dev.Watch.Digital_Game_PS3</th>\n",
       "      <th>Typ.Dev.Watch.Digital_Game_PS4</th>\n",
       "      <th>Typ.Dev.Watch.Digital_Game_Nintendo.Wii</th>\n",
       "      <th>Typ.Dev.Watch.Digital_Game_Nintendo.Wii.U</th>\n",
       "      <th>Typ.Dev.Watch.Digital_Game_Other.Console</th>\n",
       "      <th>Typ.Dev.Watch.Digital_Game_Handheld</th>\n",
       "      <th>Typ.Dev.Watch.Digital_Stream_Roku.Stick</th>\n",
       "      <th>Typ.Dev.Watch.Digital_Stream_Amazon.Fire.TV</th>\n",
       "      <th>Typ.Dev.Watch.Digital_None</th>\n",
       "    </tr>\n",
       "    <tr>\n",
       "      <th>respid</th>\n",
       "      <th></th>\n",
       "      <th></th>\n",
       "      <th></th>\n",
       "      <th></th>\n",
       "      <th></th>\n",
       "      <th></th>\n",
       "      <th></th>\n",
       "      <th></th>\n",
       "      <th></th>\n",
       "      <th></th>\n",
       "      <th></th>\n",
       "      <th></th>\n",
       "      <th></th>\n",
       "      <th></th>\n",
       "      <th></th>\n",
       "      <th></th>\n",
       "      <th></th>\n",
       "      <th></th>\n",
       "      <th></th>\n",
       "      <th></th>\n",
       "      <th></th>\n",
       "    </tr>\n",
       "  </thead>\n",
       "  <tbody>\n",
       "    <tr>\n",
       "      <th>2</th>\n",
       "      <td>2</td>\n",
       "      <td>3</td>\n",
       "      <td>2</td>\n",
       "      <td>1</td>\n",
       "      <td>1</td>\n",
       "      <td>1</td>\n",
       "      <td>2</td>\n",
       "      <td>2</td>\n",
       "      <td>3</td>\n",
       "      <td>3</td>\n",
       "      <td>...</td>\n",
       "      <td></td>\n",
       "      <td></td>\n",
       "      <td>1</td>\n",
       "      <td></td>\n",
       "      <td></td>\n",
       "      <td></td>\n",
       "      <td></td>\n",
       "      <td></td>\n",
       "      <td></td>\n",
       "      <td>0</td>\n",
       "    </tr>\n",
       "    <tr>\n",
       "      <th>7</th>\n",
       "      <td>0</td>\n",
       "      <td>0</td>\n",
       "      <td>0</td>\n",
       "      <td>0</td>\n",
       "      <td>0</td>\n",
       "      <td>0</td>\n",
       "      <td>1</td>\n",
       "      <td>10</td>\n",
       "      <td>0</td>\n",
       "      <td>0</td>\n",
       "      <td>...</td>\n",
       "      <td></td>\n",
       "      <td></td>\n",
       "      <td></td>\n",
       "      <td></td>\n",
       "      <td>0</td>\n",
       "      <td></td>\n",
       "      <td></td>\n",
       "      <td></td>\n",
       "      <td></td>\n",
       "      <td>0</td>\n",
       "    </tr>\n",
       "    <tr>\n",
       "      <th>9</th>\n",
       "      <td>1</td>\n",
       "      <td>1</td>\n",
       "      <td>1</td>\n",
       "      <td>1</td>\n",
       "      <td>1</td>\n",
       "      <td>1</td>\n",
       "      <td>5</td>\n",
       "      <td>1</td>\n",
       "      <td>1</td>\n",
       "      <td>1</td>\n",
       "      <td>...</td>\n",
       "      <td></td>\n",
       "      <td></td>\n",
       "      <td>0</td>\n",
       "      <td></td>\n",
       "      <td></td>\n",
       "      <td></td>\n",
       "      <td></td>\n",
       "      <td></td>\n",
       "      <td>1</td>\n",
       "      <td>0</td>\n",
       "    </tr>\n",
       "    <tr>\n",
       "      <th>10</th>\n",
       "      <td>0</td>\n",
       "      <td>0</td>\n",
       "      <td>0</td>\n",
       "      <td>0</td>\n",
       "      <td>0</td>\n",
       "      <td>0</td>\n",
       "      <td>0</td>\n",
       "      <td>0</td>\n",
       "      <td>0</td>\n",
       "      <td>0</td>\n",
       "      <td>...</td>\n",
       "      <td></td>\n",
       "      <td></td>\n",
       "      <td></td>\n",
       "      <td></td>\n",
       "      <td></td>\n",
       "      <td></td>\n",
       "      <td></td>\n",
       "      <td></td>\n",
       "      <td></td>\n",
       "      <td>0</td>\n",
       "    </tr>\n",
       "    <tr>\n",
       "      <th>11</th>\n",
       "      <td>0</td>\n",
       "      <td>0</td>\n",
       "      <td>1</td>\n",
       "      <td>0</td>\n",
       "      <td>0</td>\n",
       "      <td>0</td>\n",
       "      <td>0</td>\n",
       "      <td>0</td>\n",
       "      <td>0</td>\n",
       "      <td>0</td>\n",
       "      <td>...</td>\n",
       "      <td></td>\n",
       "      <td></td>\n",
       "      <td></td>\n",
       "      <td></td>\n",
       "      <td></td>\n",
       "      <td></td>\n",
       "      <td></td>\n",
       "      <td></td>\n",
       "      <td></td>\n",
       "      <td>1</td>\n",
       "    </tr>\n",
       "  </tbody>\n",
       "</table>\n",
       "<p>5 rows × 201 columns</p>\n",
       "</div>"
      ],
      "text/plain": [
       "        b1_1_TV_Buy_Disc_DVD_FS_All  b1_2_TV_Buy_Disc_Blu.ray_FS_All  \\\n",
       "respid                                                                 \n",
       "2                                 2                                3   \n",
       "7                                 0                                0   \n",
       "9                                 1                                1   \n",
       "10                                0                                0   \n",
       "11                                0                                0   \n",
       "\n",
       "        b1_3_TV_Buy_Digtl_FS_All  b1_4_TV_Buy_Digtl_Ep_All  \\\n",
       "respid                                                       \n",
       "2                              2                         1   \n",
       "7                              0                         0   \n",
       "9                              1                         1   \n",
       "10                             0                         0   \n",
       "11                             1                         0   \n",
       "\n",
       "        b1_5_TV_Rent_Disc_Store_FS_All  b1_6_TV_Rent_Disc_Mail_FS_All  \\\n",
       "respid                                                                  \n",
       "2                                    1                              1   \n",
       "7                                    0                              0   \n",
       "9                                    1                              1   \n",
       "10                                   0                              0   \n",
       "11                                   0                              0   \n",
       "\n",
       "        b1_7_TV_Rent_Digtl_Sub_FS_All  b1_8_TV_Rent_Digtl_Sub_Ep_All  \\\n",
       "respid                                                                 \n",
       "2                                   2                              2   \n",
       "7                                   1                             10   \n",
       "9                                   5                              1   \n",
       "10                                  0                              0   \n",
       "11                                  0                              0   \n",
       "\n",
       "        b1_9_TV_Free_Digtl_Ads_FS_All  b1_10_TV_Free_Digtl_Ads_Ep_All  \\\n",
       "respid                                                                  \n",
       "2                                   3                               3   \n",
       "7                                   0                               0   \n",
       "9                                   1                               1   \n",
       "10                                  0                               0   \n",
       "11                                  0                               0   \n",
       "\n",
       "                   ...              Typ.Dev.Watch.Digital_Game_Xbox.One  \\\n",
       "respid             ...                                                    \n",
       "2                  ...                                                    \n",
       "7                  ...                                                    \n",
       "9                  ...                                                    \n",
       "10                 ...                                                    \n",
       "11                 ...                                                    \n",
       "\n",
       "        Typ.Dev.Watch.Digital_Game_PS3  Typ.Dev.Watch.Digital_Game_PS4  \\\n",
       "respid                                                                   \n",
       "2                                                                    1   \n",
       "7                                                                        \n",
       "9                                                                    0   \n",
       "10                                                                       \n",
       "11                                                                       \n",
       "\n",
       "        Typ.Dev.Watch.Digital_Game_Nintendo.Wii  \\\n",
       "respid                                            \n",
       "2                                                 \n",
       "7                                                 \n",
       "9                                                 \n",
       "10                                                \n",
       "11                                                \n",
       "\n",
       "        Typ.Dev.Watch.Digital_Game_Nintendo.Wii.U  \\\n",
       "respid                                              \n",
       "2                                                   \n",
       "7                                               0   \n",
       "9                                                   \n",
       "10                                                  \n",
       "11                                                  \n",
       "\n",
       "        Typ.Dev.Watch.Digital_Game_Other.Console  \\\n",
       "respid                                             \n",
       "2                                                  \n",
       "7                                                  \n",
       "9                                                  \n",
       "10                                                 \n",
       "11                                                 \n",
       "\n",
       "        Typ.Dev.Watch.Digital_Game_Handheld  \\\n",
       "respid                                        \n",
       "2                                             \n",
       "7                                             \n",
       "9                                             \n",
       "10                                            \n",
       "11                                            \n",
       "\n",
       "        Typ.Dev.Watch.Digital_Stream_Roku.Stick  \\\n",
       "respid                                            \n",
       "2                                                 \n",
       "7                                                 \n",
       "9                                                 \n",
       "10                                                \n",
       "11                                                \n",
       "\n",
       "        Typ.Dev.Watch.Digital_Stream_Amazon.Fire.TV  \\\n",
       "respid                                                \n",
       "2                                                     \n",
       "7                                                     \n",
       "9                                                 1   \n",
       "10                                                    \n",
       "11                                                    \n",
       "\n",
       "        Typ.Dev.Watch.Digital_None  \n",
       "respid                              \n",
       "2                                0  \n",
       "7                                0  \n",
       "9                                0  \n",
       "10                               0  \n",
       "11                               1  \n",
       "\n",
       "[5 rows x 201 columns]"
      ]
     },
     "execution_count": 2,
     "metadata": {},
     "output_type": "execute_result"
    }
   ],
   "source": [
    "#C:\\Users\\anne1\\Documents\\DS_SM_15\\projects\\AAR_final-project\n",
    "\n",
    "#C:\\Users\\anne1\\Documents\\DS_SM_15\\projects\\AAR_final-project\\Data\n",
    "\n",
    "dtt = pd.read_csv(\"Data\\DTT Combined.csv\",index_col=0)\n",
    "dtt.head()"
   ]
  },
  {
   "cell_type": "markdown",
   "metadata": {},
   "source": [
    "### Calculate and add columns for movie home entertainment consumption roll ups and percents"
   ]
  },
  {
   "cell_type": "code",
   "execution_count": 3,
   "metadata": {
    "collapsed": false
   },
   "outputs": [],
   "source": [
    "# calculates total movies paid home entertainment\n",
    "dtt['b3_Mo_HE_Paid_Total'] = (\n",
    "    dtt['b3_2_Mo_Buy_Disc_DVD_All'] + \n",
    "    dtt['b3_3_Mo_Buy_Disc_Blu.ray_All'] + \n",
    "    dtt['b3_4_Mo_Buy_Digtl_All'] + \n",
    "    dtt['b3_5_Mo_Rent_Disc_Store_All'] + \n",
    "    dtt['b3_6_Mo_Rent_Disc_Kiosk_All'] + \n",
    "    dtt['b3_7_Mo_Rent_Disc_Mail_All'] + \n",
    "    dtt['b3_8_Mo_Rent_Digtl_Trans_All'] + \n",
    "    dtt['b3_9_Mo_Rent_Digtl_Sub_All'])\n"
   ]
  },
  {
   "cell_type": "code",
   "execution_count": 4,
   "metadata": {
    "collapsed": true
   },
   "outputs": [],
   "source": [
    "# filters out all cases where total paid HE is zero\n",
    "\n",
    "dtt = dtt[dtt[\"b3_Mo_HE_Paid_Total\"] != 0]"
   ]
  },
  {
   "cell_type": "code",
   "execution_count": 28,
   "metadata": {
    "collapsed": false
   },
   "outputs": [
    {
     "name": "stdout",
     "output_type": "stream",
     "text": [
      "b3_Mo_HE_Paid_Total    19.44597\n",
      "dtype: float64\n",
      "b3_Mo_HE_Paid_Total    27.149808\n",
      "dtype: float64\n",
      "b3_Mo_HE_Paid_Total    73.745585\n",
      "dtype: float64\n"
     ]
    }
   ],
   "source": [
    "# filters out outlier cases based on std\n",
    "\n",
    "mean = dtt[['b3_Mo_HE_Paid_Total']].mean()\n",
    "std = dtt[['b3_Mo_HE_Paid_Total']].std()\n",
    "\n",
    "print mean\n",
    "print std"
   ]
  },
  {
   "cell_type": "code",
   "execution_count": 30,
   "metadata": {
    "collapsed": false
   },
   "outputs": [
    {
     "data": {
      "text/plain": [
       "<bound method Series.describe of respid\n",
       "2       NaN\n",
       "7       NaN\n",
       "9       NaN\n",
       "11      NaN\n",
       "17      NaN\n",
       "20      NaN\n",
       "23      NaN\n",
       "25      NaN\n",
       "26      NaN\n",
       "27      NaN\n",
       "30      NaN\n",
       "31      NaN\n",
       "34      NaN\n",
       "36      NaN\n",
       "38      NaN\n",
       "40      NaN\n",
       "44      NaN\n",
       "45      NaN\n",
       "46      NaN\n",
       "49      NaN\n",
       "55      NaN\n",
       "59      NaN\n",
       "66      NaN\n",
       "68      NaN\n",
       "71      NaN\n",
       "73      NaN\n",
       "82      NaN\n",
       "86      NaN\n",
       "90      NaN\n",
       "93      NaN\n",
       "         ..\n",
       "22713   NaN\n",
       "22727   NaN\n",
       "22739   NaN\n",
       "22746   NaN\n",
       "22749   NaN\n",
       "22753   NaN\n",
       "22773   NaN\n",
       "22783   NaN\n",
       "22784   NaN\n",
       "22794   NaN\n",
       "22807   NaN\n",
       "22811   NaN\n",
       "22814   NaN\n",
       "22819   NaN\n",
       "22827   NaN\n",
       "22857   NaN\n",
       "22887   NaN\n",
       "22888   NaN\n",
       "22892   NaN\n",
       "22915   NaN\n",
       "22921   NaN\n",
       "22924   NaN\n",
       "22947   NaN\n",
       "22955   NaN\n",
       "22958   NaN\n",
       "22964   NaN\n",
       "22971   NaN\n",
       "22973   NaN\n",
       "22975   NaN\n",
       "22994   NaN\n",
       "Name: threshold, Length: 2258, dtype: float64>"
      ]
     },
     "execution_count": 30,
     "metadata": {},
     "output_type": "execute_result"
    }
   ],
   "source": [
    "dtt['threshold'] = (dtt['b3_Mo_HE_Paid_Total'] - mean) / std\n",
    "\n"
   ]
  },
  {
   "cell_type": "code",
   "execution_count": 5,
   "metadata": {
    "collapsed": false
   },
   "outputs": [],
   "source": [
    "# calculates total disc purchases\n",
    "dtt['b3_Mo_Buy_Disc_Total'] = (\n",
    "    dtt['b3_2_Mo_Buy_Disc_DVD_All'] + \n",
    "    dtt['b3_3_Mo_Buy_Disc_Blu.ray_All'])\n",
    "\n",
    "dtt['perc_b3_Mo_Buy_Disc_Total'] = dtt['b3_Mo_Buy_Disc_Total'] / dtt['b3_Mo_HE_Paid_Total']"
   ]
  },
  {
   "cell_type": "code",
   "execution_count": 6,
   "metadata": {
    "collapsed": false
   },
   "outputs": [],
   "source": [
    "# calculates total digital purchases (actually just creates new column with that name)\n",
    "dtt['b3_Mo_Buy_Digtl_Total'] = dtt['b3_4_Mo_Buy_Digtl_All']\n",
    "\n",
    "dtt['perc_b3_Mo_Buy_Digtl_Total'] = dtt['b3_Mo_Buy_Digtl_Total'] / dtt['b3_Mo_HE_Paid_Total']"
   ]
  },
  {
   "cell_type": "code",
   "execution_count": 7,
   "metadata": {
    "collapsed": true
   },
   "outputs": [],
   "source": [
    "# calculates total disc rental\n",
    "dtt['b3_Mo_Rent_Disc_Total'] = (\n",
    "    dtt['b3_5_Mo_Rent_Disc_Store_All'] + \n",
    "    dtt['b3_6_Mo_Rent_Disc_Kiosk_All'] + \n",
    "    dtt['b3_7_Mo_Rent_Disc_Mail_All'])\n",
    "\n",
    "dtt['perc_b3_Mo_Rent_Disc_Total'] = dtt['b3_Mo_Rent_Disc_Total'] / dtt['b3_Mo_HE_Paid_Total']"
   ]
  },
  {
   "cell_type": "code",
   "execution_count": 8,
   "metadata": {
    "collapsed": true
   },
   "outputs": [],
   "source": [
    "# calculates total digital rental\n",
    "dtt['b3_Mo_Rent_Digtl_Total'] = (\n",
    "    dtt['b3_8_Mo_Rent_Digtl_Trans_All'] + \n",
    "    dtt['b3_9_Mo_Rent_Digtl_Sub_All'])\n",
    "\n",
    "dtt['perc_b3_Mo_Rent_Digtl_Total'] = dtt['b3_Mo_Rent_Digtl_Total'] / dtt['b3_Mo_HE_Paid_Total']"
   ]
  },
  {
   "cell_type": "code",
   "execution_count": 9,
   "metadata": {
    "collapsed": false
   },
   "outputs": [],
   "source": [
    "# calculates total purchases\n",
    "dtt['b3_Mo_Buy_Total'] = (\n",
    "    dtt['b3_2_Mo_Buy_Disc_DVD_All'] + \n",
    "    dtt['b3_3_Mo_Buy_Disc_Blu.ray_All'] + \n",
    "    dtt['b3_4_Mo_Buy_Digtl_All'])\n",
    "\n",
    "dtt['perc_b3_Mo_Buy_Total'] = dtt['b3_Mo_Buy_Total'] / dtt['b3_Mo_HE_Paid_Total']"
   ]
  },
  {
   "cell_type": "code",
   "execution_count": 10,
   "metadata": {
    "collapsed": true
   },
   "outputs": [],
   "source": [
    "# calculates total rentals\n",
    "dtt['b3_Mo_Rent_Total'] = (\n",
    "    dtt['b3_5_Mo_Rent_Disc_Store_All'] + \n",
    "    dtt['b3_6_Mo_Rent_Disc_Kiosk_All'] + \n",
    "    dtt['b3_7_Mo_Rent_Disc_Mail_All'] + \n",
    "    dtt['b3_8_Mo_Rent_Digtl_Trans_All'] + \n",
    "    dtt['b3_9_Mo_Rent_Digtl_Sub_All'])\n",
    "\n",
    "dtt['perc_b3_Mo_Rent_Total'] = dtt['b3_Mo_Rent_Total'] / dtt['b3_Mo_HE_Paid_Total']"
   ]
  },
  {
   "cell_type": "code",
   "execution_count": 11,
   "metadata": {
    "collapsed": true
   },
   "outputs": [],
   "source": [
    "# calculates total disc transactions\n",
    "dtt['b3_Mo_Disc_Total'] = (\n",
    "    dtt['b3_2_Mo_Buy_Disc_DVD_All'] + \n",
    "    dtt['b3_3_Mo_Buy_Disc_Blu.ray_All'] + \n",
    "    dtt['b3_5_Mo_Rent_Disc_Store_All'] + \n",
    "    dtt['b3_6_Mo_Rent_Disc_Kiosk_All'] + \n",
    "    dtt['b3_7_Mo_Rent_Disc_Mail_All'])\n",
    "\n",
    "dtt['perc_b3_Mo_Disc_Total'] = dtt['b3_Mo_Disc_Total'] / dtt['b3_Mo_HE_Paid_Total']"
   ]
  },
  {
   "cell_type": "code",
   "execution_count": 12,
   "metadata": {
    "collapsed": true
   },
   "outputs": [],
   "source": [
    "# calculates total digital transactions\n",
    "dtt['b3_Mo_Digtl_Total'] = (\n",
    "    dtt['b3_4_Mo_Buy_Digtl_All'] + \n",
    "    dtt['b3_8_Mo_Rent_Digtl_Trans_All'] + \n",
    "    dtt['b3_9_Mo_Rent_Digtl_Sub_All'])\n",
    "\n",
    "dtt['perc_b3_Mo_Digtl_Total'] = dtt['b3_Mo_Digtl_Total'] / dtt['b3_Mo_HE_Paid_Total']"
   ]
  },
  {
   "cell_type": "code",
   "execution_count": 21,
   "metadata": {
    "collapsed": false
   },
   "outputs": [
    {
     "name": "stdout",
     "output_type": "stream",
     "text": [
      "b3_Mo_HE_Paid_Total    19.44597\n",
      "dtype: float64\n",
      "b3_Mo_HE_Paid_Total    27.149808\n",
      "dtype: float64\n"
     ]
    }
   ],
   "source": [
    "mean = dtt[['b3_Mo_HE_Paid_Total']].mean()\n",
    "std = dtt[['b3_Mo_HE_Paid_Total']].std()\n",
    "\n",
    "print mean\n",
    "print std"
   ]
  },
  {
   "cell_type": "markdown",
   "metadata": {},
   "source": [
    "# stopped here"
   ]
  },
  {
   "cell_type": "code",
   "execution_count": null,
   "metadata": {
    "collapsed": false
   },
   "outputs": [],
   "source": [
    "plt.hist(dtt.b3_Mo_HE_Paid_Total)"
   ]
  },
  {
   "cell_type": "code",
   "execution_count": null,
   "metadata": {
    "collapsed": false
   },
   "outputs": [],
   "source": [
    "sns.distplot(dtt.b3_Mo_HE_Paid_Total)"
   ]
  },
  {
   "cell_type": "code",
   "execution_count": null,
   "metadata": {
    "collapsed": false
   },
   "outputs": [],
   "source": [
    "sns.boxplot(y='b3_Mo_HE_Paid_Total', data=dtt)"
   ]
  },
  {
   "cell_type": "code",
   "execution_count": null,
   "metadata": {
    "collapsed": true
   },
   "outputs": [],
   "source": []
  }
 ],
 "metadata": {
  "kernelspec": {
   "display_name": "Python 2",
   "language": "python",
   "name": "python2"
  },
  "language_info": {
   "codemirror_mode": {
    "name": "ipython",
    "version": 2
   },
   "file_extension": ".py",
   "mimetype": "text/x-python",
   "name": "python",
   "nbconvert_exporter": "python",
   "pygments_lexer": "ipython2",
   "version": "2.7.13"
  }
 },
 "nbformat": 4,
 "nbformat_minor": 2
}
