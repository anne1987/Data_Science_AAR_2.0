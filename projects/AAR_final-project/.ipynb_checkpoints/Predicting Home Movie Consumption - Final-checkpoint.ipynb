{
 "cells": [
  {
   "cell_type": "markdown",
   "metadata": {},
   "source": [
    "# Predicting Home Entertainment Movie Consumption"
   ]
  },
  {
   "cell_type": "code",
   "execution_count": 1,
   "metadata": {
    "collapsed": true
   },
   "outputs": [],
   "source": [
    "%matplotlib inline\n",
    "import numpy as np\n",
    "import pandas as pd\n",
    "from matplotlib import pyplot as plt\n",
    "import seaborn as sns\n",
    "from sklearn import linear_model"
   ]
  },
  {
   "cell_type": "code",
   "execution_count": 2,
   "metadata": {
    "collapsed": false
   },
   "outputs": [
    {
     "name": "stdout",
     "output_type": "stream",
     "text": [
      "<class 'pandas.core.frame.DataFrame'>\n",
      "Int64Index: 1925 entries, 2 to 19560\n",
      "Data columns (total 30 columns):\n",
      "Gender                   1925 non-null object\n",
      "Age                      1925 non-null int64\n",
      "Region                   1925 non-null object\n",
      "Region2                  1925 non-null object\n",
      "Race                     1925 non-null object\n",
      "Language_Dominance       1925 non-null object\n",
      "Parent                   1925 non-null object\n",
      "HH_Income                1925 non-null object\n",
      "Employment               1925 non-null object\n",
      "Education                1925 non-null object\n",
      "Marital_Status           1925 non-null object\n",
      "Total_Paid_HE_Movies     1925 non-null int64\n",
      "Bought_Disc_DVD          1925 non-null int64\n",
      "Bought_Disc_BD           1925 non-null int64\n",
      "Bought_Digital           1925 non-null int64\n",
      "Rented_Disc_Store        1925 non-null int64\n",
      "Rented_Disc_Kiosk        1925 non-null int64\n",
      "Rented_Disc_Mail         1925 non-null int64\n",
      "Rented_Digital_iVOD      1925 non-null int64\n",
      "Rented_Digital_sVOD      1925 non-null int64\n",
      "Rented_Digital_cVOD      1925 non-null int64\n",
      "cqhidGroup               1925 non-null object\n",
      "filter_$                 1925 non-null object\n",
      "ZTotal_Paid_HE_Movies    1925 non-null float64\n",
      "Buy_Disc_Percent         1925 non-null float64\n",
      "Buy_Digital_Percent      1925 non-null float64\n",
      "Rent_Disc_Percent        1925 non-null float64\n",
      "Rent_Digital_Percent     1925 non-null float64\n",
      "Age_Breaks               1925 non-null object\n",
      "GenderAge                1925 non-null object\n",
      "dtypes: float64(5), int64(11), object(14)\n",
      "memory usage: 466.2+ KB\n"
     ]
    }
   ],
   "source": [
    "# loads in csv\n",
    "dtt = pd.read_csv(\"Data\\DTT Final Data w labels.csv\",index_col=0)\n",
    "dtt.info()"
   ]
  },
  {
   "cell_type": "code",
   "execution_count": 3,
   "metadata": {
    "collapsed": true
   },
   "outputs": [],
   "source": [
    "#Calculates all rollups and adds as columns\n",
    "\n",
    "#total movies bought on disc\n",
    "dtt['Total Discs Bought'] = (dtt['Bought_Disc_BD'] + dtt['Bought_Disc_DVD'])\n",
    "\n",
    "#total movies rented on disc\n",
    "dtt['Total Discs Rented'] = (dtt['Rented_Disc_Kiosk'] + dtt['Rented_Disc_Mail'] + dtt['Rented_Disc_Store'])\n",
    "\n",
    "#total movies rented on digital\n",
    "dtt['Total Digital Rented'] = (dtt['Rented_Digital_cVOD'] + dtt['Rented_Digital_iVOD'] + dtt['Rented_Digital_sVOD'])\n",
    "\n",
    "#total movies purchased\n",
    "dtt['Total Bought'] = (dtt['Bought_Disc_BD'] + dtt['Bought_Disc_DVD'] + dtt['Bought_Digital'])"
   ]
  },
  {
   "cell_type": "code",
   "execution_count": 4,
   "metadata": {
    "collapsed": false
   },
   "outputs": [
    {
     "name": "stdout",
     "output_type": "stream",
     "text": [
      "<class 'pandas.core.frame.DataFrame'>\n",
      "Int64Index: 1925 entries, 2 to 19560\n",
      "Data columns (total 34 columns):\n",
      "Gender                   1925 non-null object\n",
      "Age                      1925 non-null int64\n",
      "Region                   1925 non-null object\n",
      "Region2                  1925 non-null object\n",
      "Race                     1925 non-null object\n",
      "Language_Dominance       1925 non-null object\n",
      "Parent                   1925 non-null object\n",
      "HH_Income                1925 non-null object\n",
      "Employment               1925 non-null object\n",
      "Education                1925 non-null object\n",
      "Marital_Status           1925 non-null object\n",
      "Total_Paid_HE_Movies     1925 non-null int64\n",
      "Bought_Disc_DVD          1925 non-null int64\n",
      "Bought_Disc_BD           1925 non-null int64\n",
      "Bought_Digital           1925 non-null int64\n",
      "Rented_Disc_Store        1925 non-null int64\n",
      "Rented_Disc_Kiosk        1925 non-null int64\n",
      "Rented_Disc_Mail         1925 non-null int64\n",
      "Rented_Digital_iVOD      1925 non-null int64\n",
      "Rented_Digital_sVOD      1925 non-null int64\n",
      "Rented_Digital_cVOD      1925 non-null int64\n",
      "cqhidGroup               1925 non-null object\n",
      "filter_$                 1925 non-null object\n",
      "ZTotal_Paid_HE_Movies    1925 non-null float64\n",
      "Buy_Disc_Percent         1925 non-null float64\n",
      "Buy_Digital_Percent      1925 non-null float64\n",
      "Rent_Disc_Percent        1925 non-null float64\n",
      "Rent_Digital_Percent     1925 non-null float64\n",
      "Age_Breaks               1925 non-null object\n",
      "GenderAge                1925 non-null object\n",
      "Total Discs Bought       1925 non-null int64\n",
      "Total Discs Rented       1925 non-null int64\n",
      "Total Digital Rented     1925 non-null int64\n",
      "Total Bought             1925 non-null int64\n",
      "dtypes: float64(5), int64(15), object(14)\n",
      "memory usage: 526.4+ KB\n"
     ]
    }
   ],
   "source": [
    "dtt.info()"
   ]
  },
  {
   "cell_type": "code",
   "execution_count": 5,
   "metadata": {
    "collapsed": false
   },
   "outputs": [],
   "source": [
    "#total movies purchased as percent of total\n",
    "dtt['Buy_percent'] = dtt['Total Bought'].astype(float) / dtt['Total_Paid_HE_Movies']"
   ]
  },
  {
   "cell_type": "code",
   "execution_count": 6,
   "metadata": {
    "collapsed": false
   },
   "outputs": [
    {
     "data": {
      "text/html": [
       "<div>\n",
       "<style>\n",
       "    .dataframe thead tr:only-child th {\n",
       "        text-align: right;\n",
       "    }\n",
       "\n",
       "    .dataframe thead th {\n",
       "        text-align: left;\n",
       "    }\n",
       "\n",
       "    .dataframe tbody tr th {\n",
       "        vertical-align: top;\n",
       "    }\n",
       "</style>\n",
       "<table border=\"1\" class=\"dataframe\">\n",
       "  <thead>\n",
       "    <tr style=\"text-align: right;\">\n",
       "      <th></th>\n",
       "      <th>count</th>\n",
       "      <th>mean</th>\n",
       "      <th>std</th>\n",
       "      <th>min</th>\n",
       "      <th>25%</th>\n",
       "      <th>50%</th>\n",
       "      <th>75%</th>\n",
       "      <th>max</th>\n",
       "    </tr>\n",
       "  </thead>\n",
       "  <tbody>\n",
       "    <tr>\n",
       "      <th>Age</th>\n",
       "      <td>1925.0</td>\n",
       "      <td>39.631169</td>\n",
       "      <td>15.969080</td>\n",
       "      <td>12.000000</td>\n",
       "      <td>26.000000</td>\n",
       "      <td>39.000000</td>\n",
       "      <td>52.000000</td>\n",
       "      <td>74.000000</td>\n",
       "    </tr>\n",
       "    <tr>\n",
       "      <th>Total_Paid_HE_Movies</th>\n",
       "      <td>1925.0</td>\n",
       "      <td>16.145455</td>\n",
       "      <td>16.526946</td>\n",
       "      <td>1.000000</td>\n",
       "      <td>5.000000</td>\n",
       "      <td>10.000000</td>\n",
       "      <td>22.000000</td>\n",
       "      <td>91.000000</td>\n",
       "    </tr>\n",
       "    <tr>\n",
       "      <th>Bought_Disc_DVD</th>\n",
       "      <td>1925.0</td>\n",
       "      <td>1.588052</td>\n",
       "      <td>2.914257</td>\n",
       "      <td>0.000000</td>\n",
       "      <td>0.000000</td>\n",
       "      <td>1.000000</td>\n",
       "      <td>2.000000</td>\n",
       "      <td>30.000000</td>\n",
       "    </tr>\n",
       "    <tr>\n",
       "      <th>Bought_Disc_BD</th>\n",
       "      <td>1925.0</td>\n",
       "      <td>1.284156</td>\n",
       "      <td>2.637839</td>\n",
       "      <td>0.000000</td>\n",
       "      <td>0.000000</td>\n",
       "      <td>0.000000</td>\n",
       "      <td>2.000000</td>\n",
       "      <td>50.000000</td>\n",
       "    </tr>\n",
       "    <tr>\n",
       "      <th>Bought_Digital</th>\n",
       "      <td>1925.0</td>\n",
       "      <td>0.723636</td>\n",
       "      <td>2.081871</td>\n",
       "      <td>0.000000</td>\n",
       "      <td>0.000000</td>\n",
       "      <td>0.000000</td>\n",
       "      <td>1.000000</td>\n",
       "      <td>30.000000</td>\n",
       "    </tr>\n",
       "    <tr>\n",
       "      <th>Rented_Disc_Store</th>\n",
       "      <td>1925.0</td>\n",
       "      <td>0.696104</td>\n",
       "      <td>2.313436</td>\n",
       "      <td>0.000000</td>\n",
       "      <td>0.000000</td>\n",
       "      <td>0.000000</td>\n",
       "      <td>0.000000</td>\n",
       "      <td>50.000000</td>\n",
       "    </tr>\n",
       "    <tr>\n",
       "      <th>Rented_Disc_Kiosk</th>\n",
       "      <td>1925.0</td>\n",
       "      <td>2.020260</td>\n",
       "      <td>4.263794</td>\n",
       "      <td>0.000000</td>\n",
       "      <td>0.000000</td>\n",
       "      <td>0.000000</td>\n",
       "      <td>2.000000</td>\n",
       "      <td>50.000000</td>\n",
       "    </tr>\n",
       "    <tr>\n",
       "      <th>Rented_Disc_Mail</th>\n",
       "      <td>1925.0</td>\n",
       "      <td>1.131948</td>\n",
       "      <td>4.504357</td>\n",
       "      <td>0.000000</td>\n",
       "      <td>0.000000</td>\n",
       "      <td>0.000000</td>\n",
       "      <td>0.000000</td>\n",
       "      <td>70.000000</td>\n",
       "    </tr>\n",
       "    <tr>\n",
       "      <th>Rented_Digital_iVOD</th>\n",
       "      <td>1925.0</td>\n",
       "      <td>0.717922</td>\n",
       "      <td>2.047491</td>\n",
       "      <td>0.000000</td>\n",
       "      <td>0.000000</td>\n",
       "      <td>0.000000</td>\n",
       "      <td>1.000000</td>\n",
       "      <td>50.000000</td>\n",
       "    </tr>\n",
       "    <tr>\n",
       "      <th>Rented_Digital_sVOD</th>\n",
       "      <td>1925.0</td>\n",
       "      <td>6.691429</td>\n",
       "      <td>10.804796</td>\n",
       "      <td>0.000000</td>\n",
       "      <td>0.000000</td>\n",
       "      <td>3.000000</td>\n",
       "      <td>10.000000</td>\n",
       "      <td>80.000000</td>\n",
       "    </tr>\n",
       "    <tr>\n",
       "      <th>Rented_Digital_cVOD</th>\n",
       "      <td>1925.0</td>\n",
       "      <td>1.291948</td>\n",
       "      <td>3.550492</td>\n",
       "      <td>0.000000</td>\n",
       "      <td>0.000000</td>\n",
       "      <td>0.000000</td>\n",
       "      <td>1.000000</td>\n",
       "      <td>75.000000</td>\n",
       "    </tr>\n",
       "    <tr>\n",
       "      <th>ZTotal_Paid_HE_Movies</th>\n",
       "      <td>1925.0</td>\n",
       "      <td>-0.108229</td>\n",
       "      <td>0.680958</td>\n",
       "      <td>-0.732266</td>\n",
       "      <td>-0.567454</td>\n",
       "      <td>-0.361440</td>\n",
       "      <td>0.132995</td>\n",
       "      <td>2.975994</td>\n",
       "    </tr>\n",
       "    <tr>\n",
       "      <th>Buy_Disc_Percent</th>\n",
       "      <td>1925.0</td>\n",
       "      <td>0.239981</td>\n",
       "      <td>0.306352</td>\n",
       "      <td>0.000000</td>\n",
       "      <td>0.000000</td>\n",
       "      <td>0.136364</td>\n",
       "      <td>0.333333</td>\n",
       "      <td>1.000000</td>\n",
       "    </tr>\n",
       "    <tr>\n",
       "      <th>Buy_Digital_Percent</th>\n",
       "      <td>1925.0</td>\n",
       "      <td>0.041825</td>\n",
       "      <td>0.111739</td>\n",
       "      <td>0.000000</td>\n",
       "      <td>0.000000</td>\n",
       "      <td>0.000000</td>\n",
       "      <td>0.014925</td>\n",
       "      <td>1.000000</td>\n",
       "    </tr>\n",
       "    <tr>\n",
       "      <th>Rent_Disc_Percent</th>\n",
       "      <td>1925.0</td>\n",
       "      <td>0.234541</td>\n",
       "      <td>0.292798</td>\n",
       "      <td>0.000000</td>\n",
       "      <td>0.000000</td>\n",
       "      <td>0.116279</td>\n",
       "      <td>0.375000</td>\n",
       "      <td>1.000000</td>\n",
       "    </tr>\n",
       "    <tr>\n",
       "      <th>Rent_Digital_Percent</th>\n",
       "      <td>1925.0</td>\n",
       "      <td>0.483653</td>\n",
       "      <td>0.369288</td>\n",
       "      <td>0.000000</td>\n",
       "      <td>0.133333</td>\n",
       "      <td>0.483871</td>\n",
       "      <td>0.833333</td>\n",
       "      <td>1.000000</td>\n",
       "    </tr>\n",
       "    <tr>\n",
       "      <th>Total Discs Bought</th>\n",
       "      <td>1925.0</td>\n",
       "      <td>2.872208</td>\n",
       "      <td>4.604784</td>\n",
       "      <td>0.000000</td>\n",
       "      <td>0.000000</td>\n",
       "      <td>1.000000</td>\n",
       "      <td>4.000000</td>\n",
       "      <td>55.000000</td>\n",
       "    </tr>\n",
       "    <tr>\n",
       "      <th>Total Discs Rented</th>\n",
       "      <td>1925.0</td>\n",
       "      <td>3.848312</td>\n",
       "      <td>6.915127</td>\n",
       "      <td>0.000000</td>\n",
       "      <td>0.000000</td>\n",
       "      <td>1.000000</td>\n",
       "      <td>5.000000</td>\n",
       "      <td>70.000000</td>\n",
       "    </tr>\n",
       "    <tr>\n",
       "      <th>Total Digital Rented</th>\n",
       "      <td>1925.0</td>\n",
       "      <td>8.701299</td>\n",
       "      <td>11.978178</td>\n",
       "      <td>0.000000</td>\n",
       "      <td>1.000000</td>\n",
       "      <td>5.000000</td>\n",
       "      <td>11.000000</td>\n",
       "      <td>90.000000</td>\n",
       "    </tr>\n",
       "    <tr>\n",
       "      <th>Total Bought</th>\n",
       "      <td>1925.0</td>\n",
       "      <td>3.595844</td>\n",
       "      <td>5.596236</td>\n",
       "      <td>0.000000</td>\n",
       "      <td>0.000000</td>\n",
       "      <td>2.000000</td>\n",
       "      <td>5.000000</td>\n",
       "      <td>60.000000</td>\n",
       "    </tr>\n",
       "    <tr>\n",
       "      <th>Buy_percent</th>\n",
       "      <td>1925.0</td>\n",
       "      <td>0.281806</td>\n",
       "      <td>0.323495</td>\n",
       "      <td>0.000000</td>\n",
       "      <td>0.000000</td>\n",
       "      <td>0.181818</td>\n",
       "      <td>0.416667</td>\n",
       "      <td>1.000000</td>\n",
       "    </tr>\n",
       "  </tbody>\n",
       "</table>\n",
       "</div>"
      ],
      "text/plain": [
       "                        count       mean        std        min        25%  \\\n",
       "Age                    1925.0  39.631169  15.969080  12.000000  26.000000   \n",
       "Total_Paid_HE_Movies   1925.0  16.145455  16.526946   1.000000   5.000000   \n",
       "Bought_Disc_DVD        1925.0   1.588052   2.914257   0.000000   0.000000   \n",
       "Bought_Disc_BD         1925.0   1.284156   2.637839   0.000000   0.000000   \n",
       "Bought_Digital         1925.0   0.723636   2.081871   0.000000   0.000000   \n",
       "Rented_Disc_Store      1925.0   0.696104   2.313436   0.000000   0.000000   \n",
       "Rented_Disc_Kiosk      1925.0   2.020260   4.263794   0.000000   0.000000   \n",
       "Rented_Disc_Mail       1925.0   1.131948   4.504357   0.000000   0.000000   \n",
       "Rented_Digital_iVOD    1925.0   0.717922   2.047491   0.000000   0.000000   \n",
       "Rented_Digital_sVOD    1925.0   6.691429  10.804796   0.000000   0.000000   \n",
       "Rented_Digital_cVOD    1925.0   1.291948   3.550492   0.000000   0.000000   \n",
       "ZTotal_Paid_HE_Movies  1925.0  -0.108229   0.680958  -0.732266  -0.567454   \n",
       "Buy_Disc_Percent       1925.0   0.239981   0.306352   0.000000   0.000000   \n",
       "Buy_Digital_Percent    1925.0   0.041825   0.111739   0.000000   0.000000   \n",
       "Rent_Disc_Percent      1925.0   0.234541   0.292798   0.000000   0.000000   \n",
       "Rent_Digital_Percent   1925.0   0.483653   0.369288   0.000000   0.133333   \n",
       "Total Discs Bought     1925.0   2.872208   4.604784   0.000000   0.000000   \n",
       "Total Discs Rented     1925.0   3.848312   6.915127   0.000000   0.000000   \n",
       "Total Digital Rented   1925.0   8.701299  11.978178   0.000000   1.000000   \n",
       "Total Bought           1925.0   3.595844   5.596236   0.000000   0.000000   \n",
       "Buy_percent            1925.0   0.281806   0.323495   0.000000   0.000000   \n",
       "\n",
       "                             50%        75%        max  \n",
       "Age                    39.000000  52.000000  74.000000  \n",
       "Total_Paid_HE_Movies   10.000000  22.000000  91.000000  \n",
       "Bought_Disc_DVD         1.000000   2.000000  30.000000  \n",
       "Bought_Disc_BD          0.000000   2.000000  50.000000  \n",
       "Bought_Digital          0.000000   1.000000  30.000000  \n",
       "Rented_Disc_Store       0.000000   0.000000  50.000000  \n",
       "Rented_Disc_Kiosk       0.000000   2.000000  50.000000  \n",
       "Rented_Disc_Mail        0.000000   0.000000  70.000000  \n",
       "Rented_Digital_iVOD     0.000000   1.000000  50.000000  \n",
       "Rented_Digital_sVOD     3.000000  10.000000  80.000000  \n",
       "Rented_Digital_cVOD     0.000000   1.000000  75.000000  \n",
       "ZTotal_Paid_HE_Movies  -0.361440   0.132995   2.975994  \n",
       "Buy_Disc_Percent        0.136364   0.333333   1.000000  \n",
       "Buy_Digital_Percent     0.000000   0.014925   1.000000  \n",
       "Rent_Disc_Percent       0.116279   0.375000   1.000000  \n",
       "Rent_Digital_Percent    0.483871   0.833333   1.000000  \n",
       "Total Discs Bought      1.000000   4.000000  55.000000  \n",
       "Total Discs Rented      1.000000   5.000000  70.000000  \n",
       "Total Digital Rented    5.000000  11.000000  90.000000  \n",
       "Total Bought            2.000000   5.000000  60.000000  \n",
       "Buy_percent             0.181818   0.416667   1.000000  "
      ]
     },
     "execution_count": 6,
     "metadata": {},
     "output_type": "execute_result"
    }
   ],
   "source": [
    "dtt.describe().T"
   ]
  },
  {
   "cell_type": "markdown",
   "metadata": {},
   "source": [
    "### Consumption Distributions"
   ]
  },
  {
   "cell_type": "code",
   "execution_count": 7,
   "metadata": {
    "collapsed": false
   },
   "outputs": [
    {
     "data": {
      "text/plain": [
       "<matplotlib.axes._subplots.AxesSubplot at 0xc61b550>"
      ]
     },
     "execution_count": 7,
     "metadata": {},
     "output_type": "execute_result"
    },
    {
     "data": {
      "image/png": "[encoded data removed]",
      "text/plain": [
       "<matplotlib.figure.Figure at 0xc4e9588>"
      ]
     },
     "metadata": {},
     "output_type": "display_data"
    }
   ],
   "source": [
    "dtt.Total_Paid_HE_Movies.plot(kind='hist', bins = 50, title = 'Total Paid HE Movies')"
   ]
  },
  {
   "cell_type": "code",
   "execution_count": 8,
   "metadata": {
    "collapsed": false
   },
   "outputs": [
    {
     "data": {
      "text/plain": [
       "<matplotlib.axes._subplots.AxesSubplot at 0xc97e7b8>"
      ]
     },
     "execution_count": 8,
     "metadata": {},
     "output_type": "execute_result"
    },
    {
     "data": {
      "image/png": "[encoded data removed]",
      "text/plain": [
       "<matplotlib.figure.Figure at 0xc86dc50>"
      ]
     },
     "metadata": {},
     "output_type": "display_data"
    }
   ],
   "source": [
    "dtt['Total Bought'].plot(kind='hist', bins = 30, title = 'Total Bought')"
   ]
  },
  {
   "cell_type": "code",
   "execution_count": 9,
   "metadata": {
    "collapsed": false
   },
   "outputs": [
    {
     "data": {
      "text/plain": [
       "<matplotlib.axes._subplots.AxesSubplot at 0xd75be48>"
      ]
     },
     "execution_count": 9,
     "metadata": {},
     "output_type": "execute_result"
    },
    {
     "data": {
      "image/png": "[encoded data removed]",
      "text/plain": [
       "<matplotlib.figure.Figure at 0xd620278>"
      ]
     },
     "metadata": {},
     "output_type": "display_data"
    }
   ],
   "source": [
    "dtt['Bought_Digital'][dtt.Bought_Digital > 0].plot(kind='hist', bins = 50, title = 'Total Digital Purchases')"
   ]
  },
  {
   "cell_type": "code",
   "execution_count": 10,
   "metadata": {
    "collapsed": false
   },
   "outputs": [
    {
     "data": {
      "text/plain": [
       "<matplotlib.axes._subplots.AxesSubplot at 0xd934ac8>"
      ]
     },
     "execution_count": 10,
     "metadata": {},
     "output_type": "execute_result"
    },
    {
     "data": {
      "image/png": "[encoded data removed]",
      "text/plain": [
       "<matplotlib.figure.Figure at 0xd954390>"
      ]
     },
     "metadata": {},
     "output_type": "display_data"
    }
   ],
   "source": [
    "dtt['Total Discs Rented'].plot(kind='hist', bins = 50, title = 'Total Discs Rented')"
   ]
  },
  {
   "cell_type": "code",
   "execution_count": 11,
   "metadata": {
    "collapsed": false
   },
   "outputs": [
    {
     "data": {
      "text/plain": [
       "<matplotlib.axes._subplots.AxesSubplot at 0xda57cf8>"
      ]
     },
     "execution_count": 11,
     "metadata": {},
     "output_type": "execute_result"
    },
    {
     "data": {
      "image/png": "[encoded data removed]",
      "text/plain": [
       "<matplotlib.figure.Figure at 0xdd150b8>"
      ]
     },
     "metadata": {},
     "output_type": "display_data"
    }
   ],
   "source": [
    "dtt['Total Digital Rented'].plot(kind='hist', bins = 50, title = 'Total Digital Rented')"
   ]
  },
  {
   "cell_type": "markdown",
   "metadata": {},
   "source": [
    "# Getting Dummies"
   ]
  },
  {
   "cell_type": "markdown",
   "metadata": {},
   "source": [
    "## Gender"
   ]
  },
  {
   "cell_type": "code",
   "execution_count": 12,
   "metadata": {
    "collapsed": false
   },
   "outputs": [
    {
     "name": "stdout",
     "output_type": "stream",
     "text": [
      "<class 'pandas.core.frame.DataFrame'>\n",
      "Int64Index: 1925 entries, 2 to 19560\n",
      "Data columns (total 1 columns):\n",
      "Gender_Male    1925 non-null uint8\n",
      "dtypes: uint8(1)\n",
      "memory usage: 96.9 KB\n"
     ]
    }
   ],
   "source": [
    "dGender = pd.get_dummies(dtt.Gender, prefix='Gender', drop_first = True)\n",
    "dGender.info()"
   ]
  },
  {
   "cell_type": "markdown",
   "metadata": {},
   "source": [
    "## Age_Breaks"
   ]
  },
  {
   "cell_type": "code",
   "execution_count": 13,
   "metadata": {
    "collapsed": false
   },
   "outputs": [
    {
     "name": "stdout",
     "output_type": "stream",
     "text": [
      "<class 'pandas.core.frame.DataFrame'>\n",
      "Int64Index: 1925 entries, 2 to 19560\n",
      "Data columns (total 6 columns):\n",
      "Age_18 to 24    1925 non-null uint8\n",
      "Age_25 to 34    1925 non-null uint8\n",
      "Age_35 to 44    1925 non-null uint8\n",
      "Age_45 to 54    1925 non-null uint8\n",
      "Age_55 to 64    1925 non-null uint8\n",
      "Age_65 to 74    1925 non-null uint8\n",
      "dtypes: uint8(6)\n",
      "memory usage: 106.3 KB\n"
     ]
    }
   ],
   "source": [
    "dAge_Breaks = pd.get_dummies(dtt.Age_Breaks, prefix = 'Age', drop_first= True)\n",
    "dAge_Breaks.info(0)"
   ]
  },
  {
   "cell_type": "markdown",
   "metadata": {},
   "source": [
    "## Race"
   ]
  },
  {
   "cell_type": "code",
   "execution_count": 14,
   "metadata": {
    "collapsed": false
   },
   "outputs": [
    {
     "name": "stdout",
     "output_type": "stream",
     "text": [
      "<class 'pandas.core.frame.DataFrame'>\n",
      "Int64Index: 1925 entries, 2 to 19560\n",
      "Data columns (total 4 columns):\n",
      "Race_Black       1925 non-null uint8\n",
      "Race_Hispanic    1925 non-null uint8\n",
      "Race_Other       1925 non-null uint8\n",
      "Race_White       1925 non-null uint8\n",
      "dtypes: uint8(4)\n",
      "memory usage: 102.6 KB\n"
     ]
    }
   ],
   "source": [
    "dRace = pd.get_dummies(dtt.Race, prefix = 'Race',drop_first=True)\n",
    "dRace.info()"
   ]
  },
  {
   "cell_type": "markdown",
   "metadata": {},
   "source": [
    "## Region"
   ]
  },
  {
   "cell_type": "code",
   "execution_count": 15,
   "metadata": {
    "collapsed": false
   },
   "outputs": [
    {
     "name": "stdout",
     "output_type": "stream",
     "text": [
      "<class 'pandas.core.frame.DataFrame'>\n",
      "Int64Index: 1925 entries, 2 to 19560\n",
      "Data columns (total 3 columns):\n",
      "Region_Northeast    1925 non-null uint8\n",
      "Region_South        1925 non-null uint8\n",
      "Region_West         1925 non-null uint8\n",
      "dtypes: uint8(3)\n",
      "memory usage: 100.7 KB\n"
     ]
    }
   ],
   "source": [
    "dRegion = pd.get_dummies(dtt.Region2,prefix='Region', drop_first=True)\n",
    "dRegion.info()"
   ]
  },
  {
   "cell_type": "markdown",
   "metadata": {},
   "source": [
    "## Parent"
   ]
  },
  {
   "cell_type": "code",
   "execution_count": 16,
   "metadata": {
    "collapsed": false
   },
   "outputs": [
    {
     "name": "stdout",
     "output_type": "stream",
     "text": [
      "<class 'pandas.core.frame.DataFrame'>\n",
      "Int64Index: 1925 entries, 2 to 19560\n",
      "Data columns (total 1 columns):\n",
      "Parent_Yes    1925 non-null uint8\n",
      "dtypes: uint8(1)\n",
      "memory usage: 96.9 KB\n"
     ]
    }
   ],
   "source": [
    "dParent = pd.get_dummies(dtt.Parent,prefix='Parent',drop_first=True)\n",
    "dParent.info()"
   ]
  },
  {
   "cell_type": "markdown",
   "metadata": {},
   "source": [
    "## Income"
   ]
  },
  {
   "cell_type": "code",
   "execution_count": 17,
   "metadata": {
    "collapsed": false
   },
   "outputs": [
    {
     "name": "stdout",
     "output_type": "stream",
     "text": [
      "<class 'pandas.core.frame.DataFrame'>\n",
      "Int64Index: 1925 entries, 2 to 19560\n",
      "Data columns (total 9 columns):\n",
      "Income_2 - $20 to $29K         1925 non-null uint8\n",
      "Income_3 - $30 to $39K         1925 non-null uint8\n",
      "Income_4 - $40 to $59K         1925 non-null uint8\n",
      "Income_5 - $60 to $74K         1925 non-null uint8\n",
      "Income_6 - $75 to $99K         1925 non-null uint8\n",
      "Income_7 - $100 to $149K       1925 non-null uint8\n",
      "Income_8 - $150 to $199K       1925 non-null uint8\n",
      "Income_9 - $200K+              1925 non-null uint8\n",
      "Income_Prefer not to answer    1925 non-null uint8\n",
      "dtypes: uint8(9)\n",
      "memory usage: 112.0 KB\n"
     ]
    }
   ],
   "source": [
    "dHH_Income = pd.get_dummies(dtt.HH_Income,prefix='Income',drop_first=True)\n",
    "dHH_Income.info()"
   ]
  },
  {
   "cell_type": "markdown",
   "metadata": {},
   "source": [
    "## Employment"
   ]
  },
  {
   "cell_type": "code",
   "execution_count": 18,
   "metadata": {
    "collapsed": false
   },
   "outputs": [
    {
     "name": "stdout",
     "output_type": "stream",
     "text": [
      "<class 'pandas.core.frame.DataFrame'>\n",
      "Int64Index: 1925 entries, 2 to 19560\n",
      "Data columns (total 3 columns):\n",
      "Employment_2 - Part time       1925 non-null uint8\n",
      "Employment_3 - Retired         1925 non-null uint8\n",
      "Employment_4 - Not employed    1925 non-null uint8\n",
      "dtypes: uint8(3)\n",
      "memory usage: 100.7 KB\n"
     ]
    }
   ],
   "source": [
    "dEmployment = pd.get_dummies(dtt.Employment,prefix='Employment', drop_first=True)\n",
    "dEmployment.info()"
   ]
  },
  {
   "cell_type": "markdown",
   "metadata": {},
   "source": [
    "## Education"
   ]
  },
  {
   "cell_type": "code",
   "execution_count": 19,
   "metadata": {
    "collapsed": false
   },
   "outputs": [
    {
     "name": "stdout",
     "output_type": "stream",
     "text": [
      "<class 'pandas.core.frame.DataFrame'>\n",
      "Int64Index: 1925 entries, 2 to 19560\n",
      "Data columns (total 6 columns):\n",
      "Education_2 - HS Grad                 1925 non-null uint8\n",
      "Education_3 - Some coll               1925 non-null uint8\n",
      "Education_4 - Coll Grad               1925 non-null uint8\n",
      "Education_5 - Some Post-grad          1925 non-null uint8\n",
      "Education_6 - Post-grad               1925 non-null uint8\n",
      "Education_7 - Prefer not to answer    1925 non-null uint8\n",
      "dtypes: uint8(6)\n",
      "memory usage: 106.3 KB\n"
     ]
    }
   ],
   "source": [
    "dEducation = pd.get_dummies(dtt.Education,prefix='Education', drop_first=True)\n",
    "dEducation.info()"
   ]
  },
  {
   "cell_type": "markdown",
   "metadata": {},
   "source": [
    "## Marital Status"
   ]
  },
  {
   "cell_type": "code",
   "execution_count": 20,
   "metadata": {
    "collapsed": false
   },
   "outputs": [
    {
     "name": "stdout",
     "output_type": "stream",
     "text": [
      "<class 'pandas.core.frame.DataFrame'>\n",
      "Int64Index: 1925 entries, 2 to 19560\n",
      "Data columns (total 3 columns):\n",
      "Marital_Status_Married                 1925 non-null uint8\n",
      "Marital_Status_Prefer not to answer    1925 non-null uint8\n",
      "Marital_Status_Single                  1925 non-null uint8\n",
      "dtypes: uint8(3)\n",
      "memory usage: 100.7 KB\n"
     ]
    }
   ],
   "source": [
    "dMarital_Status = pd.get_dummies(dtt.Marital_Status,prefix='Marital_Status', drop_first=True)\n",
    "dMarital_Status.info()"
   ]
  },
  {
   "cell_type": "markdown",
   "metadata": {},
   "source": [
    "## GenderAge"
   ]
  },
  {
   "cell_type": "code",
   "execution_count": 21,
   "metadata": {
    "collapsed": false
   },
   "outputs": [
    {
     "name": "stdout",
     "output_type": "stream",
     "text": [
      "<class 'pandas.core.frame.DataFrame'>\n",
      "Int64Index: 1925 entries, 2 to 19560\n",
      "Data columns (total 13 columns):\n",
      "GenderAge_Female 18 to 24    1925 non-null uint8\n",
      "GenderAge_Female 25 to 34    1925 non-null uint8\n",
      "GenderAge_Female 35 to 44    1925 non-null uint8\n",
      "GenderAge_Female 45 to 54    1925 non-null uint8\n",
      "GenderAge_Female 55 to 64    1925 non-null uint8\n",
      "GenderAge_Female 65 to 74    1925 non-null uint8\n",
      "GenderAge_Male 12 to 17      1925 non-null uint8\n",
      "GenderAge_Male 18 to 24      1925 non-null uint8\n",
      "GenderAge_Male 25 to 34      1925 non-null uint8\n",
      "GenderAge_Male 35 to 44      1925 non-null uint8\n",
      "GenderAge_Male 45 to 54      1925 non-null uint8\n",
      "GenderAge_Male 55 to 64      1925 non-null uint8\n",
      "GenderAge_Male 65 to 74      1925 non-null uint8\n",
      "dtypes: uint8(13)\n",
      "memory usage: 119.5 KB\n"
     ]
    }
   ],
   "source": [
    "dGenderAge = pd.get_dummies(dtt.GenderAge,prefix='GenderAge', drop_first=True)\n",
    "dGenderAge.info()"
   ]
  },
  {
   "cell_type": "code",
   "execution_count": 22,
   "metadata": {
    "collapsed": false
   },
   "outputs": [
    {
     "name": "stdout",
     "output_type": "stream",
     "text": [
      "<class 'pandas.core.frame.DataFrame'>\n",
      "Int64Index: 1925 entries, 2 to 19560\n",
      "Data columns (total 84 columns):\n",
      "Gender                                 1925 non-null object\n",
      "Age                                    1925 non-null int64\n",
      "Region                                 1925 non-null object\n",
      "Region2                                1925 non-null object\n",
      "Race                                   1925 non-null object\n",
      "Language_Dominance                     1925 non-null object\n",
      "Parent                                 1925 non-null object\n",
      "HH_Income                              1925 non-null object\n",
      "Employment                             1925 non-null object\n",
      "Education                              1925 non-null object\n",
      "Marital_Status                         1925 non-null object\n",
      "Total_Paid_HE_Movies                   1925 non-null int64\n",
      "Bought_Disc_DVD                        1925 non-null int64\n",
      "Bought_Disc_BD                         1925 non-null int64\n",
      "Bought_Digital                         1925 non-null int64\n",
      "Rented_Disc_Store                      1925 non-null int64\n",
      "Rented_Disc_Kiosk                      1925 non-null int64\n",
      "Rented_Disc_Mail                       1925 non-null int64\n",
      "Rented_Digital_iVOD                    1925 non-null int64\n",
      "Rented_Digital_sVOD                    1925 non-null int64\n",
      "Rented_Digital_cVOD                    1925 non-null int64\n",
      "cqhidGroup                             1925 non-null object\n",
      "filter_$                               1925 non-null object\n",
      "ZTotal_Paid_HE_Movies                  1925 non-null float64\n",
      "Buy_Disc_Percent                       1925 non-null float64\n",
      "Buy_Digital_Percent                    1925 non-null float64\n",
      "Rent_Disc_Percent                      1925 non-null float64\n",
      "Rent_Digital_Percent                   1925 non-null float64\n",
      "Age_Breaks                             1925 non-null object\n",
      "GenderAge                              1925 non-null object\n",
      "Total Discs Bought                     1925 non-null int64\n",
      "Total Discs Rented                     1925 non-null int64\n",
      "Total Digital Rented                   1925 non-null int64\n",
      "Total Bought                           1925 non-null int64\n",
      "Buy_percent                            1925 non-null float64\n",
      "Gender_Male                            1925 non-null uint8\n",
      "Age_18 to 24                           1925 non-null uint8\n",
      "Age_25 to 34                           1925 non-null uint8\n",
      "Age_35 to 44                           1925 non-null uint8\n",
      "Age_45 to 54                           1925 non-null uint8\n",
      "Age_55 to 64                           1925 non-null uint8\n",
      "Age_65 to 74                           1925 non-null uint8\n",
      "Race_Black                             1925 non-null uint8\n",
      "Race_Hispanic                          1925 non-null uint8\n",
      "Race_Other                             1925 non-null uint8\n",
      "Race_White                             1925 non-null uint8\n",
      "Region_Northeast                       1925 non-null uint8\n",
      "Region_South                           1925 non-null uint8\n",
      "Region_West                            1925 non-null uint8\n",
      "GenderAge_Female 18 to 24              1925 non-null uint8\n",
      "GenderAge_Female 25 to 34              1925 non-null uint8\n",
      "GenderAge_Female 35 to 44              1925 non-null uint8\n",
      "GenderAge_Female 45 to 54              1925 non-null uint8\n",
      "GenderAge_Female 55 to 64              1925 non-null uint8\n",
      "GenderAge_Female 65 to 74              1925 non-null uint8\n",
      "GenderAge_Male 12 to 17                1925 non-null uint8\n",
      "GenderAge_Male 18 to 24                1925 non-null uint8\n",
      "GenderAge_Male 25 to 34                1925 non-null uint8\n",
      "GenderAge_Male 35 to 44                1925 non-null uint8\n",
      "GenderAge_Male 45 to 54                1925 non-null uint8\n",
      "GenderAge_Male 55 to 64                1925 non-null uint8\n",
      "GenderAge_Male 65 to 74                1925 non-null uint8\n",
      "Marital_Status_Married                 1925 non-null uint8\n",
      "Marital_Status_Prefer not to answer    1925 non-null uint8\n",
      "Marital_Status_Single                  1925 non-null uint8\n",
      "Education_2 - HS Grad                  1925 non-null uint8\n",
      "Education_3 - Some coll                1925 non-null uint8\n",
      "Education_4 - Coll Grad                1925 non-null uint8\n",
      "Education_5 - Some Post-grad           1925 non-null uint8\n",
      "Education_6 - Post-grad                1925 non-null uint8\n",
      "Education_7 - Prefer not to answer     1925 non-null uint8\n",
      "Income_2 - $20 to $29K                 1925 non-null uint8\n",
      "Income_3 - $30 to $39K                 1925 non-null uint8\n",
      "Income_4 - $40 to $59K                 1925 non-null uint8\n",
      "Income_5 - $60 to $74K                 1925 non-null uint8\n",
      "Income_6 - $75 to $99K                 1925 non-null uint8\n",
      "Income_7 - $100 to $149K               1925 non-null uint8\n",
      "Income_8 - $150 to $199K               1925 non-null uint8\n",
      "Income_9 - $200K+                      1925 non-null uint8\n",
      "Income_Prefer not to answer            1925 non-null uint8\n",
      "Parent_Yes                             1925 non-null uint8\n",
      "Employment_2 - Part time               1925 non-null uint8\n",
      "Employment_3 - Retired                 1925 non-null uint8\n",
      "Employment_4 - Not employed            1925 non-null uint8\n",
      "dtypes: float64(6), int64(15), object(14), uint8(49)\n",
      "memory usage: 713.5+ KB\n"
     ]
    }
   ],
   "source": [
    "dummies = pd.concat([dGender, dAge_Breaks, dRace, dRegion, dGenderAge, \n",
    "                dMarital_Status, dEducation, dHH_Income, dParent, dEmployment],axis=1)\n",
    "\n",
    "dtt = pd.concat([dtt, dummies],axis=1)\n",
    "\n",
    "dtt.info()"
   ]
  },
  {
   "cell_type": "markdown",
   "metadata": {},
   "source": [
    "## Model Building"
   ]
  },
  {
   "cell_type": "code",
   "execution_count": 23,
   "metadata": {
    "collapsed": false
   },
   "outputs": [],
   "source": [
    "from sklearn import feature_selection, linear_model"
   ]
  },
  {
   "cell_type": "code",
   "execution_count": 24,
   "metadata": {
    "collapsed": false
   },
   "outputs": [],
   "source": [
    "def get_linear_model_metrics(X, y, algo):\n",
    "    # get the pvalue of X given y. Ignore f-stat for now.\n",
    "    pvals = feature_selection.f_regression(X, y)[1]\n",
    "    # start with an empty linear regression object\n",
    "    # .fit() runs the linear regression function on X and y\n",
    "    algo.fit(X,y)\n",
    "    residuals = (y-algo.predict(X)).values\n",
    "\n",
    "    # print the necessary values\n",
    "    print 'P Values:', pvals\n",
    "    print 'Coefficients:', algo.coef_\n",
    "    print 'y-intercept:', algo.intercept_\n",
    "    print 'R-Squared:', algo.score(X,y)\n",
    "    plt.figure()\n",
    "    plt.hist(residuals, bins=np.ceil(np.sqrt(len(y))).astype(int))\n",
    "    # keep the model\n",
    "    return algo\n"
   ]
  },
  {
   "cell_type": "markdown",
   "metadata": {},
   "source": [
    "### Creating Feature Sets"
   ]
  },
  {
   "cell_type": "code",
   "execution_count": 25,
   "metadata": {
    "collapsed": false
   },
   "outputs": [],
   "source": [
    "XGender = dtt[['Gender_Male']]\n",
    "\n",
    "XAge_Breaks = dtt[['Age_18 to 24', 'Age_25 to 34', 'Age_35 to 44', 'Age_45 to 54', 'Age_55 to 64', 'Age_65 to 74']]\n",
    "\n",
    "XAge = dtt[['Age']]\n",
    "\n",
    "XGenderAge = dtt[['GenderAge_Female 18 to 24', 'GenderAge_Female 25 to 34', 'GenderAge_Female 35 to 44',\n",
    "                  'GenderAge_Female 45 to 54', 'GenderAge_Female 55 to 64', 'GenderAge_Female 65 to 74', \n",
    "                  'GenderAge_Male 12 to 17', 'GenderAge_Male 18 to 24', 'GenderAge_Male 25 to 34', \n",
    "                  'GenderAge_Male 35 to 44', 'GenderAge_Male 45 to 54', 'GenderAge_Male 55 to 64', \n",
    "                  'GenderAge_Male 65 to 74']]\n",
    "    \n",
    "    \n",
    "    \n",
    "XRace = dtt[['Race_Black','Race_Hispanic','Race_Other','Race_White']]\n",
    "\n",
    "XParent = dtt[['Parent_Yes']]\n",
    "\n",
    "XRegion = dtt[['Region_Northeast', 'Region_South', 'Region_West']]\n",
    "\n",
    "\n",
    "XIncome = dtt[['Income_2 - $20 to $29K', 'Income_3 - $30 to $39K',\n",
    "               'Income_4 - $40 to $59K', 'Income_5 - $60 to $74K', \n",
    "               'Income_6 - $75 to $99K', 'Income_7 - $100 to $149K', \n",
    "               'Income_8 - $150 to $199K', 'Income_9 - $200K+', 'Income_Prefer not to answer']]\n",
    "\n",
    "XEmpl = dtt[['Employment_2 - Part time', \n",
    "             'Employment_3 - Retired', 'Employment_4 - Not employed']]\n",
    "\n",
    "\n",
    "XEdu = dtt[['Education_2 - HS Grad', 'Education_3 - Some coll', \n",
    "            'Education_4 - Coll Grad', 'Education_5 - Some Post-grad', 'Education_6 - Post-grad', \n",
    "            'Education_7 - Prefer not to answer']]\n",
    "\n",
    "\n",
    "XMar = dtt[['Marital_Status_Married', 'Marital_Status_Single']]\n",
    "\n",
    "XPercent = dtt[['Buy_percent', 'Rent_Disc_Percent', 'Rent_Digital_Percent']]\n",
    "\n",
    "XMethod = dtt[['Total Bought', 'Total Discs Rented', 'Total Digital Rented']]\n",
    "\n",
    "XAll = pd.concat([XGender, XAge_Breaks, XRace, XRegion, XParent],axis=1)"
   ]
  },
  {
   "cell_type": "code",
   "execution_count": 26,
   "metadata": {
    "collapsed": false
   },
   "outputs": [],
   "source": [
    "Buy_percent = dtt[['Buy_percent']]\n",
    "\n",
    "Rent_Disc_Percent = dtt[['Rent_Disc_Percent']]\n",
    "\n",
    "Rent_Digital_Percent = dtt[['Rent_Digital_Percent']]"
   ]
  },
  {
   "cell_type": "markdown",
   "metadata": {},
   "source": [
    "## The  Model"
   ]
  },
  {
   "cell_type": "code",
   "execution_count": 27,
   "metadata": {
    "collapsed": false
   },
   "outputs": [
    {
     "name": "stdout",
     "output_type": "stream",
     "text": [
      "P Values: [  2.99300779e-01   2.16749544e-01   1.41698889e-01   2.80913513e-01\n",
      "   9.60156335e-04   1.32946165e-03   9.36924572e-01   8.26199328e-03\n",
      "   4.14593308e-06   2.16536361e-04   2.80761710e-01   2.29806649e-01\n",
      "   9.04890211e-02   2.98095961e-15   5.88569078e-08   1.11915493e-10\n",
      "   2.75169711e-01   2.01694013e-03   3.42073268e-04   5.23092916e-01\n",
      "   6.59295549e-05   6.77632197e-01   1.34826775e-03   5.81241253e-02\n",
      "   4.65098188e-02]\n",
      "Coefficients: [-0.02655745 -1.25706687 -0.71330881 -3.3662142  -5.23529094 -7.2972026\n",
      "  0.20194269 -4.7376272   2.77241702  1.14016225 -3.8850579  -3.73591502\n",
      " -5.97432876 -7.38935123  1.95066473  2.76417506 -2.21953662 -0.94095542\n",
      " -4.18953755  3.7681255   4.4343036   4.48863452  0.85782708  0.77072802\n",
      "  0.27847256]\n",
      "y-intercept: 17.277309613\n",
      "R-Squared: 0.0923150263145\n"
     ]
    },
    {
     "data": {
      "text/plain": [
       "LinearRegression(copy_X=True, fit_intercept=True, n_jobs=1, normalize=False)"
      ]
     },
     "execution_count": 27,
     "metadata": {},
     "output_type": "execute_result"
    },
    {
     "data": {
      "image/png": "[encoded data removed]",
      "text/plain": [
       "<matplotlib.figure.Figure at 0xe1d5208>"
      ]
     },
     "metadata": {},
     "output_type": "display_data"
    }
   ],
   "source": [
    "X = pd.concat([XGenderAge, Buy_percent, XParent, Rent_Digital_Percent, XEmpl, XRace, XMar], axis=1)\n",
    "\n",
    "model = linear_model.LinearRegression()\n",
    "\n",
    "get_linear_model_metrics(X,dtt['Total_Paid_HE_Movies'],model)"
   ]
  },
  {
   "cell_type": "markdown",
   "metadata": {},
   "source": [
    "# Key Measures by Demographics"
   ]
  },
  {
   "cell_type": "code",
   "execution_count": 28,
   "metadata": {
    "collapsed": true
   },
   "outputs": [],
   "source": [
    "Cons_Meas_wTot = ['Total_Paid_HE_Movies','Total Bought','Total Discs Rented',\n",
    "                  'Total Digital Rented']\n",
    "\n",
    "Cons_Meas_noTot = ['Total Bought','Total Discs Rented','Total Digital Rented']"
   ]
  },
  {
   "cell_type": "markdown",
   "metadata": {},
   "source": [
    "### Consumption by Gender"
   ]
  },
  {
   "cell_type": "code",
   "execution_count": 29,
   "metadata": {
    "collapsed": false
   },
   "outputs": [
    {
     "data": {
      "text/html": [
       "<div>\n",
       "<style>\n",
       "    .dataframe thead tr:only-child th {\n",
       "        text-align: right;\n",
       "    }\n",
       "\n",
       "    .dataframe thead th {\n",
       "        text-align: left;\n",
       "    }\n",
       "\n",
       "    .dataframe tbody tr th {\n",
       "        vertical-align: top;\n",
       "    }\n",
       "</style>\n",
       "<table border=\"1\" class=\"dataframe\">\n",
       "  <thead>\n",
       "    <tr style=\"text-align: right;\">\n",
       "      <th></th>\n",
       "      <th>Total_Paid_HE_Movies</th>\n",
       "      <th>Total Bought</th>\n",
       "      <th>Total Discs Rented</th>\n",
       "      <th>Total Digital Rented</th>\n",
       "    </tr>\n",
       "    <tr>\n",
       "      <th>Gender</th>\n",
       "      <th></th>\n",
       "      <th></th>\n",
       "      <th></th>\n",
       "      <th></th>\n",
       "    </tr>\n",
       "  </thead>\n",
       "  <tbody>\n",
       "    <tr>\n",
       "      <th>Female</th>\n",
       "      <td>15.535457</td>\n",
       "      <td>3.151079</td>\n",
       "      <td>3.685509</td>\n",
       "      <td>8.698869</td>\n",
       "    </tr>\n",
       "    <tr>\n",
       "      <th>Male</th>\n",
       "      <td>16.768908</td>\n",
       "      <td>4.050420</td>\n",
       "      <td>4.014706</td>\n",
       "      <td>8.703782</td>\n",
       "    </tr>\n",
       "  </tbody>\n",
       "</table>\n",
       "</div>"
      ],
      "text/plain": [
       "        Total_Paid_HE_Movies  Total Bought  Total Discs Rented  \\\n",
       "Gender                                                           \n",
       "Female             15.535457      3.151079            3.685509   \n",
       "Male               16.768908      4.050420            4.014706   \n",
       "\n",
       "        Total Digital Rented  \n",
       "Gender                        \n",
       "Female              8.698869  \n",
       "Male                8.703782  "
      ]
     },
     "execution_count": 29,
     "metadata": {},
     "output_type": "execute_result"
    }
   ],
   "source": [
    "dtt.groupby(dtt.Gender)[Cons_Meas_wTot].mean()"
   ]
  },
  {
   "cell_type": "code",
   "execution_count": 30,
   "metadata": {
    "collapsed": false
   },
   "outputs": [
    {
     "data": {
      "text/plain": [
       "<matplotlib.axes._subplots.AxesSubplot at 0xe59a908>"
      ]
     },
     "execution_count": 30,
     "metadata": {},
     "output_type": "execute_result"
    },
    {
     "data": {
      "image/png": "[encoded data removed]",
      "text/plain": [
       "<matplotlib.figure.Figure at 0xe644630>"
      ]
     },
     "metadata": {},
     "output_type": "display_data"
    }
   ],
   "source": [
    "gby_gender = dtt.groupby(dtt.Gender)[Cons_Meas_noTot].mean()\n",
    "gby_gender.plot(kind='bar',stacked=True,title = \"Average Consumption by Gender\")"
   ]
  },
  {
   "cell_type": "code",
   "execution_count": 31,
   "metadata": {
    "collapsed": false
   },
   "outputs": [
    {
     "data": {
      "text/plain": [
       "<matplotlib.axes._subplots.AxesSubplot at 0xe71ca20>"
      ]
     },
     "execution_count": 31,
     "metadata": {},
     "output_type": "execute_result"
    },
    {
     "data": {
      "image/png": "[encoded data removed]",
      "text/plain": [
       "<matplotlib.figure.Figure at 0xe93ab38>"
      ]
     },
     "metadata": {},
     "output_type": "display_data"
    }
   ],
   "source": [
    "gby_gender = dtt.groupby(dtt.Gender)[Cons_Meas_noTot].mean()\n",
    "gby_gender.plot(kind='bar',stacked=False,title = \"Average Consumption by Gender\")"
   ]
  },
  {
   "cell_type": "markdown",
   "metadata": {},
   "source": [
    "### Consumption by Age Breaks"
   ]
  },
  {
   "cell_type": "code",
   "execution_count": 32,
   "metadata": {
    "collapsed": false
   },
   "outputs": [
    {
     "data": {
      "text/html": [
       "<div>\n",
       "<style>\n",
       "    .dataframe thead tr:only-child th {\n",
       "        text-align: right;\n",
       "    }\n",
       "\n",
       "    .dataframe thead th {\n",
       "        text-align: left;\n",
       "    }\n",
       "\n",
       "    .dataframe tbody tr th {\n",
       "        vertical-align: top;\n",
       "    }\n",
       "</style>\n",
       "<table border=\"1\" class=\"dataframe\">\n",
       "  <thead>\n",
       "    <tr style=\"text-align: right;\">\n",
       "      <th></th>\n",
       "      <th>Total_Paid_HE_Movies</th>\n",
       "      <th>Total Bought</th>\n",
       "      <th>Total Discs Rented</th>\n",
       "      <th>Total Digital Rented</th>\n",
       "    </tr>\n",
       "    <tr>\n",
       "      <th>Age_Breaks</th>\n",
       "      <th></th>\n",
       "      <th></th>\n",
       "      <th></th>\n",
       "      <th></th>\n",
       "    </tr>\n",
       "  </thead>\n",
       "  <tbody>\n",
       "    <tr>\n",
       "      <th>12 to 17</th>\n",
       "      <td>16.028736</td>\n",
       "      <td>3.321839</td>\n",
       "      <td>4.017241</td>\n",
       "      <td>8.689655</td>\n",
       "    </tr>\n",
       "    <tr>\n",
       "      <th>18 to 24</th>\n",
       "      <td>15.015385</td>\n",
       "      <td>3.553846</td>\n",
       "      <td>2.888462</td>\n",
       "      <td>8.573077</td>\n",
       "    </tr>\n",
       "    <tr>\n",
       "      <th>25 to 34</th>\n",
       "      <td>19.552198</td>\n",
       "      <td>4.961538</td>\n",
       "      <td>4.129121</td>\n",
       "      <td>10.461538</td>\n",
       "    </tr>\n",
       "    <tr>\n",
       "      <th>35 to 44</th>\n",
       "      <td>19.269231</td>\n",
       "      <td>4.272189</td>\n",
       "      <td>4.656805</td>\n",
       "      <td>10.340237</td>\n",
       "    </tr>\n",
       "    <tr>\n",
       "      <th>45 to 54</th>\n",
       "      <td>14.893733</td>\n",
       "      <td>3.313351</td>\n",
       "      <td>3.476839</td>\n",
       "      <td>8.103542</td>\n",
       "    </tr>\n",
       "    <tr>\n",
       "      <th>55 to 64</th>\n",
       "      <td>13.156250</td>\n",
       "      <td>2.736111</td>\n",
       "      <td>3.770833</td>\n",
       "      <td>6.649306</td>\n",
       "    </tr>\n",
       "    <tr>\n",
       "      <th>65 to 74</th>\n",
       "      <td>11.208955</td>\n",
       "      <td>1.238806</td>\n",
       "      <td>3.873134</td>\n",
       "      <td>6.097015</td>\n",
       "    </tr>\n",
       "  </tbody>\n",
       "</table>\n",
       "</div>"
      ],
      "text/plain": [
       "            Total_Paid_HE_Movies  Total Bought  Total Discs Rented  \\\n",
       "Age_Breaks                                                           \n",
       "12 to 17               16.028736      3.321839            4.017241   \n",
       "18 to 24               15.015385      3.553846            2.888462   \n",
       "25 to 34               19.552198      4.961538            4.129121   \n",
       "35 to 44               19.269231      4.272189            4.656805   \n",
       "45 to 54               14.893733      3.313351            3.476839   \n",
       "55 to 64               13.156250      2.736111            3.770833   \n",
       "65 to 74               11.208955      1.238806            3.873134   \n",
       "\n",
       "            Total Digital Rented  \n",
       "Age_Breaks                        \n",
       "12 to 17                8.689655  \n",
       "18 to 24                8.573077  \n",
       "25 to 34               10.461538  \n",
       "35 to 44               10.340237  \n",
       "45 to 54                8.103542  \n",
       "55 to 64                6.649306  \n",
       "65 to 74                6.097015  "
      ]
     },
     "execution_count": 32,
     "metadata": {},
     "output_type": "execute_result"
    }
   ],
   "source": [
    "dtt.groupby(dtt.Age_Breaks)[Cons_Meas_wTot].mean()"
   ]
  },
  {
   "cell_type": "code",
   "execution_count": 33,
   "metadata": {
    "collapsed": false
   },
   "outputs": [
    {
     "data": {
      "text/plain": [
       "<matplotlib.axes._subplots.AxesSubplot at 0xe4d9710>"
      ]
     },
     "execution_count": 33,
     "metadata": {},
     "output_type": "execute_result"
    },
    {
     "data": {
      "image/png": "[encoded data removed]",
      "text/plain": [
       "<matplotlib.figure.Figure at 0xd5cb4a8>"
      ]
     },
     "metadata": {},
     "output_type": "display_data"
    }
   ],
   "source": [
    "gby_age = dtt.groupby(dtt.Age_Breaks)[Cons_Meas_noTot].mean()\n",
    "gby_age.plot(kind = 'bar', stacked = True, title = 'Average Consumption by Age')"
   ]
  },
  {
   "cell_type": "code",
   "execution_count": 34,
   "metadata": {
    "collapsed": false
   },
   "outputs": [
    {
     "data": {
      "text/plain": [
       "<matplotlib.axes._subplots.AxesSubplot at 0xe7d2da0>"
      ]
     },
     "execution_count": 34,
     "metadata": {},
     "output_type": "execute_result"
    },
    {
     "data": {
      "image/png": "[encoded data removed]",
      "text/plain": [
       "<matplotlib.figure.Figure at 0xe681f60>"
      ]
     },
     "metadata": {},
     "output_type": "display_data"
    }
   ],
   "source": [
    "gby_age = dtt.groupby(dtt.Age_Breaks)[Cons_Meas_noTot].mean()\n",
    "gby_age.plot(kind = 'bar', stacked = False, title = 'Average Consumption by Age')"
   ]
  },
  {
   "cell_type": "markdown",
   "metadata": {},
   "source": [
    "### Consumption by Race"
   ]
  },
  {
   "cell_type": "code",
   "execution_count": 35,
   "metadata": {
    "collapsed": false
   },
   "outputs": [
    {
     "data": {
      "text/html": [
       "<div>\n",
       "<style>\n",
       "    .dataframe thead tr:only-child th {\n",
       "        text-align: right;\n",
       "    }\n",
       "\n",
       "    .dataframe thead th {\n",
       "        text-align: left;\n",
       "    }\n",
       "\n",
       "    .dataframe tbody tr th {\n",
       "        vertical-align: top;\n",
       "    }\n",
       "</style>\n",
       "<table border=\"1\" class=\"dataframe\">\n",
       "  <thead>\n",
       "    <tr style=\"text-align: right;\">\n",
       "      <th></th>\n",
       "      <th>Total_Paid_HE_Movies</th>\n",
       "      <th>Total Bought</th>\n",
       "      <th>Total Discs Rented</th>\n",
       "      <th>Total Digital Rented</th>\n",
       "    </tr>\n",
       "    <tr>\n",
       "      <th>Race</th>\n",
       "      <th></th>\n",
       "      <th></th>\n",
       "      <th></th>\n",
       "      <th></th>\n",
       "    </tr>\n",
       "  </thead>\n",
       "  <tbody>\n",
       "    <tr>\n",
       "      <th>Asian</th>\n",
       "      <td>14.287356</td>\n",
       "      <td>3.517241</td>\n",
       "      <td>3.517241</td>\n",
       "      <td>7.252874</td>\n",
       "    </tr>\n",
       "    <tr>\n",
       "      <th>Black</th>\n",
       "      <td>16.890110</td>\n",
       "      <td>4.236264</td>\n",
       "      <td>3.186813</td>\n",
       "      <td>9.467033</td>\n",
       "    </tr>\n",
       "    <tr>\n",
       "      <th>Hispanic</th>\n",
       "      <td>19.531646</td>\n",
       "      <td>4.420886</td>\n",
       "      <td>5.367089</td>\n",
       "      <td>9.743671</td>\n",
       "    </tr>\n",
       "    <tr>\n",
       "      <th>Other</th>\n",
       "      <td>17.125000</td>\n",
       "      <td>3.562500</td>\n",
       "      <td>4.291667</td>\n",
       "      <td>9.270833</td>\n",
       "    </tr>\n",
       "    <tr>\n",
       "      <th>White</th>\n",
       "      <td>15.301084</td>\n",
       "      <td>3.310372</td>\n",
       "      <td>3.575851</td>\n",
       "      <td>8.414861</td>\n",
       "    </tr>\n",
       "  </tbody>\n",
       "</table>\n",
       "</div>"
      ],
      "text/plain": [
       "          Total_Paid_HE_Movies  Total Bought  Total Discs Rented  \\\n",
       "Race                                                               \n",
       "Asian                14.287356      3.517241            3.517241   \n",
       "Black                16.890110      4.236264            3.186813   \n",
       "Hispanic             19.531646      4.420886            5.367089   \n",
       "Other                17.125000      3.562500            4.291667   \n",
       "White                15.301084      3.310372            3.575851   \n",
       "\n",
       "          Total Digital Rented  \n",
       "Race                            \n",
       "Asian                 7.252874  \n",
       "Black                 9.467033  \n",
       "Hispanic              9.743671  \n",
       "Other                 9.270833  \n",
       "White                 8.414861  "
      ]
     },
     "execution_count": 35,
     "metadata": {},
     "output_type": "execute_result"
    }
   ],
   "source": [
    "dtt.groupby(dtt.Race)[Cons_Meas_wTot].mean()"
   ]
  },
  {
   "cell_type": "code",
   "execution_count": 36,
   "metadata": {
    "collapsed": false
   },
   "outputs": [
    {
     "data": {
      "text/plain": [
       "<matplotlib.axes._subplots.AxesSubplot at 0xeecff28>"
      ]
     },
     "execution_count": 36,
     "metadata": {},
     "output_type": "execute_result"
    },
    {
     "data": {
      "image/png": "[encoded data removed]",
      "text/plain": [
       "<matplotlib.figure.Figure at 0xe956e10>"
      ]
     },
     "metadata": {},
     "output_type": "display_data"
    }
   ],
   "source": [
    "gby_race = dtt.groupby(dtt.Race)[Cons_Meas_noTot].mean()\n",
    "gby_race.plot(kind = 'bar', stacked = True, title = 'Average Consumption by Race')"
   ]
  },
  {
   "cell_type": "code",
   "execution_count": 37,
   "metadata": {
    "collapsed": false
   },
   "outputs": [
    {
     "data": {
      "text/plain": [
       "<matplotlib.axes._subplots.AxesSubplot at 0xefaa7b8>"
      ]
     },
     "execution_count": 37,
     "metadata": {},
     "output_type": "execute_result"
    },
    {
     "data": {
      "image/png": "[encoded data removed]",
      "text/plain": [
       "<matplotlib.figure.Figure at 0xe956940>"
      ]
     },
     "metadata": {},
     "output_type": "display_data"
    }
   ],
   "source": [
    "gby_race = dtt.groupby(dtt.Race)[Cons_Meas_noTot].mean()\n",
    "gby_race.plot(kind = 'bar', stacked = False, title = 'Average Consumption by Race')"
   ]
  },
  {
   "cell_type": "markdown",
   "metadata": {},
   "source": [
    "### Consumption by Employment Status"
   ]
  },
  {
   "cell_type": "code",
   "execution_count": 38,
   "metadata": {
    "collapsed": false
   },
   "outputs": [
    {
     "data": {
      "text/html": [
       "<div>\n",
       "<style>\n",
       "    .dataframe thead tr:only-child th {\n",
       "        text-align: right;\n",
       "    }\n",
       "\n",
       "    .dataframe thead th {\n",
       "        text-align: left;\n",
       "    }\n",
       "\n",
       "    .dataframe tbody tr th {\n",
       "        vertical-align: top;\n",
       "    }\n",
       "</style>\n",
       "<table border=\"1\" class=\"dataframe\">\n",
       "  <thead>\n",
       "    <tr style=\"text-align: right;\">\n",
       "      <th></th>\n",
       "      <th>Total_Paid_HE_Movies</th>\n",
       "      <th>Total Bought</th>\n",
       "      <th>Total Discs Rented</th>\n",
       "      <th>Total Digital Rented</th>\n",
       "    </tr>\n",
       "    <tr>\n",
       "      <th>Employment</th>\n",
       "      <th></th>\n",
       "      <th></th>\n",
       "      <th></th>\n",
       "      <th></th>\n",
       "    </tr>\n",
       "  </thead>\n",
       "  <tbody>\n",
       "    <tr>\n",
       "      <th>1 - Full time</th>\n",
       "      <td>18.290389</td>\n",
       "      <td>4.309816</td>\n",
       "      <td>4.423313</td>\n",
       "      <td>9.557260</td>\n",
       "    </tr>\n",
       "    <tr>\n",
       "      <th>2 - Part time</th>\n",
       "      <td>15.083665</td>\n",
       "      <td>3.446215</td>\n",
       "      <td>3.326693</td>\n",
       "      <td>8.310757</td>\n",
       "    </tr>\n",
       "    <tr>\n",
       "      <th>3 - Retired</th>\n",
       "      <td>12.918552</td>\n",
       "      <td>1.909502</td>\n",
       "      <td>3.909502</td>\n",
       "      <td>7.099548</td>\n",
       "    </tr>\n",
       "    <tr>\n",
       "      <th>4 - Not employed</th>\n",
       "      <td>13.791579</td>\n",
       "      <td>2.989474</td>\n",
       "      <td>2.911579</td>\n",
       "      <td>7.890526</td>\n",
       "    </tr>\n",
       "  </tbody>\n",
       "</table>\n",
       "</div>"
      ],
      "text/plain": [
       "                  Total_Paid_HE_Movies  Total Bought  Total Discs Rented  \\\n",
       "Employment                                                                 \n",
       "1 - Full time                18.290389      4.309816            4.423313   \n",
       "2 - Part time                15.083665      3.446215            3.326693   \n",
       "3 - Retired                  12.918552      1.909502            3.909502   \n",
       "4 - Not employed             13.791579      2.989474            2.911579   \n",
       "\n",
       "                  Total Digital Rented  \n",
       "Employment                              \n",
       "1 - Full time                 9.557260  \n",
       "2 - Part time                 8.310757  \n",
       "3 - Retired                   7.099548  \n",
       "4 - Not employed              7.890526  "
      ]
     },
     "execution_count": 38,
     "metadata": {},
     "output_type": "execute_result"
    }
   ],
   "source": [
    "dtt.groupby(dtt.Employment)[Cons_Meas_wTot].mean()"
   ]
  },
  {
   "cell_type": "code",
   "execution_count": 39,
   "metadata": {
    "collapsed": false
   },
   "outputs": [
    {
     "data": {
      "text/plain": [
       "<matplotlib.axes._subplots.AxesSubplot at 0x10b665f8>"
      ]
     },
     "execution_count": 39,
     "metadata": {},
     "output_type": "execute_result"
    },
    {
     "data": {
      "image/png": "[encoded data removed]",
      "text/plain": [
       "<matplotlib.figure.Figure at 0xeebfb38>"
      ]
     },
     "metadata": {},
     "output_type": "display_data"
    }
   ],
   "source": [
    "gby_emply = dtt.groupby(dtt.Employment)[Cons_Meas_noTot].mean()\n",
    "gby_emply.plot(kind = 'bar', stacked = True, title = 'Average Consumption by Employment')"
   ]
  },
  {
   "cell_type": "code",
   "execution_count": 40,
   "metadata": {
    "collapsed": false
   },
   "outputs": [
    {
     "data": {
      "text/plain": [
       "<matplotlib.axes._subplots.AxesSubplot at 0x10de8d68>"
      ]
     },
     "execution_count": 40,
     "metadata": {},
     "output_type": "execute_result"
    },
    {
     "data": {
      "image/png": "[encoded data removed]",
      "text/plain": [
       "<matplotlib.figure.Figure at 0xea20e10>"
      ]
     },
     "metadata": {},
     "output_type": "display_data"
    }
   ],
   "source": [
    "gby_emply = dtt.groupby(dtt.Employment)[Cons_Meas_noTot].mean()\n",
    "gby_emply.plot(kind = 'bar', stacked = False, title = 'Average Consumption by Employment')"
   ]
  },
  {
   "cell_type": "markdown",
   "metadata": {},
   "source": [
    "### Consumption by Education"
   ]
  },
  {
   "cell_type": "code",
   "execution_count": 41,
   "metadata": {
    "collapsed": false
   },
   "outputs": [
    {
     "data": {
      "text/html": [
       "<div>\n",
       "<style>\n",
       "    .dataframe thead tr:only-child th {\n",
       "        text-align: right;\n",
       "    }\n",
       "\n",
       "    .dataframe thead th {\n",
       "        text-align: left;\n",
       "    }\n",
       "\n",
       "    .dataframe tbody tr th {\n",
       "        vertical-align: top;\n",
       "    }\n",
       "</style>\n",
       "<table border=\"1\" class=\"dataframe\">\n",
       "  <thead>\n",
       "    <tr style=\"text-align: right;\">\n",
       "      <th></th>\n",
       "      <th>Total_Paid_HE_Movies</th>\n",
       "      <th>Total Bought</th>\n",
       "      <th>Total Discs Rented</th>\n",
       "      <th>Total Digital Rented</th>\n",
       "    </tr>\n",
       "    <tr>\n",
       "      <th>Education</th>\n",
       "      <th></th>\n",
       "      <th></th>\n",
       "      <th></th>\n",
       "      <th></th>\n",
       "    </tr>\n",
       "  </thead>\n",
       "  <tbody>\n",
       "    <tr>\n",
       "      <th>1 - HS or less</th>\n",
       "      <td>13.870229</td>\n",
       "      <td>2.854962</td>\n",
       "      <td>2.923664</td>\n",
       "      <td>8.091603</td>\n",
       "    </tr>\n",
       "    <tr>\n",
       "      <th>2 - HS Grad</th>\n",
       "      <td>15.467857</td>\n",
       "      <td>3.796429</td>\n",
       "      <td>3.089286</td>\n",
       "      <td>8.582143</td>\n",
       "    </tr>\n",
       "    <tr>\n",
       "      <th>3 - Some coll</th>\n",
       "      <td>15.831325</td>\n",
       "      <td>2.975904</td>\n",
       "      <td>3.891566</td>\n",
       "      <td>8.963855</td>\n",
       "    </tr>\n",
       "    <tr>\n",
       "      <th>4 - Coll Grad</th>\n",
       "      <td>17.709677</td>\n",
       "      <td>4.480475</td>\n",
       "      <td>4.193548</td>\n",
       "      <td>9.035654</td>\n",
       "    </tr>\n",
       "    <tr>\n",
       "      <th>5 - Some Post-grad</th>\n",
       "      <td>17.278689</td>\n",
       "      <td>2.377049</td>\n",
       "      <td>4.950820</td>\n",
       "      <td>9.950820</td>\n",
       "    </tr>\n",
       "    <tr>\n",
       "      <th>6 - Post-grad</th>\n",
       "      <td>15.200000</td>\n",
       "      <td>3.451852</td>\n",
       "      <td>4.029630</td>\n",
       "      <td>7.718519</td>\n",
       "    </tr>\n",
       "    <tr>\n",
       "      <th>7 - Prefer not to answer</th>\n",
       "      <td>11.153846</td>\n",
       "      <td>3.076923</td>\n",
       "      <td>3.000000</td>\n",
       "      <td>5.076923</td>\n",
       "    </tr>\n",
       "  </tbody>\n",
       "</table>\n",
       "</div>"
      ],
      "text/plain": [
       "                          Total_Paid_HE_Movies  Total Bought  \\\n",
       "Education                                                      \n",
       "1 - HS or less                       13.870229      2.854962   \n",
       "2 - HS Grad                          15.467857      3.796429   \n",
       "3 - Some coll                        15.831325      2.975904   \n",
       "4 - Coll Grad                        17.709677      4.480475   \n",
       "5 - Some Post-grad                   17.278689      2.377049   \n",
       "6 - Post-grad                        15.200000      3.451852   \n",
       "7 - Prefer not to answer             11.153846      3.076923   \n",
       "\n",
       "                          Total Discs Rented  Total Digital Rented  \n",
       "Education                                                           \n",
       "1 - HS or less                      2.923664              8.091603  \n",
       "2 - HS Grad                         3.089286              8.582143  \n",
       "3 - Some coll                       3.891566              8.963855  \n",
       "4 - Coll Grad                       4.193548              9.035654  \n",
       "5 - Some Post-grad                  4.950820              9.950820  \n",
       "6 - Post-grad                       4.029630              7.718519  \n",
       "7 - Prefer not to answer            3.000000              5.076923  "
      ]
     },
     "execution_count": 41,
     "metadata": {},
     "output_type": "execute_result"
    }
   ],
   "source": [
    "dtt.groupby(dtt.Education)[Cons_Meas_wTot].mean()"
   ]
  },
  {
   "cell_type": "code",
   "execution_count": 42,
   "metadata": {
    "collapsed": false
   },
   "outputs": [
    {
     "data": {
      "text/plain": [
       "<matplotlib.axes._subplots.AxesSubplot at 0xe5aa630>"
      ]
     },
     "execution_count": 42,
     "metadata": {},
     "output_type": "execute_result"
    },
    {
     "data": {
      "image/png": "[encoded data removed]",
      "text/plain": [
       "<matplotlib.figure.Figure at 0xf1617b8>"
      ]
     },
     "metadata": {},
     "output_type": "display_data"
    }
   ],
   "source": [
    "gby_educ = dtt.groupby(dtt.Education)[Cons_Meas_noTot].mean()\n",
    "gby_educ = gby_educ.drop(['7 - Prefer not to answer'])\n",
    "\n",
    "gby_educ.plot(kind = 'bar', stacked = True, title = 'Average Consumption by Education')"
   ]
  },
  {
   "cell_type": "code",
   "execution_count": 43,
   "metadata": {
    "collapsed": false
   },
   "outputs": [
    {
     "data": {
      "text/plain": [
       "<matplotlib.axes._subplots.AxesSubplot at 0x114003c8>"
      ]
     },
     "execution_count": 43,
     "metadata": {},
     "output_type": "execute_result"
    },
    {
     "data": {
      "image/png": "[encoded data removed]",
      "text/plain": [
       "<matplotlib.figure.Figure at 0x113979b0>"
      ]
     },
     "metadata": {},
     "output_type": "display_data"
    }
   ],
   "source": [
    "gby_educ = dtt.groupby(dtt.Education)[Cons_Meas_noTot].mean()\n",
    "gby_educ = gby_educ.drop(['7 - Prefer not to answer'])\n",
    "gby_educ.plot(kind = 'bar', stacked = False, title = 'Average Consumption by Education')"
   ]
  },
  {
   "cell_type": "markdown",
   "metadata": {},
   "source": [
    "### Consumption by Marital Status"
   ]
  },
  {
   "cell_type": "code",
   "execution_count": 44,
   "metadata": {
    "collapsed": false
   },
   "outputs": [
    {
     "data": {
      "text/html": [
       "<div>\n",
       "<style>\n",
       "    .dataframe thead tr:only-child th {\n",
       "        text-align: right;\n",
       "    }\n",
       "\n",
       "    .dataframe thead th {\n",
       "        text-align: left;\n",
       "    }\n",
       "\n",
       "    .dataframe tbody tr th {\n",
       "        vertical-align: top;\n",
       "    }\n",
       "</style>\n",
       "<table border=\"1\" class=\"dataframe\">\n",
       "  <thead>\n",
       "    <tr style=\"text-align: right;\">\n",
       "      <th></th>\n",
       "      <th>Total_Paid_HE_Movies</th>\n",
       "      <th>Total Bought</th>\n",
       "      <th>Total Discs Rented</th>\n",
       "      <th>Total Digital Rented</th>\n",
       "    </tr>\n",
       "    <tr>\n",
       "      <th>Marital_Status</th>\n",
       "      <th></th>\n",
       "      <th></th>\n",
       "      <th></th>\n",
       "      <th></th>\n",
       "    </tr>\n",
       "  </thead>\n",
       "  <tbody>\n",
       "    <tr>\n",
       "      <th>Living with a partner</th>\n",
       "      <td>17.082192</td>\n",
       "      <td>3.616438</td>\n",
       "      <td>3.458904</td>\n",
       "      <td>10.006849</td>\n",
       "    </tr>\n",
       "    <tr>\n",
       "      <th>Married</th>\n",
       "      <td>16.836858</td>\n",
       "      <td>3.832830</td>\n",
       "      <td>4.327291</td>\n",
       "      <td>8.676737</td>\n",
       "    </tr>\n",
       "    <tr>\n",
       "      <th>Single</th>\n",
       "      <td>15.219160</td>\n",
       "      <td>3.320210</td>\n",
       "      <td>3.321522</td>\n",
       "      <td>8.577428</td>\n",
       "    </tr>\n",
       "  </tbody>\n",
       "</table>\n",
       "</div>"
      ],
      "text/plain": [
       "                       Total_Paid_HE_Movies  Total Bought  Total Discs Rented  \\\n",
       "Marital_Status                                                                  \n",
       "Living with a partner             17.082192      3.616438            3.458904   \n",
       "Married                           16.836858      3.832830            4.327291   \n",
       "Single                            15.219160      3.320210            3.321522   \n",
       "\n",
       "                       Total Digital Rented  \n",
       "Marital_Status                               \n",
       "Living with a partner             10.006849  \n",
       "Married                            8.676737  \n",
       "Single                             8.577428  "
      ]
     },
     "execution_count": 44,
     "metadata": {},
     "output_type": "execute_result"
    }
   ],
   "source": [
    "dtt.groupby(dtt.Marital_Status[dtt.Marital_Status != 'Prefer not to answer'])[Cons_Meas_wTot].mean()"
   ]
  },
  {
   "cell_type": "code",
   "execution_count": 45,
   "metadata": {
    "collapsed": false
   },
   "outputs": [
    {
     "data": {
      "text/plain": [
       "<matplotlib.axes._subplots.AxesSubplot at 0x114426d8>"
      ]
     },
     "execution_count": 45,
     "metadata": {},
     "output_type": "execute_result"
    },
    {
     "data": {
      "image/png": "[encoded data removed]",
      "text/plain": [
       "<matplotlib.figure.Figure at 0xe5aa8d0>"
      ]
     },
     "metadata": {},
     "output_type": "display_data"
    }
   ],
   "source": [
    "dtt.groupby(\n",
    "    dtt.Marital_Status[dtt.Marital_Status != 'Prefer not to answer'])[Cons_Meas_noTot].mean().plot(kind='bar',\n",
    "                                                                                                   stacked = True)"
   ]
  },
  {
   "cell_type": "code",
   "execution_count": 46,
   "metadata": {
    "collapsed": false
   },
   "outputs": [
    {
     "data": {
      "text/plain": [
       "<matplotlib.axes._subplots.AxesSubplot at 0x1163ab00>"
      ]
     },
     "execution_count": 46,
     "metadata": {},
     "output_type": "execute_result"
    },
    {
     "data": {
      "image/png": "[encoded data removed]",
      "text/plain": [
       "<matplotlib.figure.Figure at 0x1194b0f0>"
      ]
     },
     "metadata": {},
     "output_type": "display_data"
    }
   ],
   "source": [
    "dtt.groupby(\n",
    "    dtt.Marital_Status[dtt.Marital_Status != 'Prefer not to answer'])[Cons_Meas_noTot].mean().plot(kind='bar',\n",
    "                                                                                                   stacked = False)"
   ]
  },
  {
   "cell_type": "markdown",
   "metadata": {},
   "source": [
    "### Consumption by Parental status"
   ]
  },
  {
   "cell_type": "code",
   "execution_count": 47,
   "metadata": {
    "collapsed": false
   },
   "outputs": [
    {
     "data": {
      "text/html": [
       "<div>\n",
       "<style>\n",
       "    .dataframe thead tr:only-child th {\n",
       "        text-align: right;\n",
       "    }\n",
       "\n",
       "    .dataframe thead th {\n",
       "        text-align: left;\n",
       "    }\n",
       "\n",
       "    .dataframe tbody tr th {\n",
       "        vertical-align: top;\n",
       "    }\n",
       "</style>\n",
       "<table border=\"1\" class=\"dataframe\">\n",
       "  <thead>\n",
       "    <tr style=\"text-align: right;\">\n",
       "      <th></th>\n",
       "      <th>Total_Paid_HE_Movies</th>\n",
       "      <th>Total Bought</th>\n",
       "      <th>Total Discs Rented</th>\n",
       "      <th>Total Digital Rented</th>\n",
       "    </tr>\n",
       "    <tr>\n",
       "      <th>Parent</th>\n",
       "      <th></th>\n",
       "      <th></th>\n",
       "      <th></th>\n",
       "      <th></th>\n",
       "    </tr>\n",
       "  </thead>\n",
       "  <tbody>\n",
       "    <tr>\n",
       "      <th>No</th>\n",
       "      <td>14.573798</td>\n",
       "      <td>2.967662</td>\n",
       "      <td>3.332504</td>\n",
       "      <td>8.273632</td>\n",
       "    </tr>\n",
       "    <tr>\n",
       "      <th>Yes</th>\n",
       "      <td>18.781641</td>\n",
       "      <td>4.649513</td>\n",
       "      <td>4.713491</td>\n",
       "      <td>9.418637</td>\n",
       "    </tr>\n",
       "  </tbody>\n",
       "</table>\n",
       "</div>"
      ],
      "text/plain": [
       "        Total_Paid_HE_Movies  Total Bought  Total Discs Rented  \\\n",
       "Parent                                                           \n",
       "No                 14.573798      2.967662            3.332504   \n",
       "Yes                18.781641      4.649513            4.713491   \n",
       "\n",
       "        Total Digital Rented  \n",
       "Parent                        \n",
       "No                  8.273632  \n",
       "Yes                 9.418637  "
      ]
     },
     "execution_count": 47,
     "metadata": {},
     "output_type": "execute_result"
    }
   ],
   "source": [
    "dtt.groupby(dtt.Parent [(dtt.Parent == \"Yes\") | (dtt.Parent == \"No\")])[Cons_Meas_wTot].mean()"
   ]
  },
  {
   "cell_type": "code",
   "execution_count": 48,
   "metadata": {
    "collapsed": false
   },
   "outputs": [
    {
     "data": {
      "text/plain": [
       "<matplotlib.axes._subplots.AxesSubplot at 0x11723e80>"
      ]
     },
     "execution_count": 48,
     "metadata": {},
     "output_type": "execute_result"
    },
    {
     "data": {
      "image/png": "[encoded data removed]",
      "text/plain": [
       "<matplotlib.figure.Figure at 0x119fff28>"
      ]
     },
     "metadata": {},
     "output_type": "display_data"
    }
   ],
   "source": [
    "dtt.groupby(\n",
    "    dtt.Parent[(dtt.Parent == 'Yes')|(dtt.Parent == 'No')])[Cons_Meas_noTot].mean().plot(kind='bar',\n",
    "                                                                                         title = 'Consumption by Parental Status', \n",
    "                                                                                         stacked = True)"
   ]
  },
  {
   "cell_type": "code",
   "execution_count": 49,
   "metadata": {
    "collapsed": false
   },
   "outputs": [
    {
     "data": {
      "text/plain": [
       "<matplotlib.axes._subplots.AxesSubplot at 0x11d014e0>"
      ]
     },
     "execution_count": 49,
     "metadata": {},
     "output_type": "execute_result"
    },
    {
     "data": {
      "image/png": "[encoded data removed]",
      "text/plain": [
       "<matplotlib.figure.Figure at 0x1168bac8>"
      ]
     },
     "metadata": {},
     "output_type": "display_data"
    }
   ],
   "source": [
    "dtt.groupby(\n",
    "    dtt.Parent[(dtt.Parent == 'Yes')|(dtt.Parent == 'No')])[Cons_Meas_noTot].mean().plot(kind='bar',\n",
    "                                                                                         title = 'Consumption by Parental Status', \n",
    "                                                                                         stacked = False)"
   ]
  }
 ],
 "metadata": {
  "kernelspec": {
   "display_name": "Python 2",
   "language": "python",
   "name": "python2"
  },
  "language_info": {
   "codemirror_mode": {
    "name": "ipython",
    "version": 2
   },
   "file_extension": ".py",
   "mimetype": "text/x-python",
   "name": "python",
   "nbconvert_exporter": "python",
   "pygments_lexer": "ipython2",
   "version": "2.7.13"
  }
 },
 "nbformat": 4,
 "nbformat_minor": 2
}
