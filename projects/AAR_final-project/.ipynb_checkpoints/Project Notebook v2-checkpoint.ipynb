{
 "cells": [
  {
   "cell_type": "markdown",
   "metadata": {},
   "source": [
    "# Project Notebook v2"
   ]
  },
  {
   "cell_type": "markdown",
   "metadata": {},
   "source": [
    "# Notes\n",
    "    * Need to figure out how to rename empty cells for parents\n",
    "    * Need to combine disc buy and digital buy into just total buy for numbers and percents\n",
    "    * Need to figure out how to split a groupby over more than one line\n",
    "    * Need to figure out how to use compound logic/conditions in a groupby"
   ]
  },
  {
   "cell_type": "code",
   "execution_count": 1,
   "metadata": {
    "collapsed": false
   },
   "outputs": [],
   "source": [
    "%matplotlib inline\n",
    "import numpy as np\n",
    "import pandas as pd\n",
    "from matplotlib import pyplot as plt\n",
    "import seaborn as sns\n",
    "import sklearn.linear_model"
   ]
  },
  {
   "cell_type": "code",
   "execution_count": 2,
   "metadata": {
    "collapsed": false
   },
   "outputs": [
    {
     "data": {
      "text/html": [
       "<div>\n",
       "<style>\n",
       "    .dataframe thead tr:only-child th {\n",
       "        text-align: right;\n",
       "    }\n",
       "\n",
       "    .dataframe thead th {\n",
       "        text-align: left;\n",
       "    }\n",
       "\n",
       "    .dataframe tbody tr th {\n",
       "        vertical-align: top;\n",
       "    }\n",
       "</style>\n",
       "<table border=\"1\" class=\"dataframe\">\n",
       "  <thead>\n",
       "    <tr style=\"text-align: right;\">\n",
       "      <th></th>\n",
       "      <th>Gender</th>\n",
       "      <th>Age</th>\n",
       "      <th>Age_Breaks</th>\n",
       "      <th>Region2</th>\n",
       "      <th>Race</th>\n",
       "      <th>Language_Dominance</th>\n",
       "      <th>Parent</th>\n",
       "      <th>HH_Income</th>\n",
       "      <th>Employment</th>\n",
       "      <th>Education</th>\n",
       "      <th>...</th>\n",
       "      <th>Rented_Digital_iVOD</th>\n",
       "      <th>Rented_Digital_sVOD</th>\n",
       "      <th>Rented_Digital_cVOD</th>\n",
       "      <th>cqhidGroup</th>\n",
       "      <th>filter_$</th>\n",
       "      <th>ZTotal_Paid_HE_Movies</th>\n",
       "      <th>Buy_Disc_Percent</th>\n",
       "      <th>Buy_Digital_Percent</th>\n",
       "      <th>Rent_Disc_Percent</th>\n",
       "      <th>Rent_Digital_Percent</th>\n",
       "    </tr>\n",
       "    <tr>\n",
       "      <th>respid</th>\n",
       "      <th></th>\n",
       "      <th></th>\n",
       "      <th></th>\n",
       "      <th></th>\n",
       "      <th></th>\n",
       "      <th></th>\n",
       "      <th></th>\n",
       "      <th></th>\n",
       "      <th></th>\n",
       "      <th></th>\n",
       "      <th></th>\n",
       "      <th></th>\n",
       "      <th></th>\n",
       "      <th></th>\n",
       "      <th></th>\n",
       "      <th></th>\n",
       "      <th></th>\n",
       "      <th></th>\n",
       "      <th></th>\n",
       "      <th></th>\n",
       "      <th></th>\n",
       "    </tr>\n",
       "  </thead>\n",
       "  <tbody>\n",
       "    <tr>\n",
       "      <th>44</th>\n",
       "      <td>Female</td>\n",
       "      <td>20</td>\n",
       "      <td>18-24</td>\n",
       "      <td>South</td>\n",
       "      <td>Black</td>\n",
       "      <td></td>\n",
       "      <td></td>\n",
       "      <td>1 - &lt; $20K</td>\n",
       "      <td>4 - Not employed</td>\n",
       "      <td>2 - HS Grad</td>\n",
       "      <td>...</td>\n",
       "      <td>5</td>\n",
       "      <td>18</td>\n",
       "      <td>4</td>\n",
       "      <td>Gen-Pop</td>\n",
       "      <td>Selected</td>\n",
       "      <td>1.492690</td>\n",
       "      <td>0.363636</td>\n",
       "      <td>0.0</td>\n",
       "      <td>0.145455</td>\n",
       "      <td>0.490909</td>\n",
       "    </tr>\n",
       "    <tr>\n",
       "      <th>108</th>\n",
       "      <td>Male</td>\n",
       "      <td>31</td>\n",
       "      <td>25-34</td>\n",
       "      <td>Northeast</td>\n",
       "      <td>Hispanic</td>\n",
       "      <td>Only English</td>\n",
       "      <td>No</td>\n",
       "      <td>1 - &lt; $20K</td>\n",
       "      <td>4 - Not employed</td>\n",
       "      <td>2 - HS Grad</td>\n",
       "      <td>...</td>\n",
       "      <td>0</td>\n",
       "      <td>0</td>\n",
       "      <td>0</td>\n",
       "      <td>Gen-Pop</td>\n",
       "      <td>Selected</td>\n",
       "      <td>0.009386</td>\n",
       "      <td>0.157895</td>\n",
       "      <td>0.0</td>\n",
       "      <td>0.842105</td>\n",
       "      <td>0.000000</td>\n",
       "    </tr>\n",
       "    <tr>\n",
       "      <th>147</th>\n",
       "      <td>Female</td>\n",
       "      <td>19</td>\n",
       "      <td>18-24</td>\n",
       "      <td>South</td>\n",
       "      <td>White</td>\n",
       "      <td></td>\n",
       "      <td></td>\n",
       "      <td>1 - &lt; $20K</td>\n",
       "      <td>4 - Not employed</td>\n",
       "      <td>2 - HS Grad</td>\n",
       "      <td>...</td>\n",
       "      <td>0</td>\n",
       "      <td>5</td>\n",
       "      <td>0</td>\n",
       "      <td>Gen-Pop</td>\n",
       "      <td>Selected</td>\n",
       "      <td>-0.567454</td>\n",
       "      <td>0.000000</td>\n",
       "      <td>0.0</td>\n",
       "      <td>0.000000</td>\n",
       "      <td>1.000000</td>\n",
       "    </tr>\n",
       "    <tr>\n",
       "      <th>171</th>\n",
       "      <td>Female</td>\n",
       "      <td>18</td>\n",
       "      <td>18-24</td>\n",
       "      <td>Northeast</td>\n",
       "      <td>White</td>\n",
       "      <td></td>\n",
       "      <td></td>\n",
       "      <td>1 - &lt; $20K</td>\n",
       "      <td>2 - Part time</td>\n",
       "      <td>3 - Some coll</td>\n",
       "      <td>...</td>\n",
       "      <td>0</td>\n",
       "      <td>7</td>\n",
       "      <td>0</td>\n",
       "      <td>Gen-Pop</td>\n",
       "      <td>Selected</td>\n",
       "      <td>-0.485048</td>\n",
       "      <td>0.000000</td>\n",
       "      <td>0.0</td>\n",
       "      <td>0.000000</td>\n",
       "      <td>1.000000</td>\n",
       "    </tr>\n",
       "    <tr>\n",
       "      <th>174</th>\n",
       "      <td>Female</td>\n",
       "      <td>54</td>\n",
       "      <td>45-54</td>\n",
       "      <td>South</td>\n",
       "      <td>White</td>\n",
       "      <td></td>\n",
       "      <td>No</td>\n",
       "      <td>1 - &lt; $20K</td>\n",
       "      <td>4 - Not employed</td>\n",
       "      <td>2 - HS Grad</td>\n",
       "      <td>...</td>\n",
       "      <td>0</td>\n",
       "      <td>50</td>\n",
       "      <td>0</td>\n",
       "      <td>Gen-Pop</td>\n",
       "      <td>Selected</td>\n",
       "      <td>1.286676</td>\n",
       "      <td>0.000000</td>\n",
       "      <td>0.0</td>\n",
       "      <td>0.000000</td>\n",
       "      <td>1.000000</td>\n",
       "    </tr>\n",
       "  </tbody>\n",
       "</table>\n",
       "<p>5 rows × 28 columns</p>\n",
       "</div>"
      ],
      "text/plain": [
       "        Gender  Age Age_Breaks    Region2      Race Language_Dominance Parent  \\\n",
       "respid                                                                          \n",
       "44      Female   20      18-24      South     Black                             \n",
       "108       Male   31      25-34  Northeast  Hispanic       Only English     No   \n",
       "147     Female   19      18-24      South     White                             \n",
       "171     Female   18      18-24  Northeast     White                             \n",
       "174     Female   54      45-54      South     White                        No   \n",
       "\n",
       "         HH_Income        Employment      Education          ...           \\\n",
       "respid                                                       ...            \n",
       "44      1 - < $20K  4 - Not employed    2 - HS Grad          ...            \n",
       "108     1 - < $20K  4 - Not employed    2 - HS Grad          ...            \n",
       "147     1 - < $20K  4 - Not employed    2 - HS Grad          ...            \n",
       "171     1 - < $20K     2 - Part time  3 - Some coll          ...            \n",
       "174     1 - < $20K  4 - Not employed    2 - HS Grad          ...            \n",
       "\n",
       "       Rented_Digital_iVOD  Rented_Digital_sVOD  Rented_Digital_cVOD  \\\n",
       "respid                                                                 \n",
       "44                       5                   18                    4   \n",
       "108                      0                    0                    0   \n",
       "147                      0                    5                    0   \n",
       "171                      0                    7                    0   \n",
       "174                      0                   50                    0   \n",
       "\n",
       "        cqhidGroup  filter_$  ZTotal_Paid_HE_Movies  Buy_Disc_Percent  \\\n",
       "respid                                                                  \n",
       "44         Gen-Pop  Selected               1.492690          0.363636   \n",
       "108        Gen-Pop  Selected               0.009386          0.157895   \n",
       "147        Gen-Pop  Selected              -0.567454          0.000000   \n",
       "171        Gen-Pop  Selected              -0.485048          0.000000   \n",
       "174        Gen-Pop  Selected               1.286676          0.000000   \n",
       "\n",
       "        Buy_Digital_Percent  Rent_Disc_Percent  Rent_Digital_Percent  \n",
       "respid                                                                \n",
       "44                      0.0           0.145455              0.490909  \n",
       "108                     0.0           0.842105              0.000000  \n",
       "147                     0.0           0.000000              1.000000  \n",
       "171                     0.0           0.000000              1.000000  \n",
       "174                     0.0           0.000000              1.000000  \n",
       "\n",
       "[5 rows x 28 columns]"
      ]
     },
     "execution_count": 2,
     "metadata": {},
     "output_type": "execute_result"
    }
   ],
   "source": [
    "# loads in csv\n",
    "dtt = pd.read_csv(\"Data\\DTT Final Data w labels.csv\",index_col=0)\n",
    "dtt.head()"
   ]
  },
  {
   "cell_type": "code",
   "execution_count": 3,
   "metadata": {
    "collapsed": true
   },
   "outputs": [],
   "source": [
    "#Calculates all rollups and adds as columns\n",
    "\n",
    "#total movies bought on disc\n",
    "dtt['Total Discs Bought'] = (dtt['Bought_Disc_BD'] + dtt['Bought_Disc_DVD'])\n",
    "\n",
    "#total movies rented on disc\n",
    "dtt['Total Discs Rented'] = (dtt['Rented_Disc_Kiosk'] + dtt['Rented_Disc_Mail'] + dtt['Rented_Disc_Store'])\n",
    "\n",
    "#total movies rented on digital\n",
    "dtt['Total Digital Rented'] = (dtt['Rented_Digital_cVOD'] + dtt['Rented_Digital_iVOD'] + dtt['Rented_Digital_sVOD'])\n"
   ]
  },
  {
   "cell_type": "code",
   "execution_count": 4,
   "metadata": {
    "collapsed": false
   },
   "outputs": [
    {
     "name": "stdout",
     "output_type": "stream",
     "text": [
      "Gender\n",
      "Age\n",
      "Age_Breaks\n",
      "Region2\n",
      "Race\n",
      "Language_Dominance\n",
      "Parent\n",
      "HH_Income\n",
      "Employment\n",
      "Education\n",
      "Marital_Status\n",
      "Total_Paid_HE_Movies\n",
      "Bought_Disc_DVD\n",
      "Bought_Disc_BD\n",
      "Bought_Digital\n",
      "Rented_Disc_Store\n",
      "Rented_Disc_Kiosk\n",
      "Rented_Disc_Mail\n",
      "Rented_Digital_iVOD\n",
      "Rented_Digital_sVOD\n",
      "Rented_Digital_cVOD\n",
      "cqhidGroup\n",
      "filter_$\n",
      "ZTotal_Paid_HE_Movies\n",
      "Buy_Disc_Percent\n",
      "Buy_Digital_Percent\n",
      "Rent_Disc_Percent\n",
      "Rent_Digital_Percent\n",
      "Total Discs Bought\n",
      "Total Discs Rented\n",
      "Total Digital Rented\n"
     ]
    }
   ],
   "source": [
    "for x in dtt.columns.values:\n",
    "    print x"
   ]
  },
  {
   "cell_type": "markdown",
   "metadata": {},
   "source": [
    "# Key Measures by Demographics"
   ]
  },
  {
   "cell_type": "code",
   "execution_count": 5,
   "metadata": {
    "collapsed": false
   },
   "outputs": [],
   "source": [
    "Cons_Meas_wTot = ['Total_Paid_HE_Movies','Total Discs Bought','Bought_Digital','Total Discs Rented',\n",
    "                  'Total Digital Rented']\n",
    "\n",
    "Cons_Meas_noTot = ['Total Discs Bought','Bought_Digital','Total Discs Rented','Total Digital Rented']"
   ]
  },
  {
   "cell_type": "markdown",
   "metadata": {},
   "source": [
    "### Consumption by Gender"
   ]
  },
  {
   "cell_type": "code",
   "execution_count": 6,
   "metadata": {
    "collapsed": false
   },
   "outputs": [
    {
     "data": {
      "text/html": [
       "<div>\n",
       "<style>\n",
       "    .dataframe thead tr:only-child th {\n",
       "        text-align: right;\n",
       "    }\n",
       "\n",
       "    .dataframe thead th {\n",
       "        text-align: left;\n",
       "    }\n",
       "\n",
       "    .dataframe tbody tr th {\n",
       "        vertical-align: top;\n",
       "    }\n",
       "</style>\n",
       "<table border=\"1\" class=\"dataframe\">\n",
       "  <thead>\n",
       "    <tr style=\"text-align: right;\">\n",
       "      <th></th>\n",
       "      <th>Total_Paid_HE_Movies</th>\n",
       "      <th>Total Discs Bought</th>\n",
       "      <th>Bought_Digital</th>\n",
       "      <th>Total Discs Rented</th>\n",
       "      <th>Total Digital Rented</th>\n",
       "    </tr>\n",
       "    <tr>\n",
       "      <th>Gender</th>\n",
       "      <th></th>\n",
       "      <th></th>\n",
       "      <th></th>\n",
       "      <th></th>\n",
       "      <th></th>\n",
       "    </tr>\n",
       "  </thead>\n",
       "  <tbody>\n",
       "    <tr>\n",
       "      <th>Female</th>\n",
       "      <td>15.535457</td>\n",
       "      <td>2.483042</td>\n",
       "      <td>0.668037</td>\n",
       "      <td>3.685509</td>\n",
       "      <td>8.698869</td>\n",
       "    </tr>\n",
       "    <tr>\n",
       "      <th>Male</th>\n",
       "      <td>16.768908</td>\n",
       "      <td>3.269958</td>\n",
       "      <td>0.780462</td>\n",
       "      <td>4.014706</td>\n",
       "      <td>8.703782</td>\n",
       "    </tr>\n",
       "  </tbody>\n",
       "</table>\n",
       "</div>"
      ],
      "text/plain": [
       "        Total_Paid_HE_Movies  Total Discs Bought  Bought_Digital  \\\n",
       "Gender                                                             \n",
       "Female             15.535457            2.483042        0.668037   \n",
       "Male               16.768908            3.269958        0.780462   \n",
       "\n",
       "        Total Discs Rented  Total Digital Rented  \n",
       "Gender                                            \n",
       "Female            3.685509              8.698869  \n",
       "Male              4.014706              8.703782  "
      ]
     },
     "execution_count": 6,
     "metadata": {},
     "output_type": "execute_result"
    }
   ],
   "source": [
    "dtt.groupby(dtt.Gender)[Cons_Meas_wTot].mean()"
   ]
  },
  {
   "cell_type": "code",
   "execution_count": 7,
   "metadata": {
    "collapsed": false
   },
   "outputs": [
    {
     "data": {
      "text/plain": [
       "<matplotlib.axes._subplots.AxesSubplot at 0xc7b1128>"
      ]
     },
     "execution_count": 7,
     "metadata": {},
     "output_type": "execute_result"
    },
    {
     "data": {
      "image/png": "[encoded data removed]",
      "text/plain": [
       "<matplotlib.figure.Figure at 0xc7b1780>"
      ]
     },
     "metadata": {},
     "output_type": "display_data"
    }
   ],
   "source": [
    "gby_gender = dtt.groupby(dtt.Gender)[Cons_Meas_noTot].mean()\n",
    "gby_gender.plot(kind='bar',stacked=True,title = \"Average Consumption by Gender\")"
   ]
  },
  {
   "cell_type": "code",
   "execution_count": 8,
   "metadata": {
    "collapsed": false
   },
   "outputs": [
    {
     "data": {
      "text/plain": [
       "<matplotlib.axes._subplots.AxesSubplot at 0xcacd780>"
      ]
     },
     "execution_count": 8,
     "metadata": {},
     "output_type": "execute_result"
    },
    {
     "data": {
      "image/png": "[encoded data removed]",
      "text/plain": [
       "<matplotlib.figure.Figure at 0xcaaebe0>"
      ]
     },
     "metadata": {},
     "output_type": "display_data"
    }
   ],
   "source": [
    "gby_gender = dtt.groupby(dtt.Gender)[Cons_Meas_noTot].mean()\n",
    "gby_gender.plot(kind='bar',stacked=False,title = \"Average Consumption by Gender\")"
   ]
  },
  {
   "cell_type": "markdown",
   "metadata": {},
   "source": [
    "### Consumption by Age Breaks"
   ]
  },
  {
   "cell_type": "code",
   "execution_count": 9,
   "metadata": {
    "collapsed": false
   },
   "outputs": [
    {
     "data": {
      "text/html": [
       "<div>\n",
       "<style>\n",
       "    .dataframe thead tr:only-child th {\n",
       "        text-align: right;\n",
       "    }\n",
       "\n",
       "    .dataframe thead th {\n",
       "        text-align: left;\n",
       "    }\n",
       "\n",
       "    .dataframe tbody tr th {\n",
       "        vertical-align: top;\n",
       "    }\n",
       "</style>\n",
       "<table border=\"1\" class=\"dataframe\">\n",
       "  <thead>\n",
       "    <tr style=\"text-align: right;\">\n",
       "      <th></th>\n",
       "      <th>Total_Paid_HE_Movies</th>\n",
       "      <th>Total Discs Bought</th>\n",
       "      <th>Bought_Digital</th>\n",
       "      <th>Total Discs Rented</th>\n",
       "      <th>Total Digital Rented</th>\n",
       "    </tr>\n",
       "    <tr>\n",
       "      <th>Age_Breaks</th>\n",
       "      <th></th>\n",
       "      <th></th>\n",
       "      <th></th>\n",
       "      <th></th>\n",
       "      <th></th>\n",
       "    </tr>\n",
       "  </thead>\n",
       "  <tbody>\n",
       "    <tr>\n",
       "      <th>12-17</th>\n",
       "      <td>16.028736</td>\n",
       "      <td>2.436782</td>\n",
       "      <td>0.885057</td>\n",
       "      <td>4.017241</td>\n",
       "      <td>8.689655</td>\n",
       "    </tr>\n",
       "    <tr>\n",
       "      <th>18-24</th>\n",
       "      <td>15.015385</td>\n",
       "      <td>2.784615</td>\n",
       "      <td>0.769231</td>\n",
       "      <td>2.888462</td>\n",
       "      <td>8.573077</td>\n",
       "    </tr>\n",
       "    <tr>\n",
       "      <th>25-34</th>\n",
       "      <td>19.552198</td>\n",
       "      <td>3.945055</td>\n",
       "      <td>1.016484</td>\n",
       "      <td>4.129121</td>\n",
       "      <td>10.461538</td>\n",
       "    </tr>\n",
       "    <tr>\n",
       "      <th>35-44</th>\n",
       "      <td>19.269231</td>\n",
       "      <td>3.186391</td>\n",
       "      <td>1.085799</td>\n",
       "      <td>4.656805</td>\n",
       "      <td>10.340237</td>\n",
       "    </tr>\n",
       "    <tr>\n",
       "      <th>45-54</th>\n",
       "      <td>14.893733</td>\n",
       "      <td>2.735695</td>\n",
       "      <td>0.577657</td>\n",
       "      <td>3.476839</td>\n",
       "      <td>8.103542</td>\n",
       "    </tr>\n",
       "    <tr>\n",
       "      <th>55-64</th>\n",
       "      <td>13.156250</td>\n",
       "      <td>2.437500</td>\n",
       "      <td>0.298611</td>\n",
       "      <td>3.770833</td>\n",
       "      <td>6.649306</td>\n",
       "    </tr>\n",
       "    <tr>\n",
       "      <th>65-74</th>\n",
       "      <td>11.208955</td>\n",
       "      <td>1.208955</td>\n",
       "      <td>0.029851</td>\n",
       "      <td>3.873134</td>\n",
       "      <td>6.097015</td>\n",
       "    </tr>\n",
       "  </tbody>\n",
       "</table>\n",
       "</div>"
      ],
      "text/plain": [
       "            Total_Paid_HE_Movies  Total Discs Bought  Bought_Digital  \\\n",
       "Age_Breaks                                                             \n",
       "12-17                  16.028736            2.436782        0.885057   \n",
       "18-24                  15.015385            2.784615        0.769231   \n",
       "25-34                  19.552198            3.945055        1.016484   \n",
       "35-44                  19.269231            3.186391        1.085799   \n",
       "45-54                  14.893733            2.735695        0.577657   \n",
       "55-64                  13.156250            2.437500        0.298611   \n",
       "65-74                  11.208955            1.208955        0.029851   \n",
       "\n",
       "            Total Discs Rented  Total Digital Rented  \n",
       "Age_Breaks                                            \n",
       "12-17                 4.017241              8.689655  \n",
       "18-24                 2.888462              8.573077  \n",
       "25-34                 4.129121             10.461538  \n",
       "35-44                 4.656805             10.340237  \n",
       "45-54                 3.476839              8.103542  \n",
       "55-64                 3.770833              6.649306  \n",
       "65-74                 3.873134              6.097015  "
      ]
     },
     "execution_count": 9,
     "metadata": {},
     "output_type": "execute_result"
    }
   ],
   "source": [
    "dtt.groupby(dtt.Age_Breaks)[Cons_Meas_wTot].mean()"
   ]
  },
  {
   "cell_type": "code",
   "execution_count": 10,
   "metadata": {
    "collapsed": false
   },
   "outputs": [
    {
     "data": {
      "text/plain": [
       "<matplotlib.axes._subplots.AxesSubplot at 0xdc01748>"
      ]
     },
     "execution_count": 10,
     "metadata": {},
     "output_type": "execute_result"
    },
    {
     "data": {
      "image/png": "[encoded data removed]",
      "text/plain": [
       "<matplotlib.figure.Figure at 0xdadfba8>"
      ]
     },
     "metadata": {},
     "output_type": "display_data"
    }
   ],
   "source": [
    "gby_age = dtt.groupby(dtt.Age_Breaks)[Cons_Meas_noTot].mean()\n",
    "gby_age.plot(kind = 'bar', stacked = True, title = 'Average Consumption by Age')"
   ]
  },
  {
   "cell_type": "code",
   "execution_count": 11,
   "metadata": {
    "collapsed": false
   },
   "outputs": [
    {
     "data": {
      "text/plain": [
       "<matplotlib.axes._subplots.AxesSubplot at 0xcc3e160>"
      ]
     },
     "execution_count": 11,
     "metadata": {},
     "output_type": "execute_result"
    },
    {
     "data": {
      "image/png": "[encoded data removed]",
      "text/plain": [
       "<matplotlib.figure.Figure at 0xdae8b00>"
      ]
     },
     "metadata": {},
     "output_type": "display_data"
    }
   ],
   "source": [
    "gby_age = dtt.groupby(dtt.Age_Breaks)[Cons_Meas_noTot].mean()\n",
    "gby_age.plot(kind = 'bar', stacked = False, title = 'Average Consumption by Age')"
   ]
  },
  {
   "cell_type": "markdown",
   "metadata": {},
   "source": [
    "### Consumption by Race"
   ]
  },
  {
   "cell_type": "code",
   "execution_count": 12,
   "metadata": {
    "collapsed": false
   },
   "outputs": [
    {
     "data": {
      "text/html": [
       "<div>\n",
       "<style>\n",
       "    .dataframe thead tr:only-child th {\n",
       "        text-align: right;\n",
       "    }\n",
       "\n",
       "    .dataframe thead th {\n",
       "        text-align: left;\n",
       "    }\n",
       "\n",
       "    .dataframe tbody tr th {\n",
       "        vertical-align: top;\n",
       "    }\n",
       "</style>\n",
       "<table border=\"1\" class=\"dataframe\">\n",
       "  <thead>\n",
       "    <tr style=\"text-align: right;\">\n",
       "      <th></th>\n",
       "      <th>Total_Paid_HE_Movies</th>\n",
       "      <th>Total Discs Bought</th>\n",
       "      <th>Bought_Digital</th>\n",
       "      <th>Total Discs Rented</th>\n",
       "      <th>Total Digital Rented</th>\n",
       "    </tr>\n",
       "    <tr>\n",
       "      <th>Race</th>\n",
       "      <th></th>\n",
       "      <th></th>\n",
       "      <th></th>\n",
       "      <th></th>\n",
       "      <th></th>\n",
       "    </tr>\n",
       "  </thead>\n",
       "  <tbody>\n",
       "    <tr>\n",
       "      <th>Asian</th>\n",
       "      <td>14.287356</td>\n",
       "      <td>2.563218</td>\n",
       "      <td>0.954023</td>\n",
       "      <td>3.517241</td>\n",
       "      <td>7.252874</td>\n",
       "    </tr>\n",
       "    <tr>\n",
       "      <th>Black</th>\n",
       "      <td>16.890110</td>\n",
       "      <td>3.379121</td>\n",
       "      <td>0.857143</td>\n",
       "      <td>3.186813</td>\n",
       "      <td>9.467033</td>\n",
       "    </tr>\n",
       "    <tr>\n",
       "      <th>Hispanic</th>\n",
       "      <td>19.531646</td>\n",
       "      <td>3.484177</td>\n",
       "      <td>0.936709</td>\n",
       "      <td>5.367089</td>\n",
       "      <td>9.743671</td>\n",
       "    </tr>\n",
       "    <tr>\n",
       "      <th>Other</th>\n",
       "      <td>17.125000</td>\n",
       "      <td>3.000000</td>\n",
       "      <td>0.562500</td>\n",
       "      <td>4.291667</td>\n",
       "      <td>9.270833</td>\n",
       "    </tr>\n",
       "    <tr>\n",
       "      <th>White</th>\n",
       "      <td>15.301084</td>\n",
       "      <td>2.667183</td>\n",
       "      <td>0.643189</td>\n",
       "      <td>3.575851</td>\n",
       "      <td>8.414861</td>\n",
       "    </tr>\n",
       "  </tbody>\n",
       "</table>\n",
       "</div>"
      ],
      "text/plain": [
       "          Total_Paid_HE_Movies  Total Discs Bought  Bought_Digital  \\\n",
       "Race                                                                 \n",
       "Asian                14.287356            2.563218        0.954023   \n",
       "Black                16.890110            3.379121        0.857143   \n",
       "Hispanic             19.531646            3.484177        0.936709   \n",
       "Other                17.125000            3.000000        0.562500   \n",
       "White                15.301084            2.667183        0.643189   \n",
       "\n",
       "          Total Discs Rented  Total Digital Rented  \n",
       "Race                                                \n",
       "Asian               3.517241              7.252874  \n",
       "Black               3.186813              9.467033  \n",
       "Hispanic            5.367089              9.743671  \n",
       "Other               4.291667              9.270833  \n",
       "White               3.575851              8.414861  "
      ]
     },
     "execution_count": 12,
     "metadata": {},
     "output_type": "execute_result"
    }
   ],
   "source": [
    "dtt.groupby(dtt.Race)[Cons_Meas_wTot].mean()"
   ]
  },
  {
   "cell_type": "code",
   "execution_count": 13,
   "metadata": {
    "collapsed": false
   },
   "outputs": [
    {
     "data": {
      "text/plain": [
       "<matplotlib.axes._subplots.AxesSubplot at 0xe0ca208>"
      ]
     },
     "execution_count": 13,
     "metadata": {},
     "output_type": "execute_result"
    },
    {
     "data": {
      "image/png": "[encoded data removed]",
      "text/plain": [
       "<matplotlib.figure.Figure at 0xe1204a8>"
      ]
     },
     "metadata": {},
     "output_type": "display_data"
    }
   ],
   "source": [
    "gby_race = dtt.groupby(dtt.Race)[Cons_Meas_noTot].mean()\n",
    "gby_race.plot(kind = 'bar', stacked = True, title = 'Average Consumption by Race')"
   ]
  },
  {
   "cell_type": "code",
   "execution_count": 14,
   "metadata": {
    "collapsed": false
   },
   "outputs": [
    {
     "data": {
      "text/plain": [
       "<matplotlib.axes._subplots.AxesSubplot at 0xe207c18>"
      ]
     },
     "execution_count": 14,
     "metadata": {},
     "output_type": "execute_result"
    },
    {
     "data": {
      "image/png": "[encoded data removed]",
      "text/plain": [
       "<matplotlib.figure.Figure at 0xe45b518>"
      ]
     },
     "metadata": {},
     "output_type": "display_data"
    }
   ],
   "source": [
    "gby_race = dtt.groupby(dtt.Race)[Cons_Meas_noTot].mean()\n",
    "gby_race.plot(kind = 'bar', stacked = False, title = 'Average Consumption by Race')"
   ]
  },
  {
   "cell_type": "markdown",
   "metadata": {},
   "source": [
    "### Consumption by Employment Status"
   ]
  },
  {
   "cell_type": "code",
   "execution_count": 15,
   "metadata": {
    "collapsed": false
   },
   "outputs": [
    {
     "data": {
      "text/html": [
       "<div>\n",
       "<style>\n",
       "    .dataframe thead tr:only-child th {\n",
       "        text-align: right;\n",
       "    }\n",
       "\n",
       "    .dataframe thead th {\n",
       "        text-align: left;\n",
       "    }\n",
       "\n",
       "    .dataframe tbody tr th {\n",
       "        vertical-align: top;\n",
       "    }\n",
       "</style>\n",
       "<table border=\"1\" class=\"dataframe\">\n",
       "  <thead>\n",
       "    <tr style=\"text-align: right;\">\n",
       "      <th></th>\n",
       "      <th>Total_Paid_HE_Movies</th>\n",
       "      <th>Total Discs Bought</th>\n",
       "      <th>Bought_Digital</th>\n",
       "      <th>Total Discs Rented</th>\n",
       "      <th>Total Digital Rented</th>\n",
       "    </tr>\n",
       "    <tr>\n",
       "      <th>Employment</th>\n",
       "      <th></th>\n",
       "      <th></th>\n",
       "      <th></th>\n",
       "      <th></th>\n",
       "      <th></th>\n",
       "    </tr>\n",
       "  </thead>\n",
       "  <tbody>\n",
       "    <tr>\n",
       "      <th>1 - Full time</th>\n",
       "      <td>18.290389</td>\n",
       "      <td>3.404908</td>\n",
       "      <td>0.904908</td>\n",
       "      <td>4.423313</td>\n",
       "      <td>9.557260</td>\n",
       "    </tr>\n",
       "    <tr>\n",
       "      <th>2 - Part time</th>\n",
       "      <td>15.083665</td>\n",
       "      <td>2.800797</td>\n",
       "      <td>0.645418</td>\n",
       "      <td>3.326693</td>\n",
       "      <td>8.310757</td>\n",
       "    </tr>\n",
       "    <tr>\n",
       "      <th>3 - Retired</th>\n",
       "      <td>12.918552</td>\n",
       "      <td>1.733032</td>\n",
       "      <td>0.176471</td>\n",
       "      <td>3.909502</td>\n",
       "      <td>7.099548</td>\n",
       "    </tr>\n",
       "    <tr>\n",
       "      <th>4 - Not employed</th>\n",
       "      <td>13.791579</td>\n",
       "      <td>2.343158</td>\n",
       "      <td>0.646316</td>\n",
       "      <td>2.911579</td>\n",
       "      <td>7.890526</td>\n",
       "    </tr>\n",
       "  </tbody>\n",
       "</table>\n",
       "</div>"
      ],
      "text/plain": [
       "                  Total_Paid_HE_Movies  Total Discs Bought  Bought_Digital  \\\n",
       "Employment                                                                   \n",
       "1 - Full time                18.290389            3.404908        0.904908   \n",
       "2 - Part time                15.083665            2.800797        0.645418   \n",
       "3 - Retired                  12.918552            1.733032        0.176471   \n",
       "4 - Not employed             13.791579            2.343158        0.646316   \n",
       "\n",
       "                  Total Discs Rented  Total Digital Rented  \n",
       "Employment                                                  \n",
       "1 - Full time               4.423313              9.557260  \n",
       "2 - Part time               3.326693              8.310757  \n",
       "3 - Retired                 3.909502              7.099548  \n",
       "4 - Not employed            2.911579              7.890526  "
      ]
     },
     "execution_count": 15,
     "metadata": {},
     "output_type": "execute_result"
    }
   ],
   "source": [
    "dtt.groupby(dtt.Employment)[Cons_Meas_wTot].mean()"
   ]
  },
  {
   "cell_type": "code",
   "execution_count": 16,
   "metadata": {
    "collapsed": false
   },
   "outputs": [
    {
     "data": {
      "text/plain": [
       "<matplotlib.axes._subplots.AxesSubplot at 0xe72b668>"
      ]
     },
     "execution_count": 16,
     "metadata": {},
     "output_type": "execute_result"
    },
    {
     "data": {
      "image/png": "[encoded data removed]",
      "text/plain": [
       "<matplotlib.figure.Figure at 0xe739ac8>"
      ]
     },
     "metadata": {},
     "output_type": "display_data"
    }
   ],
   "source": [
    "gby_emply = dtt.groupby(dtt.Employment)[Cons_Meas_noTot].mean()\n",
    "gby_emply.plot(kind = 'bar', stacked = True, title = 'Average Consumption by Employment')"
   ]
  },
  {
   "cell_type": "code",
   "execution_count": 17,
   "metadata": {
    "collapsed": false
   },
   "outputs": [
    {
     "data": {
      "text/plain": [
       "<matplotlib.axes._subplots.AxesSubplot at 0xeabed30>"
      ]
     },
     "execution_count": 17,
     "metadata": {},
     "output_type": "execute_result"
    },
    {
     "data": {
      "image/png": "[encoded data removed]",
      "text/plain": [
       "<matplotlib.figure.Figure at 0xe466438>"
      ]
     },
     "metadata": {},
     "output_type": "display_data"
    }
   ],
   "source": [
    "gby_emply = dtt.groupby(dtt.Employment)[Cons_Meas_noTot].mean()\n",
    "gby_emply.plot(kind = 'bar', stacked = False, title = 'Average Consumption by Employment')"
   ]
  },
  {
   "cell_type": "markdown",
   "metadata": {},
   "source": [
    "### Consumption by Education"
   ]
  },
  {
   "cell_type": "code",
   "execution_count": 18,
   "metadata": {
    "collapsed": false
   },
   "outputs": [
    {
     "data": {
      "text/html": [
       "<div>\n",
       "<style>\n",
       "    .dataframe thead tr:only-child th {\n",
       "        text-align: right;\n",
       "    }\n",
       "\n",
       "    .dataframe thead th {\n",
       "        text-align: left;\n",
       "    }\n",
       "\n",
       "    .dataframe tbody tr th {\n",
       "        vertical-align: top;\n",
       "    }\n",
       "</style>\n",
       "<table border=\"1\" class=\"dataframe\">\n",
       "  <thead>\n",
       "    <tr style=\"text-align: right;\">\n",
       "      <th></th>\n",
       "      <th>Total_Paid_HE_Movies</th>\n",
       "      <th>Total Discs Bought</th>\n",
       "      <th>Bought_Digital</th>\n",
       "      <th>Total Discs Rented</th>\n",
       "      <th>Total Digital Rented</th>\n",
       "    </tr>\n",
       "    <tr>\n",
       "      <th>Education</th>\n",
       "      <th></th>\n",
       "      <th></th>\n",
       "      <th></th>\n",
       "      <th></th>\n",
       "      <th></th>\n",
       "    </tr>\n",
       "  </thead>\n",
       "  <tbody>\n",
       "    <tr>\n",
       "      <th>1 - HS or less</th>\n",
       "      <td>13.870229</td>\n",
       "      <td>2.160305</td>\n",
       "      <td>0.694656</td>\n",
       "      <td>2.923664</td>\n",
       "      <td>8.091603</td>\n",
       "    </tr>\n",
       "    <tr>\n",
       "      <th>2 - HS Grad</th>\n",
       "      <td>15.467857</td>\n",
       "      <td>3.082143</td>\n",
       "      <td>0.714286</td>\n",
       "      <td>3.089286</td>\n",
       "      <td>8.582143</td>\n",
       "    </tr>\n",
       "    <tr>\n",
       "      <th>3 - Some coll</th>\n",
       "      <td>15.831325</td>\n",
       "      <td>2.490534</td>\n",
       "      <td>0.485370</td>\n",
       "      <td>3.891566</td>\n",
       "      <td>8.963855</td>\n",
       "    </tr>\n",
       "    <tr>\n",
       "      <th>4 - Coll Grad</th>\n",
       "      <td>17.709677</td>\n",
       "      <td>3.594228</td>\n",
       "      <td>0.886248</td>\n",
       "      <td>4.193548</td>\n",
       "      <td>9.035654</td>\n",
       "    </tr>\n",
       "    <tr>\n",
       "      <th>5 - Some Post-grad</th>\n",
       "      <td>17.278689</td>\n",
       "      <td>1.852459</td>\n",
       "      <td>0.524590</td>\n",
       "      <td>4.950820</td>\n",
       "      <td>9.950820</td>\n",
       "    </tr>\n",
       "    <tr>\n",
       "      <th>6 - Post-grad</th>\n",
       "      <td>15.200000</td>\n",
       "      <td>2.548148</td>\n",
       "      <td>0.903704</td>\n",
       "      <td>4.029630</td>\n",
       "      <td>7.718519</td>\n",
       "    </tr>\n",
       "    <tr>\n",
       "      <th>7 - Prefer not to answer</th>\n",
       "      <td>11.153846</td>\n",
       "      <td>1.384615</td>\n",
       "      <td>1.692308</td>\n",
       "      <td>3.000000</td>\n",
       "      <td>5.076923</td>\n",
       "    </tr>\n",
       "  </tbody>\n",
       "</table>\n",
       "</div>"
      ],
      "text/plain": [
       "                          Total_Paid_HE_Movies  Total Discs Bought  \\\n",
       "Education                                                            \n",
       "1 - HS or less                       13.870229            2.160305   \n",
       "2 - HS Grad                          15.467857            3.082143   \n",
       "3 - Some coll                        15.831325            2.490534   \n",
       "4 - Coll Grad                        17.709677            3.594228   \n",
       "5 - Some Post-grad                   17.278689            1.852459   \n",
       "6 - Post-grad                        15.200000            2.548148   \n",
       "7 - Prefer not to answer             11.153846            1.384615   \n",
       "\n",
       "                          Bought_Digital  Total Discs Rented  \\\n",
       "Education                                                      \n",
       "1 - HS or less                  0.694656            2.923664   \n",
       "2 - HS Grad                     0.714286            3.089286   \n",
       "3 - Some coll                   0.485370            3.891566   \n",
       "4 - Coll Grad                   0.886248            4.193548   \n",
       "5 - Some Post-grad              0.524590            4.950820   \n",
       "6 - Post-grad                   0.903704            4.029630   \n",
       "7 - Prefer not to answer        1.692308            3.000000   \n",
       "\n",
       "                          Total Digital Rented  \n",
       "Education                                       \n",
       "1 - HS or less                        8.091603  \n",
       "2 - HS Grad                           8.582143  \n",
       "3 - Some coll                         8.963855  \n",
       "4 - Coll Grad                         9.035654  \n",
       "5 - Some Post-grad                    9.950820  \n",
       "6 - Post-grad                         7.718519  \n",
       "7 - Prefer not to answer              5.076923  "
      ]
     },
     "execution_count": 18,
     "metadata": {},
     "output_type": "execute_result"
    }
   ],
   "source": [
    "dtt.groupby(dtt.Education)[Cons_Meas_wTot].mean()"
   ]
  },
  {
   "cell_type": "code",
   "execution_count": 19,
   "metadata": {
    "collapsed": false
   },
   "outputs": [
    {
     "data": {
      "text/plain": [
       "<matplotlib.axes._subplots.AxesSubplot at 0xe722d30>"
      ]
     },
     "execution_count": 19,
     "metadata": {},
     "output_type": "execute_result"
    },
    {
     "data": {
      "image/png": "[encoded data removed]",
      "text/plain": [
       "<matplotlib.figure.Figure at 0xeabeef0>"
      ]
     },
     "metadata": {},
     "output_type": "display_data"
    }
   ],
   "source": [
    "gby_educ = dtt.groupby(dtt.Education)[Cons_Meas_noTot].mean()\n",
    "gby_educ = gby_educ.drop(['7 - Prefer not to answer'])\n",
    "\n",
    "gby_educ.plot(kind = 'bar', stacked = True, title = 'Average Consumption by Education')"
   ]
  },
  {
   "cell_type": "code",
   "execution_count": 20,
   "metadata": {
    "collapsed": false
   },
   "outputs": [
    {
     "data": {
      "text/plain": [
       "<matplotlib.axes._subplots.AxesSubplot at 0xf104128>"
      ]
     },
     "execution_count": 20,
     "metadata": {},
     "output_type": "execute_result"
    },
    {
     "data": {
      "image/png": "[encoded data removed]",
      "text/plain": [
       "<matplotlib.figure.Figure at 0xf110d68>"
      ]
     },
     "metadata": {},
     "output_type": "display_data"
    }
   ],
   "source": [
    "gby_educ = dtt.groupby(dtt.Education)[Cons_Meas_noTot].mean()\n",
    "gby_educ = gby_educ.drop(['7 - Prefer not to answer'])\n",
    "gby_educ.plot(kind = 'bar', stacked = False, title = 'Average Consumption by Education')"
   ]
  },
  {
   "cell_type": "markdown",
   "metadata": {},
   "source": [
    "### Consumption by Marital Status"
   ]
  },
  {
   "cell_type": "code",
   "execution_count": 22,
   "metadata": {
    "collapsed": false
   },
   "outputs": [
    {
     "data": {
      "text/html": [
       "<div>\n",
       "<style>\n",
       "    .dataframe thead tr:only-child th {\n",
       "        text-align: right;\n",
       "    }\n",
       "\n",
       "    .dataframe thead th {\n",
       "        text-align: left;\n",
       "    }\n",
       "\n",
       "    .dataframe tbody tr th {\n",
       "        vertical-align: top;\n",
       "    }\n",
       "</style>\n",
       "<table border=\"1\" class=\"dataframe\">\n",
       "  <thead>\n",
       "    <tr style=\"text-align: right;\">\n",
       "      <th></th>\n",
       "      <th>Total_Paid_HE_Movies</th>\n",
       "      <th>Total Discs Bought</th>\n",
       "      <th>Bought_Digital</th>\n",
       "      <th>Total Discs Rented</th>\n",
       "      <th>Total Digital Rented</th>\n",
       "    </tr>\n",
       "    <tr>\n",
       "      <th>Marital_Status</th>\n",
       "      <th></th>\n",
       "      <th></th>\n",
       "      <th></th>\n",
       "      <th></th>\n",
       "      <th></th>\n",
       "    </tr>\n",
       "  </thead>\n",
       "  <tbody>\n",
       "    <tr>\n",
       "      <th>Living with a partner</th>\n",
       "      <td>17.082192</td>\n",
       "      <td>3.027397</td>\n",
       "      <td>0.589041</td>\n",
       "      <td>3.458904</td>\n",
       "      <td>10.006849</td>\n",
       "    </tr>\n",
       "    <tr>\n",
       "      <th>Married</th>\n",
       "      <td>16.836858</td>\n",
       "      <td>3.010070</td>\n",
       "      <td>0.822759</td>\n",
       "      <td>4.327291</td>\n",
       "      <td>8.676737</td>\n",
       "    </tr>\n",
       "    <tr>\n",
       "      <th>Single</th>\n",
       "      <td>15.219160</td>\n",
       "      <td>2.696850</td>\n",
       "      <td>0.623360</td>\n",
       "      <td>3.321522</td>\n",
       "      <td>8.577428</td>\n",
       "    </tr>\n",
       "  </tbody>\n",
       "</table>\n",
       "</div>"
      ],
      "text/plain": [
       "                       Total_Paid_HE_Movies  Total Discs Bought  \\\n",
       "Marital_Status                                                    \n",
       "Living with a partner             17.082192            3.027397   \n",
       "Married                           16.836858            3.010070   \n",
       "Single                            15.219160            2.696850   \n",
       "\n",
       "                       Bought_Digital  Total Discs Rented  \\\n",
       "Marital_Status                                              \n",
       "Living with a partner        0.589041            3.458904   \n",
       "Married                      0.822759            4.327291   \n",
       "Single                       0.623360            3.321522   \n",
       "\n",
       "                       Total Digital Rented  \n",
       "Marital_Status                               \n",
       "Living with a partner             10.006849  \n",
       "Married                            8.676737  \n",
       "Single                             8.577428  "
      ]
     },
     "execution_count": 22,
     "metadata": {},
     "output_type": "execute_result"
    }
   ],
   "source": [
    "dtt.groupby(dtt.Marital_Status[dtt.Marital_Status != 'Prefer not to answer'])[Cons_Meas_wTot].mean()"
   ]
  },
  {
   "cell_type": "code",
   "execution_count": 25,
   "metadata": {
    "collapsed": false
   },
   "outputs": [
    {
     "data": {
      "text/plain": [
       "<matplotlib.axes._subplots.AxesSubplot at 0xf88ed68>"
      ]
     },
     "execution_count": 25,
     "metadata": {},
     "output_type": "execute_result"
    },
    {
     "data": {
      "image/png": "[encoded data removed]",
      "text/plain": [
       "<matplotlib.figure.Figure at 0xeac74e0>"
      ]
     },
     "metadata": {},
     "output_type": "display_data"
    }
   ],
   "source": [
    "dtt.groupby(dtt.Marital_Status[dtt.Marital_Status != 'Prefer not to answer'])[Cons_Meas_noTot].mean().plot(kind='bar',stacked = True)"
   ]
  },
  {
   "cell_type": "code",
   "execution_count": 26,
   "metadata": {
    "collapsed": false
   },
   "outputs": [
    {
     "data": {
      "text/plain": [
       "<matplotlib.axes._subplots.AxesSubplot at 0x10632860>"
      ]
     },
     "execution_count": 26,
     "metadata": {},
     "output_type": "execute_result"
    },
    {
     "data": {
      "image/png": "[encoded data removed]",
      "text/plain": [
       "<matplotlib.figure.Figure at 0x107811d0>"
      ]
     },
     "metadata": {},
     "output_type": "display_data"
    }
   ],
   "source": [
    "dtt.groupby(dtt.Marital_Status[dtt.Marital_Status != 'Prefer not to answer'])[Cons_Meas_noTot].mean().plot(kind='bar',stacked = False)"
   ]
  },
  {
   "cell_type": "markdown",
   "metadata": {},
   "source": [
    "### Consumption by Parental status"
   ]
  },
  {
   "cell_type": "code",
   "execution_count": 28,
   "metadata": {
    "collapsed": false
   },
   "outputs": [
    {
     "data": {
      "text/plain": [
       "No     944\n",
       "Yes    719\n",
       "       262\n",
       "Name: Parent, dtype: int64"
      ]
     },
     "execution_count": 28,
     "metadata": {},
     "output_type": "execute_result"
    }
   ],
   "source": [
    "dtt.Parent.value_counts()"
   ]
  },
  {
   "cell_type": "code",
   "execution_count": 65,
   "metadata": {
    "collapsed": false
   },
   "outputs": [
    {
     "data": {
      "text/plain": [
       "array([' ', 'No', 'Yes'], dtype=object)"
      ]
     },
     "execution_count": 65,
     "metadata": {},
     "output_type": "execute_result"
    }
   ],
   "source": [
    "dtt.Parent.unique()"
   ]
  },
  {
   "cell_type": "code",
   "execution_count": 71,
   "metadata": {
    "collapsed": false
   },
   "outputs": [
    {
     "data": {
      "text/html": [
       "<div>\n",
       "<style>\n",
       "    .dataframe thead tr:only-child th {\n",
       "        text-align: right;\n",
       "    }\n",
       "\n",
       "    .dataframe thead th {\n",
       "        text-align: left;\n",
       "    }\n",
       "\n",
       "    .dataframe tbody tr th {\n",
       "        vertical-align: top;\n",
       "    }\n",
       "</style>\n",
       "<table border=\"1\" class=\"dataframe\">\n",
       "  <thead>\n",
       "    <tr style=\"text-align: right;\">\n",
       "      <th></th>\n",
       "      <th>Total_Paid_HE_Movies</th>\n",
       "      <th>Total Discs Bought</th>\n",
       "      <th>Bought_Digital</th>\n",
       "      <th>Total Discs Rented</th>\n",
       "      <th>Total Digital Rented</th>\n",
       "    </tr>\n",
       "    <tr>\n",
       "      <th>Parent</th>\n",
       "      <th></th>\n",
       "      <th></th>\n",
       "      <th></th>\n",
       "      <th></th>\n",
       "      <th></th>\n",
       "    </tr>\n",
       "  </thead>\n",
       "  <tbody>\n",
       "    <tr>\n",
       "      <th>No</th>\n",
       "      <td>14.310381</td>\n",
       "      <td>2.416314</td>\n",
       "      <td>0.447034</td>\n",
       "      <td>3.264831</td>\n",
       "      <td>8.182203</td>\n",
       "    </tr>\n",
       "    <tr>\n",
       "      <th>Yes</th>\n",
       "      <td>18.781641</td>\n",
       "      <td>3.603616</td>\n",
       "      <td>1.045897</td>\n",
       "      <td>4.713491</td>\n",
       "      <td>9.418637</td>\n",
       "    </tr>\n",
       "  </tbody>\n",
       "</table>\n",
       "</div>"
      ],
      "text/plain": [
       "        Total_Paid_HE_Movies  Total Discs Bought  Bought_Digital  \\\n",
       "Parent                                                             \n",
       "No                 14.310381            2.416314        0.447034   \n",
       "Yes                18.781641            3.603616        1.045897   \n",
       "\n",
       "        Total Discs Rented  Total Digital Rented  \n",
       "Parent                                            \n",
       "No                3.264831              8.182203  \n",
       "Yes               4.713491              9.418637  "
      ]
     },
     "execution_count": 71,
     "metadata": {},
     "output_type": "execute_result"
    }
   ],
   "source": [
    "dtt.groupby(dtt.Parent [(dtt.Parent == \"Yes\") | (dtt.Parent == \"No\")])[Cons_Meas_wTot].mean()"
   ]
  },
  {
   "cell_type": "code",
   "execution_count": 35,
   "metadata": {
    "collapsed": false
   },
   "outputs": [
    {
     "data": {
      "text/plain": [
       "<matplotlib.axes._subplots.AxesSubplot at 0x10ee4588>"
      ]
     },
     "execution_count": 35,
     "metadata": {},
     "output_type": "execute_result"
    },
    {
     "data": {
      "image/png": "[encoded data removed]",
      "text/plain": [
       "<matplotlib.figure.Figure at 0x10eeddd8>"
      ]
     },
     "metadata": {},
     "output_type": "display_data"
    }
   ],
   "source": [
    "dtt.groupby(dtt.Parent)[Cons_Meas_noTot].mean().plot(kind='bar', title = 'Consumption by Parental Status', stacked = True)"
   ]
  },
  {
   "cell_type": "code",
   "execution_count": 36,
   "metadata": {
    "collapsed": false
   },
   "outputs": [
    {
     "data": {
      "text/plain": [
       "<matplotlib.axes._subplots.AxesSubplot at 0x111e9f28>"
      ]
     },
     "execution_count": 36,
     "metadata": {},
     "output_type": "execute_result"
    },
    {
     "data": {
      "image/png": "[encoded data removed]",
      "text/plain": [
       "<matplotlib.figure.Figure at 0x111d0278>"
      ]
     },
     "metadata": {},
     "output_type": "display_data"
    }
   ],
   "source": [
    "dtt.groupby(dtt.Parent)[Cons_Meas_noTot].mean().plot(kind='bar', title = 'Consumption by Parental Status', stacked = False)"
   ]
  },
  {
   "cell_type": "markdown",
   "metadata": {},
   "source": [
    "### Consumption by Income (TO DO)"
   ]
  },
  {
   "cell_type": "markdown",
   "metadata": {},
   "source": [
    "### Consumption Distributions"
   ]
  },
  {
   "cell_type": "markdown",
   "metadata": {},
   "source": [
    "Probably need to combine disc and digital purchase into just purchase"
   ]
  },
  {
   "cell_type": "code",
   "execution_count": 37,
   "metadata": {
    "collapsed": false
   },
   "outputs": [
    {
     "data": {
      "text/plain": [
       "(1925, 9)"
      ]
     },
     "execution_count": 37,
     "metadata": {},
     "output_type": "execute_result"
    }
   ],
   "source": [
    "dtt_numbers = dtt[['Total_Paid_HE_Movies','Total Discs Bought','Bought_Digital','Total Discs Rented',\n",
    "      'Total Digital Rented','Buy_Disc_Percent','Buy_Digital_Percent','Rent_Disc_Percent',\n",
    "      'Rent_Digital_Percent']]\n",
    "\n",
    "dtt_numbers.shape"
   ]
  },
  {
   "cell_type": "code",
   "execution_count": 38,
   "metadata": {
    "collapsed": false
   },
   "outputs": [
    {
     "data": {
      "text/html": [
       "<div>\n",
       "<style>\n",
       "    .dataframe thead tr:only-child th {\n",
       "        text-align: right;\n",
       "    }\n",
       "\n",
       "    .dataframe thead th {\n",
       "        text-align: left;\n",
       "    }\n",
       "\n",
       "    .dataframe tbody tr th {\n",
       "        vertical-align: top;\n",
       "    }\n",
       "</style>\n",
       "<table border=\"1\" class=\"dataframe\">\n",
       "  <thead>\n",
       "    <tr style=\"text-align: right;\">\n",
       "      <th></th>\n",
       "      <th>Total_Paid_HE_Movies</th>\n",
       "      <th>Total Discs Bought</th>\n",
       "      <th>Bought_Digital</th>\n",
       "      <th>Total Discs Rented</th>\n",
       "      <th>Total Digital Rented</th>\n",
       "      <th>Buy_Disc_Percent</th>\n",
       "      <th>Buy_Digital_Percent</th>\n",
       "      <th>Rent_Disc_Percent</th>\n",
       "      <th>Rent_Digital_Percent</th>\n",
       "    </tr>\n",
       "  </thead>\n",
       "  <tbody>\n",
       "    <tr>\n",
       "      <th>count</th>\n",
       "      <td>1925.000000</td>\n",
       "      <td>1925.000000</td>\n",
       "      <td>1925.000000</td>\n",
       "      <td>1925.000000</td>\n",
       "      <td>1925.000000</td>\n",
       "      <td>1925.000000</td>\n",
       "      <td>1925.000000</td>\n",
       "      <td>1925.000000</td>\n",
       "      <td>1925.000000</td>\n",
       "    </tr>\n",
       "    <tr>\n",
       "      <th>mean</th>\n",
       "      <td>16.145455</td>\n",
       "      <td>2.872208</td>\n",
       "      <td>0.723636</td>\n",
       "      <td>3.848312</td>\n",
       "      <td>8.701299</td>\n",
       "      <td>0.239981</td>\n",
       "      <td>0.041825</td>\n",
       "      <td>0.234541</td>\n",
       "      <td>0.483653</td>\n",
       "    </tr>\n",
       "    <tr>\n",
       "      <th>std</th>\n",
       "      <td>16.526946</td>\n",
       "      <td>4.604784</td>\n",
       "      <td>2.081871</td>\n",
       "      <td>6.915127</td>\n",
       "      <td>11.978178</td>\n",
       "      <td>0.306352</td>\n",
       "      <td>0.111739</td>\n",
       "      <td>0.292798</td>\n",
       "      <td>0.369288</td>\n",
       "    </tr>\n",
       "    <tr>\n",
       "      <th>min</th>\n",
       "      <td>1.000000</td>\n",
       "      <td>0.000000</td>\n",
       "      <td>0.000000</td>\n",
       "      <td>0.000000</td>\n",
       "      <td>0.000000</td>\n",
       "      <td>0.000000</td>\n",
       "      <td>0.000000</td>\n",
       "      <td>0.000000</td>\n",
       "      <td>0.000000</td>\n",
       "    </tr>\n",
       "    <tr>\n",
       "      <th>25%</th>\n",
       "      <td>5.000000</td>\n",
       "      <td>0.000000</td>\n",
       "      <td>0.000000</td>\n",
       "      <td>0.000000</td>\n",
       "      <td>1.000000</td>\n",
       "      <td>0.000000</td>\n",
       "      <td>0.000000</td>\n",
       "      <td>0.000000</td>\n",
       "      <td>0.133333</td>\n",
       "    </tr>\n",
       "    <tr>\n",
       "      <th>50%</th>\n",
       "      <td>10.000000</td>\n",
       "      <td>1.000000</td>\n",
       "      <td>0.000000</td>\n",
       "      <td>1.000000</td>\n",
       "      <td>5.000000</td>\n",
       "      <td>0.136364</td>\n",
       "      <td>0.000000</td>\n",
       "      <td>0.116279</td>\n",
       "      <td>0.483871</td>\n",
       "    </tr>\n",
       "    <tr>\n",
       "      <th>75%</th>\n",
       "      <td>22.000000</td>\n",
       "      <td>4.000000</td>\n",
       "      <td>1.000000</td>\n",
       "      <td>5.000000</td>\n",
       "      <td>11.000000</td>\n",
       "      <td>0.333333</td>\n",
       "      <td>0.014925</td>\n",
       "      <td>0.375000</td>\n",
       "      <td>0.833333</td>\n",
       "    </tr>\n",
       "    <tr>\n",
       "      <th>max</th>\n",
       "      <td>91.000000</td>\n",
       "      <td>55.000000</td>\n",
       "      <td>30.000000</td>\n",
       "      <td>70.000000</td>\n",
       "      <td>90.000000</td>\n",
       "      <td>1.000000</td>\n",
       "      <td>1.000000</td>\n",
       "      <td>1.000000</td>\n",
       "      <td>1.000000</td>\n",
       "    </tr>\n",
       "  </tbody>\n",
       "</table>\n",
       "</div>"
      ],
      "text/plain": [
       "       Total_Paid_HE_Movies  Total Discs Bought  Bought_Digital  \\\n",
       "count           1925.000000         1925.000000     1925.000000   \n",
       "mean              16.145455            2.872208        0.723636   \n",
       "std               16.526946            4.604784        2.081871   \n",
       "min                1.000000            0.000000        0.000000   \n",
       "25%                5.000000            0.000000        0.000000   \n",
       "50%               10.000000            1.000000        0.000000   \n",
       "75%               22.000000            4.000000        1.000000   \n",
       "max               91.000000           55.000000       30.000000   \n",
       "\n",
       "       Total Discs Rented  Total Digital Rented  Buy_Disc_Percent  \\\n",
       "count         1925.000000           1925.000000       1925.000000   \n",
       "mean             3.848312              8.701299          0.239981   \n",
       "std              6.915127             11.978178          0.306352   \n",
       "min              0.000000              0.000000          0.000000   \n",
       "25%              0.000000              1.000000          0.000000   \n",
       "50%              1.000000              5.000000          0.136364   \n",
       "75%              5.000000             11.000000          0.333333   \n",
       "max             70.000000             90.000000          1.000000   \n",
       "\n",
       "       Buy_Digital_Percent  Rent_Disc_Percent  Rent_Digital_Percent  \n",
       "count          1925.000000        1925.000000           1925.000000  \n",
       "mean              0.041825           0.234541              0.483653  \n",
       "std               0.111739           0.292798              0.369288  \n",
       "min               0.000000           0.000000              0.000000  \n",
       "25%               0.000000           0.000000              0.133333  \n",
       "50%               0.000000           0.116279              0.483871  \n",
       "75%               0.014925           0.375000              0.833333  \n",
       "max               1.000000           1.000000              1.000000  "
      ]
     },
     "execution_count": 38,
     "metadata": {},
     "output_type": "execute_result"
    }
   ],
   "source": [
    "dtt_numbers.describe()"
   ]
  },
  {
   "cell_type": "code",
   "execution_count": 62,
   "metadata": {
    "collapsed": false
   },
   "outputs": [
    {
     "data": {
      "text/html": [
       "<div>\n",
       "<style>\n",
       "    .dataframe thead tr:only-child th {\n",
       "        text-align: right;\n",
       "    }\n",
       "\n",
       "    .dataframe thead th {\n",
       "        text-align: left;\n",
       "    }\n",
       "\n",
       "    .dataframe tbody tr th {\n",
       "        vertical-align: top;\n",
       "    }\n",
       "</style>\n",
       "<table border=\"1\" class=\"dataframe\">\n",
       "  <thead>\n",
       "    <tr style=\"text-align: right;\">\n",
       "      <th></th>\n",
       "      <th>Total_Paid_HE_Movies</th>\n",
       "      <th>Total Discs Bought</th>\n",
       "      <th>Bought_Digital</th>\n",
       "      <th>Total Digital Rented</th>\n",
       "      <th>Total Discs Rented</th>\n",
       "    </tr>\n",
       "  </thead>\n",
       "  <tbody>\n",
       "    <tr>\n",
       "      <th>Total_Paid_HE_Movies</th>\n",
       "      <td>1.000000</td>\n",
       "      <td>0.453878</td>\n",
       "      <td>0.353621</td>\n",
       "      <td>0.816166</td>\n",
       "      <td>0.567532</td>\n",
       "    </tr>\n",
       "    <tr>\n",
       "      <th>Total Discs Bought</th>\n",
       "      <td>0.453878</td>\n",
       "      <td>1.000000</td>\n",
       "      <td>0.301445</td>\n",
       "      <td>0.088601</td>\n",
       "      <td>0.174629</td>\n",
       "    </tr>\n",
       "    <tr>\n",
       "      <th>Bought_Digital</th>\n",
       "      <td>0.353621</td>\n",
       "      <td>0.301445</td>\n",
       "      <td>1.000000</td>\n",
       "      <td>0.133707</td>\n",
       "      <td>0.111749</td>\n",
       "    </tr>\n",
       "    <tr>\n",
       "      <th>Total Digital Rented</th>\n",
       "      <td>0.816166</td>\n",
       "      <td>0.088601</td>\n",
       "      <td>0.133707</td>\n",
       "      <td>1.000000</td>\n",
       "      <td>0.119190</td>\n",
       "    </tr>\n",
       "    <tr>\n",
       "      <th>Total Discs Rented</th>\n",
       "      <td>0.567532</td>\n",
       "      <td>0.174629</td>\n",
       "      <td>0.111749</td>\n",
       "      <td>0.119190</td>\n",
       "      <td>1.000000</td>\n",
       "    </tr>\n",
       "  </tbody>\n",
       "</table>\n",
       "</div>"
      ],
      "text/plain": [
       "                      Total_Paid_HE_Movies  Total Discs Bought  \\\n",
       "Total_Paid_HE_Movies              1.000000            0.453878   \n",
       "Total Discs Bought                0.453878            1.000000   \n",
       "Bought_Digital                    0.353621            0.301445   \n",
       "Total Digital Rented              0.816166            0.088601   \n",
       "Total Discs Rented                0.567532            0.174629   \n",
       "\n",
       "                      Bought_Digital  Total Digital Rented  Total Discs Rented  \n",
       "Total_Paid_HE_Movies        0.353621              0.816166            0.567532  \n",
       "Total Discs Bought          0.301445              0.088601            0.174629  \n",
       "Bought_Digital              1.000000              0.133707            0.111749  \n",
       "Total Digital Rented        0.133707              1.000000            0.119190  \n",
       "Total Discs Rented          0.111749              0.119190            1.000000  "
      ]
     },
     "execution_count": 62,
     "metadata": {},
     "output_type": "execute_result"
    }
   ],
   "source": [
    "dtt_numbers[['Total_Paid_HE_Movies','Total Discs Bought','Bought_Digital', 'Total Digital Rented','Total Discs Rented']].corr()\n",
    "\n"
   ]
  },
  {
   "cell_type": "code",
   "execution_count": 48,
   "metadata": {
    "collapsed": false
   },
   "outputs": [
    {
     "data": {
      "text/plain": [
       "<matplotlib.axes._subplots.AxesSubplot at 0x127e51d0>"
      ]
     },
     "execution_count": 48,
     "metadata": {},
     "output_type": "execute_result"
    },
    {
     "data": {
      "image/png": "[encoded data removed]",
      "text/plain": [
       "<matplotlib.figure.Figure at 0x12a69dd8>"
      ]
     },
     "metadata": {},
     "output_type": "display_data"
    }
   ],
   "source": [
    "dtt.Total_Paid_HE_Movies.plot(kind='hist', bins = 50, title = 'Total Paid HE Movies')"
   ]
  },
  {
   "cell_type": "code",
   "execution_count": 49,
   "metadata": {
    "collapsed": false
   },
   "outputs": [
    {
     "data": {
      "text/plain": [
       "<matplotlib.axes._subplots.AxesSubplot at 0x12b38278>"
      ]
     },
     "execution_count": 49,
     "metadata": {},
     "output_type": "execute_result"
    },
    {
     "data": {
      "image/png": "[encoded data removed]",
      "text/plain": [
       "<matplotlib.figure.Figure at 0x12dff320>"
      ]
     },
     "metadata": {},
     "output_type": "display_data"
    }
   ],
   "source": [
    "dtt['Total Discs Bought'].plot(kind='hist', bins = 50, title = 'Total Discs Bought')"
   ]
  },
  {
   "cell_type": "code",
   "execution_count": 50,
   "metadata": {
    "collapsed": false
   },
   "outputs": [
    {
     "data": {
      "text/plain": [
       "<matplotlib.axes._subplots.AxesSubplot at 0x12dffba8>"
      ]
     },
     "execution_count": 50,
     "metadata": {},
     "output_type": "execute_result"
    },
    {
     "data": {
      "image/png": "[encoded data removed]",
      "text/plain": [
       "<matplotlib.figure.Figure at 0x13184e10>"
      ]
     },
     "metadata": {},
     "output_type": "display_data"
    }
   ],
   "source": [
    "dtt['Buy_Disc_Percent'].plot(kind='hist', bins = 50, title = 'Total Discs as % of Total')"
   ]
  },
  {
   "cell_type": "code",
   "execution_count": 51,
   "metadata": {
    "collapsed": false
   },
   "outputs": [
    {
     "data": {
      "text/plain": [
       "<matplotlib.axes._subplots.AxesSubplot at 0x1354d550>"
      ]
     },
     "execution_count": 51,
     "metadata": {},
     "output_type": "execute_result"
    },
    {
     "data": {
      "image/png": "[encoded data removed]",
      "text/plain": [
       "<matplotlib.figure.Figure at 0x135626a0>"
      ]
     },
     "metadata": {},
     "output_type": "display_data"
    }
   ],
   "source": [
    "dtt['Bought_Digital'].plot(kind='hist', bins = 50, title = 'Total Digital Bought')"
   ]
  },
  {
   "cell_type": "code",
   "execution_count": 52,
   "metadata": {
    "collapsed": false
   },
   "outputs": [
    {
     "data": {
      "text/plain": [
       "<matplotlib.axes._subplots.AxesSubplot at 0x13854940>"
      ]
     },
     "execution_count": 52,
     "metadata": {},
     "output_type": "execute_result"
    },
    {
     "data": {
      "image/png": "[encoded data removed]",
      "text/plain": [
       "<matplotlib.figure.Figure at 0x13991898>"
      ]
     },
     "metadata": {},
     "output_type": "display_data"
    }
   ],
   "source": [
    "dtt['Buy_Digital_Percent'].plot(kind='hist', bins = 50, title = 'Total Digital Purchases as % of Total')"
   ]
  },
  {
   "cell_type": "code",
   "execution_count": 53,
   "metadata": {
    "collapsed": false
   },
   "outputs": [
    {
     "data": {
      "text/plain": [
       "<matplotlib.axes._subplots.AxesSubplot at 0x13da86d8>"
      ]
     },
     "execution_count": 53,
     "metadata": {},
     "output_type": "execute_result"
    },
    {
     "data": {
      "image/png": "[encoded data removed]",
      "text/plain": [
       "<matplotlib.figure.Figure at 0x13e192e8>"
      ]
     },
     "metadata": {},
     "output_type": "display_data"
    }
   ],
   "source": [
    "dtt['Total Discs Rented'].plot(kind='hist', bins = 50, title = 'Total Discs Rented')"
   ]
  },
  {
   "cell_type": "code",
   "execution_count": 54,
   "metadata": {
    "collapsed": false
   },
   "outputs": [
    {
     "data": {
      "text/plain": [
       "<matplotlib.axes._subplots.AxesSubplot at 0x140cd898>"
      ]
     },
     "execution_count": 54,
     "metadata": {},
     "output_type": "execute_result"
    },
    {
     "data": {
      "image/png": "[encoded data removed]",
      "text/plain": [
       "<matplotlib.figure.Figure at 0x13da87b8>"
      ]
     },
     "metadata": {},
     "output_type": "display_data"
    }
   ],
   "source": [
    "dtt['Rent_Disc_Percent'].plot(kind='hist', bins = 50, title = 'Total Disc Rental as % of Total')"
   ]
  },
  {
   "cell_type": "code",
   "execution_count": 55,
   "metadata": {
    "collapsed": false
   },
   "outputs": [
    {
     "data": {
      "text/plain": [
       "<matplotlib.axes._subplots.AxesSubplot at 0x143d9b70>"
      ]
     },
     "execution_count": 55,
     "metadata": {},
     "output_type": "execute_result"
    },
    {
     "data": {
      "image/png": "[encoded data removed]",
      "text/plain": [
       "<matplotlib.figure.Figure at 0x141ad978>"
      ]
     },
     "metadata": {},
     "output_type": "display_data"
    }
   ],
   "source": [
    "dtt['Total Digital Rented'].plot(kind='hist', bins = 50, title = 'Total Digital Rented')"
   ]
  },
  {
   "cell_type": "code",
   "execution_count": 56,
   "metadata": {
    "collapsed": false
   },
   "outputs": [
    {
     "data": {
      "text/plain": [
       "<matplotlib.axes._subplots.AxesSubplot at 0x148739e8>"
      ]
     },
     "execution_count": 56,
     "metadata": {},
     "output_type": "execute_result"
    },
    {
     "data": {
      "image/png": "[encoded data removed]",
      "text/plain": [
       "<matplotlib.figure.Figure at 0x149b1198>"
      ]
     },
     "metadata": {},
     "output_type": "display_data"
    }
   ],
   "source": [
    "dtt['Rent_Digital_Percent'].plot(kind='hist', bins = 50, title = 'Total Digital Rental as % of Total')"
   ]
  },
  {
   "cell_type": "code",
   "execution_count": null,
   "metadata": {
    "collapsed": false
   },
   "outputs": [],
   "source": []
  },
  {
   "cell_type": "markdown",
   "metadata": {},
   "source": [
    "### Original work"
   ]
  },
  {
   "cell_type": "code",
   "execution_count": null,
   "metadata": {
    "collapsed": true
   },
   "outputs": [],
   "source": [
    "#C:\\Users\\anne1\\Documents\\DS_SM_15\\projects\\AAR_final-project\n",
    "\n",
    "#C:\\Users\\anne1\\Documents\\DS_SM_15\\projects\\AAR_final-project\\Data\n",
    "\n",
    "dtt = pd.read_csv(\"Data\\DTT Combined.csv\",index_col=0)\n",
    "dtt.head()"
   ]
  },
  {
   "cell_type": "markdown",
   "metadata": {},
   "source": [
    "### Calculate and add columns for movie home entertainment consumption roll ups and percents"
   ]
  },
  {
   "cell_type": "code",
   "execution_count": null,
   "metadata": {
    "collapsed": true
   },
   "outputs": [],
   "source": [
    "# calculates total movies paid home entertainment\n",
    "dtt['b3_Mo_HE_Paid_Total'] = (\n",
    "    dtt['b3_2_Mo_Buy_Disc_DVD_All'] + \n",
    "    dtt['b3_3_Mo_Buy_Disc_Blu.ray_All'] + \n",
    "    dtt['b3_4_Mo_Buy_Digtl_All'] + \n",
    "    dtt['b3_5_Mo_Rent_Disc_Store_All'] + \n",
    "    dtt['b3_6_Mo_Rent_Disc_Kiosk_All'] + \n",
    "    dtt['b3_7_Mo_Rent_Disc_Mail_All'] + \n",
    "    dtt['b3_8_Mo_Rent_Digtl_Trans_All'] + \n",
    "    dtt['b3_9_Mo_Rent_Digtl_Sub_All'])\n"
   ]
  },
  {
   "cell_type": "code",
   "execution_count": null,
   "metadata": {
    "collapsed": false
   },
   "outputs": [],
   "source": [
    "# filters out all cases where total paid HE is zero\n",
    "\n",
    "dtt = dtt[dtt[\"b3_Mo_HE_Paid_Total\"] != 0]"
   ]
  },
  {
   "cell_type": "code",
   "execution_count": null,
   "metadata": {
    "collapsed": true
   },
   "outputs": [],
   "source": [
    "# filters out outlier cases based on std\n",
    "\n",
    "mean = dtt[['b3_Mo_HE_Paid_Total']].mean()\n",
    "std = dtt[['b3_Mo_HE_Paid_Total']].std()\n",
    "\n",
    "print mean\n",
    "print std"
   ]
  },
  {
   "cell_type": "code",
   "execution_count": null,
   "metadata": {
    "collapsed": true
   },
   "outputs": [],
   "source": [
    "dtt['threshold'] = (dtt['b3_Mo_HE_Paid_Total'] - mean) / std\n",
    "\n"
   ]
  },
  {
   "cell_type": "code",
   "execution_count": null,
   "metadata": {
    "collapsed": true
   },
   "outputs": [],
   "source": [
    "# calculates total disc purchases\n",
    "dtt['b3_Mo_Buy_Disc_Total'] = (\n",
    "    dtt['b3_2_Mo_Buy_Disc_DVD_All'] + \n",
    "    dtt['b3_3_Mo_Buy_Disc_Blu.ray_All'])\n",
    "\n",
    "dtt['perc_b3_Mo_Buy_Disc_Total'] = dtt['b3_Mo_Buy_Disc_Total'] / dtt['b3_Mo_HE_Paid_Total']"
   ]
  },
  {
   "cell_type": "code",
   "execution_count": null,
   "metadata": {
    "collapsed": true
   },
   "outputs": [],
   "source": [
    "# calculates total digital purchases (actually just creates new column with that name)\n",
    "dtt['b3_Mo_Buy_Digtl_Total'] = dtt['b3_4_Mo_Buy_Digtl_All']\n",
    "\n",
    "dtt['perc_b3_Mo_Buy_Digtl_Total'] = dtt['b3_Mo_Buy_Digtl_Total'] / dtt['b3_Mo_HE_Paid_Total']"
   ]
  },
  {
   "cell_type": "code",
   "execution_count": null,
   "metadata": {
    "collapsed": false
   },
   "outputs": [],
   "source": [
    "# calculates total disc rental\n",
    "dtt['b3_Mo_Rent_Disc_Total'] = (\n",
    "    dtt['b3_5_Mo_Rent_Disc_Store_All'] + \n",
    "    dtt['b3_6_Mo_Rent_Disc_Kiosk_All'] + \n",
    "    dtt['b3_7_Mo_Rent_Disc_Mail_All'])\n",
    "\n",
    "dtt['perc_b3_Mo_Rent_Disc_Total'] = dtt['b3_Mo_Rent_Disc_Total'] / dtt['b3_Mo_HE_Paid_Total']"
   ]
  },
  {
   "cell_type": "code",
   "execution_count": null,
   "metadata": {
    "collapsed": false
   },
   "outputs": [],
   "source": [
    "# calculates total digital rental\n",
    "dtt['b3_Mo_Rent_Digtl_Total'] = (\n",
    "    dtt['b3_8_Mo_Rent_Digtl_Trans_All'] + \n",
    "    dtt['b3_9_Mo_Rent_Digtl_Sub_All'])\n",
    "\n",
    "dtt['perc_b3_Mo_Rent_Digtl_Total'] = dtt['b3_Mo_Rent_Digtl_Total'] / dtt['b3_Mo_HE_Paid_Total']"
   ]
  },
  {
   "cell_type": "code",
   "execution_count": null,
   "metadata": {
    "collapsed": true
   },
   "outputs": [],
   "source": [
    "# calculates total purchases\n",
    "dtt['b3_Mo_Buy_Total'] = (\n",
    "    dtt['b3_2_Mo_Buy_Disc_DVD_All'] + \n",
    "    dtt['b3_3_Mo_Buy_Disc_Blu.ray_All'] + \n",
    "    dtt['b3_4_Mo_Buy_Digtl_All'])\n",
    "\n",
    "dtt['perc_b3_Mo_Buy_Total'] = dtt['b3_Mo_Buy_Total'] / dtt['b3_Mo_HE_Paid_Total']"
   ]
  },
  {
   "cell_type": "code",
   "execution_count": null,
   "metadata": {
    "collapsed": false
   },
   "outputs": [],
   "source": [
    "# calculates total rentals\n",
    "dtt['b3_Mo_Rent_Total'] = (\n",
    "    dtt['b3_5_Mo_Rent_Disc_Store_All'] + \n",
    "    dtt['b3_6_Mo_Rent_Disc_Kiosk_All'] + \n",
    "    dtt['b3_7_Mo_Rent_Disc_Mail_All'] + \n",
    "    dtt['b3_8_Mo_Rent_Digtl_Trans_All'] + \n",
    "    dtt['b3_9_Mo_Rent_Digtl_Sub_All'])\n",
    "\n",
    "dtt['perc_b3_Mo_Rent_Total'] = dtt['b3_Mo_Rent_Total'] / dtt['b3_Mo_HE_Paid_Total']"
   ]
  },
  {
   "cell_type": "code",
   "execution_count": null,
   "metadata": {
    "collapsed": false
   },
   "outputs": [],
   "source": [
    "# calculates total disc transactions\n",
    "dtt['b3_Mo_Disc_Total'] = (\n",
    "    dtt['b3_2_Mo_Buy_Disc_DVD_All'] + \n",
    "    dtt['b3_3_Mo_Buy_Disc_Blu.ray_All'] + \n",
    "    dtt['b3_5_Mo_Rent_Disc_Store_All'] + \n",
    "    dtt['b3_6_Mo_Rent_Disc_Kiosk_All'] + \n",
    "    dtt['b3_7_Mo_Rent_Disc_Mail_All'])\n",
    "\n",
    "dtt['perc_b3_Mo_Disc_Total'] = dtt['b3_Mo_Disc_Total'] / dtt['b3_Mo_HE_Paid_Total']"
   ]
  },
  {
   "cell_type": "code",
   "execution_count": null,
   "metadata": {
    "collapsed": false
   },
   "outputs": [],
   "source": [
    "# calculates total digital transactions\n",
    "dtt['b3_Mo_Digtl_Total'] = (\n",
    "    dtt['b3_4_Mo_Buy_Digtl_All'] + \n",
    "    dtt['b3_8_Mo_Rent_Digtl_Trans_All'] + \n",
    "    dtt['b3_9_Mo_Rent_Digtl_Sub_All'])\n",
    "\n",
    "dtt['perc_b3_Mo_Digtl_Total'] = dtt['b3_Mo_Digtl_Total'] / dtt['b3_Mo_HE_Paid_Total']"
   ]
  },
  {
   "cell_type": "code",
   "execution_count": null,
   "metadata": {
    "collapsed": true
   },
   "outputs": [],
   "source": [
    "mean = dtt[['b3_Mo_HE_Paid_Total']].mean()\n",
    "std = dtt[['b3_Mo_HE_Paid_Total']].std()\n",
    "\n",
    "print mean\n",
    "print std"
   ]
  }
 ],
 "metadata": {
  "kernelspec": {
   "display_name": "Python 2",
   "language": "python",
   "name": "python2"
  },
  "language_info": {
   "codemirror_mode": {
    "name": "ipython",
    "version": 2
   },
   "file_extension": ".py",
   "mimetype": "text/x-python",
   "name": "python",
   "nbconvert_exporter": "python",
   "pygments_lexer": "ipython2",
   "version": "2.7.13"
  }
 },
 "nbformat": 4,
 "nbformat_minor": 2
}
