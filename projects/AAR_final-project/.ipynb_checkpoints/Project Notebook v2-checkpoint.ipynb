{
 "cells": [
  {
   "cell_type": "markdown",
   "metadata": {},
   "source": [
    "# Project Notebook v2"
   ]
  },
  {
   "cell_type": "markdown",
   "metadata": {},
   "source": [
    "# Notes\n",
    "    * Need to figure out how to rename empty cells for parents\n",
    "    * Need to combine disc buy and digital buy into just total buy for numbers and percents\n",
    "    * Need to figure out how to split a groupby over more than one line\n",
    "    * Need to figure out how to use compound logic/conditions in a groupby"
   ]
  },
  {
   "cell_type": "code",
   "execution_count": 1,
   "metadata": {
    "collapsed": true
   },
   "outputs": [],
   "source": [
    "%matplotlib inline\n",
    "import numpy as np\n",
    "import pandas as pd\n",
    "from matplotlib import pyplot as plt\n",
    "import seaborn as sns\n",
    "from sklearn import linear_model"
   ]
  },
  {
   "cell_type": "code",
   "execution_count": 2,
   "metadata": {
    "collapsed": false
   },
   "outputs": [
    {
     "data": {
      "text/html": [
       "<div>\n",
       "<style>\n",
       "    .dataframe thead tr:only-child th {\n",
       "        text-align: right;\n",
       "    }\n",
       "\n",
       "    .dataframe thead th {\n",
       "        text-align: left;\n",
       "    }\n",
       "\n",
       "    .dataframe tbody tr th {\n",
       "        vertical-align: top;\n",
       "    }\n",
       "</style>\n",
       "<table border=\"1\" class=\"dataframe\">\n",
       "  <thead>\n",
       "    <tr style=\"text-align: right;\">\n",
       "      <th></th>\n",
       "      <th>Gender</th>\n",
       "      <th>Age</th>\n",
       "      <th>Age_Breaks</th>\n",
       "      <th>Region2</th>\n",
       "      <th>Race</th>\n",
       "      <th>Language_Dominance</th>\n",
       "      <th>Parent</th>\n",
       "      <th>HH_Income</th>\n",
       "      <th>Employment</th>\n",
       "      <th>Education</th>\n",
       "      <th>...</th>\n",
       "      <th>Rented_Digital_iVOD</th>\n",
       "      <th>Rented_Digital_sVOD</th>\n",
       "      <th>Rented_Digital_cVOD</th>\n",
       "      <th>cqhidGroup</th>\n",
       "      <th>filter_$</th>\n",
       "      <th>ZTotal_Paid_HE_Movies</th>\n",
       "      <th>Buy_Disc_Percent</th>\n",
       "      <th>Buy_Digital_Percent</th>\n",
       "      <th>Rent_Disc_Percent</th>\n",
       "      <th>Rent_Digital_Percent</th>\n",
       "    </tr>\n",
       "    <tr>\n",
       "      <th>respid</th>\n",
       "      <th></th>\n",
       "      <th></th>\n",
       "      <th></th>\n",
       "      <th></th>\n",
       "      <th></th>\n",
       "      <th></th>\n",
       "      <th></th>\n",
       "      <th></th>\n",
       "      <th></th>\n",
       "      <th></th>\n",
       "      <th></th>\n",
       "      <th></th>\n",
       "      <th></th>\n",
       "      <th></th>\n",
       "      <th></th>\n",
       "      <th></th>\n",
       "      <th></th>\n",
       "      <th></th>\n",
       "      <th></th>\n",
       "      <th></th>\n",
       "      <th></th>\n",
       "    </tr>\n",
       "  </thead>\n",
       "  <tbody>\n",
       "    <tr>\n",
       "      <th>44</th>\n",
       "      <td>Female</td>\n",
       "      <td>20</td>\n",
       "      <td>18-24</td>\n",
       "      <td>South</td>\n",
       "      <td>Black</td>\n",
       "      <td></td>\n",
       "      <td></td>\n",
       "      <td>1 - &lt; $20K</td>\n",
       "      <td>4 - Not employed</td>\n",
       "      <td>2 - HS Grad</td>\n",
       "      <td>...</td>\n",
       "      <td>5</td>\n",
       "      <td>18</td>\n",
       "      <td>4</td>\n",
       "      <td>Gen-Pop</td>\n",
       "      <td>Selected</td>\n",
       "      <td>1.492690</td>\n",
       "      <td>0.363636</td>\n",
       "      <td>0.0</td>\n",
       "      <td>0.145455</td>\n",
       "      <td>0.490909</td>\n",
       "    </tr>\n",
       "    <tr>\n",
       "      <th>108</th>\n",
       "      <td>Male</td>\n",
       "      <td>31</td>\n",
       "      <td>25-34</td>\n",
       "      <td>Northeast</td>\n",
       "      <td>Hispanic</td>\n",
       "      <td>Only English</td>\n",
       "      <td>No</td>\n",
       "      <td>1 - &lt; $20K</td>\n",
       "      <td>4 - Not employed</td>\n",
       "      <td>2 - HS Grad</td>\n",
       "      <td>...</td>\n",
       "      <td>0</td>\n",
       "      <td>0</td>\n",
       "      <td>0</td>\n",
       "      <td>Gen-Pop</td>\n",
       "      <td>Selected</td>\n",
       "      <td>0.009386</td>\n",
       "      <td>0.157895</td>\n",
       "      <td>0.0</td>\n",
       "      <td>0.842105</td>\n",
       "      <td>0.000000</td>\n",
       "    </tr>\n",
       "    <tr>\n",
       "      <th>147</th>\n",
       "      <td>Female</td>\n",
       "      <td>19</td>\n",
       "      <td>18-24</td>\n",
       "      <td>South</td>\n",
       "      <td>White</td>\n",
       "      <td></td>\n",
       "      <td></td>\n",
       "      <td>1 - &lt; $20K</td>\n",
       "      <td>4 - Not employed</td>\n",
       "      <td>2 - HS Grad</td>\n",
       "      <td>...</td>\n",
       "      <td>0</td>\n",
       "      <td>5</td>\n",
       "      <td>0</td>\n",
       "      <td>Gen-Pop</td>\n",
       "      <td>Selected</td>\n",
       "      <td>-0.567454</td>\n",
       "      <td>0.000000</td>\n",
       "      <td>0.0</td>\n",
       "      <td>0.000000</td>\n",
       "      <td>1.000000</td>\n",
       "    </tr>\n",
       "    <tr>\n",
       "      <th>171</th>\n",
       "      <td>Female</td>\n",
       "      <td>18</td>\n",
       "      <td>18-24</td>\n",
       "      <td>Northeast</td>\n",
       "      <td>White</td>\n",
       "      <td></td>\n",
       "      <td></td>\n",
       "      <td>1 - &lt; $20K</td>\n",
       "      <td>2 - Part time</td>\n",
       "      <td>3 - Some coll</td>\n",
       "      <td>...</td>\n",
       "      <td>0</td>\n",
       "      <td>7</td>\n",
       "      <td>0</td>\n",
       "      <td>Gen-Pop</td>\n",
       "      <td>Selected</td>\n",
       "      <td>-0.485048</td>\n",
       "      <td>0.000000</td>\n",
       "      <td>0.0</td>\n",
       "      <td>0.000000</td>\n",
       "      <td>1.000000</td>\n",
       "    </tr>\n",
       "    <tr>\n",
       "      <th>174</th>\n",
       "      <td>Female</td>\n",
       "      <td>54</td>\n",
       "      <td>45-54</td>\n",
       "      <td>South</td>\n",
       "      <td>White</td>\n",
       "      <td></td>\n",
       "      <td>No</td>\n",
       "      <td>1 - &lt; $20K</td>\n",
       "      <td>4 - Not employed</td>\n",
       "      <td>2 - HS Grad</td>\n",
       "      <td>...</td>\n",
       "      <td>0</td>\n",
       "      <td>50</td>\n",
       "      <td>0</td>\n",
       "      <td>Gen-Pop</td>\n",
       "      <td>Selected</td>\n",
       "      <td>1.286676</td>\n",
       "      <td>0.000000</td>\n",
       "      <td>0.0</td>\n",
       "      <td>0.000000</td>\n",
       "      <td>1.000000</td>\n",
       "    </tr>\n",
       "  </tbody>\n",
       "</table>\n",
       "<p>5 rows × 28 columns</p>\n",
       "</div>"
      ],
      "text/plain": [
       "        Gender  Age Age_Breaks    Region2      Race Language_Dominance Parent  \\\n",
       "respid                                                                          \n",
       "44      Female   20      18-24      South     Black                             \n",
       "108       Male   31      25-34  Northeast  Hispanic       Only English     No   \n",
       "147     Female   19      18-24      South     White                             \n",
       "171     Female   18      18-24  Northeast     White                             \n",
       "174     Female   54      45-54      South     White                        No   \n",
       "\n",
       "         HH_Income        Employment      Education          ...           \\\n",
       "respid                                                       ...            \n",
       "44      1 - < $20K  4 - Not employed    2 - HS Grad          ...            \n",
       "108     1 - < $20K  4 - Not employed    2 - HS Grad          ...            \n",
       "147     1 - < $20K  4 - Not employed    2 - HS Grad          ...            \n",
       "171     1 - < $20K     2 - Part time  3 - Some coll          ...            \n",
       "174     1 - < $20K  4 - Not employed    2 - HS Grad          ...            \n",
       "\n",
       "       Rented_Digital_iVOD  Rented_Digital_sVOD  Rented_Digital_cVOD  \\\n",
       "respid                                                                 \n",
       "44                       5                   18                    4   \n",
       "108                      0                    0                    0   \n",
       "147                      0                    5                    0   \n",
       "171                      0                    7                    0   \n",
       "174                      0                   50                    0   \n",
       "\n",
       "        cqhidGroup  filter_$  ZTotal_Paid_HE_Movies  Buy_Disc_Percent  \\\n",
       "respid                                                                  \n",
       "44         Gen-Pop  Selected               1.492690          0.363636   \n",
       "108        Gen-Pop  Selected               0.009386          0.157895   \n",
       "147        Gen-Pop  Selected              -0.567454          0.000000   \n",
       "171        Gen-Pop  Selected              -0.485048          0.000000   \n",
       "174        Gen-Pop  Selected               1.286676          0.000000   \n",
       "\n",
       "        Buy_Digital_Percent  Rent_Disc_Percent  Rent_Digital_Percent  \n",
       "respid                                                                \n",
       "44                      0.0           0.145455              0.490909  \n",
       "108                     0.0           0.842105              0.000000  \n",
       "147                     0.0           0.000000              1.000000  \n",
       "171                     0.0           0.000000              1.000000  \n",
       "174                     0.0           0.000000              1.000000  \n",
       "\n",
       "[5 rows x 28 columns]"
      ]
     },
     "execution_count": 2,
     "metadata": {},
     "output_type": "execute_result"
    }
   ],
   "source": [
    "# loads in csv\n",
    "dtt = pd.read_csv(\"Data\\DTT Final Data w labels.csv\",index_col=0)\n",
    "dtt.head()"
   ]
  },
  {
   "cell_type": "code",
   "execution_count": 3,
   "metadata": {
    "collapsed": false,
    "scrolled": true
   },
   "outputs": [],
   "source": [
    "#Calculates all rollups and adds as columns\n",
    "\n",
    "#total movies bought on disc\n",
    "dtt['Total Discs Bought'] = (dtt['Bought_Disc_BD'] + dtt['Bought_Disc_DVD'])\n",
    "\n",
    "#total movies rented on disc\n",
    "dtt['Total Discs Rented'] = (dtt['Rented_Disc_Kiosk'] + dtt['Rented_Disc_Mail'] + dtt['Rented_Disc_Store'])\n",
    "\n",
    "#total movies rented on digital\n",
    "dtt['Total Digital Rented'] = (dtt['Rented_Digital_cVOD'] + dtt['Rented_Digital_iVOD'] + dtt['Rented_Digital_sVOD'])\n",
    "\n",
    "#total movies purchased\n",
    "dtt['Total Bought'] = (dtt['Bought_Disc_BD'] + dtt['Bought_Disc_DVD'] + dtt['Bought_Digital'])\n",
    "\n",
    "#total movies purchased as percent of total\n",
    "dtt['Buy_percent'] = dtt['Total Bought'].astype(float) / dtt['Total_Paid_HE_Movies']"
   ]
  },
  {
   "cell_type": "code",
   "execution_count": null,
   "metadata": {
    "collapsed": false
   },
   "outputs": [],
   "source": [
    "dtt.describe().T"
   ]
  },
  {
   "cell_type": "code",
   "execution_count": null,
   "metadata": {
    "collapsed": true
   },
   "outputs": [],
   "source": [
    "for x in dtt.columns.values:\n",
    "    print x"
   ]
  },
  {
   "cell_type": "markdown",
   "metadata": {},
   "source": [
    "# Getting Dummies"
   ]
  },
  {
   "cell_type": "markdown",
   "metadata": {},
   "source": [
    "## Gender"
   ]
  },
  {
   "cell_type": "code",
   "execution_count": 4,
   "metadata": {
    "collapsed": false
   },
   "outputs": [
    {
     "name": "stdout",
     "output_type": "stream",
     "text": [
      "<class 'pandas.core.frame.DataFrame'>\n",
      "Int64Index: 1925 entries, 44 to 19417\n",
      "Data columns (total 1 columns):\n",
      "Gender_Male    1925 non-null uint8\n",
      "dtypes: uint8(1)\n",
      "memory usage: 16.9 KB\n"
     ]
    }
   ],
   "source": [
    "dGender = pd.get_dummies(dtt.Gender, prefix='Gender', drop_first = True)\n",
    "dGender.info()"
   ]
  },
  {
   "cell_type": "markdown",
   "metadata": {},
   "source": [
    "## Age_Breaks"
   ]
  },
  {
   "cell_type": "code",
   "execution_count": 5,
   "metadata": {
    "collapsed": false
   },
   "outputs": [
    {
     "name": "stdout",
     "output_type": "stream",
     "text": [
      "<class 'pandas.core.frame.DataFrame'>\n",
      "Int64Index: 1925 entries, 44 to 19417\n",
      "Data columns (total 6 columns):\n",
      "Age_18-24    1925 non-null uint8\n",
      "Age_25-34    1925 non-null uint8\n",
      "Age_35-44    1925 non-null uint8\n",
      "Age_45-54    1925 non-null uint8\n",
      "Age_55-64    1925 non-null uint8\n",
      "Age_65-74    1925 non-null uint8\n",
      "dtypes: uint8(6)\n",
      "memory usage: 26.3 KB\n"
     ]
    }
   ],
   "source": [
    "dAge_Breaks = pd.get_dummies(dtt.Age_Breaks, prefix = 'Age', drop_first= True)\n",
    "dAge_Breaks.info(0)"
   ]
  },
  {
   "cell_type": "markdown",
   "metadata": {},
   "source": [
    "## Race"
   ]
  },
  {
   "cell_type": "code",
   "execution_count": 6,
   "metadata": {
    "collapsed": false
   },
   "outputs": [
    {
     "name": "stdout",
     "output_type": "stream",
     "text": [
      "<class 'pandas.core.frame.DataFrame'>\n",
      "Int64Index: 1925 entries, 44 to 19417\n",
      "Data columns (total 4 columns):\n",
      "Race_Black       1925 non-null uint8\n",
      "Race_Hispanic    1925 non-null uint8\n",
      "Race_Other       1925 non-null uint8\n",
      "Race_White       1925 non-null uint8\n",
      "dtypes: uint8(4)\n",
      "memory usage: 22.6 KB\n"
     ]
    }
   ],
   "source": [
    "dRace = pd.get_dummies(dtt.Race, prefix = 'Race',drop_first=True)\n",
    "dRace.info()"
   ]
  },
  {
   "cell_type": "markdown",
   "metadata": {},
   "source": [
    "## Region"
   ]
  },
  {
   "cell_type": "code",
   "execution_count": 7,
   "metadata": {
    "collapsed": false
   },
   "outputs": [
    {
     "name": "stdout",
     "output_type": "stream",
     "text": [
      "<class 'pandas.core.frame.DataFrame'>\n",
      "Int64Index: 1925 entries, 44 to 19417\n",
      "Data columns (total 3 columns):\n",
      "Region_Northeast    1925 non-null uint8\n",
      "Region_South        1925 non-null uint8\n",
      "Region_West         1925 non-null uint8\n",
      "dtypes: uint8(3)\n",
      "memory usage: 20.7 KB\n"
     ]
    }
   ],
   "source": [
    "dRegion = pd.get_dummies(dtt.Region2,prefix='Region', drop_first=True)\n",
    "dRegion.info()"
   ]
  },
  {
   "cell_type": "markdown",
   "metadata": {},
   "source": [
    "## Parent"
   ]
  },
  {
   "cell_type": "code",
   "execution_count": 9,
   "metadata": {
    "collapsed": false
   },
   "outputs": [
    {
     "name": "stdout",
     "output_type": "stream",
     "text": [
      "<class 'pandas.core.frame.DataFrame'>\n",
      "Int64Index: 1925 entries, 44 to 19417\n",
      "Data columns (total 2 columns):\n",
      "Parent_No     1925 non-null uint8\n",
      "Parent_Yes    1925 non-null uint8\n",
      "dtypes: uint8(2)\n",
      "memory usage: 18.8 KB\n"
     ]
    }
   ],
   "source": [
    "dParent = pd.get_dummies(dtt.Parent,prefix='Parent',drop_first=True)\n",
    "dParent.info()"
   ]
  },
  {
   "cell_type": "markdown",
   "metadata": {},
   "source": [
    "## Income"
   ]
  },
  {
   "cell_type": "code",
   "execution_count": 10,
   "metadata": {
    "collapsed": false
   },
   "outputs": [
    {
     "name": "stdout",
     "output_type": "stream",
     "text": [
      "<class 'pandas.core.frame.DataFrame'>\n",
      "Int64Index: 1925 entries, 44 to 19417\n",
      "Data columns (total 9 columns):\n",
      "Income_2 - $20 to $29K         1925 non-null uint8\n",
      "Income_3 - $30 to $39K         1925 non-null uint8\n",
      "Income_4 - $40 to $59K         1925 non-null uint8\n",
      "Income_5 - $60 to $74K         1925 non-null uint8\n",
      "Income_6 - $75 to $99K         1925 non-null uint8\n",
      "Income_7 - $100 to $149K       1925 non-null uint8\n",
      "Income_8 - $150 to $199K       1925 non-null uint8\n",
      "Income_9 - $200K+              1925 non-null uint8\n",
      "Income_Prefer not to answer    1925 non-null uint8\n",
      "dtypes: uint8(9)\n",
      "memory usage: 32.0 KB\n"
     ]
    }
   ],
   "source": [
    "dHH_Income = pd.get_dummies(dtt.HH_Income,prefix='Income',drop_first=True)\n",
    "dHH_Income.info()"
   ]
  },
  {
   "cell_type": "markdown",
   "metadata": {},
   "source": [
    "## Employment"
   ]
  },
  {
   "cell_type": "code",
   "execution_count": 12,
   "metadata": {
    "collapsed": false
   },
   "outputs": [
    {
     "name": "stdout",
     "output_type": "stream",
     "text": [
      "<class 'pandas.core.frame.DataFrame'>\n",
      "Int64Index: 1925 entries, 44 to 19417\n",
      "Data columns (total 3 columns):\n",
      "Employment_2 - Part time       1925 non-null uint8\n",
      "Employment_3 - Retired         1925 non-null uint8\n",
      "Employment_4 - Not employed    1925 non-null uint8\n",
      "dtypes: uint8(3)\n",
      "memory usage: 20.7 KB\n"
     ]
    }
   ],
   "source": [
    "dEmployment = pd.get_dummies(dtt.Employment,prefix='Employment', drop_first=True)\n",
    "dEmployment.info()"
   ]
  },
  {
   "cell_type": "markdown",
   "metadata": {},
   "source": [
    "## Education"
   ]
  },
  {
   "cell_type": "code",
   "execution_count": 13,
   "metadata": {
    "collapsed": false
   },
   "outputs": [
    {
     "name": "stdout",
     "output_type": "stream",
     "text": [
      "<class 'pandas.core.frame.DataFrame'>\n",
      "Int64Index: 1925 entries, 44 to 19417\n",
      "Data columns (total 6 columns):\n",
      "Education_2 - HS Grad                 1925 non-null uint8\n",
      "Education_3 - Some coll               1925 non-null uint8\n",
      "Education_4 - Coll Grad               1925 non-null uint8\n",
      "Education_5 - Some Post-grad          1925 non-null uint8\n",
      "Education_6 - Post-grad               1925 non-null uint8\n",
      "Education_7 - Prefer not to answer    1925 non-null uint8\n",
      "dtypes: uint8(6)\n",
      "memory usage: 26.3 KB\n"
     ]
    }
   ],
   "source": [
    "dEducation = pd.get_dummies(dtt.Education,prefix='Education', drop_first=True)\n",
    "dEducation.info()"
   ]
  },
  {
   "cell_type": "markdown",
   "metadata": {},
   "source": [
    "## Marital Status"
   ]
  },
  {
   "cell_type": "code",
   "execution_count": 14,
   "metadata": {
    "collapsed": false
   },
   "outputs": [
    {
     "name": "stdout",
     "output_type": "stream",
     "text": [
      "<class 'pandas.core.frame.DataFrame'>\n",
      "Int64Index: 1925 entries, 44 to 19417\n",
      "Data columns (total 3 columns):\n",
      "Marital_Status_Married                 1925 non-null uint8\n",
      "Marital_Status_Prefer not to answer    1925 non-null uint8\n",
      "Marital_Status_Single                  1925 non-null uint8\n",
      "dtypes: uint8(3)\n",
      "memory usage: 20.7 KB\n"
     ]
    }
   ],
   "source": [
    "dMarital_Status = pd.get_dummies(dtt.Marital_Status,prefix='Marital_Status', drop_first=True)\n",
    "dMarital_Status.info()"
   ]
  },
  {
   "cell_type": "code",
   "execution_count": 15,
   "metadata": {
    "collapsed": true
   },
   "outputs": [],
   "source": [
    "dtt = pd.concat([dtt, dGender, dAge_Breaks, dRace, dRegion, dParent, dHH_Income, dEmployment, \n",
    "                 dEducation, dMarital_Status], axis=1)"
   ]
  },
  {
   "cell_type": "code",
   "execution_count": 16,
   "metadata": {
    "collapsed": false
   },
   "outputs": [
    {
     "name": "stdout",
     "output_type": "stream",
     "text": [
      "<class 'pandas.core.frame.DataFrame'>\n",
      "Int64Index: 1925 entries, 44 to 19417\n",
      "Data columns (total 70 columns):\n",
      "Gender                                 1925 non-null object\n",
      "Age                                    1925 non-null int64\n",
      "Age_Breaks                             1925 non-null object\n",
      "Region2                                1925 non-null object\n",
      "Race                                   1925 non-null object\n",
      "Language_Dominance                     1925 non-null object\n",
      "Parent                                 1925 non-null object\n",
      "HH_Income                              1925 non-null object\n",
      "Employment                             1925 non-null object\n",
      "Education                              1925 non-null object\n",
      "Marital_Status                         1925 non-null object\n",
      "Total_Paid_HE_Movies                   1925 non-null int64\n",
      "Bought_Disc_DVD                        1925 non-null int64\n",
      "Bought_Disc_BD                         1925 non-null int64\n",
      "Bought_Digital                         1925 non-null int64\n",
      "Rented_Disc_Store                      1925 non-null int64\n",
      "Rented_Disc_Kiosk                      1925 non-null int64\n",
      "Rented_Disc_Mail                       1925 non-null int64\n",
      "Rented_Digital_iVOD                    1925 non-null int64\n",
      "Rented_Digital_sVOD                    1925 non-null int64\n",
      "Rented_Digital_cVOD                    1925 non-null int64\n",
      "cqhidGroup                             1925 non-null object\n",
      "filter_$                               1925 non-null object\n",
      "ZTotal_Paid_HE_Movies                  1925 non-null float64\n",
      "Buy_Disc_Percent                       1925 non-null float64\n",
      "Buy_Digital_Percent                    1925 non-null float64\n",
      "Rent_Disc_Percent                      1925 non-null float64\n",
      "Rent_Digital_Percent                   1925 non-null float64\n",
      "Total Discs Bought                     1925 non-null int64\n",
      "Total Discs Rented                     1925 non-null int64\n",
      "Total Digital Rented                   1925 non-null int64\n",
      "Total Bought                           1925 non-null int64\n",
      "Buy_percent                            1925 non-null float64\n",
      "Gender_Male                            1925 non-null uint8\n",
      "Age_18-24                              1925 non-null uint8\n",
      "Age_25-34                              1925 non-null uint8\n",
      "Age_35-44                              1925 non-null uint8\n",
      "Age_45-54                              1925 non-null uint8\n",
      "Age_55-64                              1925 non-null uint8\n",
      "Age_65-74                              1925 non-null uint8\n",
      "Race_Black                             1925 non-null uint8\n",
      "Race_Hispanic                          1925 non-null uint8\n",
      "Race_Other                             1925 non-null uint8\n",
      "Race_White                             1925 non-null uint8\n",
      "Region_Northeast                       1925 non-null uint8\n",
      "Region_South                           1925 non-null uint8\n",
      "Region_West                            1925 non-null uint8\n",
      "Parent_No                              1925 non-null uint8\n",
      "Parent_Yes                             1925 non-null uint8\n",
      "Income_2 - $20 to $29K                 1925 non-null uint8\n",
      "Income_3 - $30 to $39K                 1925 non-null uint8\n",
      "Income_4 - $40 to $59K                 1925 non-null uint8\n",
      "Income_5 - $60 to $74K                 1925 non-null uint8\n",
      "Income_6 - $75 to $99K                 1925 non-null uint8\n",
      "Income_7 - $100 to $149K               1925 non-null uint8\n",
      "Income_8 - $150 to $199K               1925 non-null uint8\n",
      "Income_9 - $200K+                      1925 non-null uint8\n",
      "Income_Prefer not to answer            1925 non-null uint8\n",
      "Employment_2 - Part time               1925 non-null uint8\n",
      "Employment_3 - Retired                 1925 non-null uint8\n",
      "Employment_4 - Not employed            1925 non-null uint8\n",
      "Education_2 - HS Grad                  1925 non-null uint8\n",
      "Education_3 - Some coll                1925 non-null uint8\n",
      "Education_4 - Coll Grad                1925 non-null uint8\n",
      "Education_5 - Some Post-grad           1925 non-null uint8\n",
      "Education_6 - Post-grad                1925 non-null uint8\n",
      "Education_7 - Prefer not to answer     1925 non-null uint8\n",
      "Marital_Status_Married                 1925 non-null uint8\n",
      "Marital_Status_Prefer not to answer    1925 non-null uint8\n",
      "Marital_Status_Single                  1925 non-null uint8\n",
      "dtypes: float64(6), int64(15), object(12), uint8(37)\n",
      "memory usage: 580.9+ KB\n"
     ]
    }
   ],
   "source": [
    "dtt.info()"
   ]
  },
  {
   "cell_type": "markdown",
   "metadata": {},
   "source": [
    "## Model Building"
   ]
  },
  {
   "cell_type": "code",
   "execution_count": 17,
   "metadata": {
    "collapsed": false
   },
   "outputs": [
    {
     "name": "stderr",
     "output_type": "stream",
     "text": [
      "C:\\Users\\anne1\\Anaconda2\\lib\\site-packages\\statsmodels\\compat\\pandas.py:56: FutureWarning: The pandas.core.datetools module is deprecated and will be removed in a future version. Please use the pandas.tseries module instead.\n",
      "  from pandas.core import datetools\n"
     ]
    }
   ],
   "source": [
    "from scipy import stats\n",
    "import statsmodels.api as sm\n",
    "\n",
    "from sklearn import feature_selection, linear_model"
   ]
  },
  {
   "cell_type": "code",
   "execution_count": 31,
   "metadata": {
    "collapsed": false
   },
   "outputs": [],
   "source": [
    "def get_linear_model_metrics(X, y, algo):\n",
    "    # get the pvalue of X given y. Ignore f-stat for now.\n",
    "    pvals = feature_selection.f_regression(X, y)[1]\n",
    "    # start with an empty linear regression object\n",
    "    # .fit() runs the linear regression function on X and y\n",
    "    algo.fit(X,y)\n",
    "    residuals = (y-algo.predict(X)).values\n",
    "\n",
    "    # print the necessary values\n",
    "    print 'P Values:', pvals\n",
    "    print 'Coefficients:', algo.coef_\n",
    "    print 'y-intercept:', algo.intercept_\n",
    "    print 'R-Squared:', algo.score(X,y)\n",
    "    plt.figure()\n",
    "    plt.hist(residuals, bins=np.ceil(np.sqrt(len(y))).astype(int))\n",
    "    # keep the model\n",
    "    return algo\n"
   ]
  },
  {
   "cell_type": "markdown",
   "metadata": {},
   "source": [
    "### Creating Feature Sets"
   ]
  },
  {
   "cell_type": "code",
   "execution_count": 19,
   "metadata": {
    "collapsed": true
   },
   "outputs": [],
   "source": [
    "XGender = dtt[['Gender_Male']]"
   ]
  },
  {
   "cell_type": "code",
   "execution_count": 23,
   "metadata": {
    "collapsed": false
   },
   "outputs": [
    {
     "name": "stdout",
     "output_type": "stream",
     "text": [
      "<class 'pandas.core.frame.DataFrame'>\n",
      "Int64Index: 1925 entries, 44 to 19417\n",
      "Data columns (total 33 columns):\n",
      "Gender_Male                           1925 non-null uint8\n",
      "Age                                   1925 non-null int64\n",
      "Race_Black                            1925 non-null uint8\n",
      "Race_Hispanic                         1925 non-null uint8\n",
      "Race_Other                            1925 non-null uint8\n",
      "Race_White                            1925 non-null uint8\n",
      "Parent_Yes                            1925 non-null uint8\n",
      "Region_Northeast                      1925 non-null uint8\n",
      "Region_South                          1925 non-null uint8\n",
      "Region_West                           1925 non-null uint8\n",
      "Income_2 - $20 to $29K                1925 non-null uint8\n",
      "Income_3 - $30 to $39K                1925 non-null uint8\n",
      "Income_4 - $40 to $59K                1925 non-null uint8\n",
      "Income_5 - $60 to $74K                1925 non-null uint8\n",
      "Income_6 - $75 to $99K                1925 non-null uint8\n",
      "Income_7 - $100 to $149K              1925 non-null uint8\n",
      "Income_8 - $150 to $199K              1925 non-null uint8\n",
      "Income_9 - $200K+                     1925 non-null uint8\n",
      "Income_Prefer not to answer           1925 non-null uint8\n",
      "Employment_2 - Part time              1925 non-null uint8\n",
      "Employment_3 - Retired                1925 non-null uint8\n",
      "Employment_4 - Not employed           1925 non-null uint8\n",
      "Education_2 - HS Grad                 1925 non-null uint8\n",
      "Education_3 - Some coll               1925 non-null uint8\n",
      "Education_4 - Coll Grad               1925 non-null uint8\n",
      "Education_5 - Some Post-grad          1925 non-null uint8\n",
      "Education_6 - Post-grad               1925 non-null uint8\n",
      "Education_7 - Prefer not to answer    1925 non-null uint8\n",
      "Marital_Status_Married                1925 non-null uint8\n",
      "Marital_Status_Single                 1925 non-null uint8\n",
      "Buy_percent                           1925 non-null float64\n",
      "Rent_Disc_Percent                     1925 non-null float64\n",
      "Rent_Digital_Percent                  1925 non-null float64\n",
      "dtypes: float64(3), int64(1), uint8(29)\n",
      "memory usage: 129.7 KB\n"
     ]
    }
   ],
   "source": [
    "XAge_Breaks = dtt[['Age_18-24', 'Age_25-34', 'Age_35-44', 'Age_45-54', 'Age_55-64', 'Age_65-74']]\n",
    "\n",
    "XAge = dtt[['Age']]\n",
    "\n",
    "XRace = dtt[['Race_Black','Race_Hispanic','Race_Other','Race_White']]\n",
    "\n",
    "XParent = dtt[['Parent_Yes']]\n",
    "\n",
    "XRegion = dtt[['Region_Northeast', 'Region_South', 'Region_West']]\n",
    "\n",
    "\n",
    "XIncome = dtt[['Income_2 - $20 to $29K', 'Income_3 - $30 to $39K',\n",
    "               'Income_4 - $40 to $59K', 'Income_5 - $60 to $74K', \n",
    "               'Income_6 - $75 to $99K', 'Income_7 - $100 to $149K', \n",
    "               'Income_8 - $150 to $199K', 'Income_9 - $200K+', 'Income_Prefer not to answer']]\n",
    "\n",
    "XEmpl = dtt[['Employment_2 - Part time', \n",
    "             'Employment_3 - Retired', 'Employment_4 - Not employed']]\n",
    "\n",
    "\n",
    "XEdu = dtt[['Education_2 - HS Grad', 'Education_3 - Some coll', \n",
    "            'Education_4 - Coll Grad', 'Education_5 - Some Post-grad', 'Education_6 - Post-grad', \n",
    "            'Education_7 - Prefer not to answer']]\n",
    "\n",
    "\n",
    "XMar = dtt[['Marital_Status_Married', 'Marital_Status_Single']]\n",
    "\n",
    "XPercent = dtt[['Buy_percent', 'Rent_Disc_Percent', 'Rent_Digital_Percent']]\n",
    "\n",
    "XMethod = dtt[['Total Bought', 'Total Discs Rented', 'Total Digital Rented']]\n",
    "\n",
    "XAll_Age_Breaks = pd.concat([XGender, XAge_Breaks, XRace, XParent, XRegion, XIncome, XEmpl, \n",
    "                      XEdu, XMar, XPercent],axis=1)\n",
    "\n",
    "XAll_Age = pd.concat([XGender, XAge, XRace, XParent, XRegion, XIncome, XEmpl, \n",
    "                      XEdu, XMar, XPercent],axis=1)\n",
    "\n",
    "XAll_Age.info()"
   ]
  },
  {
   "cell_type": "markdown",
   "metadata": {},
   "source": [
    "### Using all (age_breaks)"
   ]
  },
  {
   "cell_type": "code",
   "execution_count": 24,
   "metadata": {
    "collapsed": false
   },
   "outputs": [
    {
     "name": "stdout",
     "output_type": "stream",
     "text": [
      "                             OLS Regression Results                             \n",
      "================================================================================\n",
      "Dep. Variable:     Total_Paid_HE_Movies   R-squared:                       0.096\n",
      "Model:                              OLS   Adj. R-squared:                  0.078\n",
      "Method:                   Least Squares   F-statistic:                     5.386\n",
      "Date:                  Tue, 11 Jul 2017   Prob (F-statistic):           1.12e-22\n",
      "Time:                          15:51:06   Log-Likelihood:                -8033.9\n",
      "No. Observations:                  1925   AIC:                         1.614e+04\n",
      "Df Residuals:                      1887   BIC:                         1.636e+04\n",
      "Df Model:                            37                                         \n",
      "Covariance Type:              nonrobust                                         \n",
      "======================================================================================================\n",
      "                                         coef    std err          t      P>|t|      [0.025      0.975]\n",
      "------------------------------------------------------------------------------------------------------\n",
      "const                                  9.6982      2.501      3.878      0.000       4.794      14.602\n",
      "Gender_Male                            0.6607      0.765      0.864      0.388      -0.839       2.160\n",
      "Age_18-24                             -3.8562      2.017     -1.912      0.056      -7.812       0.099\n",
      "Age_25-34                             -0.3853      1.997     -0.193      0.847      -4.301       3.531\n",
      "Age_35-44                             -0.9375      2.027     -0.463      0.644      -4.913       3.038\n",
      "Age_45-54                             -5.1465      1.958     -2.629      0.009      -8.986      -1.307\n",
      "Age_55-64                             -6.0392      2.014     -2.998      0.003      -9.990      -2.089\n",
      "Age_65-74                             -8.1753      2.530     -3.232      0.001     -13.137      -3.214\n",
      "Race_Black                             3.4718      2.135      1.626      0.104      -0.715       7.658\n",
      "Race_Hispanic                          4.0360      1.972      2.047      0.041       0.169       7.903\n",
      "Race_Other                             4.7118      2.912      1.618      0.106      -1.000      10.424\n",
      "Race_White                             0.8666      1.824      0.475      0.635      -2.711       4.444\n",
      "Parent_Yes                             1.9179      0.950      2.019      0.044       0.055       3.781\n",
      "Region_Northeast                       0.4498      1.119      0.402      0.688      -1.745       2.644\n",
      "Region_South                           1.6590      1.000      1.659      0.097      -0.302       3.621\n",
      "Region_West                            1.4237      1.121      1.269      0.204      -0.776       3.623\n",
      "Income_2 - $20 to $29K                 1.1395      1.753      0.650      0.516      -2.299       4.578\n",
      "Income_3 - $30 to $39K                 1.5737      1.766      0.891      0.373      -1.890       5.037\n",
      "Income_4 - $40 to $59K                 1.3606      1.602      0.849      0.396      -1.782       4.503\n",
      "Income_5 - $60 to $74K                 2.6684      1.730      1.542      0.123      -0.724       6.061\n",
      "Income_6 - $75 to $99K                 1.6302      1.694      0.962      0.336      -1.692       4.952\n",
      "Income_7 - $100 to $149K               2.1617      1.754      1.232      0.218      -1.278       5.602\n",
      "Income_8 - $150 to $199K               1.5677      2.320      0.676      0.499      -2.982       6.118\n",
      "Income_9 - $200K+                      3.1276      2.734      1.144      0.253      -2.234       8.489\n",
      "Income_Prefer not to answer            1.2684      2.237      0.567      0.571      -3.118       5.655\n",
      "Employment_2 - Part time              -2.3914      1.205     -1.985      0.047      -4.754      -0.029\n",
      "Employment_3 - Retired                -0.8503      1.597     -0.533      0.594      -3.982       2.281\n",
      "Employment_4 - Not employed           -4.3340      1.068     -4.058      0.000      -6.429      -2.239\n",
      "Education_2 - HS Grad                  3.4944      2.252      1.552      0.121      -0.923       7.911\n",
      "Education_3 - Some coll                1.7464      2.177      0.802      0.422      -2.523       6.015\n",
      "Education_4 - Coll Grad                2.2920      2.223      1.031      0.303      -2.068       6.652\n",
      "Education_5 - Some Post-grad           1.5750      2.922      0.539      0.590      -4.156       7.306\n",
      "Education_6 - Post-grad               -1.1933      2.375     -0.503      0.615      -5.850       3.464\n",
      "Education_7 - Prefer not to answer    -3.0526      4.870     -0.627      0.531     -12.603       6.498\n",
      "Marital_Status_Married                 0.3589      1.384      0.259      0.795      -2.355       3.073\n",
      "Marital_Status_Single                 -0.0708      1.389     -0.051      0.959      -2.795       2.654\n",
      "Buy_percent                           -2.7417      1.150     -2.385      0.017      -4.997      -0.487\n",
      "Rent_Disc_Percent                      4.8423      1.203      4.026      0.000       2.483       7.201\n",
      "Rent_Digital_Percent                   7.5976      1.055      7.204      0.000       5.529       9.666\n",
      "==============================================================================\n",
      "Omnibus:                      678.343   Durbin-Watson:                   1.970\n",
      "Prob(Omnibus):                  0.000   Jarque-Bera (JB):             2169.250\n",
      "Skew:                           1.791   Prob(JB):                         0.00\n",
      "Kurtosis:                       6.770   Cond. No.                     7.20e+15\n",
      "==============================================================================\n",
      "\n",
      "Warnings:\n",
      "[1] Standard Errors assume that the covariance matrix of the errors is correctly specified.\n",
      "[2] The smallest eigenvalue is 1.31e-28. This might indicate that there are\n",
      "strong multicollinearity problems or that the design matrix is singular.\n"
     ]
    }
   ],
   "source": [
    "XAll_Age_Breaks = sm.add_constant(XAll_Age_Breaks) # another way to add a constant row for an intercept\n",
    "y = dtt['Total_Paid_HE_Movies']\n",
    "\n",
    "model_all = sm.OLS(y, XAll_Age_Breaks)\n",
    "results = model_all.fit()\n",
    "print(results.summary())"
   ]
  },
  {
   "cell_type": "markdown",
   "metadata": {},
   "source": [
    "### Gender Alone"
   ]
  },
  {
   "cell_type": "code",
   "execution_count": null,
   "metadata": {
    "collapsed": false
   },
   "outputs": [],
   "source": [
    "XGender = sm.add_constant(XGender) # another way to add a constant row for an intercept\n",
    "y = dtt['Total_Paid_HE_Movies']\n",
    "\n",
    "model = sm.OLS(y, XGender)\n",
    "results = model.fit()\n",
    "print(results.summary())"
   ]
  },
  {
   "cell_type": "markdown",
   "metadata": {},
   "source": [
    "### Age Breaks"
   ]
  },
  {
   "cell_type": "code",
   "execution_count": null,
   "metadata": {
    "collapsed": true
   },
   "outputs": [],
   "source": [
    "XAge_Breaks = sm.add_constant(XAge_Breaks) # another way to add a constant row for an intercept\n",
    "y = dtt['Total_Paid_HE_Movies']\n",
    "\n",
    "model = sm.OLS(y, XAge_Breaks)\n",
    "results = model.fit()\n",
    "print(results.summary())"
   ]
  },
  {
   "cell_type": "markdown",
   "metadata": {},
   "source": [
    "### Age (continuous)"
   ]
  },
  {
   "cell_type": "code",
   "execution_count": null,
   "metadata": {
    "collapsed": true
   },
   "outputs": [],
   "source": [
    "XAge = sm.add_constant(XAge) # another way to add a constant row for an intercept\n",
    "y = dtt['Total_Paid_HE_Movies']\n",
    "\n",
    "model = sm.OLS(y, XAge)\n",
    "results = model.fit()\n",
    "print(results.summary())"
   ]
  },
  {
   "cell_type": "markdown",
   "metadata": {},
   "source": [
    "### Race"
   ]
  },
  {
   "cell_type": "code",
   "execution_count": null,
   "metadata": {
    "collapsed": true
   },
   "outputs": [],
   "source": [
    "XRace = sm.add_constant(XRace) # another way to add a constant row for an intercept\n",
    "y = dtt['Total_Paid_HE_Movies']\n",
    "\n",
    "model = sm.OLS(y, XRace)\n",
    "results = model.fit()\n",
    "print(results.summary())"
   ]
  },
  {
   "cell_type": "markdown",
   "metadata": {},
   "source": [
    "### Parent"
   ]
  },
  {
   "cell_type": "code",
   "execution_count": null,
   "metadata": {
    "collapsed": true
   },
   "outputs": [],
   "source": [
    "XParent = sm.add_constant(XParent) # another way to add a constant row for an intercept\n",
    "y = dtt['Total_Paid_HE_Movies']\n",
    "\n",
    "model = sm.OLS(y, XParent)\n",
    "results = model.fit()\n",
    "print(results.summary())"
   ]
  },
  {
   "cell_type": "markdown",
   "metadata": {},
   "source": [
    "### Region"
   ]
  },
  {
   "cell_type": "code",
   "execution_count": null,
   "metadata": {
    "collapsed": true
   },
   "outputs": [],
   "source": [
    "XRegion = sm.add_constant(XRegion) # another way to add a constant row for an intercept\n",
    "y = dtt['Total_Paid_HE_Movies']\n",
    "\n",
    "model = sm.OLS(y, XRegion)\n",
    "results = model.fit()\n",
    "print(results.summary())"
   ]
  },
  {
   "cell_type": "markdown",
   "metadata": {},
   "source": [
    "### Income"
   ]
  },
  {
   "cell_type": "code",
   "execution_count": null,
   "metadata": {
    "collapsed": true
   },
   "outputs": [],
   "source": [
    "XIncome = sm.add_constant(XIncome) # another way to add a constant row for an intercept\n",
    "y = dtt['Total_Paid_HE_Movies']\n",
    "\n",
    "model = sm.OLS(y, XIncome)\n",
    "results = model.fit()\n",
    "print(results.summary())"
   ]
  },
  {
   "cell_type": "markdown",
   "metadata": {},
   "source": [
    "### Consumption as Percent"
   ]
  },
  {
   "cell_type": "code",
   "execution_count": null,
   "metadata": {
    "collapsed": true
   },
   "outputs": [],
   "source": [
    "XPercent = sm.add_constant(XPercent) # another way to add a constant row for an intercept\n",
    "y = dtt['Total_Paid_HE_Movies']\n",
    "\n",
    "model = sm.OLS(y, XPercent)\n",
    "results = model.fit()\n",
    "print(results.summary())"
   ]
  },
  {
   "cell_type": "markdown",
   "metadata": {},
   "source": [
    "# Using Sci-Kit Learn"
   ]
  },
  {
   "cell_type": "code",
   "execution_count": 32,
   "metadata": {
    "collapsed": false
   },
   "outputs": [
    {
     "name": "stdout",
     "output_type": "stream",
     "text": [
      "P Values: [             nan   1.01613262e-01   2.35910367e-01   1.20622756e-05\n",
      "   1.26619074e-04   1.06806691e-01   8.62178923e-04   3.31624824e-04\n",
      "   5.23092916e-01   6.59295549e-05   6.77632197e-01   1.34826775e-03\n",
      "   5.88569078e-08   3.99968216e-01   1.65425363e-01   3.92120772e-01\n",
      "   2.78978216e-01   4.91351147e-01   6.56180401e-01   2.69242386e-01\n",
      "   3.21499251e-01   9.53315669e-02   6.65261372e-01   4.95005677e-01\n",
      "   1.66031470e-01   2.75169711e-01   2.01694013e-03   3.42073268e-04\n",
      "   4.58140773e-01   5.83616859e-01   5.79960202e-03   5.86413229e-01\n",
      "   3.10808923e-01   2.74649211e-01   5.81241253e-02   4.65098188e-02\n",
      "   2.98095961e-15   5.76916602e-01   1.11915493e-10]\n",
      "Coefficients: [ 0.          0.60703604 -0.          2.6854628   2.14290116 -0.61166844\n",
      " -1.35231926 -2.66344471  0.          1.29122246  0.         -1.3089674\n",
      "  2.07602841 -0.          0.60209167  0.04287327 -0.         -0.         -0.\n",
      "  0.09552445  0.          0.         -0.          0.         -0.\n",
      " -1.14895572 -0.59236056 -2.97756624  0.11636278 -0.          0.3514503   0.\n",
      " -1.67726967 -0.          0.12717613 -0.         -6.7385955  -0.\n",
      "  2.39499787]\n",
      "y-intercept: 16.864750209\n",
      "R-Squared: 0.083759245882\n"
     ]
    },
    {
     "data": {
      "text/plain": [
       "LassoCV(alphas=None, copy_X=True, cv=None, eps=0.001, fit_intercept=True,\n",
       "    max_iter=1000, n_alphas=100, n_jobs=1, normalize=False, positive=False,\n",
       "    precompute='auto', random_state=None, selection='cyclic', tol=0.0001,\n",
       "    verbose=False)"
      ]
     },
     "execution_count": 32,
     "metadata": {},
     "output_type": "execute_result"
    },
    {
     "data": {
      "image/png": "[encoded data removed]",
      "text/plain": [
       "<matplotlib.figure.Figure at 0xe36d198>"
      ]
     },
     "metadata": {},
     "output_type": "display_data"
    }
   ],
   "source": [
    "from sklearn import feature_selection, linear_model\n",
    "\n",
    "from sklearn.model_selection import cross_val_score\n",
    "\n",
    "model = linear_model.LassoCV()\n",
    "model.fit(XAll_Age_Breaks,dtt['Total_Paid_HE_Movies'])\n",
    "\n",
    "get_linear_model_metrics(XAll_Age_Breaks,dtt['Total_Paid_HE_Movies'],model)\n",
    "\n"
   ]
  },
  {
   "cell_type": "code",
   "execution_count": null,
   "metadata": {
    "collapsed": true
   },
   "outputs": [],
   "source": [
    "scores = cross_val_score(loan_model, X, y=result['FullyFunded'], groups=None, scoring='roc_auc', cv=5, \n",
    "                n_jobs=1, verbose=0, fit_params=None, pre_dispatch='2*n_jobs')\n",
    "\n",
    "print scores.mean()"
   ]
  },
  {
   "cell_type": "code",
   "execution_count": null,
   "metadata": {
    "collapsed": false,
    "scrolled": true
   },
   "outputs": [],
   "source": [
    "X = mammals[['bodywt']]\n",
    "y = mammals['brainwt']\n",
    "lm = linear_model.LinearRegression()\n",
    "lm = get_linear_model_metrics(X, y, lm)"
   ]
  },
  {
   "cell_type": "code",
   "execution_count": null,
   "metadata": {
    "collapsed": true
   },
   "outputs": [],
   "source": [
    "XAll = pd.concat([XGender, XAge_Breaks, XRace, XRegion, XIncome, Xempl, Xedu, Xmar, Xpercent, Xmethod],axis=1)\n",
    "XAll.info()"
   ]
  },
  {
   "cell_type": "code",
   "execution_count": null,
   "metadata": {
    "collapsed": true
   },
   "outputs": [],
   "source": [
    "XAll.drop('const', axis=1)\n",
    "XAll.info()"
   ]
  },
  {
   "cell_type": "markdown",
   "metadata": {},
   "source": [
    "# Key Measures by Demographics"
   ]
  },
  {
   "cell_type": "code",
   "execution_count": null,
   "metadata": {
    "collapsed": true
   },
   "outputs": [],
   "source": [
    "Cons_Meas_wTot = ['Total_Paid_HE_Movies','Total Bought','Total Discs Rented',\n",
    "                  'Total Digital Rented']\n",
    "\n",
    "Cons_Meas_noTot = ['Total Bought','Total Discs Rented','Total Digital Rented']"
   ]
  },
  {
   "cell_type": "markdown",
   "metadata": {},
   "source": [
    "### Consumption by Gender"
   ]
  },
  {
   "cell_type": "code",
   "execution_count": null,
   "metadata": {
    "collapsed": true
   },
   "outputs": [],
   "source": [
    "dtt.groupby(dtt.Gender)[Cons_Meas_wTot].mean()"
   ]
  },
  {
   "cell_type": "code",
   "execution_count": null,
   "metadata": {
    "collapsed": true
   },
   "outputs": [],
   "source": [
    "gby_gender = dtt.groupby(dtt.Gender)[Cons_Meas_noTot].mean()\n",
    "gby_gender.plot(kind='bar',stacked=True,title = \"Average Consumption by Gender\")"
   ]
  },
  {
   "cell_type": "code",
   "execution_count": null,
   "metadata": {
    "collapsed": true
   },
   "outputs": [],
   "source": [
    "gby_gender = dtt.groupby(dtt.Gender)[Cons_Meas_noTot].mean()\n",
    "gby_gender.plot(kind='bar',stacked=False,title = \"Average Consumption by Gender\")"
   ]
  },
  {
   "cell_type": "markdown",
   "metadata": {},
   "source": [
    "### Consumption by Age Breaks"
   ]
  },
  {
   "cell_type": "code",
   "execution_count": null,
   "metadata": {
    "collapsed": true
   },
   "outputs": [],
   "source": [
    "dtt.groupby(dtt.Age_Breaks)[Cons_Meas_wTot].mean()"
   ]
  },
  {
   "cell_type": "code",
   "execution_count": null,
   "metadata": {
    "collapsed": true
   },
   "outputs": [],
   "source": [
    "gby_age = dtt.groupby(dtt.Age_Breaks)[Cons_Meas_noTot].mean()\n",
    "gby_age.plot(kind = 'bar', stacked = True, title = 'Average Consumption by Age')"
   ]
  },
  {
   "cell_type": "code",
   "execution_count": null,
   "metadata": {
    "collapsed": true
   },
   "outputs": [],
   "source": [
    "gby_age = dtt.groupby(dtt.Age_Breaks)[Cons_Meas_noTot].mean()\n",
    "gby_age.plot(kind = 'bar', stacked = False, title = 'Average Consumption by Age')"
   ]
  },
  {
   "cell_type": "markdown",
   "metadata": {},
   "source": [
    "### Consumption by Race"
   ]
  },
  {
   "cell_type": "code",
   "execution_count": null,
   "metadata": {
    "collapsed": true
   },
   "outputs": [],
   "source": [
    "dtt.groupby(dtt.Race)[Cons_Meas_wTot].mean()"
   ]
  },
  {
   "cell_type": "code",
   "execution_count": null,
   "metadata": {
    "collapsed": true
   },
   "outputs": [],
   "source": [
    "gby_race = dtt.groupby(dtt.Race)[Cons_Meas_noTot].mean()\n",
    "gby_race.plot(kind = 'bar', stacked = True, title = 'Average Consumption by Race')"
   ]
  },
  {
   "cell_type": "code",
   "execution_count": null,
   "metadata": {
    "collapsed": true
   },
   "outputs": [],
   "source": [
    "gby_race = dtt.groupby(dtt.Race)[Cons_Meas_noTot].mean()\n",
    "gby_race.plot(kind = 'bar', stacked = False, title = 'Average Consumption by Race')"
   ]
  },
  {
   "cell_type": "markdown",
   "metadata": {},
   "source": [
    "### Consumption by Employment Status"
   ]
  },
  {
   "cell_type": "code",
   "execution_count": null,
   "metadata": {
    "collapsed": true
   },
   "outputs": [],
   "source": [
    "dtt.groupby(dtt.Employment)[Cons_Meas_wTot].mean()"
   ]
  },
  {
   "cell_type": "code",
   "execution_count": null,
   "metadata": {
    "collapsed": true
   },
   "outputs": [],
   "source": [
    "gby_emply = dtt.groupby(dtt.Employment)[Cons_Meas_noTot].mean()\n",
    "gby_emply.plot(kind = 'bar', stacked = True, title = 'Average Consumption by Employment')"
   ]
  },
  {
   "cell_type": "code",
   "execution_count": null,
   "metadata": {
    "collapsed": true
   },
   "outputs": [],
   "source": [
    "gby_emply = dtt.groupby(dtt.Employment)[Cons_Meas_noTot].mean()\n",
    "gby_emply.plot(kind = 'bar', stacked = False, title = 'Average Consumption by Employment')"
   ]
  },
  {
   "cell_type": "markdown",
   "metadata": {},
   "source": [
    "### Consumption by Education"
   ]
  },
  {
   "cell_type": "code",
   "execution_count": null,
   "metadata": {
    "collapsed": true
   },
   "outputs": [],
   "source": [
    "dtt.groupby(dtt.Education)[Cons_Meas_wTot].mean()"
   ]
  },
  {
   "cell_type": "code",
   "execution_count": null,
   "metadata": {
    "collapsed": true
   },
   "outputs": [],
   "source": [
    "gby_educ = dtt.groupby(dtt.Education)[Cons_Meas_noTot].mean()\n",
    "gby_educ = gby_educ.drop(['7 - Prefer not to answer'])\n",
    "\n",
    "gby_educ.plot(kind = 'bar', stacked = True, title = 'Average Consumption by Education')"
   ]
  },
  {
   "cell_type": "code",
   "execution_count": null,
   "metadata": {
    "collapsed": true
   },
   "outputs": [],
   "source": [
    "gby_educ = dtt.groupby(dtt.Education)[Cons_Meas_noTot].mean()\n",
    "gby_educ = gby_educ.drop(['7 - Prefer not to answer'])\n",
    "gby_educ.plot(kind = 'bar', stacked = False, title = 'Average Consumption by Education')"
   ]
  },
  {
   "cell_type": "markdown",
   "metadata": {},
   "source": [
    "### Consumption by Marital Status"
   ]
  },
  {
   "cell_type": "code",
   "execution_count": null,
   "metadata": {
    "collapsed": true
   },
   "outputs": [],
   "source": [
    "dtt.groupby(dtt.Marital_Status[dtt.Marital_Status != 'Prefer not to answer'])[Cons_Meas_wTot].mean()"
   ]
  },
  {
   "cell_type": "code",
   "execution_count": null,
   "metadata": {
    "collapsed": true
   },
   "outputs": [],
   "source": [
    "dtt.groupby(dtt.Marital_Status[dtt.Marital_Status != 'Prefer not to answer'])[Cons_Meas_noTot].mean().plot(kind='bar',stacked = True)"
   ]
  },
  {
   "cell_type": "code",
   "execution_count": null,
   "metadata": {
    "collapsed": true
   },
   "outputs": [],
   "source": [
    "dtt.groupby(\n",
    "    dtt.Marital_Status[dtt.Marital_Status != 'Prefer not to answer'])[Cons_Meas_noTot].mean().plot(kind='bar',\n",
    "                                                                                                   stacked = False)"
   ]
  },
  {
   "cell_type": "markdown",
   "metadata": {},
   "source": [
    "### Consumption by Parental status"
   ]
  },
  {
   "cell_type": "code",
   "execution_count": null,
   "metadata": {
    "collapsed": true
   },
   "outputs": [],
   "source": [
    "dtt.Parent.value_counts()"
   ]
  },
  {
   "cell_type": "code",
   "execution_count": null,
   "metadata": {
    "collapsed": true
   },
   "outputs": [],
   "source": [
    "dtt.Parent.unique()"
   ]
  },
  {
   "cell_type": "code",
   "execution_count": null,
   "metadata": {
    "collapsed": true
   },
   "outputs": [],
   "source": [
    "dtt.groupby(dtt.Parent [(dtt.Parent == \"Yes\") | (dtt.Parent == \"No\")])[Cons_Meas_wTot].mean()"
   ]
  },
  {
   "cell_type": "code",
   "execution_count": null,
   "metadata": {
    "collapsed": true
   },
   "outputs": [],
   "source": [
    "dtt.groupby(\n",
    "    dtt.Parent[(dtt.Parent == 'Yes')|(dtt.Parent == 'No')])[Cons_Meas_noTot].mean().plot(kind='bar',\n",
    "                                                                                         title = 'Consumption by Parental Status', \n",
    "                                                                                         stacked = True)"
   ]
  },
  {
   "cell_type": "code",
   "execution_count": null,
   "metadata": {
    "collapsed": true
   },
   "outputs": [],
   "source": [
    "dtt.groupby(\n",
    "    dtt.Parent[(dtt.Parent == 'Yes')|(dtt.Parent == 'No')])[Cons_Meas_noTot].mean().plot(kind='bar',\n",
    "                                                                                         title = 'Consumption by Parental Status', \n",
    "                                                                                         stacked = False)"
   ]
  },
  {
   "cell_type": "markdown",
   "metadata": {},
   "source": [
    "### Consumption by Income (TO DO)"
   ]
  },
  {
   "cell_type": "markdown",
   "metadata": {},
   "source": [
    "### Consumption Distributions"
   ]
  },
  {
   "cell_type": "markdown",
   "metadata": {},
   "source": [
    "Probably need to combine disc and digital purchase into just purchase"
   ]
  },
  {
   "cell_type": "code",
   "execution_count": null,
   "metadata": {
    "collapsed": true
   },
   "outputs": [],
   "source": [
    "dtt_numbers = dtt[['Total_Paid_HE_Movies','Total Bought','Total Discs Rented',\n",
    "      'Total Digital Rented','Buy_percent','Rent_Disc_Percent',\n",
    "      'Rent_Digital_Percent']]\n",
    "\n",
    "dtt_numbers.shape"
   ]
  },
  {
   "cell_type": "code",
   "execution_count": null,
   "metadata": {
    "collapsed": true
   },
   "outputs": [],
   "source": [
    "dtt_numbers.describe()"
   ]
  },
  {
   "cell_type": "code",
   "execution_count": null,
   "metadata": {
    "collapsed": true
   },
   "outputs": [],
   "source": [
    "print \"Correlations across Consumption\"\n",
    "dtt_numbers[['Total_Paid_HE_Movies','Total Bought', 'Total Digital Rented','Total Discs Rented']].corr()\n",
    "\n"
   ]
  },
  {
   "cell_type": "code",
   "execution_count": null,
   "metadata": {
    "collapsed": true
   },
   "outputs": [],
   "source": [
    "corr = dtt_numbers[\n",
    "    ['Total_Paid_HE_Movies','Total Bought',\n",
    "     'Total Digital Rented','Total Discs Rented']].corr()\n",
    "\n",
    "sns.heatmap(corr)"
   ]
  },
  {
   "cell_type": "code",
   "execution_count": null,
   "metadata": {
    "collapsed": true
   },
   "outputs": [],
   "source": [
    "dtt.Total_Paid_HE_Movies.plot(kind='hist', bins = 50, title = 'Total Paid HE Movies')"
   ]
  },
  {
   "cell_type": "code",
   "execution_count": null,
   "metadata": {
    "collapsed": true
   },
   "outputs": [],
   "source": [
    "dtt['Total Discs Bought'].plot(kind='hist', bins = 50, title = 'Total Discs Bought')"
   ]
  },
  {
   "cell_type": "code",
   "execution_count": null,
   "metadata": {
    "collapsed": true
   },
   "outputs": [],
   "source": [
    "dtt['Buy_Disc_Percent'].plot(kind='hist', bins = 50, title = 'Total Discs as % of Total')"
   ]
  },
  {
   "cell_type": "code",
   "execution_count": null,
   "metadata": {
    "collapsed": true
   },
   "outputs": [],
   "source": [
    "dtt['Bought_Digital'].plot(kind='hist', bins = 50, title = 'Total Digital Bought')"
   ]
  },
  {
   "cell_type": "code",
   "execution_count": null,
   "metadata": {
    "collapsed": true
   },
   "outputs": [],
   "source": [
    "dtt['Buy_Digital_Percent'].plot(kind='hist', bins = 50, title = 'Total Digital Purchases as % of Total')"
   ]
  },
  {
   "cell_type": "code",
   "execution_count": null,
   "metadata": {
    "collapsed": true
   },
   "outputs": [],
   "source": [
    "dtt['Total Discs Rented'].plot(kind='hist', bins = 50, title = 'Total Discs Rented')"
   ]
  },
  {
   "cell_type": "code",
   "execution_count": null,
   "metadata": {
    "collapsed": true
   },
   "outputs": [],
   "source": [
    "dtt['Rent_Disc_Percent'].plot(kind='hist', bins = 50, title = 'Total Disc Rental as % of Total')"
   ]
  },
  {
   "cell_type": "code",
   "execution_count": null,
   "metadata": {
    "collapsed": true
   },
   "outputs": [],
   "source": [
    "dtt['Total Digital Rented'].plot(kind='hist', bins = 50, title = 'Total Digital Rented')"
   ]
  },
  {
   "cell_type": "code",
   "execution_count": null,
   "metadata": {
    "collapsed": true
   },
   "outputs": [],
   "source": [
    "dtt['Rent_Digital_Percent'].plot(kind='hist', bins = 50, title = 'Total Digital Rental as % of Total')"
   ]
  },
  {
   "cell_type": "code",
   "execution_count": null,
   "metadata": {
    "collapsed": true
   },
   "outputs": [],
   "source": [
    "demos = ['Gender', 'Age_Breaks', 'Region2', 'Race', 'Parent', 'HH_Income', 'Employment', 'Education', 'Marital_Status']\n",
    "\n",
    "sns.factorplot(data=dtt, x='Gender', y='Total_Paid_HE_Movies', hue=None)\n"
   ]
  },
  {
   "cell_type": "markdown",
   "metadata": {},
   "source": [
    "# Model Building"
   ]
  },
  {
   "cell_type": "code",
   "execution_count": null,
   "metadata": {
    "collapsed": false,
    "scrolled": true
   },
   "outputs": [],
   "source": []
  },
  {
   "cell_type": "code",
   "execution_count": null,
   "metadata": {
    "collapsed": true
   },
   "outputs": [],
   "source": [
    "dtt.info()"
   ]
  },
  {
   "cell_type": "code",
   "execution_count": null,
   "metadata": {
    "collapsed": true
   },
   "outputs": [],
   "source": [
    "dtt.ZTotal_Paid_HE_Movies = dtt.ZTotal_Paid_HE_Movies.astype(float)\n",
    "dtt.Buy_Disc_Percent = dtt.Buy_Disc_Percent.astype(float)\n",
    "dtt.Buy_Digital_Percent = dtt.Buy_Digital_Percent.astype(float)\n",
    "dtt.Rent_Disc_Percent = dtt.Rent_Disc_Percent.astype(float)\n",
    "dtt.Rent_Digital_Percent = dtt.Rent_Digital_Percent.astype(float)\n",
    "dtt.Buy_percent = dtt.Buy_percent.astype(float)\n"
   ]
  },
  {
   "cell_type": "code",
   "execution_count": null,
   "metadata": {
    "collapsed": true
   },
   "outputs": [],
   "source": [
    "dtt.info()"
   ]
  },
  {
   "cell_type": "code",
   "execution_count": null,
   "metadata": {
    "collapsed": true
   },
   "outputs": [],
   "source": [
    "# setting all dummies\n",
    "\n",
    "Dgender = pd.get_dummies(dtt.Gender, prefix='Gender', prefix_sep='_', dummy_na=False, \n",
    "                         columns=None, sparse=False, drop_first=False)\n",
    "\n",
    "Dgender.head()\n",
    "\n",
    "dtt = pd.concat([dtt, Dgender], axis=1)\n",
    "\n",
    "dtt.head()\n"
   ]
  },
  {
   "cell_type": "code",
   "execution_count": null,
   "metadata": {
    "collapsed": true
   },
   "outputs": [],
   "source": [
    "# from sklearn import linear_model\n",
    "\n",
    "X = dtt[['Gender', 'Age', 'Age_Breaks', 'Region2', 'Race', 'Parent',\n",
    "         'HH_Income', 'Employment', 'Education', 'Marital_Status', \n",
    "         'Total Discs Rented', 'Total Digital Rented', 'Total Bought', \n",
    "         'Rent_Disc_Percent', 'Rent_Digital_Percent', 'Buy_percent']]\n",
    "\n",
    "X.info()\n",
    "\n",
    "y = dtt['Total_Paid_HE_Movies']\n",
    "\n",
    "# Fit the linear model\n",
    "model = linear_model.LinearRegression()\n",
    "results = model.fit(X, y)\n",
    "\n",
    "# Print the coefficients\n",
    "print results.intercept_, results.coef_"
   ]
  },
  {
   "cell_type": "code",
   "execution_count": null,
   "metadata": {
    "collapsed": false,
    "scrolled": true
   },
   "outputs": [],
   "source": []
  }
 ],
 "metadata": {
  "kernelspec": {
   "display_name": "Python 2",
   "language": "python",
   "name": "python2"
  },
  "language_info": {
   "codemirror_mode": {
    "name": "ipython",
    "version": 2
   },
   "file_extension": ".py",
   "mimetype": "text/x-python",
   "name": "python",
   "nbconvert_exporter": "python",
   "pygments_lexer": "ipython2",
   "version": "2.7.13"
  }
 },
 "nbformat": 4,
 "nbformat_minor": 2
}
