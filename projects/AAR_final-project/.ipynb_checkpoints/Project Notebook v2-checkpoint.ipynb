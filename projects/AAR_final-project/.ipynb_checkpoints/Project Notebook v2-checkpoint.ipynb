{
 "cells": [
  {
   "cell_type": "markdown",
   "metadata": {},
   "source": [
    "# Project Notebook v2"
   ]
  },
  {
   "cell_type": "markdown",
   "metadata": {},
   "source": [
    "# Notes\n",
    "    * Need to figure out how to rename empty cells for parents\n",
    "    * Need to combine disc buy and digital buy into just total buy for numbers and percents\n",
    "    * Need to figure out how to split a groupby over more than one line\n",
    "    * Need to figure out how to use compound logic/conditions in a groupby"
   ]
  },
  {
   "cell_type": "code",
   "execution_count": 1,
   "metadata": {
    "collapsed": true
   },
   "outputs": [],
   "source": [
    "%matplotlib inline\n",
    "import numpy as np\n",
    "import pandas as pd\n",
    "from matplotlib import pyplot as plt\n",
    "import seaborn as sns\n",
    "from sklearn import linear_model"
   ]
  },
  {
   "cell_type": "code",
   "execution_count": 11,
   "metadata": {
    "collapsed": false
   },
   "outputs": [
    {
     "data": {
      "text/html": [
       "<div>\n",
       "<style>\n",
       "    .dataframe thead tr:only-child th {\n",
       "        text-align: right;\n",
       "    }\n",
       "\n",
       "    .dataframe thead th {\n",
       "        text-align: left;\n",
       "    }\n",
       "\n",
       "    .dataframe tbody tr th {\n",
       "        vertical-align: top;\n",
       "    }\n",
       "</style>\n",
       "<table border=\"1\" class=\"dataframe\">\n",
       "  <thead>\n",
       "    <tr style=\"text-align: right;\">\n",
       "      <th></th>\n",
       "      <th>Gender</th>\n",
       "      <th>Age</th>\n",
       "      <th>Age_Breaks</th>\n",
       "      <th>Region2</th>\n",
       "      <th>Race</th>\n",
       "      <th>Language_Dominance</th>\n",
       "      <th>Parent</th>\n",
       "      <th>HH_Income</th>\n",
       "      <th>Employment</th>\n",
       "      <th>Education</th>\n",
       "      <th>...</th>\n",
       "      <th>Rented_Digital_iVOD</th>\n",
       "      <th>Rented_Digital_sVOD</th>\n",
       "      <th>Rented_Digital_cVOD</th>\n",
       "      <th>cqhidGroup</th>\n",
       "      <th>filter_$</th>\n",
       "      <th>ZTotal_Paid_HE_Movies</th>\n",
       "      <th>Buy_Disc_Percent</th>\n",
       "      <th>Buy_Digital_Percent</th>\n",
       "      <th>Rent_Disc_Percent</th>\n",
       "      <th>Rent_Digital_Percent</th>\n",
       "    </tr>\n",
       "    <tr>\n",
       "      <th>respid</th>\n",
       "      <th></th>\n",
       "      <th></th>\n",
       "      <th></th>\n",
       "      <th></th>\n",
       "      <th></th>\n",
       "      <th></th>\n",
       "      <th></th>\n",
       "      <th></th>\n",
       "      <th></th>\n",
       "      <th></th>\n",
       "      <th></th>\n",
       "      <th></th>\n",
       "      <th></th>\n",
       "      <th></th>\n",
       "      <th></th>\n",
       "      <th></th>\n",
       "      <th></th>\n",
       "      <th></th>\n",
       "      <th></th>\n",
       "      <th></th>\n",
       "      <th></th>\n",
       "    </tr>\n",
       "  </thead>\n",
       "  <tbody>\n",
       "    <tr>\n",
       "      <th>44</th>\n",
       "      <td>Female</td>\n",
       "      <td>20</td>\n",
       "      <td>18-24</td>\n",
       "      <td>South</td>\n",
       "      <td>Black</td>\n",
       "      <td></td>\n",
       "      <td></td>\n",
       "      <td>1 - &lt; $20K</td>\n",
       "      <td>4 - Not employed</td>\n",
       "      <td>2 - HS Grad</td>\n",
       "      <td>...</td>\n",
       "      <td>5</td>\n",
       "      <td>18</td>\n",
       "      <td>4</td>\n",
       "      <td>Gen-Pop</td>\n",
       "      <td>Selected</td>\n",
       "      <td>1.492690</td>\n",
       "      <td>0.363636</td>\n",
       "      <td>0.0</td>\n",
       "      <td>0.145455</td>\n",
       "      <td>0.490909</td>\n",
       "    </tr>\n",
       "    <tr>\n",
       "      <th>108</th>\n",
       "      <td>Male</td>\n",
       "      <td>31</td>\n",
       "      <td>25-34</td>\n",
       "      <td>Northeast</td>\n",
       "      <td>Hispanic</td>\n",
       "      <td>Only English</td>\n",
       "      <td>No</td>\n",
       "      <td>1 - &lt; $20K</td>\n",
       "      <td>4 - Not employed</td>\n",
       "      <td>2 - HS Grad</td>\n",
       "      <td>...</td>\n",
       "      <td>0</td>\n",
       "      <td>0</td>\n",
       "      <td>0</td>\n",
       "      <td>Gen-Pop</td>\n",
       "      <td>Selected</td>\n",
       "      <td>0.009386</td>\n",
       "      <td>0.157895</td>\n",
       "      <td>0.0</td>\n",
       "      <td>0.842105</td>\n",
       "      <td>0.000000</td>\n",
       "    </tr>\n",
       "    <tr>\n",
       "      <th>147</th>\n",
       "      <td>Female</td>\n",
       "      <td>19</td>\n",
       "      <td>18-24</td>\n",
       "      <td>South</td>\n",
       "      <td>White</td>\n",
       "      <td></td>\n",
       "      <td></td>\n",
       "      <td>1 - &lt; $20K</td>\n",
       "      <td>4 - Not employed</td>\n",
       "      <td>2 - HS Grad</td>\n",
       "      <td>...</td>\n",
       "      <td>0</td>\n",
       "      <td>5</td>\n",
       "      <td>0</td>\n",
       "      <td>Gen-Pop</td>\n",
       "      <td>Selected</td>\n",
       "      <td>-0.567454</td>\n",
       "      <td>0.000000</td>\n",
       "      <td>0.0</td>\n",
       "      <td>0.000000</td>\n",
       "      <td>1.000000</td>\n",
       "    </tr>\n",
       "    <tr>\n",
       "      <th>171</th>\n",
       "      <td>Female</td>\n",
       "      <td>18</td>\n",
       "      <td>18-24</td>\n",
       "      <td>Northeast</td>\n",
       "      <td>White</td>\n",
       "      <td></td>\n",
       "      <td></td>\n",
       "      <td>1 - &lt; $20K</td>\n",
       "      <td>2 - Part time</td>\n",
       "      <td>3 - Some coll</td>\n",
       "      <td>...</td>\n",
       "      <td>0</td>\n",
       "      <td>7</td>\n",
       "      <td>0</td>\n",
       "      <td>Gen-Pop</td>\n",
       "      <td>Selected</td>\n",
       "      <td>-0.485048</td>\n",
       "      <td>0.000000</td>\n",
       "      <td>0.0</td>\n",
       "      <td>0.000000</td>\n",
       "      <td>1.000000</td>\n",
       "    </tr>\n",
       "    <tr>\n",
       "      <th>174</th>\n",
       "      <td>Female</td>\n",
       "      <td>54</td>\n",
       "      <td>45-54</td>\n",
       "      <td>South</td>\n",
       "      <td>White</td>\n",
       "      <td></td>\n",
       "      <td>No</td>\n",
       "      <td>1 - &lt; $20K</td>\n",
       "      <td>4 - Not employed</td>\n",
       "      <td>2 - HS Grad</td>\n",
       "      <td>...</td>\n",
       "      <td>0</td>\n",
       "      <td>50</td>\n",
       "      <td>0</td>\n",
       "      <td>Gen-Pop</td>\n",
       "      <td>Selected</td>\n",
       "      <td>1.286676</td>\n",
       "      <td>0.000000</td>\n",
       "      <td>0.0</td>\n",
       "      <td>0.000000</td>\n",
       "      <td>1.000000</td>\n",
       "    </tr>\n",
       "  </tbody>\n",
       "</table>\n",
       "<p>5 rows × 28 columns</p>\n",
       "</div>"
      ],
      "text/plain": [
       "        Gender  Age Age_Breaks    Region2      Race Language_Dominance Parent  \\\n",
       "respid                                                                          \n",
       "44      Female   20      18-24      South     Black                             \n",
       "108       Male   31      25-34  Northeast  Hispanic       Only English     No   \n",
       "147     Female   19      18-24      South     White                             \n",
       "171     Female   18      18-24  Northeast     White                             \n",
       "174     Female   54      45-54      South     White                        No   \n",
       "\n",
       "         HH_Income        Employment      Education          ...           \\\n",
       "respid                                                       ...            \n",
       "44      1 - < $20K  4 - Not employed    2 - HS Grad          ...            \n",
       "108     1 - < $20K  4 - Not employed    2 - HS Grad          ...            \n",
       "147     1 - < $20K  4 - Not employed    2 - HS Grad          ...            \n",
       "171     1 - < $20K     2 - Part time  3 - Some coll          ...            \n",
       "174     1 - < $20K  4 - Not employed    2 - HS Grad          ...            \n",
       "\n",
       "       Rented_Digital_iVOD  Rented_Digital_sVOD  Rented_Digital_cVOD  \\\n",
       "respid                                                                 \n",
       "44                       5                   18                    4   \n",
       "108                      0                    0                    0   \n",
       "147                      0                    5                    0   \n",
       "171                      0                    7                    0   \n",
       "174                      0                   50                    0   \n",
       "\n",
       "        cqhidGroup  filter_$  ZTotal_Paid_HE_Movies  Buy_Disc_Percent  \\\n",
       "respid                                                                  \n",
       "44         Gen-Pop  Selected               1.492690          0.363636   \n",
       "108        Gen-Pop  Selected               0.009386          0.157895   \n",
       "147        Gen-Pop  Selected              -0.567454          0.000000   \n",
       "171        Gen-Pop  Selected              -0.485048          0.000000   \n",
       "174        Gen-Pop  Selected               1.286676          0.000000   \n",
       "\n",
       "        Buy_Digital_Percent  Rent_Disc_Percent  Rent_Digital_Percent  \n",
       "respid                                                                \n",
       "44                      0.0           0.145455              0.490909  \n",
       "108                     0.0           0.842105              0.000000  \n",
       "147                     0.0           0.000000              1.000000  \n",
       "171                     0.0           0.000000              1.000000  \n",
       "174                     0.0           0.000000              1.000000  \n",
       "\n",
       "[5 rows x 28 columns]"
      ]
     },
     "execution_count": 11,
     "metadata": {},
     "output_type": "execute_result"
    }
   ],
   "source": [
    "# loads in csv\n",
    "dtt = pd.read_csv(\"Data\\DTT Final Data w labels.csv\",index_col=0)\n",
    "dtt.head()"
   ]
  },
  {
   "cell_type": "code",
   "execution_count": 3,
   "metadata": {
    "collapsed": false,
    "scrolled": true
   },
   "outputs": [],
   "source": [
    "#Calculates all rollups and adds as columns\n",
    "\n",
    "#total movies bought on disc\n",
    "dtt['Total Discs Bought'] = (dtt['Bought_Disc_BD'] + dtt['Bought_Disc_DVD'])\n",
    "\n",
    "#total movies rented on disc\n",
    "dtt['Total Discs Rented'] = (dtt['Rented_Disc_Kiosk'] + dtt['Rented_Disc_Mail'] + dtt['Rented_Disc_Store'])\n",
    "\n",
    "#total movies rented on digital\n",
    "dtt['Total Digital Rented'] = (dtt['Rented_Digital_cVOD'] + dtt['Rented_Digital_iVOD'] + dtt['Rented_Digital_sVOD'])\n",
    "\n",
    "#total movies purchased\n",
    "dtt['Total Bought'] = (dtt['Bought_Disc_BD'] + dtt['Bought_Disc_DVD'] + dtt['Bought_Digital'])\n",
    "\n",
    "#total movies purchased as percent of total\n",
    "dtt['Buy_percent'] = dtt['Total Bought'].astype(float) / dtt['Total_Paid_HE_Movies']"
   ]
  },
  {
   "cell_type": "code",
   "execution_count": 4,
   "metadata": {
    "collapsed": false
   },
   "outputs": [
    {
     "data": {
      "text/html": [
       "<div>\n",
       "<style>\n",
       "    .dataframe thead tr:only-child th {\n",
       "        text-align: right;\n",
       "    }\n",
       "\n",
       "    .dataframe thead th {\n",
       "        text-align: left;\n",
       "    }\n",
       "\n",
       "    .dataframe tbody tr th {\n",
       "        vertical-align: top;\n",
       "    }\n",
       "</style>\n",
       "<table border=\"1\" class=\"dataframe\">\n",
       "  <thead>\n",
       "    <tr style=\"text-align: right;\">\n",
       "      <th></th>\n",
       "      <th>count</th>\n",
       "      <th>mean</th>\n",
       "      <th>std</th>\n",
       "      <th>min</th>\n",
       "      <th>25%</th>\n",
       "      <th>50%</th>\n",
       "      <th>75%</th>\n",
       "      <th>max</th>\n",
       "    </tr>\n",
       "  </thead>\n",
       "  <tbody>\n",
       "    <tr>\n",
       "      <th>Age</th>\n",
       "      <td>1925.0</td>\n",
       "      <td>39.631169</td>\n",
       "      <td>15.969080</td>\n",
       "      <td>12.000000</td>\n",
       "      <td>26.000000</td>\n",
       "      <td>39.000000</td>\n",
       "      <td>52.000000</td>\n",
       "      <td>74.000000</td>\n",
       "    </tr>\n",
       "    <tr>\n",
       "      <th>Total_Paid_HE_Movies</th>\n",
       "      <td>1925.0</td>\n",
       "      <td>16.145455</td>\n",
       "      <td>16.526946</td>\n",
       "      <td>1.000000</td>\n",
       "      <td>5.000000</td>\n",
       "      <td>10.000000</td>\n",
       "      <td>22.000000</td>\n",
       "      <td>91.000000</td>\n",
       "    </tr>\n",
       "    <tr>\n",
       "      <th>Bought_Disc_DVD</th>\n",
       "      <td>1925.0</td>\n",
       "      <td>1.588052</td>\n",
       "      <td>2.914257</td>\n",
       "      <td>0.000000</td>\n",
       "      <td>0.000000</td>\n",
       "      <td>1.000000</td>\n",
       "      <td>2.000000</td>\n",
       "      <td>30.000000</td>\n",
       "    </tr>\n",
       "    <tr>\n",
       "      <th>Bought_Disc_BD</th>\n",
       "      <td>1925.0</td>\n",
       "      <td>1.284156</td>\n",
       "      <td>2.637839</td>\n",
       "      <td>0.000000</td>\n",
       "      <td>0.000000</td>\n",
       "      <td>0.000000</td>\n",
       "      <td>2.000000</td>\n",
       "      <td>50.000000</td>\n",
       "    </tr>\n",
       "    <tr>\n",
       "      <th>Bought_Digital</th>\n",
       "      <td>1925.0</td>\n",
       "      <td>0.723636</td>\n",
       "      <td>2.081871</td>\n",
       "      <td>0.000000</td>\n",
       "      <td>0.000000</td>\n",
       "      <td>0.000000</td>\n",
       "      <td>1.000000</td>\n",
       "      <td>30.000000</td>\n",
       "    </tr>\n",
       "    <tr>\n",
       "      <th>Rented_Disc_Store</th>\n",
       "      <td>1925.0</td>\n",
       "      <td>0.696104</td>\n",
       "      <td>2.313436</td>\n",
       "      <td>0.000000</td>\n",
       "      <td>0.000000</td>\n",
       "      <td>0.000000</td>\n",
       "      <td>0.000000</td>\n",
       "      <td>50.000000</td>\n",
       "    </tr>\n",
       "    <tr>\n",
       "      <th>Rented_Disc_Kiosk</th>\n",
       "      <td>1925.0</td>\n",
       "      <td>2.020260</td>\n",
       "      <td>4.263794</td>\n",
       "      <td>0.000000</td>\n",
       "      <td>0.000000</td>\n",
       "      <td>0.000000</td>\n",
       "      <td>2.000000</td>\n",
       "      <td>50.000000</td>\n",
       "    </tr>\n",
       "    <tr>\n",
       "      <th>Rented_Disc_Mail</th>\n",
       "      <td>1925.0</td>\n",
       "      <td>1.131948</td>\n",
       "      <td>4.504357</td>\n",
       "      <td>0.000000</td>\n",
       "      <td>0.000000</td>\n",
       "      <td>0.000000</td>\n",
       "      <td>0.000000</td>\n",
       "      <td>70.000000</td>\n",
       "    </tr>\n",
       "    <tr>\n",
       "      <th>Rented_Digital_iVOD</th>\n",
       "      <td>1925.0</td>\n",
       "      <td>0.717922</td>\n",
       "      <td>2.047491</td>\n",
       "      <td>0.000000</td>\n",
       "      <td>0.000000</td>\n",
       "      <td>0.000000</td>\n",
       "      <td>1.000000</td>\n",
       "      <td>50.000000</td>\n",
       "    </tr>\n",
       "    <tr>\n",
       "      <th>Rented_Digital_sVOD</th>\n",
       "      <td>1925.0</td>\n",
       "      <td>6.691429</td>\n",
       "      <td>10.804796</td>\n",
       "      <td>0.000000</td>\n",
       "      <td>0.000000</td>\n",
       "      <td>3.000000</td>\n",
       "      <td>10.000000</td>\n",
       "      <td>80.000000</td>\n",
       "    </tr>\n",
       "    <tr>\n",
       "      <th>Rented_Digital_cVOD</th>\n",
       "      <td>1925.0</td>\n",
       "      <td>1.291948</td>\n",
       "      <td>3.550492</td>\n",
       "      <td>0.000000</td>\n",
       "      <td>0.000000</td>\n",
       "      <td>0.000000</td>\n",
       "      <td>1.000000</td>\n",
       "      <td>75.000000</td>\n",
       "    </tr>\n",
       "    <tr>\n",
       "      <th>ZTotal_Paid_HE_Movies</th>\n",
       "      <td>1925.0</td>\n",
       "      <td>-0.108229</td>\n",
       "      <td>0.680958</td>\n",
       "      <td>-0.732266</td>\n",
       "      <td>-0.567454</td>\n",
       "      <td>-0.361440</td>\n",
       "      <td>0.132995</td>\n",
       "      <td>2.975994</td>\n",
       "    </tr>\n",
       "    <tr>\n",
       "      <th>Buy_Disc_Percent</th>\n",
       "      <td>1925.0</td>\n",
       "      <td>0.239981</td>\n",
       "      <td>0.306352</td>\n",
       "      <td>0.000000</td>\n",
       "      <td>0.000000</td>\n",
       "      <td>0.136364</td>\n",
       "      <td>0.333333</td>\n",
       "      <td>1.000000</td>\n",
       "    </tr>\n",
       "    <tr>\n",
       "      <th>Buy_Digital_Percent</th>\n",
       "      <td>1925.0</td>\n",
       "      <td>0.041825</td>\n",
       "      <td>0.111739</td>\n",
       "      <td>0.000000</td>\n",
       "      <td>0.000000</td>\n",
       "      <td>0.000000</td>\n",
       "      <td>0.014925</td>\n",
       "      <td>1.000000</td>\n",
       "    </tr>\n",
       "    <tr>\n",
       "      <th>Rent_Disc_Percent</th>\n",
       "      <td>1925.0</td>\n",
       "      <td>0.234541</td>\n",
       "      <td>0.292798</td>\n",
       "      <td>0.000000</td>\n",
       "      <td>0.000000</td>\n",
       "      <td>0.116279</td>\n",
       "      <td>0.375000</td>\n",
       "      <td>1.000000</td>\n",
       "    </tr>\n",
       "    <tr>\n",
       "      <th>Rent_Digital_Percent</th>\n",
       "      <td>1925.0</td>\n",
       "      <td>0.483653</td>\n",
       "      <td>0.369288</td>\n",
       "      <td>0.000000</td>\n",
       "      <td>0.133333</td>\n",
       "      <td>0.483871</td>\n",
       "      <td>0.833333</td>\n",
       "      <td>1.000000</td>\n",
       "    </tr>\n",
       "    <tr>\n",
       "      <th>Total Discs Bought</th>\n",
       "      <td>1925.0</td>\n",
       "      <td>2.872208</td>\n",
       "      <td>4.604784</td>\n",
       "      <td>0.000000</td>\n",
       "      <td>0.000000</td>\n",
       "      <td>1.000000</td>\n",
       "      <td>4.000000</td>\n",
       "      <td>55.000000</td>\n",
       "    </tr>\n",
       "    <tr>\n",
       "      <th>Total Discs Rented</th>\n",
       "      <td>1925.0</td>\n",
       "      <td>3.848312</td>\n",
       "      <td>6.915127</td>\n",
       "      <td>0.000000</td>\n",
       "      <td>0.000000</td>\n",
       "      <td>1.000000</td>\n",
       "      <td>5.000000</td>\n",
       "      <td>70.000000</td>\n",
       "    </tr>\n",
       "    <tr>\n",
       "      <th>Total Digital Rented</th>\n",
       "      <td>1925.0</td>\n",
       "      <td>8.701299</td>\n",
       "      <td>11.978178</td>\n",
       "      <td>0.000000</td>\n",
       "      <td>1.000000</td>\n",
       "      <td>5.000000</td>\n",
       "      <td>11.000000</td>\n",
       "      <td>90.000000</td>\n",
       "    </tr>\n",
       "    <tr>\n",
       "      <th>Total Bought</th>\n",
       "      <td>1925.0</td>\n",
       "      <td>3.595844</td>\n",
       "      <td>5.596236</td>\n",
       "      <td>0.000000</td>\n",
       "      <td>0.000000</td>\n",
       "      <td>2.000000</td>\n",
       "      <td>5.000000</td>\n",
       "      <td>60.000000</td>\n",
       "    </tr>\n",
       "    <tr>\n",
       "      <th>Buy_percent</th>\n",
       "      <td>1925.0</td>\n",
       "      <td>0.281806</td>\n",
       "      <td>0.323495</td>\n",
       "      <td>0.000000</td>\n",
       "      <td>0.000000</td>\n",
       "      <td>0.181818</td>\n",
       "      <td>0.416667</td>\n",
       "      <td>1.000000</td>\n",
       "    </tr>\n",
       "  </tbody>\n",
       "</table>\n",
       "</div>"
      ],
      "text/plain": [
       "                        count       mean        std        min        25%  \\\n",
       "Age                    1925.0  39.631169  15.969080  12.000000  26.000000   \n",
       "Total_Paid_HE_Movies   1925.0  16.145455  16.526946   1.000000   5.000000   \n",
       "Bought_Disc_DVD        1925.0   1.588052   2.914257   0.000000   0.000000   \n",
       "Bought_Disc_BD         1925.0   1.284156   2.637839   0.000000   0.000000   \n",
       "Bought_Digital         1925.0   0.723636   2.081871   0.000000   0.000000   \n",
       "Rented_Disc_Store      1925.0   0.696104   2.313436   0.000000   0.000000   \n",
       "Rented_Disc_Kiosk      1925.0   2.020260   4.263794   0.000000   0.000000   \n",
       "Rented_Disc_Mail       1925.0   1.131948   4.504357   0.000000   0.000000   \n",
       "Rented_Digital_iVOD    1925.0   0.717922   2.047491   0.000000   0.000000   \n",
       "Rented_Digital_sVOD    1925.0   6.691429  10.804796   0.000000   0.000000   \n",
       "Rented_Digital_cVOD    1925.0   1.291948   3.550492   0.000000   0.000000   \n",
       "ZTotal_Paid_HE_Movies  1925.0  -0.108229   0.680958  -0.732266  -0.567454   \n",
       "Buy_Disc_Percent       1925.0   0.239981   0.306352   0.000000   0.000000   \n",
       "Buy_Digital_Percent    1925.0   0.041825   0.111739   0.000000   0.000000   \n",
       "Rent_Disc_Percent      1925.0   0.234541   0.292798   0.000000   0.000000   \n",
       "Rent_Digital_Percent   1925.0   0.483653   0.369288   0.000000   0.133333   \n",
       "Total Discs Bought     1925.0   2.872208   4.604784   0.000000   0.000000   \n",
       "Total Discs Rented     1925.0   3.848312   6.915127   0.000000   0.000000   \n",
       "Total Digital Rented   1925.0   8.701299  11.978178   0.000000   1.000000   \n",
       "Total Bought           1925.0   3.595844   5.596236   0.000000   0.000000   \n",
       "Buy_percent            1925.0   0.281806   0.323495   0.000000   0.000000   \n",
       "\n",
       "                             50%        75%        max  \n",
       "Age                    39.000000  52.000000  74.000000  \n",
       "Total_Paid_HE_Movies   10.000000  22.000000  91.000000  \n",
       "Bought_Disc_DVD         1.000000   2.000000  30.000000  \n",
       "Bought_Disc_BD          0.000000   2.000000  50.000000  \n",
       "Bought_Digital          0.000000   1.000000  30.000000  \n",
       "Rented_Disc_Store       0.000000   0.000000  50.000000  \n",
       "Rented_Disc_Kiosk       0.000000   2.000000  50.000000  \n",
       "Rented_Disc_Mail        0.000000   0.000000  70.000000  \n",
       "Rented_Digital_iVOD     0.000000   1.000000  50.000000  \n",
       "Rented_Digital_sVOD     3.000000  10.000000  80.000000  \n",
       "Rented_Digital_cVOD     0.000000   1.000000  75.000000  \n",
       "ZTotal_Paid_HE_Movies  -0.361440   0.132995   2.975994  \n",
       "Buy_Disc_Percent        0.136364   0.333333   1.000000  \n",
       "Buy_Digital_Percent     0.000000   0.014925   1.000000  \n",
       "Rent_Disc_Percent       0.116279   0.375000   1.000000  \n",
       "Rent_Digital_Percent    0.483871   0.833333   1.000000  \n",
       "Total Discs Bought      1.000000   4.000000  55.000000  \n",
       "Total Discs Rented      1.000000   5.000000  70.000000  \n",
       "Total Digital Rented    5.000000  11.000000  90.000000  \n",
       "Total Bought            2.000000   5.000000  60.000000  \n",
       "Buy_percent             0.181818   0.416667   1.000000  "
      ]
     },
     "execution_count": 4,
     "metadata": {},
     "output_type": "execute_result"
    }
   ],
   "source": [
    "dtt.describe().T"
   ]
  },
  {
   "cell_type": "code",
   "execution_count": null,
   "metadata": {
    "collapsed": true
   },
   "outputs": [],
   "source": [
    "for x in dtt.columns.values:\n",
    "    print x"
   ]
  },
  {
   "cell_type": "markdown",
   "metadata": {},
   "source": [
    "# Getting Dummies"
   ]
  },
  {
   "cell_type": "markdown",
   "metadata": {},
   "source": [
    "## Gender"
   ]
  },
  {
   "cell_type": "code",
   "execution_count": 5,
   "metadata": {
    "collapsed": false
   },
   "outputs": [
    {
     "name": "stdout",
     "output_type": "stream",
     "text": [
      "<class 'pandas.core.frame.DataFrame'>\n",
      "Int64Index: 1925 entries, 44 to 19417\n",
      "Data columns (total 1 columns):\n",
      "Gender_Male    1925 non-null uint8\n",
      "dtypes: uint8(1)\n",
      "memory usage: 16.9 KB\n"
     ]
    }
   ],
   "source": [
    "dGender = pd.get_dummies(dtt.Gender, prefix='Gender', drop_first = True)\n",
    "dGender.info()"
   ]
  },
  {
   "cell_type": "markdown",
   "metadata": {},
   "source": [
    "## Age_Breaks"
   ]
  },
  {
   "cell_type": "code",
   "execution_count": 6,
   "metadata": {
    "collapsed": false
   },
   "outputs": [
    {
     "name": "stdout",
     "output_type": "stream",
     "text": [
      "<class 'pandas.core.frame.DataFrame'>\n",
      "Int64Index: 1925 entries, 44 to 19417\n",
      "Data columns (total 6 columns):\n",
      "Age_18-24    1925 non-null uint8\n",
      "Age_25-34    1925 non-null uint8\n",
      "Age_35-44    1925 non-null uint8\n",
      "Age_45-54    1925 non-null uint8\n",
      "Age_55-64    1925 non-null uint8\n",
      "Age_65-74    1925 non-null uint8\n",
      "dtypes: uint8(6)\n",
      "memory usage: 26.3 KB\n"
     ]
    }
   ],
   "source": [
    "dAge_Breaks = pd.get_dummies(dtt.Age_Breaks, prefix = 'Age', drop_first= True)\n",
    "dAge_Breaks.info(0)"
   ]
  },
  {
   "cell_type": "markdown",
   "metadata": {},
   "source": [
    "## Race"
   ]
  },
  {
   "cell_type": "code",
   "execution_count": 7,
   "metadata": {
    "collapsed": false
   },
   "outputs": [
    {
     "name": "stdout",
     "output_type": "stream",
     "text": [
      "<class 'pandas.core.frame.DataFrame'>\n",
      "Int64Index: 1925 entries, 44 to 19417\n",
      "Data columns (total 4 columns):\n",
      "Race_Black       1925 non-null uint8\n",
      "Race_Hispanic    1925 non-null uint8\n",
      "Race_Other       1925 non-null uint8\n",
      "Race_White       1925 non-null uint8\n",
      "dtypes: uint8(4)\n",
      "memory usage: 22.6 KB\n"
     ]
    }
   ],
   "source": [
    "dRace = pd.get_dummies(dtt.Race, prefix = 'Race',drop_first=True)\n",
    "dRace.info()"
   ]
  },
  {
   "cell_type": "markdown",
   "metadata": {},
   "source": [
    "## Region"
   ]
  },
  {
   "cell_type": "code",
   "execution_count": 8,
   "metadata": {
    "collapsed": false
   },
   "outputs": [
    {
     "name": "stdout",
     "output_type": "stream",
     "text": [
      "<class 'pandas.core.frame.DataFrame'>\n",
      "Int64Index: 1925 entries, 44 to 19417\n",
      "Data columns (total 3 columns):\n",
      "Region_Northeast    1925 non-null uint8\n",
      "Region_South        1925 non-null uint8\n",
      "Region_West         1925 non-null uint8\n",
      "dtypes: uint8(3)\n",
      "memory usage: 20.7 KB\n"
     ]
    }
   ],
   "source": [
    "dRegion = pd.get_dummies(dtt.Region2,prefix='Region', drop_first=True)\n",
    "dRegion.info()"
   ]
  },
  {
   "cell_type": "markdown",
   "metadata": {},
   "source": [
    "## Parent"
   ]
  },
  {
   "cell_type": "code",
   "execution_count": 9,
   "metadata": {
    "collapsed": false
   },
   "outputs": [
    {
     "name": "stdout",
     "output_type": "stream",
     "text": [
      "<class 'pandas.core.frame.DataFrame'>\n",
      "Int64Index: 1925 entries, 44 to 19417\n",
      "Data columns (total 3 columns):\n",
      "Parent_       1925 non-null uint8\n",
      "Parent_No     1925 non-null uint8\n",
      "Parent_Yes    1925 non-null uint8\n",
      "dtypes: uint8(3)\n",
      "memory usage: 20.7 KB\n"
     ]
    }
   ],
   "source": [
    "dParent = pd.get_dummies(dtt.Parent,prefix='Parent')\n",
    "dParent.info()"
   ]
  },
  {
   "cell_type": "markdown",
   "metadata": {},
   "source": [
    "## Income"
   ]
  },
  {
   "cell_type": "code",
   "execution_count": null,
   "metadata": {
    "collapsed": true
   },
   "outputs": [],
   "source": [
    "dHH_Income = pd.get_dummies(dtt.HH_Income,prefix='Income')\n",
    "dHH_Income.info()"
   ]
  },
  {
   "cell_type": "markdown",
   "metadata": {},
   "source": [
    "## Employment"
   ]
  },
  {
   "cell_type": "code",
   "execution_count": null,
   "metadata": {
    "collapsed": true
   },
   "outputs": [],
   "source": [
    "dEmployment = pd.get_dummies(dtt.Employment,prefix='Employment')\n",
    "dEmployment.info()"
   ]
  },
  {
   "cell_type": "markdown",
   "metadata": {},
   "source": [
    "## Education"
   ]
  },
  {
   "cell_type": "code",
   "execution_count": null,
   "metadata": {
    "collapsed": true
   },
   "outputs": [],
   "source": [
    "dEducation = pd.get_dummies(dtt.Education,prefix='Education')\n",
    "dEducation.info()"
   ]
  },
  {
   "cell_type": "markdown",
   "metadata": {},
   "source": [
    "## Marital Status"
   ]
  },
  {
   "cell_type": "code",
   "execution_count": null,
   "metadata": {
    "collapsed": true
   },
   "outputs": [],
   "source": [
    "dMarital_Status = pd.get_dummies(dtt.Marital_Status,prefix='Marital_Status')\n",
    "dMarital_Status.info()"
   ]
  },
  {
   "cell_type": "code",
   "execution_count": null,
   "metadata": {
    "collapsed": true
   },
   "outputs": [],
   "source": [
    "dtt = pd.concat([dtt, dGender, dAge_Breaks, dRace, dRegion, dParent, dHH_Income, dEmployment, \n",
    "                 dEducation, dMarital_Status], axis=1)"
   ]
  },
  {
   "cell_type": "code",
   "execution_count": null,
   "metadata": {
    "collapsed": true
   },
   "outputs": [],
   "source": [
    "dtt.info()"
   ]
  },
  {
   "cell_type": "markdown",
   "metadata": {},
   "source": [
    "## Model Building"
   ]
  },
  {
   "cell_type": "code",
   "execution_count": null,
   "metadata": {
    "collapsed": true
   },
   "outputs": [],
   "source": [
    "from scipy import stats\n",
    "import statsmodels.api as sm"
   ]
  },
  {
   "cell_type": "markdown",
   "metadata": {},
   "source": [
    "### Creating Feature Sets"
   ]
  },
  {
   "cell_type": "code",
   "execution_count": null,
   "metadata": {
    "collapsed": true
   },
   "outputs": [],
   "source": [
    "XGender = dtt[['Gender_Male']]"
   ]
  },
  {
   "cell_type": "code",
   "execution_count": null,
   "metadata": {
    "collapsed": true
   },
   "outputs": [],
   "source": [
    "XAge_Breaks = dtt[['Age_12-17', 'Age_18-24', 'Age_25-34', 'Age_35-44', 'Age_45-54', 'Age_55-64', 'Age_65-74']]\n",
    "\n",
    "XAge = dtt[['Age']]\n",
    "\n",
    "XRace = dtt[['Race_Asian','Race_Black','Race_Hispanic','Race_Other','Race_White']]\n",
    "\n",
    "XParent = dtt[['Parent_No','Parent_Yes']]\n",
    "\n",
    "XRegion = dtt[['Region_Midwest', 'Region_Northeast', 'Region_South', 'Region_West']]\n",
    "\n",
    "\n",
    "XIncome = dtt[['Income_1 - < $20K', 'Income_2 - $20 to $29K', 'Income_3 - $30 to $39K',\n",
    "               'Income_4 - $40 to $59K', 'Income_5 - $60 to $74K', \n",
    "               'Income_6 - $75 to $99K', 'Income_7 - $100 to $149K', \n",
    "               'Income_8 - $150 to $199K', 'Income_9 - $200K+', 'Income_Prefer not to answer']]\n",
    "\n",
    "XEmpl = dtt[['Employment_1 - Full time', 'Employment_2 - Part time', \n",
    "             'Employment_3 - Retired', 'Employment_4 - Not employed']]\n",
    "\n",
    "\n",
    "XEdu = dtt[['Education_1 - HS or less', 'Education_2 - HS Grad', 'Education_3 - Some coll', \n",
    "            'Education_4 - Coll Grad', 'Education_5 - Some Post-grad', 'Education_6 - Post-grad', \n",
    "            'Education_7 - Prefer not to answer']]\n",
    "\n",
    "\n",
    "XMar = dtt[['Marital_Status_Living with a partner', 'Marital_Status_Married', \n",
    "            'Marital_Status_Prefer not to answer', 'Marital_Status_Single']]\n",
    "\n",
    "XPercent = dtt[['Buy_percent', 'Rent_Disc_Percent', 'Rent_Digital_Percent']]\n",
    "\n",
    "XMethod = dtt[['Total Bought', 'Total Discs Rented', 'Total Digital Rented']]\n",
    "\n",
    "XAll_Age_Breaks = pd.concat([XGender, XAge_Breaks, XRace, XParent, XRegion, XIncome, XEmpl, \n",
    "                      XEdu, XMar, XPercent, XMethod],axis=1)\n",
    "\n",
    "XAll_Age = pd.concat([XGender, XAge, XRace, XParent, XRegion, XIncome, XEmpl, \n",
    "                      XEdu, XMar, XPercent, XMethod],axis=1)\n",
    "\n",
    "XAll_Age.info()"
   ]
  },
  {
   "cell_type": "markdown",
   "metadata": {},
   "source": [
    "### Using all (age_breaks)"
   ]
  },
  {
   "cell_type": "code",
   "execution_count": null,
   "metadata": {
    "collapsed": true
   },
   "outputs": [],
   "source": [
    "XAll_Age_Breaks = sm.add_constant(XAll_Age_Breaks) # another way to add a constant row for an intercept\n",
    "y = dtt['Total_Paid_HE_Movies']\n",
    "\n",
    "model_all = sm.OLS(y, XAll_Age_Breaks)\n",
    "results = model_all.fit()\n",
    "print(results.summary())"
   ]
  },
  {
   "cell_type": "markdown",
   "metadata": {},
   "source": [
    "### Gender Alone"
   ]
  },
  {
   "cell_type": "code",
   "execution_count": null,
   "metadata": {
    "collapsed": false
   },
   "outputs": [],
   "source": [
    "XGender = sm.add_constant(XGender) # another way to add a constant row for an intercept\n",
    "y = dtt['Total_Paid_HE_Movies']\n",
    "\n",
    "model = sm.OLS(y, XGender)\n",
    "results = model.fit()\n",
    "print(results.summary())"
   ]
  },
  {
   "cell_type": "markdown",
   "metadata": {},
   "source": [
    "### Age Breaks"
   ]
  },
  {
   "cell_type": "code",
   "execution_count": null,
   "metadata": {
    "collapsed": true
   },
   "outputs": [],
   "source": [
    "XAge_Breaks = sm.add_constant(XAge_Breaks) # another way to add a constant row for an intercept\n",
    "y = dtt['Total_Paid_HE_Movies']\n",
    "\n",
    "model = sm.OLS(y, XAge_Breaks)\n",
    "results = model.fit()\n",
    "print(results.summary())"
   ]
  },
  {
   "cell_type": "markdown",
   "metadata": {},
   "source": [
    "### Age (continuous)"
   ]
  },
  {
   "cell_type": "code",
   "execution_count": null,
   "metadata": {
    "collapsed": true
   },
   "outputs": [],
   "source": [
    "XAge = sm.add_constant(XAge) # another way to add a constant row for an intercept\n",
    "y = dtt['Total_Paid_HE_Movies']\n",
    "\n",
    "model = sm.OLS(y, XAge)\n",
    "results = model.fit()\n",
    "print(results.summary())"
   ]
  },
  {
   "cell_type": "markdown",
   "metadata": {},
   "source": [
    "### Race"
   ]
  },
  {
   "cell_type": "code",
   "execution_count": null,
   "metadata": {
    "collapsed": true
   },
   "outputs": [],
   "source": [
    "XRace = sm.add_constant(XRace) # another way to add a constant row for an intercept\n",
    "y = dtt['Total_Paid_HE_Movies']\n",
    "\n",
    "model = sm.OLS(y, XRace)\n",
    "results = model.fit()\n",
    "print(results.summary())"
   ]
  },
  {
   "cell_type": "markdown",
   "metadata": {},
   "source": [
    "### Parent"
   ]
  },
  {
   "cell_type": "code",
   "execution_count": null,
   "metadata": {
    "collapsed": true
   },
   "outputs": [],
   "source": [
    "XParent = sm.add_constant(XParent) # another way to add a constant row for an intercept\n",
    "y = dtt['Total_Paid_HE_Movies']\n",
    "\n",
    "model = sm.OLS(y, XParent)\n",
    "results = model.fit()\n",
    "print(results.summary())"
   ]
  },
  {
   "cell_type": "markdown",
   "metadata": {},
   "source": [
    "### Region"
   ]
  },
  {
   "cell_type": "code",
   "execution_count": null,
   "metadata": {
    "collapsed": true
   },
   "outputs": [],
   "source": [
    "XRegion = sm.add_constant(XRegion) # another way to add a constant row for an intercept\n",
    "y = dtt['Total_Paid_HE_Movies']\n",
    "\n",
    "model = sm.OLS(y, XRegion)\n",
    "results = model.fit()\n",
    "print(results.summary())"
   ]
  },
  {
   "cell_type": "markdown",
   "metadata": {},
   "source": [
    "### Income"
   ]
  },
  {
   "cell_type": "code",
   "execution_count": null,
   "metadata": {
    "collapsed": true
   },
   "outputs": [],
   "source": [
    "XIncome = sm.add_constant(XIncome) # another way to add a constant row for an intercept\n",
    "y = dtt['Total_Paid_HE_Movies']\n",
    "\n",
    "model = sm.OLS(y, XIncome)\n",
    "results = model.fit()\n",
    "print(results.summary())"
   ]
  },
  {
   "cell_type": "markdown",
   "metadata": {},
   "source": [
    "### Consumption as Percent"
   ]
  },
  {
   "cell_type": "code",
   "execution_count": null,
   "metadata": {
    "collapsed": true
   },
   "outputs": [],
   "source": [
    "XPercent = sm.add_constant(XPercent) # another way to add a constant row for an intercept\n",
    "y = dtt['Total_Paid_HE_Movies']\n",
    "\n",
    "model = sm.OLS(y, XPercent)\n",
    "results = model.fit()\n",
    "print(results.summary())"
   ]
  },
  {
   "cell_type": "markdown",
   "metadata": {},
   "source": [
    "# Using Sci-Kit Learn"
   ]
  },
  {
   "cell_type": "code",
   "execution_count": null,
   "metadata": {
    "collapsed": false,
    "scrolled": true
   },
   "outputs": [],
   "source": [
    "from sklearn import feature_selection, linear_model\n",
    "\n",
    "def get_linear_model_metrics(X, y, algo):\n",
    "    # get the pvalue of X given y. Ignore f-stat for now.\n",
    "    pvals = feature_selection.f_regression(X, y)[1]\n",
    "    # start with an empty linear regression object\n",
    "    # .fit() runs the linear regression function on X and y\n",
    "    algo.fit(X,y)\n",
    "    residuals = (y-algo.predict(X)).values\n",
    "\n",
    "    # print the necessary values\n",
    "    print 'P Values:', pvals\n",
    "    print 'Coefficients:', algo.coef_\n",
    "    print 'y-intercept:', algo.intercept_\n",
    "    print 'R-Squared:', algo.score(X,y)\n",
    "    print 'Mean squared error:', metrics.mean_squared_error(y, algo.predict(X))\n",
    "    plt.figure()\n",
    "    plt.hist(residuals, bins=np.ceil(np.sqrt(len(y))).astype(int))\n",
    "    \n",
    "    # keep the model\n",
    "    return algo"
   ]
  },
  {
   "cell_type": "raw",
   "metadata": {},
   "source": [
    "from sklearn.model_selection import cross_val_score\n",
    "scores = cross_val_score(loan_model, X, y=result['FullyFunded'], groups=None, scoring='roc_auc', cv=5, \n",
    "                n_jobs=1, verbose=0, fit_params=None, pre_dispatch='2*n_jobs')\n",
    "\n",
    "print scores.mean()"
   ]
  },
  {
   "cell_type": "code",
   "execution_count": null,
   "metadata": {
    "collapsed": false,
    "scrolled": true
   },
   "outputs": [],
   "source": [
    "X = mammals[['bodywt']]\n",
    "y = mammals['brainwt']\n",
    "lm = linear_model.LinearRegression()\n",
    "lm = get_linear_model_metrics(X, y, lm)"
   ]
  },
  {
   "cell_type": "code",
   "execution_count": null,
   "metadata": {
    "collapsed": true
   },
   "outputs": [],
   "source": [
    "XAll = pd.concat([XGender, XAge_Breaks, XRace, XRegion, XIncome, Xempl, Xedu, Xmar, Xpercent, Xmethod],axis=1)\n",
    "XAll.info()"
   ]
  },
  {
   "cell_type": "code",
   "execution_count": null,
   "metadata": {
    "collapsed": true
   },
   "outputs": [],
   "source": [
    "XAll.drop('const', axis=1)\n",
    "XAll.info()"
   ]
  },
  {
   "cell_type": "markdown",
   "metadata": {},
   "source": [
    "# Key Measures by Demographics"
   ]
  },
  {
   "cell_type": "code",
   "execution_count": null,
   "metadata": {
    "collapsed": true
   },
   "outputs": [],
   "source": [
    "Cons_Meas_wTot = ['Total_Paid_HE_Movies','Total Bought','Total Discs Rented',\n",
    "                  'Total Digital Rented']\n",
    "\n",
    "Cons_Meas_noTot = ['Total Bought','Total Discs Rented','Total Digital Rented']"
   ]
  },
  {
   "cell_type": "markdown",
   "metadata": {},
   "source": [
    "### Consumption by Gender"
   ]
  },
  {
   "cell_type": "code",
   "execution_count": null,
   "metadata": {
    "collapsed": true
   },
   "outputs": [],
   "source": [
    "dtt.groupby(dtt.Gender)[Cons_Meas_wTot].mean()"
   ]
  },
  {
   "cell_type": "code",
   "execution_count": null,
   "metadata": {
    "collapsed": true
   },
   "outputs": [],
   "source": [
    "gby_gender = dtt.groupby(dtt.Gender)[Cons_Meas_noTot].mean()\n",
    "gby_gender.plot(kind='bar',stacked=True,title = \"Average Consumption by Gender\")"
   ]
  },
  {
   "cell_type": "code",
   "execution_count": null,
   "metadata": {
    "collapsed": true
   },
   "outputs": [],
   "source": [
    "gby_gender = dtt.groupby(dtt.Gender)[Cons_Meas_noTot].mean()\n",
    "gby_gender.plot(kind='bar',stacked=False,title = \"Average Consumption by Gender\")"
   ]
  },
  {
   "cell_type": "markdown",
   "metadata": {},
   "source": [
    "### Consumption by Age Breaks"
   ]
  },
  {
   "cell_type": "code",
   "execution_count": null,
   "metadata": {
    "collapsed": true
   },
   "outputs": [],
   "source": [
    "dtt.groupby(dtt.Age_Breaks)[Cons_Meas_wTot].mean()"
   ]
  },
  {
   "cell_type": "code",
   "execution_count": null,
   "metadata": {
    "collapsed": true
   },
   "outputs": [],
   "source": [
    "gby_age = dtt.groupby(dtt.Age_Breaks)[Cons_Meas_noTot].mean()\n",
    "gby_age.plot(kind = 'bar', stacked = True, title = 'Average Consumption by Age')"
   ]
  },
  {
   "cell_type": "code",
   "execution_count": null,
   "metadata": {
    "collapsed": true
   },
   "outputs": [],
   "source": [
    "gby_age = dtt.groupby(dtt.Age_Breaks)[Cons_Meas_noTot].mean()\n",
    "gby_age.plot(kind = 'bar', stacked = False, title = 'Average Consumption by Age')"
   ]
  },
  {
   "cell_type": "markdown",
   "metadata": {},
   "source": [
    "### Consumption by Race"
   ]
  },
  {
   "cell_type": "code",
   "execution_count": null,
   "metadata": {
    "collapsed": true
   },
   "outputs": [],
   "source": [
    "dtt.groupby(dtt.Race)[Cons_Meas_wTot].mean()"
   ]
  },
  {
   "cell_type": "code",
   "execution_count": null,
   "metadata": {
    "collapsed": true
   },
   "outputs": [],
   "source": [
    "gby_race = dtt.groupby(dtt.Race)[Cons_Meas_noTot].mean()\n",
    "gby_race.plot(kind = 'bar', stacked = True, title = 'Average Consumption by Race')"
   ]
  },
  {
   "cell_type": "code",
   "execution_count": null,
   "metadata": {
    "collapsed": true
   },
   "outputs": [],
   "source": [
    "gby_race = dtt.groupby(dtt.Race)[Cons_Meas_noTot].mean()\n",
    "gby_race.plot(kind = 'bar', stacked = False, title = 'Average Consumption by Race')"
   ]
  },
  {
   "cell_type": "markdown",
   "metadata": {},
   "source": [
    "### Consumption by Employment Status"
   ]
  },
  {
   "cell_type": "code",
   "execution_count": null,
   "metadata": {
    "collapsed": true
   },
   "outputs": [],
   "source": [
    "dtt.groupby(dtt.Employment)[Cons_Meas_wTot].mean()"
   ]
  },
  {
   "cell_type": "code",
   "execution_count": null,
   "metadata": {
    "collapsed": true
   },
   "outputs": [],
   "source": [
    "gby_emply = dtt.groupby(dtt.Employment)[Cons_Meas_noTot].mean()\n",
    "gby_emply.plot(kind = 'bar', stacked = True, title = 'Average Consumption by Employment')"
   ]
  },
  {
   "cell_type": "code",
   "execution_count": null,
   "metadata": {
    "collapsed": true
   },
   "outputs": [],
   "source": [
    "gby_emply = dtt.groupby(dtt.Employment)[Cons_Meas_noTot].mean()\n",
    "gby_emply.plot(kind = 'bar', stacked = False, title = 'Average Consumption by Employment')"
   ]
  },
  {
   "cell_type": "markdown",
   "metadata": {},
   "source": [
    "### Consumption by Education"
   ]
  },
  {
   "cell_type": "code",
   "execution_count": null,
   "metadata": {
    "collapsed": true
   },
   "outputs": [],
   "source": [
    "dtt.groupby(dtt.Education)[Cons_Meas_wTot].mean()"
   ]
  },
  {
   "cell_type": "code",
   "execution_count": null,
   "metadata": {
    "collapsed": true
   },
   "outputs": [],
   "source": [
    "gby_educ = dtt.groupby(dtt.Education)[Cons_Meas_noTot].mean()\n",
    "gby_educ = gby_educ.drop(['7 - Prefer not to answer'])\n",
    "\n",
    "gby_educ.plot(kind = 'bar', stacked = True, title = 'Average Consumption by Education')"
   ]
  },
  {
   "cell_type": "code",
   "execution_count": null,
   "metadata": {
    "collapsed": true
   },
   "outputs": [],
   "source": [
    "gby_educ = dtt.groupby(dtt.Education)[Cons_Meas_noTot].mean()\n",
    "gby_educ = gby_educ.drop(['7 - Prefer not to answer'])\n",
    "gby_educ.plot(kind = 'bar', stacked = False, title = 'Average Consumption by Education')"
   ]
  },
  {
   "cell_type": "markdown",
   "metadata": {},
   "source": [
    "### Consumption by Marital Status"
   ]
  },
  {
   "cell_type": "code",
   "execution_count": null,
   "metadata": {
    "collapsed": true
   },
   "outputs": [],
   "source": [
    "dtt.groupby(dtt.Marital_Status[dtt.Marital_Status != 'Prefer not to answer'])[Cons_Meas_wTot].mean()"
   ]
  },
  {
   "cell_type": "code",
   "execution_count": null,
   "metadata": {
    "collapsed": true
   },
   "outputs": [],
   "source": [
    "dtt.groupby(dtt.Marital_Status[dtt.Marital_Status != 'Prefer not to answer'])[Cons_Meas_noTot].mean().plot(kind='bar',stacked = True)"
   ]
  },
  {
   "cell_type": "code",
   "execution_count": null,
   "metadata": {
    "collapsed": true
   },
   "outputs": [],
   "source": [
    "dtt.groupby(\n",
    "    dtt.Marital_Status[dtt.Marital_Status != 'Prefer not to answer'])[Cons_Meas_noTot].mean().plot(kind='bar',\n",
    "                                                                                                   stacked = False)"
   ]
  },
  {
   "cell_type": "markdown",
   "metadata": {},
   "source": [
    "### Consumption by Parental status"
   ]
  },
  {
   "cell_type": "code",
   "execution_count": null,
   "metadata": {
    "collapsed": true
   },
   "outputs": [],
   "source": [
    "dtt.Parent.value_counts()"
   ]
  },
  {
   "cell_type": "code",
   "execution_count": null,
   "metadata": {
    "collapsed": true
   },
   "outputs": [],
   "source": [
    "dtt.Parent.unique()"
   ]
  },
  {
   "cell_type": "code",
   "execution_count": null,
   "metadata": {
    "collapsed": true
   },
   "outputs": [],
   "source": [
    "dtt.groupby(dtt.Parent [(dtt.Parent == \"Yes\") | (dtt.Parent == \"No\")])[Cons_Meas_wTot].mean()"
   ]
  },
  {
   "cell_type": "code",
   "execution_count": null,
   "metadata": {
    "collapsed": true
   },
   "outputs": [],
   "source": [
    "dtt.groupby(\n",
    "    dtt.Parent[(dtt.Parent == 'Yes')|(dtt.Parent == 'No')])[Cons_Meas_noTot].mean().plot(kind='bar',\n",
    "                                                                                         title = 'Consumption by Parental Status', \n",
    "                                                                                         stacked = True)"
   ]
  },
  {
   "cell_type": "code",
   "execution_count": null,
   "metadata": {
    "collapsed": true
   },
   "outputs": [],
   "source": [
    "dtt.groupby(\n",
    "    dtt.Parent[(dtt.Parent == 'Yes')|(dtt.Parent == 'No')])[Cons_Meas_noTot].mean().plot(kind='bar',\n",
    "                                                                                         title = 'Consumption by Parental Status', \n",
    "                                                                                         stacked = False)"
   ]
  },
  {
   "cell_type": "markdown",
   "metadata": {},
   "source": [
    "### Consumption by Income (TO DO)"
   ]
  },
  {
   "cell_type": "markdown",
   "metadata": {},
   "source": [
    "### Consumption Distributions"
   ]
  },
  {
   "cell_type": "markdown",
   "metadata": {},
   "source": [
    "Probably need to combine disc and digital purchase into just purchase"
   ]
  },
  {
   "cell_type": "code",
   "execution_count": null,
   "metadata": {
    "collapsed": true
   },
   "outputs": [],
   "source": [
    "dtt_numbers = dtt[['Total_Paid_HE_Movies','Total Bought','Total Discs Rented',\n",
    "      'Total Digital Rented','Buy_percent','Rent_Disc_Percent',\n",
    "      'Rent_Digital_Percent']]\n",
    "\n",
    "dtt_numbers.shape"
   ]
  },
  {
   "cell_type": "code",
   "execution_count": null,
   "metadata": {
    "collapsed": true
   },
   "outputs": [],
   "source": [
    "dtt_numbers.describe()"
   ]
  },
  {
   "cell_type": "code",
   "execution_count": null,
   "metadata": {
    "collapsed": true
   },
   "outputs": [],
   "source": [
    "print \"Correlations across Consumption\"\n",
    "dtt_numbers[['Total_Paid_HE_Movies','Total Bought', 'Total Digital Rented','Total Discs Rented']].corr()\n",
    "\n"
   ]
  },
  {
   "cell_type": "code",
   "execution_count": null,
   "metadata": {
    "collapsed": true
   },
   "outputs": [],
   "source": [
    "corr = dtt_numbers[\n",
    "    ['Total_Paid_HE_Movies','Total Bought',\n",
    "     'Total Digital Rented','Total Discs Rented']].corr()\n",
    "\n",
    "sns.heatmap(corr)"
   ]
  },
  {
   "cell_type": "code",
   "execution_count": null,
   "metadata": {
    "collapsed": true
   },
   "outputs": [],
   "source": [
    "dtt.Total_Paid_HE_Movies.plot(kind='hist', bins = 50, title = 'Total Paid HE Movies')"
   ]
  },
  {
   "cell_type": "code",
   "execution_count": null,
   "metadata": {
    "collapsed": true
   },
   "outputs": [],
   "source": [
    "dtt['Total Discs Bought'].plot(kind='hist', bins = 50, title = 'Total Discs Bought')"
   ]
  },
  {
   "cell_type": "code",
   "execution_count": null,
   "metadata": {
    "collapsed": true
   },
   "outputs": [],
   "source": [
    "dtt['Buy_Disc_Percent'].plot(kind='hist', bins = 50, title = 'Total Discs as % of Total')"
   ]
  },
  {
   "cell_type": "code",
   "execution_count": null,
   "metadata": {
    "collapsed": true
   },
   "outputs": [],
   "source": [
    "dtt['Bought_Digital'].plot(kind='hist', bins = 50, title = 'Total Digital Bought')"
   ]
  },
  {
   "cell_type": "code",
   "execution_count": null,
   "metadata": {
    "collapsed": true
   },
   "outputs": [],
   "source": [
    "dtt['Buy_Digital_Percent'].plot(kind='hist', bins = 50, title = 'Total Digital Purchases as % of Total')"
   ]
  },
  {
   "cell_type": "code",
   "execution_count": null,
   "metadata": {
    "collapsed": true
   },
   "outputs": [],
   "source": [
    "dtt['Total Discs Rented'].plot(kind='hist', bins = 50, title = 'Total Discs Rented')"
   ]
  },
  {
   "cell_type": "code",
   "execution_count": null,
   "metadata": {
    "collapsed": true
   },
   "outputs": [],
   "source": [
    "dtt['Rent_Disc_Percent'].plot(kind='hist', bins = 50, title = 'Total Disc Rental as % of Total')"
   ]
  },
  {
   "cell_type": "code",
   "execution_count": null,
   "metadata": {
    "collapsed": true
   },
   "outputs": [],
   "source": [
    "dtt['Total Digital Rented'].plot(kind='hist', bins = 50, title = 'Total Digital Rented')"
   ]
  },
  {
   "cell_type": "code",
   "execution_count": null,
   "metadata": {
    "collapsed": true
   },
   "outputs": [],
   "source": [
    "dtt['Rent_Digital_Percent'].plot(kind='hist', bins = 50, title = 'Total Digital Rental as % of Total')"
   ]
  },
  {
   "cell_type": "code",
   "execution_count": null,
   "metadata": {
    "collapsed": true
   },
   "outputs": [],
   "source": [
    "demos = ['Gender', 'Age_Breaks', 'Region2', 'Race', 'Parent', 'HH_Income', 'Employment', 'Education', 'Marital_Status']\n",
    "\n",
    "sns.factorplot(data=dtt, x='Gender', y='Total_Paid_HE_Movies', hue=None)\n"
   ]
  },
  {
   "cell_type": "markdown",
   "metadata": {},
   "source": [
    "# Model Building"
   ]
  },
  {
   "cell_type": "code",
   "execution_count": null,
   "metadata": {
    "collapsed": false,
    "scrolled": true
   },
   "outputs": [],
   "source": []
  },
  {
   "cell_type": "code",
   "execution_count": null,
   "metadata": {
    "collapsed": true
   },
   "outputs": [],
   "source": [
    "dtt.info()"
   ]
  },
  {
   "cell_type": "code",
   "execution_count": null,
   "metadata": {
    "collapsed": true
   },
   "outputs": [],
   "source": [
    "dtt.ZTotal_Paid_HE_Movies = dtt.ZTotal_Paid_HE_Movies.astype(float)\n",
    "dtt.Buy_Disc_Percent = dtt.Buy_Disc_Percent.astype(float)\n",
    "dtt.Buy_Digital_Percent = dtt.Buy_Digital_Percent.astype(float)\n",
    "dtt.Rent_Disc_Percent = dtt.Rent_Disc_Percent.astype(float)\n",
    "dtt.Rent_Digital_Percent = dtt.Rent_Digital_Percent.astype(float)\n",
    "dtt.Buy_percent = dtt.Buy_percent.astype(float)\n"
   ]
  },
  {
   "cell_type": "code",
   "execution_count": null,
   "metadata": {
    "collapsed": true
   },
   "outputs": [],
   "source": [
    "dtt.info()"
   ]
  },
  {
   "cell_type": "code",
   "execution_count": null,
   "metadata": {
    "collapsed": true
   },
   "outputs": [],
   "source": [
    "# setting all dummies\n",
    "\n",
    "Dgender = pd.get_dummies(dtt.Gender, prefix='Gender', prefix_sep='_', dummy_na=False, \n",
    "                         columns=None, sparse=False, drop_first=False)\n",
    "\n",
    "Dgender.head()\n",
    "\n",
    "dtt = pd.concat([dtt, Dgender], axis=1)\n",
    "\n",
    "dtt.head()\n"
   ]
  },
  {
   "cell_type": "code",
   "execution_count": null,
   "metadata": {
    "collapsed": true
   },
   "outputs": [],
   "source": [
    "# from sklearn import linear_model\n",
    "\n",
    "X = dtt[['Gender', 'Age', 'Age_Breaks', 'Region2', 'Race', 'Parent',\n",
    "         'HH_Income', 'Employment', 'Education', 'Marital_Status', \n",
    "         'Total Discs Rented', 'Total Digital Rented', 'Total Bought', \n",
    "         'Rent_Disc_Percent', 'Rent_Digital_Percent', 'Buy_percent']]\n",
    "\n",
    "X.info()\n",
    "\n",
    "y = dtt['Total_Paid_HE_Movies']\n",
    "\n",
    "# Fit the linear model\n",
    "model = linear_model.LinearRegression()\n",
    "results = model.fit(X, y)\n",
    "\n",
    "# Print the coefficients\n",
    "print results.intercept_, results.coef_"
   ]
  },
  {
   "cell_type": "code",
   "execution_count": null,
   "metadata": {
    "collapsed": false,
    "scrolled": true
   },
   "outputs": [],
   "source": []
  }
 ],
 "metadata": {
  "kernelspec": {
   "display_name": "Python 2",
   "language": "python",
   "name": "python2"
  },
  "language_info": {
   "codemirror_mode": {
    "name": "ipython",
    "version": 2
   },
   "file_extension": ".py",
   "mimetype": "text/x-python",
   "name": "python",
   "nbconvert_exporter": "python",
   "pygments_lexer": "ipython2",
   "version": "2.7.13"
  }
 },
 "nbformat": 4,
 "nbformat_minor": 2
}
