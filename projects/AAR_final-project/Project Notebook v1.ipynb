{
 "cells": [
  {
   "cell_type": "markdown",
   "metadata": {},
   "source": [
    "# Project Notebook v1"
   ]
  },
  {
   "cell_type": "code",
   "execution_count": 72,
   "metadata": {
    "collapsed": true
   },
   "outputs": [],
   "source": [
    "%matplotlib inline\n",
    "import numpy as np\n",
    "import pandas as pd\n",
    "from matplotlib import pyplot as plt\n",
    "import seaborn as sns\n",
    "sns.set_style(\"darkgrid\")\n",
    "import sklearn.linear_model"
   ]
  },
  {
   "cell_type": "code",
   "execution_count": 73,
   "metadata": {
    "collapsed": false
   },
   "outputs": [
    {
     "data": {
      "text/html": [
       "<div>\n",
       "<style>\n",
       "    .dataframe thead tr:only-child th {\n",
       "        text-align: right;\n",
       "    }\n",
       "\n",
       "    .dataframe thead th {\n",
       "        text-align: left;\n",
       "    }\n",
       "\n",
       "    .dataframe tbody tr th {\n",
       "        vertical-align: top;\n",
       "    }\n",
       "</style>\n",
       "<table border=\"1\" class=\"dataframe\">\n",
       "  <thead>\n",
       "    <tr style=\"text-align: right;\">\n",
       "      <th></th>\n",
       "      <th>Gender</th>\n",
       "      <th>Age</th>\n",
       "      <th>Age_Breaks</th>\n",
       "      <th>Region2</th>\n",
       "      <th>Race</th>\n",
       "      <th>Language_Dominance</th>\n",
       "      <th>Parent</th>\n",
       "      <th>HH_Income</th>\n",
       "      <th>Employment</th>\n",
       "      <th>Education</th>\n",
       "      <th>...</th>\n",
       "      <th>Rented_Digital_iVOD</th>\n",
       "      <th>Rented_Digital_sVOD</th>\n",
       "      <th>Rented_Digital_cVOD</th>\n",
       "      <th>cqhidGroup</th>\n",
       "      <th>filter_$</th>\n",
       "      <th>ZTotal_Paid_HE_Movies</th>\n",
       "      <th>Buy_Disc_Percent</th>\n",
       "      <th>Buy_Digital_Percent</th>\n",
       "      <th>Rent_Disc_Percent</th>\n",
       "      <th>Rent_Digital_Percent</th>\n",
       "    </tr>\n",
       "    <tr>\n",
       "      <th>respid</th>\n",
       "      <th></th>\n",
       "      <th></th>\n",
       "      <th></th>\n",
       "      <th></th>\n",
       "      <th></th>\n",
       "      <th></th>\n",
       "      <th></th>\n",
       "      <th></th>\n",
       "      <th></th>\n",
       "      <th></th>\n",
       "      <th></th>\n",
       "      <th></th>\n",
       "      <th></th>\n",
       "      <th></th>\n",
       "      <th></th>\n",
       "      <th></th>\n",
       "      <th></th>\n",
       "      <th></th>\n",
       "      <th></th>\n",
       "      <th></th>\n",
       "      <th></th>\n",
       "    </tr>\n",
       "  </thead>\n",
       "  <tbody>\n",
       "    <tr>\n",
       "      <th>44</th>\n",
       "      <td>Female</td>\n",
       "      <td>20</td>\n",
       "      <td>18-24</td>\n",
       "      <td>South</td>\n",
       "      <td>Black</td>\n",
       "      <td></td>\n",
       "      <td></td>\n",
       "      <td>1 - &lt; $20K</td>\n",
       "      <td>4 - Not employed</td>\n",
       "      <td>2 - HS Grad</td>\n",
       "      <td>...</td>\n",
       "      <td>5</td>\n",
       "      <td>18</td>\n",
       "      <td>4</td>\n",
       "      <td>Gen-Pop</td>\n",
       "      <td>Selected</td>\n",
       "      <td>1.492690</td>\n",
       "      <td>0.363636</td>\n",
       "      <td>0.0</td>\n",
       "      <td>0.145455</td>\n",
       "      <td>0.490909</td>\n",
       "    </tr>\n",
       "    <tr>\n",
       "      <th>108</th>\n",
       "      <td>Male</td>\n",
       "      <td>31</td>\n",
       "      <td>25-34</td>\n",
       "      <td>Northeast</td>\n",
       "      <td>Hispanic</td>\n",
       "      <td>Only English</td>\n",
       "      <td>No</td>\n",
       "      <td>1 - &lt; $20K</td>\n",
       "      <td>4 - Not employed</td>\n",
       "      <td>2 - HS Grad</td>\n",
       "      <td>...</td>\n",
       "      <td>0</td>\n",
       "      <td>0</td>\n",
       "      <td>0</td>\n",
       "      <td>Gen-Pop</td>\n",
       "      <td>Selected</td>\n",
       "      <td>0.009386</td>\n",
       "      <td>0.157895</td>\n",
       "      <td>0.0</td>\n",
       "      <td>0.842105</td>\n",
       "      <td>0.000000</td>\n",
       "    </tr>\n",
       "    <tr>\n",
       "      <th>147</th>\n",
       "      <td>Female</td>\n",
       "      <td>19</td>\n",
       "      <td>18-24</td>\n",
       "      <td>South</td>\n",
       "      <td>White</td>\n",
       "      <td></td>\n",
       "      <td></td>\n",
       "      <td>1 - &lt; $20K</td>\n",
       "      <td>4 - Not employed</td>\n",
       "      <td>2 - HS Grad</td>\n",
       "      <td>...</td>\n",
       "      <td>0</td>\n",
       "      <td>5</td>\n",
       "      <td>0</td>\n",
       "      <td>Gen-Pop</td>\n",
       "      <td>Selected</td>\n",
       "      <td>-0.567454</td>\n",
       "      <td>0.000000</td>\n",
       "      <td>0.0</td>\n",
       "      <td>0.000000</td>\n",
       "      <td>1.000000</td>\n",
       "    </tr>\n",
       "    <tr>\n",
       "      <th>171</th>\n",
       "      <td>Female</td>\n",
       "      <td>18</td>\n",
       "      <td>18-24</td>\n",
       "      <td>Northeast</td>\n",
       "      <td>White</td>\n",
       "      <td></td>\n",
       "      <td></td>\n",
       "      <td>1 - &lt; $20K</td>\n",
       "      <td>2 - Part time</td>\n",
       "      <td>3 - Some coll</td>\n",
       "      <td>...</td>\n",
       "      <td>0</td>\n",
       "      <td>7</td>\n",
       "      <td>0</td>\n",
       "      <td>Gen-Pop</td>\n",
       "      <td>Selected</td>\n",
       "      <td>-0.485048</td>\n",
       "      <td>0.000000</td>\n",
       "      <td>0.0</td>\n",
       "      <td>0.000000</td>\n",
       "      <td>1.000000</td>\n",
       "    </tr>\n",
       "    <tr>\n",
       "      <th>174</th>\n",
       "      <td>Female</td>\n",
       "      <td>54</td>\n",
       "      <td>45-54</td>\n",
       "      <td>South</td>\n",
       "      <td>White</td>\n",
       "      <td></td>\n",
       "      <td>No</td>\n",
       "      <td>1 - &lt; $20K</td>\n",
       "      <td>4 - Not employed</td>\n",
       "      <td>2 - HS Grad</td>\n",
       "      <td>...</td>\n",
       "      <td>0</td>\n",
       "      <td>50</td>\n",
       "      <td>0</td>\n",
       "      <td>Gen-Pop</td>\n",
       "      <td>Selected</td>\n",
       "      <td>1.286676</td>\n",
       "      <td>0.000000</td>\n",
       "      <td>0.0</td>\n",
       "      <td>0.000000</td>\n",
       "      <td>1.000000</td>\n",
       "    </tr>\n",
       "  </tbody>\n",
       "</table>\n",
       "<p>5 rows × 28 columns</p>\n",
       "</div>"
      ],
      "text/plain": [
       "        Gender  Age Age_Breaks    Region2      Race Language_Dominance Parent  \\\n",
       "respid                                                                          \n",
       "44      Female   20      18-24      South     Black                             \n",
       "108       Male   31      25-34  Northeast  Hispanic       Only English     No   \n",
       "147     Female   19      18-24      South     White                             \n",
       "171     Female   18      18-24  Northeast     White                             \n",
       "174     Female   54      45-54      South     White                        No   \n",
       "\n",
       "         HH_Income        Employment      Education          ...           \\\n",
       "respid                                                       ...            \n",
       "44      1 - < $20K  4 - Not employed    2 - HS Grad          ...            \n",
       "108     1 - < $20K  4 - Not employed    2 - HS Grad          ...            \n",
       "147     1 - < $20K  4 - Not employed    2 - HS Grad          ...            \n",
       "171     1 - < $20K     2 - Part time  3 - Some coll          ...            \n",
       "174     1 - < $20K  4 - Not employed    2 - HS Grad          ...            \n",
       "\n",
       "       Rented_Digital_iVOD  Rented_Digital_sVOD  Rented_Digital_cVOD  \\\n",
       "respid                                                                 \n",
       "44                       5                   18                    4   \n",
       "108                      0                    0                    0   \n",
       "147                      0                    5                    0   \n",
       "171                      0                    7                    0   \n",
       "174                      0                   50                    0   \n",
       "\n",
       "        cqhidGroup  filter_$  ZTotal_Paid_HE_Movies  Buy_Disc_Percent  \\\n",
       "respid                                                                  \n",
       "44         Gen-Pop  Selected               1.492690          0.363636   \n",
       "108        Gen-Pop  Selected               0.009386          0.157895   \n",
       "147        Gen-Pop  Selected              -0.567454          0.000000   \n",
       "171        Gen-Pop  Selected              -0.485048          0.000000   \n",
       "174        Gen-Pop  Selected               1.286676          0.000000   \n",
       "\n",
       "        Buy_Digital_Percent  Rent_Disc_Percent  Rent_Digital_Percent  \n",
       "respid                                                                \n",
       "44                      0.0           0.145455              0.490909  \n",
       "108                     0.0           0.842105              0.000000  \n",
       "147                     0.0           0.000000              1.000000  \n",
       "171                     0.0           0.000000              1.000000  \n",
       "174                     0.0           0.000000              1.000000  \n",
       "\n",
       "[5 rows x 28 columns]"
      ]
     },
     "execution_count": 73,
     "metadata": {},
     "output_type": "execute_result"
    }
   ],
   "source": [
    "dtt2 = pd.read_csv(\"Data\\DTT Final Data w labels.csv\",index_col=0)\n",
    "dtt2.head()"
   ]
  },
  {
   "cell_type": "code",
   "execution_count": 74,
   "metadata": {
    "collapsed": false
   },
   "outputs": [],
   "source": [
    "#Calculates all rollups and adds as columns\n",
    "\n",
    "#total movies bought on disc\n",
    "dtt2['Total Discs Bought'] = (dtt2['Bought_Disc_BD'] + dtt2['Bought_Disc_DVD'])\n",
    "\n",
    "#total movies rented on disc\n",
    "dtt2['Total Discs Rented'] = (dtt2['Rented_Disc_Kiosk'] + dtt2['Rented_Disc_Mail'] + dtt2['Rented_Disc_Store'])\n",
    "\n",
    "#total movies rented on digital\n",
    "dtt2['Total Digital Rented'] = (dtt2['Rented_Digital_cVOD'] + dtt2['Rented_Digital_iVOD'] + dtt2['Rented_Digital_sVOD'])\n"
   ]
  },
  {
   "cell_type": "code",
   "execution_count": 60,
   "metadata": {
    "collapsed": false
   },
   "outputs": [
    {
     "name": "stdout",
     "output_type": "stream",
     "text": [
      "Index([u'Gender', u'Age', u'Age_Breaks', u'Region2', u'Race',\n",
      "       u'Language_Dominance', u'Parent', u'HH_Income', u'Employment',\n",
      "       u'Education', u'Marital_Status', u'Total_Paid_HE_Movies',\n",
      "       u'Bought_Disc_DVD', u'Bought_Disc_BD', u'Bought_Digital',\n",
      "       u'Rented_Disc_Store', u'Rented_Disc_Kiosk', u'Rented_Disc_Mail',\n",
      "       u'Rented_Digital_iVOD', u'Rented_Digital_sVOD', u'Rented_Digital_cVOD',\n",
      "       u'cqhidGroup', u'filter_$', u'ZTotal_Paid_HE_Movies',\n",
      "       u'Buy_Disc_Percent', u'Buy_Digital_Percent', u'Rent_Disc_Percent',\n",
      "       u'Rent_Digital_Percent', u'Total Discs Bought', u'Total Discs Rented',\n",
      "       u'Total Digital Rented'],\n",
      "      dtype='object')\n"
     ]
    }
   ],
   "source": [
    "print dtt2.columns"
   ]
  },
  {
   "cell_type": "markdown",
   "metadata": {},
   "source": [
    "# Key Measures by Demographics"
   ]
  },
  {
   "cell_type": "code",
   "execution_count": 77,
   "metadata": {
    "collapsed": false
   },
   "outputs": [
    {
     "data": {
      "text/html": [
       "<div>\n",
       "<style>\n",
       "    .dataframe thead tr:only-child th {\n",
       "        text-align: right;\n",
       "    }\n",
       "\n",
       "    .dataframe thead th {\n",
       "        text-align: left;\n",
       "    }\n",
       "\n",
       "    .dataframe tbody tr th {\n",
       "        vertical-align: top;\n",
       "    }\n",
       "</style>\n",
       "<table border=\"1\" class=\"dataframe\">\n",
       "  <thead>\n",
       "    <tr style=\"text-align: right;\">\n",
       "      <th></th>\n",
       "      <th>Total_Paid_HE_Movies</th>\n",
       "      <th>Total Discs Bought</th>\n",
       "      <th>Bought_Digital</th>\n",
       "      <th>Total Discs Rented</th>\n",
       "      <th>Total Digital Rented</th>\n",
       "    </tr>\n",
       "    <tr>\n",
       "      <th>Gender</th>\n",
       "      <th></th>\n",
       "      <th></th>\n",
       "      <th></th>\n",
       "      <th></th>\n",
       "      <th></th>\n",
       "    </tr>\n",
       "  </thead>\n",
       "  <tbody>\n",
       "    <tr>\n",
       "      <th>Female</th>\n",
       "      <td>15.535457</td>\n",
       "      <td>2.483042</td>\n",
       "      <td>0.668037</td>\n",
       "      <td>3.685509</td>\n",
       "      <td>8.698869</td>\n",
       "    </tr>\n",
       "    <tr>\n",
       "      <th>Male</th>\n",
       "      <td>16.768908</td>\n",
       "      <td>3.269958</td>\n",
       "      <td>0.780462</td>\n",
       "      <td>4.014706</td>\n",
       "      <td>8.703782</td>\n",
       "    </tr>\n",
       "  </tbody>\n",
       "</table>\n",
       "</div>"
      ],
      "text/plain": [
       "        Total_Paid_HE_Movies  Total Discs Bought  Bought_Digital  \\\n",
       "Gender                                                             \n",
       "Female             15.535457            2.483042        0.668037   \n",
       "Male               16.768908            3.269958        0.780462   \n",
       "\n",
       "        Total Discs Rented  Total Digital Rented  \n",
       "Gender                                            \n",
       "Female            3.685509              8.698869  \n",
       "Male              4.014706              8.703782  "
      ]
     },
     "execution_count": 77,
     "metadata": {},
     "output_type": "execute_result"
    }
   ],
   "source": [
    "Demographics = ['Gender','Age_Breaks','Region2','Race','Parent',\n",
    "                'HH_Income','Employment', 'Education', 'Marital_Status']\n",
    "Consumption_Measures = ['Total_Paid_HE_Movies','Total Discs Bought',\n",
    "                        'Bought_Digital','Total Discs Rented','Total Digital Rented']\n",
    "\n",
    "dtt2.groupby(dtt2.Gender)[Consumption_Measures].mean()"
   ]
  },
  {
   "cell_type": "code",
   "execution_count": 61,
   "metadata": {
    "collapsed": false
   },
   "outputs": [
    {
     "data": {
      "text/plain": [
       "<matplotlib.axes._subplots.AxesSubplot at 0x13247be0>"
      ]
     },
     "execution_count": 61,
     "metadata": {},
     "output_type": "execute_result"
    },
    {
     "data": {
      "image/png": "[encoded data removed]",
      "text/plain": [
       "<matplotlib.figure.Figure at 0x132479b0>"
      ]
     },
     "metadata": {},
     "output_type": "display_data"
    }
   ],
   "source": [
    "dtt2.Gender.value_counts().sort_index().plot(kind='pie')"
   ]
  },
  {
   "cell_type": "code",
   "execution_count": 62,
   "metadata": {
    "collapsed": false
   },
   "outputs": [
    {
     "data": {
      "text/plain": [
       "<matplotlib.axes._subplots.AxesSubplot at 0x13262748>"
      ]
     },
     "execution_count": 62,
     "metadata": {},
     "output_type": "execute_result"
    },
    {
     "data": {
      "image/png": "[encoded data removed]",
      "text/plain": [
       "<matplotlib.figure.Figure at 0x13611dd8>"
      ]
     },
     "metadata": {},
     "output_type": "display_data"
    }
   ],
   "source": [
    "dtt2.Age_Breaks.value_counts().sort_index().plot(kind='bar')\n"
   ]
  },
  {
   "cell_type": "code",
   "execution_count": 63,
   "metadata": {
    "collapsed": false
   },
   "outputs": [
    {
     "data": {
      "text/plain": [
       "<matplotlib.axes._subplots.AxesSubplot at 0x13971a90>"
      ]
     },
     "execution_count": 63,
     "metadata": {},
     "output_type": "execute_result"
    },
    {
     "data": {
      "image/png": "[encoded data removed]",
      "text/plain": [
       "<matplotlib.figure.Figure at 0x139d3160>"
      ]
     },
     "metadata": {},
     "output_type": "display_data"
    }
   ],
   "source": [
    "dtt2.Region2.value_counts().sort_index().plot(kind='bar')\n"
   ]
  },
  {
   "cell_type": "markdown",
   "metadata": {},
   "source": [
    " u'Race',\n",
    "       u'Language_Dominance', u'Parent', u'HH_Income', u'Employment',\n",
    "       u'Education', u'Marital_Status'"
   ]
  },
  {
   "cell_type": "code",
   "execution_count": 64,
   "metadata": {
    "collapsed": false
   },
   "outputs": [
    {
     "data": {
      "text/plain": [
       "<matplotlib.axes._subplots.AxesSubplot at 0x13a059e8>"
      ]
     },
     "execution_count": 64,
     "metadata": {},
     "output_type": "execute_result"
    },
    {
     "data": {
      "image/png": "[encoded data removed]",
      "text/plain": [
       "<matplotlib.figure.Figure at 0x13a55f28>"
      ]
     },
     "metadata": {},
     "output_type": "display_data"
    }
   ],
   "source": [
    "dtt2.HH_Income.value_counts().sort_index().plot(kind='bar')"
   ]
  },
  {
   "cell_type": "code",
   "execution_count": 65,
   "metadata": {
    "collapsed": false
   },
   "outputs": [
    {
     "data": {
      "text/plain": [
       "<matplotlib.axes._subplots.AxesSubplot at 0x13de7eb8>"
      ]
     },
     "execution_count": 65,
     "metadata": {},
     "output_type": "execute_result"
    },
    {
     "data": {
      "image/png": "[encoded data removed]",
      "text/plain": [
       "<matplotlib.figure.Figure at 0x13ea67f0>"
      ]
     },
     "metadata": {},
     "output_type": "display_data"
    }
   ],
   "source": [
    "dtt2.Race.value_counts().sort_index().plot(kind='bar')"
   ]
  },
  {
   "cell_type": "code",
   "execution_count": 55,
   "metadata": {
    "collapsed": false
   },
   "outputs": [
    {
     "data": {
      "text/plain": [
       "<matplotlib.axes._subplots.AxesSubplot at 0x121874a8>"
      ]
     },
     "execution_count": 55,
     "metadata": {},
     "output_type": "execute_result"
    },
    {
     "data": {
      "image/png": "[encoded data removed]",
      "text/plain": [
       "<matplotlib.figure.Figure at 0x12927b38>"
      ]
     },
     "metadata": {},
     "output_type": "display_data"
    }
   ],
   "source": [
    "dtt2.Parent.value_counts().sort_index().plot(kind='bar')"
   ]
  },
  {
   "cell_type": "code",
   "execution_count": 29,
   "metadata": {
    "collapsed": false
   },
   "outputs": [
    {
     "data": {
      "text/plain": [
       "<matplotlib.legend.Legend at 0xec34780>"
      ]
     },
     "execution_count": 29,
     "metadata": {},
     "output_type": "execute_result"
    },
    {
     "data": {
      "image/png": "[encoded data removed]",
      "text/plain": [
       "<matplotlib.figure.Figure at 0xec344e0>"
      ]
     },
     "metadata": {},
     "output_type": "display_data"
    }
   ],
   "source": [
    "plt.hist(dtt2['Total Discs Bought'],bins=20,histtype='bar')\n",
    "plt.legend(['Total Discs Bought'])"
   ]
  },
  {
   "cell_type": "code",
   "execution_count": 32,
   "metadata": {
    "collapsed": false
   },
   "outputs": [
    {
     "data": {
      "text/plain": [
       "<matplotlib.collections.PathCollection at 0x110aebe0>"
      ]
     },
     "execution_count": 32,
     "metadata": {},
     "output_type": "execute_result"
    },
    {
     "data": {
      "image/png": "[encoded data removed]",
      "text/plain": [
       "<matplotlib.figure.Figure at 0x11038c50>"
      ]
     },
     "metadata": {},
     "output_type": "display_data"
    }
   ],
   "source": [
    "plt.scatter(dtt2.Age,dtt2['Total_Paid_HE_Movies'])"
   ]
  },
  {
   "cell_type": "code",
   "execution_count": 7,
   "metadata": {
    "collapsed": false
   },
   "outputs": [
    {
     "data": {
      "text/plain": [
       "<matplotlib.text.Text at 0xa23fdd8>"
      ]
     },
     "execution_count": 7,
     "metadata": {},
     "output_type": "execute_result"
    },
    {
     "data": {
      "image/png": "[encoded data removed]",
      "text/plain": [
       "<matplotlib.figure.Figure at 0xcb591d0>"
      ]
     },
     "metadata": {},
     "output_type": "display_data"
    }
   ],
   "source": [
    "plt.hist(dtt2['Bought_Disc_DVD'])\n",
    "plt.title(\"Bought_Disc_DVD\")"
   ]
  },
  {
   "cell_type": "code",
   "execution_count": 13,
   "metadata": {
    "collapsed": false
   },
   "outputs": [
    {
     "data": {
      "text/html": [
       "<div>\n",
       "<style>\n",
       "    .dataframe thead tr:only-child th {\n",
       "        text-align: right;\n",
       "    }\n",
       "\n",
       "    .dataframe thead th {\n",
       "        text-align: left;\n",
       "    }\n",
       "\n",
       "    .dataframe tbody tr th {\n",
       "        vertical-align: top;\n",
       "    }\n",
       "</style>\n",
       "<table border=\"1\" class=\"dataframe\">\n",
       "  <thead>\n",
       "    <tr style=\"text-align: right;\">\n",
       "      <th></th>\n",
       "      <th>Gender</th>\n",
       "      <th>Age</th>\n",
       "      <th>Region</th>\n",
       "      <th>Race</th>\n",
       "      <th>HH_Income</th>\n",
       "      <th>Employment</th>\n",
       "      <th>Education</th>\n",
       "      <th>Marital_Status</th>\n",
       "      <th>Total_Paid_HE_Movies</th>\n",
       "      <th>Bought_Disc_DVD</th>\n",
       "      <th>...</th>\n",
       "      <th>Rented_Digital_sVOD</th>\n",
       "      <th>Rented_Digital_cVOD</th>\n",
       "      <th>cqhidGroup</th>\n",
       "      <th>filter_$</th>\n",
       "      <th>ZTotal_Paid_HE_Movies</th>\n",
       "      <th>Buy_Disc_Percent</th>\n",
       "      <th>Buy_Digital_Percent</th>\n",
       "      <th>Rent_Disc_Percent</th>\n",
       "      <th>Rent_Digital_Percent</th>\n",
       "      <th>Total Discs Bought</th>\n",
       "    </tr>\n",
       "  </thead>\n",
       "  <tbody>\n",
       "    <tr>\n",
       "      <th>count</th>\n",
       "      <td>1925.000000</td>\n",
       "      <td>1925.000000</td>\n",
       "      <td>1925.00000</td>\n",
       "      <td>1925.000000</td>\n",
       "      <td>1925.000000</td>\n",
       "      <td>1925.000000</td>\n",
       "      <td>1925.000000</td>\n",
       "      <td>1925.000000</td>\n",
       "      <td>1925.000000</td>\n",
       "      <td>1925.000000</td>\n",
       "      <td>...</td>\n",
       "      <td>1925.000000</td>\n",
       "      <td>1925.000000</td>\n",
       "      <td>1925.0</td>\n",
       "      <td>1925.0</td>\n",
       "      <td>1925.000000</td>\n",
       "      <td>1925.000000</td>\n",
       "      <td>1925.000000</td>\n",
       "      <td>1925.000000</td>\n",
       "      <td>1925.000000</td>\n",
       "      <td>1925.000000</td>\n",
       "    </tr>\n",
       "    <tr>\n",
       "      <th>mean</th>\n",
       "      <td>1.505455</td>\n",
       "      <td>39.631169</td>\n",
       "      <td>2.57974</td>\n",
       "      <td>1.916364</td>\n",
       "      <td>4.952208</td>\n",
       "      <td>2.100260</td>\n",
       "      <td>3.535584</td>\n",
       "      <td>2.144935</td>\n",
       "      <td>16.145455</td>\n",
       "      <td>1.588052</td>\n",
       "      <td>...</td>\n",
       "      <td>6.691429</td>\n",
       "      <td>1.291948</td>\n",
       "      <td>1.0</td>\n",
       "      <td>1.0</td>\n",
       "      <td>-0.108229</td>\n",
       "      <td>0.239981</td>\n",
       "      <td>0.041825</td>\n",
       "      <td>0.234541</td>\n",
       "      <td>0.483653</td>\n",
       "      <td>2.872208</td>\n",
       "    </tr>\n",
       "    <tr>\n",
       "      <th>std</th>\n",
       "      <td>0.500100</td>\n",
       "      <td>15.969080</td>\n",
       "      <td>1.05341</td>\n",
       "      <td>1.512514</td>\n",
       "      <td>2.325802</td>\n",
       "      <td>1.265168</td>\n",
       "      <td>1.391019</td>\n",
       "      <td>0.970073</td>\n",
       "      <td>16.526946</td>\n",
       "      <td>2.914257</td>\n",
       "      <td>...</td>\n",
       "      <td>10.804796</td>\n",
       "      <td>3.550492</td>\n",
       "      <td>0.0</td>\n",
       "      <td>0.0</td>\n",
       "      <td>0.680958</td>\n",
       "      <td>0.306352</td>\n",
       "      <td>0.111739</td>\n",
       "      <td>0.292798</td>\n",
       "      <td>0.369288</td>\n",
       "      <td>4.604784</td>\n",
       "    </tr>\n",
       "    <tr>\n",
       "      <th>min</th>\n",
       "      <td>1.000000</td>\n",
       "      <td>12.000000</td>\n",
       "      <td>1.00000</td>\n",
       "      <td>1.000000</td>\n",
       "      <td>1.000000</td>\n",
       "      <td>1.000000</td>\n",
       "      <td>1.000000</td>\n",
       "      <td>1.000000</td>\n",
       "      <td>1.000000</td>\n",
       "      <td>0.000000</td>\n",
       "      <td>...</td>\n",
       "      <td>0.000000</td>\n",
       "      <td>0.000000</td>\n",
       "      <td>1.0</td>\n",
       "      <td>1.0</td>\n",
       "      <td>-0.732266</td>\n",
       "      <td>0.000000</td>\n",
       "      <td>0.000000</td>\n",
       "      <td>0.000000</td>\n",
       "      <td>0.000000</td>\n",
       "      <td>0.000000</td>\n",
       "    </tr>\n",
       "    <tr>\n",
       "      <th>25%</th>\n",
       "      <td>1.000000</td>\n",
       "      <td>26.000000</td>\n",
       "      <td>2.00000</td>\n",
       "      <td>1.000000</td>\n",
       "      <td>3.000000</td>\n",
       "      <td>1.000000</td>\n",
       "      <td>3.000000</td>\n",
       "      <td>1.000000</td>\n",
       "      <td>5.000000</td>\n",
       "      <td>0.000000</td>\n",
       "      <td>...</td>\n",
       "      <td>0.000000</td>\n",
       "      <td>0.000000</td>\n",
       "      <td>1.0</td>\n",
       "      <td>1.0</td>\n",
       "      <td>-0.567454</td>\n",
       "      <td>0.000000</td>\n",
       "      <td>0.000000</td>\n",
       "      <td>0.000000</td>\n",
       "      <td>0.133333</td>\n",
       "      <td>0.000000</td>\n",
       "    </tr>\n",
       "    <tr>\n",
       "      <th>50%</th>\n",
       "      <td>2.000000</td>\n",
       "      <td>39.000000</td>\n",
       "      <td>3.00000</td>\n",
       "      <td>1.000000</td>\n",
       "      <td>5.000000</td>\n",
       "      <td>1.000000</td>\n",
       "      <td>3.000000</td>\n",
       "      <td>3.000000</td>\n",
       "      <td>10.000000</td>\n",
       "      <td>1.000000</td>\n",
       "      <td>...</td>\n",
       "      <td>3.000000</td>\n",
       "      <td>0.000000</td>\n",
       "      <td>1.0</td>\n",
       "      <td>1.0</td>\n",
       "      <td>-0.361440</td>\n",
       "      <td>0.136364</td>\n",
       "      <td>0.000000</td>\n",
       "      <td>0.116279</td>\n",
       "      <td>0.483871</td>\n",
       "      <td>1.000000</td>\n",
       "    </tr>\n",
       "    <tr>\n",
       "      <th>75%</th>\n",
       "      <td>2.000000</td>\n",
       "      <td>52.000000</td>\n",
       "      <td>3.00000</td>\n",
       "      <td>2.000000</td>\n",
       "      <td>7.000000</td>\n",
       "      <td>3.000000</td>\n",
       "      <td>4.000000</td>\n",
       "      <td>3.000000</td>\n",
       "      <td>22.000000</td>\n",
       "      <td>2.000000</td>\n",
       "      <td>...</td>\n",
       "      <td>10.000000</td>\n",
       "      <td>1.000000</td>\n",
       "      <td>1.0</td>\n",
       "      <td>1.0</td>\n",
       "      <td>0.132995</td>\n",
       "      <td>0.333333</td>\n",
       "      <td>0.014925</td>\n",
       "      <td>0.375000</td>\n",
       "      <td>0.833333</td>\n",
       "      <td>4.000000</td>\n",
       "    </tr>\n",
       "    <tr>\n",
       "      <th>max</th>\n",
       "      <td>2.000000</td>\n",
       "      <td>74.000000</td>\n",
       "      <td>4.00000</td>\n",
       "      <td>5.000000</td>\n",
       "      <td>10.000000</td>\n",
       "      <td>4.000000</td>\n",
       "      <td>7.000000</td>\n",
       "      <td>4.000000</td>\n",
       "      <td>91.000000</td>\n",
       "      <td>30.000000</td>\n",
       "      <td>...</td>\n",
       "      <td>80.000000</td>\n",
       "      <td>75.000000</td>\n",
       "      <td>1.0</td>\n",
       "      <td>1.0</td>\n",
       "      <td>2.975994</td>\n",
       "      <td>1.000000</td>\n",
       "      <td>1.000000</td>\n",
       "      <td>1.000000</td>\n",
       "      <td>1.000000</td>\n",
       "      <td>55.000000</td>\n",
       "    </tr>\n",
       "  </tbody>\n",
       "</table>\n",
       "<p>8 rows × 26 columns</p>\n",
       "</div>"
      ],
      "text/plain": [
       "            Gender          Age      Region         Race    HH_Income  \\\n",
       "count  1925.000000  1925.000000  1925.00000  1925.000000  1925.000000   \n",
       "mean      1.505455    39.631169     2.57974     1.916364     4.952208   \n",
       "std       0.500100    15.969080     1.05341     1.512514     2.325802   \n",
       "min       1.000000    12.000000     1.00000     1.000000     1.000000   \n",
       "25%       1.000000    26.000000     2.00000     1.000000     3.000000   \n",
       "50%       2.000000    39.000000     3.00000     1.000000     5.000000   \n",
       "75%       2.000000    52.000000     3.00000     2.000000     7.000000   \n",
       "max       2.000000    74.000000     4.00000     5.000000    10.000000   \n",
       "\n",
       "        Employment    Education  Marital_Status  Total_Paid_HE_Movies  \\\n",
       "count  1925.000000  1925.000000     1925.000000           1925.000000   \n",
       "mean      2.100260     3.535584        2.144935             16.145455   \n",
       "std       1.265168     1.391019        0.970073             16.526946   \n",
       "min       1.000000     1.000000        1.000000              1.000000   \n",
       "25%       1.000000     3.000000        1.000000              5.000000   \n",
       "50%       1.000000     3.000000        3.000000             10.000000   \n",
       "75%       3.000000     4.000000        3.000000             22.000000   \n",
       "max       4.000000     7.000000        4.000000             91.000000   \n",
       "\n",
       "       Bought_Disc_DVD         ...          Rented_Digital_sVOD  \\\n",
       "count      1925.000000         ...                  1925.000000   \n",
       "mean          1.588052         ...                     6.691429   \n",
       "std           2.914257         ...                    10.804796   \n",
       "min           0.000000         ...                     0.000000   \n",
       "25%           0.000000         ...                     0.000000   \n",
       "50%           1.000000         ...                     3.000000   \n",
       "75%           2.000000         ...                    10.000000   \n",
       "max          30.000000         ...                    80.000000   \n",
       "\n",
       "       Rented_Digital_cVOD  cqhidGroup  filter_$  ZTotal_Paid_HE_Movies  \\\n",
       "count          1925.000000      1925.0    1925.0            1925.000000   \n",
       "mean              1.291948         1.0       1.0              -0.108229   \n",
       "std               3.550492         0.0       0.0               0.680958   \n",
       "min               0.000000         1.0       1.0              -0.732266   \n",
       "25%               0.000000         1.0       1.0              -0.567454   \n",
       "50%               0.000000         1.0       1.0              -0.361440   \n",
       "75%               1.000000         1.0       1.0               0.132995   \n",
       "max              75.000000         1.0       1.0               2.975994   \n",
       "\n",
       "       Buy_Disc_Percent  Buy_Digital_Percent  Rent_Disc_Percent  \\\n",
       "count       1925.000000          1925.000000        1925.000000   \n",
       "mean           0.239981             0.041825           0.234541   \n",
       "std            0.306352             0.111739           0.292798   \n",
       "min            0.000000             0.000000           0.000000   \n",
       "25%            0.000000             0.000000           0.000000   \n",
       "50%            0.136364             0.000000           0.116279   \n",
       "75%            0.333333             0.014925           0.375000   \n",
       "max            1.000000             1.000000           1.000000   \n",
       "\n",
       "       Rent_Digital_Percent  Total Discs Bought  \n",
       "count           1925.000000         1925.000000  \n",
       "mean               0.483653            2.872208  \n",
       "std                0.369288            4.604784  \n",
       "min                0.000000            0.000000  \n",
       "25%                0.133333            0.000000  \n",
       "50%                0.483871            1.000000  \n",
       "75%                0.833333            4.000000  \n",
       "max                1.000000           55.000000  \n",
       "\n",
       "[8 rows x 26 columns]"
      ]
     },
     "execution_count": 13,
     "metadata": {},
     "output_type": "execute_result"
    }
   ],
   "source": [
    "dtt2.describe()"
   ]
  },
  {
   "cell_type": "code",
   "execution_count": 12,
   "metadata": {
    "collapsed": false
   },
   "outputs": [
    {
     "data": {
      "text/plain": [
       "(array([ 979.,  244.,  152.,  138.,  105.,   88.,   42.,   29.,   20.,\n",
       "          36.,   25.,    6.,    5.,    8.,    5.,    3.,    5.,    1.,\n",
       "          15.,    0.,    4.,    3.,    1.,    0.,    1.,    1.,    0.,\n",
       "           3.,    0.,    0.,    1.,    1.,    0.,    0.,    0.,    0.,\n",
       "           2.,    0.,    0.,    0.,    0.,    0.,    0.,    0.,    0.,\n",
       "           1.,    0.,    0.,    0.,    1.]),\n",
       " array([  0. ,   1.1,   2.2,   3.3,   4.4,   5.5,   6.6,   7.7,   8.8,\n",
       "          9.9,  11. ,  12.1,  13.2,  14.3,  15.4,  16.5,  17.6,  18.7,\n",
       "         19.8,  20.9,  22. ,  23.1,  24.2,  25.3,  26.4,  27.5,  28.6,\n",
       "         29.7,  30.8,  31.9,  33. ,  34.1,  35.2,  36.3,  37.4,  38.5,\n",
       "         39.6,  40.7,  41.8,  42.9,  44. ,  45.1,  46.2,  47.3,  48.4,\n",
       "         49.5,  50.6,  51.7,  52.8,  53.9,  55. ]),\n",
       " <a list of 50 Patch objects>)"
      ]
     },
     "execution_count": 12,
     "metadata": {},
     "output_type": "execute_result"
    },
    {
     "data": {
      "image/png": "[encoded data removed]",
      "text/plain": [
       "<matplotlib.figure.Figure at 0xe1347f0>"
      ]
     },
     "metadata": {},
     "output_type": "display_data"
    }
   ],
   "source": [
    "plt.hist(dtt2['Total Discs Bought'], bins=50)"
   ]
  },
  {
   "cell_type": "code",
   "execution_count": 33,
   "metadata": {
    "collapsed": false
   },
   "outputs": [
    {
     "data": {
      "text/plain": [
       "Index([u'Gender', u'Age', u'Region', u'Race', u'Language_Dominance', u'Parent',\n",
       "       u'HH_Income', u'Employment', u'Education', u'Marital_Status',\n",
       "       u'Total_Paid_HE_Movies', u'Bought_Disc_DVD', u'Bought_Disc_BD',\n",
       "       u'Bought_Digital', u'Rented_Disc_Store', u'Rented_Disc_Kiosk',\n",
       "       u'Rented_Disc_Mail', u'Rented_Digital_iVOD', u'Rented_Digital_sVOD',\n",
       "       u'Rented_Digital_cVOD', u'cqhidGroup', u'filter_$',\n",
       "       u'ZTotal_Paid_HE_Movies', u'Buy_Disc_Percent', u'Buy_Digital_Percent',\n",
       "       u'Rent_Disc_Percent', u'Rent_Digital_Percent', u'Total Discs Bought',\n",
       "       u'Total Discs Rented', u'Total Digital Rented'],\n",
       "      dtype='object')"
      ]
     },
     "execution_count": 33,
     "metadata": {},
     "output_type": "execute_result"
    }
   ],
   "source": [
    "dtt2.columns"
   ]
  },
  {
   "cell_type": "code",
   "execution_count": 70,
   "metadata": {
    "collapsed": true
   },
   "outputs": [],
   "source": [
    "Demographics = ['Gender','Age_Breaks', ]\n",
    "Consumption = ['Total_Paid_HE_Movies','Total Discs Bought','Bought_Digital','Total Discs Rented','Total Digital Rented']"
   ]
  },
  {
   "cell_type": "code",
   "execution_count": 71,
   "metadata": {
    "collapsed": false
   },
   "outputs": [
    {
     "data": {
      "text/html": [
       "<div>\n",
       "<style>\n",
       "    .dataframe thead tr:only-child th {\n",
       "        text-align: right;\n",
       "    }\n",
       "\n",
       "    .dataframe thead th {\n",
       "        text-align: left;\n",
       "    }\n",
       "\n",
       "    .dataframe tbody tr th {\n",
       "        vertical-align: top;\n",
       "    }\n",
       "</style>\n",
       "<table border=\"1\" class=\"dataframe\">\n",
       "  <thead>\n",
       "    <tr style=\"text-align: right;\">\n",
       "      <th></th>\n",
       "      <th>Total_Paid_HE_Movies</th>\n",
       "      <th>Total Discs Bought</th>\n",
       "      <th>Bought_Digital</th>\n",
       "      <th>Total Discs Rented</th>\n",
       "      <th>Total Digital Rented</th>\n",
       "    </tr>\n",
       "    <tr>\n",
       "      <th>Gender</th>\n",
       "      <th></th>\n",
       "      <th></th>\n",
       "      <th></th>\n",
       "      <th></th>\n",
       "      <th></th>\n",
       "    </tr>\n",
       "  </thead>\n",
       "  <tbody>\n",
       "    <tr>\n",
       "      <th>Female</th>\n",
       "      <td>15.535457</td>\n",
       "      <td>2.483042</td>\n",
       "      <td>0.668037</td>\n",
       "      <td>3.685509</td>\n",
       "      <td>8.698869</td>\n",
       "    </tr>\n",
       "    <tr>\n",
       "      <th>Male</th>\n",
       "      <td>16.768908</td>\n",
       "      <td>3.269958</td>\n",
       "      <td>0.780462</td>\n",
       "      <td>4.014706</td>\n",
       "      <td>8.703782</td>\n",
       "    </tr>\n",
       "  </tbody>\n",
       "</table>\n",
       "</div>"
      ],
      "text/plain": [
       "        Total_Paid_HE_Movies  Total Discs Bought  Bought_Digital  \\\n",
       "Gender                                                             \n",
       "Female             15.535457            2.483042        0.668037   \n",
       "Male               16.768908            3.269958        0.780462   \n",
       "\n",
       "        Total Discs Rented  Total Digital Rented  \n",
       "Gender                                            \n",
       "Female            3.685509              8.698869  \n",
       "Male              4.014706              8.703782  "
      ]
     },
     "execution_count": 71,
     "metadata": {},
     "output_type": "execute_result"
    }
   ],
   "source": [
    "dtt2.groupby('Gender')[Consumption].mean()"
   ]
  },
  {
   "cell_type": "code",
   "execution_count": null,
   "metadata": {
    "collapsed": true
   },
   "outputs": [],
   "source": []
  },
  {
   "cell_type": "code",
   "execution_count": null,
   "metadata": {
    "collapsed": true
   },
   "outputs": [],
   "source": []
  },
  {
   "cell_type": "code",
   "execution_count": null,
   "metadata": {
    "collapsed": true
   },
   "outputs": [],
   "source": []
  },
  {
   "cell_type": "markdown",
   "metadata": {},
   "source": [
    "### Original work"
   ]
  },
  {
   "cell_type": "code",
   "execution_count": 2,
   "metadata": {
    "collapsed": false
   },
   "outputs": [
    {
     "data": {
      "text/html": [
       "<div>\n",
       "<style>\n",
       "    .dataframe thead tr:only-child th {\n",
       "        text-align: right;\n",
       "    }\n",
       "\n",
       "    .dataframe thead th {\n",
       "        text-align: left;\n",
       "    }\n",
       "\n",
       "    .dataframe tbody tr th {\n",
       "        vertical-align: top;\n",
       "    }\n",
       "</style>\n",
       "<table border=\"1\" class=\"dataframe\">\n",
       "  <thead>\n",
       "    <tr style=\"text-align: right;\">\n",
       "      <th></th>\n",
       "      <th>b1_1_TV_Buy_Disc_DVD_FS_All</th>\n",
       "      <th>b1_2_TV_Buy_Disc_Blu.ray_FS_All</th>\n",
       "      <th>b1_3_TV_Buy_Digtl_FS_All</th>\n",
       "      <th>b1_4_TV_Buy_Digtl_Ep_All</th>\n",
       "      <th>b1_5_TV_Rent_Disc_Store_FS_All</th>\n",
       "      <th>b1_6_TV_Rent_Disc_Mail_FS_All</th>\n",
       "      <th>b1_7_TV_Rent_Digtl_Sub_FS_All</th>\n",
       "      <th>b1_8_TV_Rent_Digtl_Sub_Ep_All</th>\n",
       "      <th>b1_9_TV_Free_Digtl_Ads_FS_All</th>\n",
       "      <th>b1_10_TV_Free_Digtl_Ads_Ep_All</th>\n",
       "      <th>...</th>\n",
       "      <th>Typ.Dev.Watch.Digital_Game_Xbox.One</th>\n",
       "      <th>Typ.Dev.Watch.Digital_Game_PS3</th>\n",
       "      <th>Typ.Dev.Watch.Digital_Game_PS4</th>\n",
       "      <th>Typ.Dev.Watch.Digital_Game_Nintendo.Wii</th>\n",
       "      <th>Typ.Dev.Watch.Digital_Game_Nintendo.Wii.U</th>\n",
       "      <th>Typ.Dev.Watch.Digital_Game_Other.Console</th>\n",
       "      <th>Typ.Dev.Watch.Digital_Game_Handheld</th>\n",
       "      <th>Typ.Dev.Watch.Digital_Stream_Roku.Stick</th>\n",
       "      <th>Typ.Dev.Watch.Digital_Stream_Amazon.Fire.TV</th>\n",
       "      <th>Typ.Dev.Watch.Digital_None</th>\n",
       "    </tr>\n",
       "    <tr>\n",
       "      <th>respid</th>\n",
       "      <th></th>\n",
       "      <th></th>\n",
       "      <th></th>\n",
       "      <th></th>\n",
       "      <th></th>\n",
       "      <th></th>\n",
       "      <th></th>\n",
       "      <th></th>\n",
       "      <th></th>\n",
       "      <th></th>\n",
       "      <th></th>\n",
       "      <th></th>\n",
       "      <th></th>\n",
       "      <th></th>\n",
       "      <th></th>\n",
       "      <th></th>\n",
       "      <th></th>\n",
       "      <th></th>\n",
       "      <th></th>\n",
       "      <th></th>\n",
       "      <th></th>\n",
       "    </tr>\n",
       "  </thead>\n",
       "  <tbody>\n",
       "    <tr>\n",
       "      <th>2</th>\n",
       "      <td>2</td>\n",
       "      <td>3</td>\n",
       "      <td>2</td>\n",
       "      <td>1</td>\n",
       "      <td>1</td>\n",
       "      <td>1</td>\n",
       "      <td>2</td>\n",
       "      <td>2</td>\n",
       "      <td>3</td>\n",
       "      <td>3</td>\n",
       "      <td>...</td>\n",
       "      <td></td>\n",
       "      <td></td>\n",
       "      <td>1</td>\n",
       "      <td></td>\n",
       "      <td></td>\n",
       "      <td></td>\n",
       "      <td></td>\n",
       "      <td></td>\n",
       "      <td></td>\n",
       "      <td>0</td>\n",
       "    </tr>\n",
       "    <tr>\n",
       "      <th>7</th>\n",
       "      <td>0</td>\n",
       "      <td>0</td>\n",
       "      <td>0</td>\n",
       "      <td>0</td>\n",
       "      <td>0</td>\n",
       "      <td>0</td>\n",
       "      <td>1</td>\n",
       "      <td>10</td>\n",
       "      <td>0</td>\n",
       "      <td>0</td>\n",
       "      <td>...</td>\n",
       "      <td></td>\n",
       "      <td></td>\n",
       "      <td></td>\n",
       "      <td></td>\n",
       "      <td>0</td>\n",
       "      <td></td>\n",
       "      <td></td>\n",
       "      <td></td>\n",
       "      <td></td>\n",
       "      <td>0</td>\n",
       "    </tr>\n",
       "    <tr>\n",
       "      <th>9</th>\n",
       "      <td>1</td>\n",
       "      <td>1</td>\n",
       "      <td>1</td>\n",
       "      <td>1</td>\n",
       "      <td>1</td>\n",
       "      <td>1</td>\n",
       "      <td>5</td>\n",
       "      <td>1</td>\n",
       "      <td>1</td>\n",
       "      <td>1</td>\n",
       "      <td>...</td>\n",
       "      <td></td>\n",
       "      <td></td>\n",
       "      <td>0</td>\n",
       "      <td></td>\n",
       "      <td></td>\n",
       "      <td></td>\n",
       "      <td></td>\n",
       "      <td></td>\n",
       "      <td>1</td>\n",
       "      <td>0</td>\n",
       "    </tr>\n",
       "    <tr>\n",
       "      <th>10</th>\n",
       "      <td>0</td>\n",
       "      <td>0</td>\n",
       "      <td>0</td>\n",
       "      <td>0</td>\n",
       "      <td>0</td>\n",
       "      <td>0</td>\n",
       "      <td>0</td>\n",
       "      <td>0</td>\n",
       "      <td>0</td>\n",
       "      <td>0</td>\n",
       "      <td>...</td>\n",
       "      <td></td>\n",
       "      <td></td>\n",
       "      <td></td>\n",
       "      <td></td>\n",
       "      <td></td>\n",
       "      <td></td>\n",
       "      <td></td>\n",
       "      <td></td>\n",
       "      <td></td>\n",
       "      <td>0</td>\n",
       "    </tr>\n",
       "    <tr>\n",
       "      <th>11</th>\n",
       "      <td>0</td>\n",
       "      <td>0</td>\n",
       "      <td>1</td>\n",
       "      <td>0</td>\n",
       "      <td>0</td>\n",
       "      <td>0</td>\n",
       "      <td>0</td>\n",
       "      <td>0</td>\n",
       "      <td>0</td>\n",
       "      <td>0</td>\n",
       "      <td>...</td>\n",
       "      <td></td>\n",
       "      <td></td>\n",
       "      <td></td>\n",
       "      <td></td>\n",
       "      <td></td>\n",
       "      <td></td>\n",
       "      <td></td>\n",
       "      <td></td>\n",
       "      <td></td>\n",
       "      <td>1</td>\n",
       "    </tr>\n",
       "  </tbody>\n",
       "</table>\n",
       "<p>5 rows × 201 columns</p>\n",
       "</div>"
      ],
      "text/plain": [
       "        b1_1_TV_Buy_Disc_DVD_FS_All  b1_2_TV_Buy_Disc_Blu.ray_FS_All  \\\n",
       "respid                                                                 \n",
       "2                                 2                                3   \n",
       "7                                 0                                0   \n",
       "9                                 1                                1   \n",
       "10                                0                                0   \n",
       "11                                0                                0   \n",
       "\n",
       "        b1_3_TV_Buy_Digtl_FS_All  b1_4_TV_Buy_Digtl_Ep_All  \\\n",
       "respid                                                       \n",
       "2                              2                         1   \n",
       "7                              0                         0   \n",
       "9                              1                         1   \n",
       "10                             0                         0   \n",
       "11                             1                         0   \n",
       "\n",
       "        b1_5_TV_Rent_Disc_Store_FS_All  b1_6_TV_Rent_Disc_Mail_FS_All  \\\n",
       "respid                                                                  \n",
       "2                                    1                              1   \n",
       "7                                    0                              0   \n",
       "9                                    1                              1   \n",
       "10                                   0                              0   \n",
       "11                                   0                              0   \n",
       "\n",
       "        b1_7_TV_Rent_Digtl_Sub_FS_All  b1_8_TV_Rent_Digtl_Sub_Ep_All  \\\n",
       "respid                                                                 \n",
       "2                                   2                              2   \n",
       "7                                   1                             10   \n",
       "9                                   5                              1   \n",
       "10                                  0                              0   \n",
       "11                                  0                              0   \n",
       "\n",
       "        b1_9_TV_Free_Digtl_Ads_FS_All  b1_10_TV_Free_Digtl_Ads_Ep_All  \\\n",
       "respid                                                                  \n",
       "2                                   3                               3   \n",
       "7                                   0                               0   \n",
       "9                                   1                               1   \n",
       "10                                  0                               0   \n",
       "11                                  0                               0   \n",
       "\n",
       "                   ...              Typ.Dev.Watch.Digital_Game_Xbox.One  \\\n",
       "respid             ...                                                    \n",
       "2                  ...                                                    \n",
       "7                  ...                                                    \n",
       "9                  ...                                                    \n",
       "10                 ...                                                    \n",
       "11                 ...                                                    \n",
       "\n",
       "        Typ.Dev.Watch.Digital_Game_PS3  Typ.Dev.Watch.Digital_Game_PS4  \\\n",
       "respid                                                                   \n",
       "2                                                                    1   \n",
       "7                                                                        \n",
       "9                                                                    0   \n",
       "10                                                                       \n",
       "11                                                                       \n",
       "\n",
       "        Typ.Dev.Watch.Digital_Game_Nintendo.Wii  \\\n",
       "respid                                            \n",
       "2                                                 \n",
       "7                                                 \n",
       "9                                                 \n",
       "10                                                \n",
       "11                                                \n",
       "\n",
       "        Typ.Dev.Watch.Digital_Game_Nintendo.Wii.U  \\\n",
       "respid                                              \n",
       "2                                                   \n",
       "7                                               0   \n",
       "9                                                   \n",
       "10                                                  \n",
       "11                                                  \n",
       "\n",
       "        Typ.Dev.Watch.Digital_Game_Other.Console  \\\n",
       "respid                                             \n",
       "2                                                  \n",
       "7                                                  \n",
       "9                                                  \n",
       "10                                                 \n",
       "11                                                 \n",
       "\n",
       "        Typ.Dev.Watch.Digital_Game_Handheld  \\\n",
       "respid                                        \n",
       "2                                             \n",
       "7                                             \n",
       "9                                             \n",
       "10                                            \n",
       "11                                            \n",
       "\n",
       "        Typ.Dev.Watch.Digital_Stream_Roku.Stick  \\\n",
       "respid                                            \n",
       "2                                                 \n",
       "7                                                 \n",
       "9                                                 \n",
       "10                                                \n",
       "11                                                \n",
       "\n",
       "        Typ.Dev.Watch.Digital_Stream_Amazon.Fire.TV  \\\n",
       "respid                                                \n",
       "2                                                     \n",
       "7                                                     \n",
       "9                                                 1   \n",
       "10                                                    \n",
       "11                                                    \n",
       "\n",
       "        Typ.Dev.Watch.Digital_None  \n",
       "respid                              \n",
       "2                                0  \n",
       "7                                0  \n",
       "9                                0  \n",
       "10                               0  \n",
       "11                               1  \n",
       "\n",
       "[5 rows x 201 columns]"
      ]
     },
     "execution_count": 2,
     "metadata": {},
     "output_type": "execute_result"
    }
   ],
   "source": [
    "#C:\\Users\\anne1\\Documents\\DS_SM_15\\projects\\AAR_final-project\n",
    "\n",
    "#C:\\Users\\anne1\\Documents\\DS_SM_15\\projects\\AAR_final-project\\Data\n",
    "\n",
    "dtt = pd.read_csv(\"Data\\DTT Combined.csv\",index_col=0)\n",
    "dtt.head()"
   ]
  },
  {
   "cell_type": "markdown",
   "metadata": {},
   "source": [
    "### Calculate and add columns for movie home entertainment consumption roll ups and percents"
   ]
  },
  {
   "cell_type": "code",
   "execution_count": 3,
   "metadata": {
    "collapsed": false
   },
   "outputs": [],
   "source": [
    "# calculates total movies paid home entertainment\n",
    "dtt['b3_Mo_HE_Paid_Total'] = (\n",
    "    dtt['b3_2_Mo_Buy_Disc_DVD_All'] + \n",
    "    dtt['b3_3_Mo_Buy_Disc_Blu.ray_All'] + \n",
    "    dtt['b3_4_Mo_Buy_Digtl_All'] + \n",
    "    dtt['b3_5_Mo_Rent_Disc_Store_All'] + \n",
    "    dtt['b3_6_Mo_Rent_Disc_Kiosk_All'] + \n",
    "    dtt['b3_7_Mo_Rent_Disc_Mail_All'] + \n",
    "    dtt['b3_8_Mo_Rent_Digtl_Trans_All'] + \n",
    "    dtt['b3_9_Mo_Rent_Digtl_Sub_All'])\n"
   ]
  },
  {
   "cell_type": "code",
   "execution_count": 4,
   "metadata": {
    "collapsed": true
   },
   "outputs": [],
   "source": [
    "# filters out all cases where total paid HE is zero\n",
    "\n",
    "dtt = dtt[dtt[\"b3_Mo_HE_Paid_Total\"] != 0]"
   ]
  },
  {
   "cell_type": "code",
   "execution_count": 28,
   "metadata": {
    "collapsed": false
   },
   "outputs": [
    {
     "name": "stdout",
     "output_type": "stream",
     "text": [
      "b3_Mo_HE_Paid_Total    19.44597\n",
      "dtype: float64\n",
      "b3_Mo_HE_Paid_Total    27.149808\n",
      "dtype: float64\n",
      "b3_Mo_HE_Paid_Total    73.745585\n",
      "dtype: float64\n"
     ]
    }
   ],
   "source": [
    "# filters out outlier cases based on std\n",
    "\n",
    "mean = dtt[['b3_Mo_HE_Paid_Total']].mean()\n",
    "std = dtt[['b3_Mo_HE_Paid_Total']].std()\n",
    "\n",
    "print mean\n",
    "print std"
   ]
  },
  {
   "cell_type": "code",
   "execution_count": 30,
   "metadata": {
    "collapsed": false
   },
   "outputs": [
    {
     "data": {
      "text/plain": [
       "<bound method Series.describe of respid\n",
       "2       NaN\n",
       "7       NaN\n",
       "9       NaN\n",
       "11      NaN\n",
       "17      NaN\n",
       "20      NaN\n",
       "23      NaN\n",
       "25      NaN\n",
       "26      NaN\n",
       "27      NaN\n",
       "30      NaN\n",
       "31      NaN\n",
       "34      NaN\n",
       "36      NaN\n",
       "38      NaN\n",
       "40      NaN\n",
       "44      NaN\n",
       "45      NaN\n",
       "46      NaN\n",
       "49      NaN\n",
       "55      NaN\n",
       "59      NaN\n",
       "66      NaN\n",
       "68      NaN\n",
       "71      NaN\n",
       "73      NaN\n",
       "82      NaN\n",
       "86      NaN\n",
       "90      NaN\n",
       "93      NaN\n",
       "         ..\n",
       "22713   NaN\n",
       "22727   NaN\n",
       "22739   NaN\n",
       "22746   NaN\n",
       "22749   NaN\n",
       "22753   NaN\n",
       "22773   NaN\n",
       "22783   NaN\n",
       "22784   NaN\n",
       "22794   NaN\n",
       "22807   NaN\n",
       "22811   NaN\n",
       "22814   NaN\n",
       "22819   NaN\n",
       "22827   NaN\n",
       "22857   NaN\n",
       "22887   NaN\n",
       "22888   NaN\n",
       "22892   NaN\n",
       "22915   NaN\n",
       "22921   NaN\n",
       "22924   NaN\n",
       "22947   NaN\n",
       "22955   NaN\n",
       "22958   NaN\n",
       "22964   NaN\n",
       "22971   NaN\n",
       "22973   NaN\n",
       "22975   NaN\n",
       "22994   NaN\n",
       "Name: threshold, Length: 2258, dtype: float64>"
      ]
     },
     "execution_count": 30,
     "metadata": {},
     "output_type": "execute_result"
    }
   ],
   "source": [
    "dtt['threshold'] = (dtt['b3_Mo_HE_Paid_Total'] - mean) / std\n",
    "\n"
   ]
  },
  {
   "cell_type": "code",
   "execution_count": 5,
   "metadata": {
    "collapsed": false
   },
   "outputs": [],
   "source": [
    "# calculates total disc purchases\n",
    "dtt['b3_Mo_Buy_Disc_Total'] = (\n",
    "    dtt['b3_2_Mo_Buy_Disc_DVD_All'] + \n",
    "    dtt['b3_3_Mo_Buy_Disc_Blu.ray_All'])\n",
    "\n",
    "dtt['perc_b3_Mo_Buy_Disc_Total'] = dtt['b3_Mo_Buy_Disc_Total'] / dtt['b3_Mo_HE_Paid_Total']"
   ]
  },
  {
   "cell_type": "code",
   "execution_count": 6,
   "metadata": {
    "collapsed": false
   },
   "outputs": [],
   "source": [
    "# calculates total digital purchases (actually just creates new column with that name)\n",
    "dtt['b3_Mo_Buy_Digtl_Total'] = dtt['b3_4_Mo_Buy_Digtl_All']\n",
    "\n",
    "dtt['perc_b3_Mo_Buy_Digtl_Total'] = dtt['b3_Mo_Buy_Digtl_Total'] / dtt['b3_Mo_HE_Paid_Total']"
   ]
  },
  {
   "cell_type": "code",
   "execution_count": 7,
   "metadata": {
    "collapsed": true
   },
   "outputs": [],
   "source": [
    "# calculates total disc rental\n",
    "dtt['b3_Mo_Rent_Disc_Total'] = (\n",
    "    dtt['b3_5_Mo_Rent_Disc_Store_All'] + \n",
    "    dtt['b3_6_Mo_Rent_Disc_Kiosk_All'] + \n",
    "    dtt['b3_7_Mo_Rent_Disc_Mail_All'])\n",
    "\n",
    "dtt['perc_b3_Mo_Rent_Disc_Total'] = dtt['b3_Mo_Rent_Disc_Total'] / dtt['b3_Mo_HE_Paid_Total']"
   ]
  },
  {
   "cell_type": "code",
   "execution_count": 8,
   "metadata": {
    "collapsed": true
   },
   "outputs": [],
   "source": [
    "# calculates total digital rental\n",
    "dtt['b3_Mo_Rent_Digtl_Total'] = (\n",
    "    dtt['b3_8_Mo_Rent_Digtl_Trans_All'] + \n",
    "    dtt['b3_9_Mo_Rent_Digtl_Sub_All'])\n",
    "\n",
    "dtt['perc_b3_Mo_Rent_Digtl_Total'] = dtt['b3_Mo_Rent_Digtl_Total'] / dtt['b3_Mo_HE_Paid_Total']"
   ]
  },
  {
   "cell_type": "code",
   "execution_count": 9,
   "metadata": {
    "collapsed": false
   },
   "outputs": [],
   "source": [
    "# calculates total purchases\n",
    "dtt['b3_Mo_Buy_Total'] = (\n",
    "    dtt['b3_2_Mo_Buy_Disc_DVD_All'] + \n",
    "    dtt['b3_3_Mo_Buy_Disc_Blu.ray_All'] + \n",
    "    dtt['b3_4_Mo_Buy_Digtl_All'])\n",
    "\n",
    "dtt['perc_b3_Mo_Buy_Total'] = dtt['b3_Mo_Buy_Total'] / dtt['b3_Mo_HE_Paid_Total']"
   ]
  },
  {
   "cell_type": "code",
   "execution_count": 10,
   "metadata": {
    "collapsed": true
   },
   "outputs": [],
   "source": [
    "# calculates total rentals\n",
    "dtt['b3_Mo_Rent_Total'] = (\n",
    "    dtt['b3_5_Mo_Rent_Disc_Store_All'] + \n",
    "    dtt['b3_6_Mo_Rent_Disc_Kiosk_All'] + \n",
    "    dtt['b3_7_Mo_Rent_Disc_Mail_All'] + \n",
    "    dtt['b3_8_Mo_Rent_Digtl_Trans_All'] + \n",
    "    dtt['b3_9_Mo_Rent_Digtl_Sub_All'])\n",
    "\n",
    "dtt['perc_b3_Mo_Rent_Total'] = dtt['b3_Mo_Rent_Total'] / dtt['b3_Mo_HE_Paid_Total']"
   ]
  },
  {
   "cell_type": "code",
   "execution_count": 11,
   "metadata": {
    "collapsed": true
   },
   "outputs": [],
   "source": [
    "# calculates total disc transactions\n",
    "dtt['b3_Mo_Disc_Total'] = (\n",
    "    dtt['b3_2_Mo_Buy_Disc_DVD_All'] + \n",
    "    dtt['b3_3_Mo_Buy_Disc_Blu.ray_All'] + \n",
    "    dtt['b3_5_Mo_Rent_Disc_Store_All'] + \n",
    "    dtt['b3_6_Mo_Rent_Disc_Kiosk_All'] + \n",
    "    dtt['b3_7_Mo_Rent_Disc_Mail_All'])\n",
    "\n",
    "dtt['perc_b3_Mo_Disc_Total'] = dtt['b3_Mo_Disc_Total'] / dtt['b3_Mo_HE_Paid_Total']"
   ]
  },
  {
   "cell_type": "code",
   "execution_count": 12,
   "metadata": {
    "collapsed": true
   },
   "outputs": [],
   "source": [
    "# calculates total digital transactions\n",
    "dtt['b3_Mo_Digtl_Total'] = (\n",
    "    dtt['b3_4_Mo_Buy_Digtl_All'] + \n",
    "    dtt['b3_8_Mo_Rent_Digtl_Trans_All'] + \n",
    "    dtt['b3_9_Mo_Rent_Digtl_Sub_All'])\n",
    "\n",
    "dtt['perc_b3_Mo_Digtl_Total'] = dtt['b3_Mo_Digtl_Total'] / dtt['b3_Mo_HE_Paid_Total']"
   ]
  },
  {
   "cell_type": "code",
   "execution_count": 21,
   "metadata": {
    "collapsed": false
   },
   "outputs": [
    {
     "name": "stdout",
     "output_type": "stream",
     "text": [
      "b3_Mo_HE_Paid_Total    19.44597\n",
      "dtype: float64\n",
      "b3_Mo_HE_Paid_Total    27.149808\n",
      "dtype: float64\n"
     ]
    }
   ],
   "source": [
    "mean = dtt[['b3_Mo_HE_Paid_Total']].mean()\n",
    "std = dtt[['b3_Mo_HE_Paid_Total']].std()\n",
    "\n",
    "print mean\n",
    "print std"
   ]
  }
 ],
 "metadata": {
  "kernelspec": {
   "display_name": "Python 2",
   "language": "python",
   "name": "python2"
  },
  "language_info": {
   "codemirror_mode": {
    "name": "ipython",
    "version": 2
   },
   "file_extension": ".py",
   "mimetype": "text/x-python",
   "name": "python",
   "nbconvert_exporter": "python",
   "pygments_lexer": "ipython2",
   "version": "2.7.13"
  }
 },
 "nbformat": 4,
 "nbformat_minor": 2
}
