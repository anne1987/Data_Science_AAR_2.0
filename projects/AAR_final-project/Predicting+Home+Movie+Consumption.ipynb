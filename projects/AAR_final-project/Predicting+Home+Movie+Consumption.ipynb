{
 "cells": [
  {
   "cell_type": "markdown",
   "metadata": {},
   "source": [
    "# Project Notebook v2"
   ]
  },
  {
   "cell_type": "markdown",
   "metadata": {},
   "source": [
    "# Notes\n",
    "    * Need to figure out how to rename empty cells for parents\n",
    "    * Need to combine disc buy and digital buy into just total buy for numbers and percents\n",
    "    * Need to figure out how to split a groupby over more than one line\n",
    "    * Need to figure out how to use compound logic/conditions in a groupby"
   ]
  },
  {
   "cell_type": "code",
   "execution_count": 1,
   "metadata": {
    "collapsed": true
   },
   "outputs": [],
   "source": [
    "%matplotlib inline\n",
    "import numpy as np\n",
    "import pandas as pd\n",
    "from matplotlib import pyplot as plt\n",
    "import seaborn as sns\n",
    "from sklearn import linear_model"
   ]
  },
  {
   "cell_type": "code",
   "execution_count": 2,
   "metadata": {
    "collapsed": false
   },
   "outputs": [
    {
     "data": {
      "text/html": [
       "<div>\n",
       "<style>\n",
       "    .dataframe thead tr:only-child th {\n",
       "        text-align: right;\n",
       "    }\n",
       "\n",
       "    .dataframe thead th {\n",
       "        text-align: left;\n",
       "    }\n",
       "\n",
       "    .dataframe tbody tr th {\n",
       "        vertical-align: top;\n",
       "    }\n",
       "</style>\n",
       "<table border=\"1\" class=\"dataframe\">\n",
       "  <thead>\n",
       "    <tr style=\"text-align: right;\">\n",
       "      <th></th>\n",
       "      <th>Gender</th>\n",
       "      <th>Age</th>\n",
       "      <th>Age_Breaks</th>\n",
       "      <th>GenderAge</th>\n",
       "      <th>Region2</th>\n",
       "      <th>Race</th>\n",
       "      <th>Language_Dominance</th>\n",
       "      <th>Parent</th>\n",
       "      <th>HH_Income</th>\n",
       "      <th>Employment</th>\n",
       "      <th>...</th>\n",
       "      <th>Rented_Digital_iVOD</th>\n",
       "      <th>Rented_Digital_sVOD</th>\n",
       "      <th>Rented_Digital_cVOD</th>\n",
       "      <th>cqhidGroup</th>\n",
       "      <th>filter_$</th>\n",
       "      <th>ZTotal_Paid_HE_Movies</th>\n",
       "      <th>Buy_Disc_Percent</th>\n",
       "      <th>Buy_Digital_Percent</th>\n",
       "      <th>Rent_Disc_Percent</th>\n",
       "      <th>Rent_Digital_Percent</th>\n",
       "    </tr>\n",
       "    <tr>\n",
       "      <th>respid</th>\n",
       "      <th></th>\n",
       "      <th></th>\n",
       "      <th></th>\n",
       "      <th></th>\n",
       "      <th></th>\n",
       "      <th></th>\n",
       "      <th></th>\n",
       "      <th></th>\n",
       "      <th></th>\n",
       "      <th></th>\n",
       "      <th></th>\n",
       "      <th></th>\n",
       "      <th></th>\n",
       "      <th></th>\n",
       "      <th></th>\n",
       "      <th></th>\n",
       "      <th></th>\n",
       "      <th></th>\n",
       "      <th></th>\n",
       "      <th></th>\n",
       "      <th></th>\n",
       "    </tr>\n",
       "  </thead>\n",
       "  <tbody>\n",
       "    <tr>\n",
       "      <th>11752</th>\n",
       "      <td>Female</td>\n",
       "      <td>12</td>\n",
       "      <td>12 to 17</td>\n",
       "      <td>Female 12 to 17</td>\n",
       "      <td>South</td>\n",
       "      <td>White</td>\n",
       "      <td></td>\n",
       "      <td>No</td>\n",
       "      <td>3 - $30 to $39K</td>\n",
       "      <td>4 - Not employed</td>\n",
       "      <td>...</td>\n",
       "      <td>0</td>\n",
       "      <td>12</td>\n",
       "      <td>2</td>\n",
       "      <td>Gen-Pop</td>\n",
       "      <td>Selected</td>\n",
       "      <td>0.297806</td>\n",
       "      <td>0.269231</td>\n",
       "      <td>0.000000</td>\n",
       "      <td>0.192308</td>\n",
       "      <td>0.538462</td>\n",
       "    </tr>\n",
       "    <tr>\n",
       "      <th>11944</th>\n",
       "      <td>Female</td>\n",
       "      <td>12</td>\n",
       "      <td>12 to 17</td>\n",
       "      <td>Female 12 to 17</td>\n",
       "      <td>Northeast</td>\n",
       "      <td>White</td>\n",
       "      <td></td>\n",
       "      <td>No</td>\n",
       "      <td>4 - $40 to $59K</td>\n",
       "      <td>2 - Part time</td>\n",
       "      <td>...</td>\n",
       "      <td>2</td>\n",
       "      <td>10</td>\n",
       "      <td>0</td>\n",
       "      <td>Gen-Pop</td>\n",
       "      <td>Selected</td>\n",
       "      <td>-0.237831</td>\n",
       "      <td>0.076923</td>\n",
       "      <td>0.000000</td>\n",
       "      <td>0.000000</td>\n",
       "      <td>0.923077</td>\n",
       "    </tr>\n",
       "    <tr>\n",
       "      <th>12136</th>\n",
       "      <td>Female</td>\n",
       "      <td>12</td>\n",
       "      <td>12 to 17</td>\n",
       "      <td>Female 12 to 17</td>\n",
       "      <td>West</td>\n",
       "      <td>White</td>\n",
       "      <td></td>\n",
       "      <td>No</td>\n",
       "      <td>4 - $40 to $59K</td>\n",
       "      <td>1 - Full time</td>\n",
       "      <td>...</td>\n",
       "      <td>5</td>\n",
       "      <td>5</td>\n",
       "      <td>5</td>\n",
       "      <td>Gen-Pop</td>\n",
       "      <td>Selected</td>\n",
       "      <td>1.698704</td>\n",
       "      <td>0.250000</td>\n",
       "      <td>0.083333</td>\n",
       "      <td>0.416667</td>\n",
       "      <td>0.250000</td>\n",
       "    </tr>\n",
       "    <tr>\n",
       "      <th>12676</th>\n",
       "      <td>Female</td>\n",
       "      <td>12</td>\n",
       "      <td>12 to 17</td>\n",
       "      <td>Female 12 to 17</td>\n",
       "      <td>Northeast</td>\n",
       "      <td>White</td>\n",
       "      <td></td>\n",
       "      <td>No</td>\n",
       "      <td>6 - $75 to $99K</td>\n",
       "      <td>2 - Part time</td>\n",
       "      <td>...</td>\n",
       "      <td>1</td>\n",
       "      <td>1</td>\n",
       "      <td>1</td>\n",
       "      <td>Gen-Pop</td>\n",
       "      <td>Selected</td>\n",
       "      <td>-0.402643</td>\n",
       "      <td>0.222222</td>\n",
       "      <td>0.111111</td>\n",
       "      <td>0.333333</td>\n",
       "      <td>0.333333</td>\n",
       "    </tr>\n",
       "    <tr>\n",
       "      <th>12802</th>\n",
       "      <td>Female</td>\n",
       "      <td>12</td>\n",
       "      <td>12 to 17</td>\n",
       "      <td>Female 12 to 17</td>\n",
       "      <td>South</td>\n",
       "      <td>White</td>\n",
       "      <td></td>\n",
       "      <td>No</td>\n",
       "      <td>6 - $75 to $99K</td>\n",
       "      <td>2 - Part time</td>\n",
       "      <td>...</td>\n",
       "      <td>1</td>\n",
       "      <td>1</td>\n",
       "      <td>2</td>\n",
       "      <td>Gen-Pop</td>\n",
       "      <td>Selected</td>\n",
       "      <td>-0.237831</td>\n",
       "      <td>0.230769</td>\n",
       "      <td>0.153846</td>\n",
       "      <td>0.307692</td>\n",
       "      <td>0.307692</td>\n",
       "    </tr>\n",
       "  </tbody>\n",
       "</table>\n",
       "<p>5 rows × 29 columns</p>\n",
       "</div>"
      ],
      "text/plain": [
       "        Gender  Age Age_Breaks        GenderAge    Region2   Race  \\\n",
       "respid                                                              \n",
       "11752   Female   12   12 to 17  Female 12 to 17      South  White   \n",
       "11944   Female   12   12 to 17  Female 12 to 17  Northeast  White   \n",
       "12136   Female   12   12 to 17  Female 12 to 17       West  White   \n",
       "12676   Female   12   12 to 17  Female 12 to 17  Northeast  White   \n",
       "12802   Female   12   12 to 17  Female 12 to 17      South  White   \n",
       "\n",
       "       Language_Dominance Parent        HH_Income        Employment  \\\n",
       "respid                                                                \n",
       "11752                         No  3 - $30 to $39K  4 - Not employed   \n",
       "11944                         No  4 - $40 to $59K     2 - Part time   \n",
       "12136                         No  4 - $40 to $59K     1 - Full time   \n",
       "12676                         No  6 - $75 to $99K     2 - Part time   \n",
       "12802                         No  6 - $75 to $99K     2 - Part time   \n",
       "\n",
       "                ...          Rented_Digital_iVOD Rented_Digital_sVOD  \\\n",
       "respid          ...                                                    \n",
       "11752           ...                            0                  12   \n",
       "11944           ...                            2                  10   \n",
       "12136           ...                            5                   5   \n",
       "12676           ...                            1                   1   \n",
       "12802           ...                            1                   1   \n",
       "\n",
       "        Rented_Digital_cVOD  cqhidGroup  filter_$  ZTotal_Paid_HE_Movies  \\\n",
       "respid                                                                     \n",
       "11752                     2     Gen-Pop  Selected               0.297806   \n",
       "11944                     0     Gen-Pop  Selected              -0.237831   \n",
       "12136                     5     Gen-Pop  Selected               1.698704   \n",
       "12676                     1     Gen-Pop  Selected              -0.402643   \n",
       "12802                     2     Gen-Pop  Selected              -0.237831   \n",
       "\n",
       "        Buy_Disc_Percent  Buy_Digital_Percent  Rent_Disc_Percent  \\\n",
       "respid                                                             \n",
       "11752           0.269231             0.000000           0.192308   \n",
       "11944           0.076923             0.000000           0.000000   \n",
       "12136           0.250000             0.083333           0.416667   \n",
       "12676           0.222222             0.111111           0.333333   \n",
       "12802           0.230769             0.153846           0.307692   \n",
       "\n",
       "        Rent_Digital_Percent  \n",
       "respid                        \n",
       "11752               0.538462  \n",
       "11944               0.923077  \n",
       "12136               0.250000  \n",
       "12676               0.333333  \n",
       "12802               0.307692  \n",
       "\n",
       "[5 rows x 29 columns]"
      ]
     },
     "execution_count": 2,
     "metadata": {},
     "output_type": "execute_result"
    }
   ],
   "source": [
    "# loads in csv\n",
    "dtt = pd.read_csv(\"Data\\DTT Final Data w labels.csv\",index_col=0)\n",
    "dtt.head()"
   ]
  },
  {
   "cell_type": "code",
   "execution_count": 3,
   "metadata": {
    "collapsed": false,
    "scrolled": true
   },
   "outputs": [],
   "source": [
    "#Calculates all rollups and adds as columns\n",
    "\n",
    "#total movies bought on disc\n",
    "dtt['Total Discs Bought'] = (dtt['Bought_Disc_BD'] + dtt['Bought_Disc_DVD'])\n",
    "\n",
    "#total movies rented on disc\n",
    "dtt['Total Discs Rented'] = (dtt['Rented_Disc_Kiosk'] + dtt['Rented_Disc_Mail'] + dtt['Rented_Disc_Store'])\n",
    "\n",
    "#total movies rented on digital\n",
    "dtt['Total Digital Rented'] = (dtt['Rented_Digital_cVOD'] + dtt['Rented_Digital_iVOD'] + dtt['Rented_Digital_sVOD'])\n",
    "\n",
    "#total movies purchased\n",
    "dtt['Total Bought'] = (dtt['Bought_Disc_BD'] + dtt['Bought_Disc_DVD'] + dtt['Bought_Digital'])\n",
    "\n",
    "#total movies purchased as percent of total\n",
    "dtt['Buy_percent'] = dtt['Total Bought'].astype(float) / dtt['Total_Paid_HE_Movies']"
   ]
  },
  {
   "cell_type": "code",
   "execution_count": 4,
   "metadata": {
    "collapsed": false
   },
   "outputs": [
    {
     "data": {
      "text/html": [
       "<div>\n",
       "<style>\n",
       "    .dataframe thead tr:only-child th {\n",
       "        text-align: right;\n",
       "    }\n",
       "\n",
       "    .dataframe thead th {\n",
       "        text-align: left;\n",
       "    }\n",
       "\n",
       "    .dataframe tbody tr th {\n",
       "        vertical-align: top;\n",
       "    }\n",
       "</style>\n",
       "<table border=\"1\" class=\"dataframe\">\n",
       "  <thead>\n",
       "    <tr style=\"text-align: right;\">\n",
       "      <th></th>\n",
       "      <th>count</th>\n",
       "      <th>mean</th>\n",
       "      <th>std</th>\n",
       "      <th>min</th>\n",
       "      <th>25%</th>\n",
       "      <th>50%</th>\n",
       "      <th>75%</th>\n",
       "      <th>max</th>\n",
       "    </tr>\n",
       "  </thead>\n",
       "  <tbody>\n",
       "    <tr>\n",
       "      <th>Age</th>\n",
       "      <td>1925.0</td>\n",
       "      <td>39.631169</td>\n",
       "      <td>15.969080</td>\n",
       "      <td>12.000000</td>\n",
       "      <td>26.000000</td>\n",
       "      <td>39.000000</td>\n",
       "      <td>52.000000</td>\n",
       "      <td>74.000000</td>\n",
       "    </tr>\n",
       "    <tr>\n",
       "      <th>Total_Paid_HE_Movies</th>\n",
       "      <td>1925.0</td>\n",
       "      <td>16.145455</td>\n",
       "      <td>16.526946</td>\n",
       "      <td>1.000000</td>\n",
       "      <td>5.000000</td>\n",
       "      <td>10.000000</td>\n",
       "      <td>22.000000</td>\n",
       "      <td>91.000000</td>\n",
       "    </tr>\n",
       "    <tr>\n",
       "      <th>Bought_Disc_DVD</th>\n",
       "      <td>1925.0</td>\n",
       "      <td>1.588052</td>\n",
       "      <td>2.914257</td>\n",
       "      <td>0.000000</td>\n",
       "      <td>0.000000</td>\n",
       "      <td>1.000000</td>\n",
       "      <td>2.000000</td>\n",
       "      <td>30.000000</td>\n",
       "    </tr>\n",
       "    <tr>\n",
       "      <th>Bought_Disc_BD</th>\n",
       "      <td>1925.0</td>\n",
       "      <td>1.284156</td>\n",
       "      <td>2.637839</td>\n",
       "      <td>0.000000</td>\n",
       "      <td>0.000000</td>\n",
       "      <td>0.000000</td>\n",
       "      <td>2.000000</td>\n",
       "      <td>50.000000</td>\n",
       "    </tr>\n",
       "    <tr>\n",
       "      <th>Bought_Digital</th>\n",
       "      <td>1925.0</td>\n",
       "      <td>0.723636</td>\n",
       "      <td>2.081871</td>\n",
       "      <td>0.000000</td>\n",
       "      <td>0.000000</td>\n",
       "      <td>0.000000</td>\n",
       "      <td>1.000000</td>\n",
       "      <td>30.000000</td>\n",
       "    </tr>\n",
       "    <tr>\n",
       "      <th>Rented_Disc_Store</th>\n",
       "      <td>1925.0</td>\n",
       "      <td>0.696104</td>\n",
       "      <td>2.313436</td>\n",
       "      <td>0.000000</td>\n",
       "      <td>0.000000</td>\n",
       "      <td>0.000000</td>\n",
       "      <td>0.000000</td>\n",
       "      <td>50.000000</td>\n",
       "    </tr>\n",
       "    <tr>\n",
       "      <th>Rented_Disc_Kiosk</th>\n",
       "      <td>1925.0</td>\n",
       "      <td>2.020260</td>\n",
       "      <td>4.263794</td>\n",
       "      <td>0.000000</td>\n",
       "      <td>0.000000</td>\n",
       "      <td>0.000000</td>\n",
       "      <td>2.000000</td>\n",
       "      <td>50.000000</td>\n",
       "    </tr>\n",
       "    <tr>\n",
       "      <th>Rented_Disc_Mail</th>\n",
       "      <td>1925.0</td>\n",
       "      <td>1.131948</td>\n",
       "      <td>4.504357</td>\n",
       "      <td>0.000000</td>\n",
       "      <td>0.000000</td>\n",
       "      <td>0.000000</td>\n",
       "      <td>0.000000</td>\n",
       "      <td>70.000000</td>\n",
       "    </tr>\n",
       "    <tr>\n",
       "      <th>Rented_Digital_iVOD</th>\n",
       "      <td>1925.0</td>\n",
       "      <td>0.717922</td>\n",
       "      <td>2.047491</td>\n",
       "      <td>0.000000</td>\n",
       "      <td>0.000000</td>\n",
       "      <td>0.000000</td>\n",
       "      <td>1.000000</td>\n",
       "      <td>50.000000</td>\n",
       "    </tr>\n",
       "    <tr>\n",
       "      <th>Rented_Digital_sVOD</th>\n",
       "      <td>1925.0</td>\n",
       "      <td>6.691429</td>\n",
       "      <td>10.804796</td>\n",
       "      <td>0.000000</td>\n",
       "      <td>0.000000</td>\n",
       "      <td>3.000000</td>\n",
       "      <td>10.000000</td>\n",
       "      <td>80.000000</td>\n",
       "    </tr>\n",
       "    <tr>\n",
       "      <th>Rented_Digital_cVOD</th>\n",
       "      <td>1925.0</td>\n",
       "      <td>1.291948</td>\n",
       "      <td>3.550492</td>\n",
       "      <td>0.000000</td>\n",
       "      <td>0.000000</td>\n",
       "      <td>0.000000</td>\n",
       "      <td>1.000000</td>\n",
       "      <td>75.000000</td>\n",
       "    </tr>\n",
       "    <tr>\n",
       "      <th>ZTotal_Paid_HE_Movies</th>\n",
       "      <td>1925.0</td>\n",
       "      <td>-0.108229</td>\n",
       "      <td>0.680958</td>\n",
       "      <td>-0.732266</td>\n",
       "      <td>-0.567454</td>\n",
       "      <td>-0.361440</td>\n",
       "      <td>0.132995</td>\n",
       "      <td>2.975994</td>\n",
       "    </tr>\n",
       "    <tr>\n",
       "      <th>Buy_Disc_Percent</th>\n",
       "      <td>1925.0</td>\n",
       "      <td>0.239981</td>\n",
       "      <td>0.306352</td>\n",
       "      <td>0.000000</td>\n",
       "      <td>0.000000</td>\n",
       "      <td>0.136364</td>\n",
       "      <td>0.333333</td>\n",
       "      <td>1.000000</td>\n",
       "    </tr>\n",
       "    <tr>\n",
       "      <th>Buy_Digital_Percent</th>\n",
       "      <td>1925.0</td>\n",
       "      <td>0.041825</td>\n",
       "      <td>0.111739</td>\n",
       "      <td>0.000000</td>\n",
       "      <td>0.000000</td>\n",
       "      <td>0.000000</td>\n",
       "      <td>0.014925</td>\n",
       "      <td>1.000000</td>\n",
       "    </tr>\n",
       "    <tr>\n",
       "      <th>Rent_Disc_Percent</th>\n",
       "      <td>1925.0</td>\n",
       "      <td>0.234541</td>\n",
       "      <td>0.292798</td>\n",
       "      <td>0.000000</td>\n",
       "      <td>0.000000</td>\n",
       "      <td>0.116279</td>\n",
       "      <td>0.375000</td>\n",
       "      <td>1.000000</td>\n",
       "    </tr>\n",
       "    <tr>\n",
       "      <th>Rent_Digital_Percent</th>\n",
       "      <td>1925.0</td>\n",
       "      <td>0.483653</td>\n",
       "      <td>0.369288</td>\n",
       "      <td>0.000000</td>\n",
       "      <td>0.133333</td>\n",
       "      <td>0.483871</td>\n",
       "      <td>0.833333</td>\n",
       "      <td>1.000000</td>\n",
       "    </tr>\n",
       "    <tr>\n",
       "      <th>Total Discs Bought</th>\n",
       "      <td>1925.0</td>\n",
       "      <td>2.872208</td>\n",
       "      <td>4.604784</td>\n",
       "      <td>0.000000</td>\n",
       "      <td>0.000000</td>\n",
       "      <td>1.000000</td>\n",
       "      <td>4.000000</td>\n",
       "      <td>55.000000</td>\n",
       "    </tr>\n",
       "    <tr>\n",
       "      <th>Total Discs Rented</th>\n",
       "      <td>1925.0</td>\n",
       "      <td>3.848312</td>\n",
       "      <td>6.915127</td>\n",
       "      <td>0.000000</td>\n",
       "      <td>0.000000</td>\n",
       "      <td>1.000000</td>\n",
       "      <td>5.000000</td>\n",
       "      <td>70.000000</td>\n",
       "    </tr>\n",
       "    <tr>\n",
       "      <th>Total Digital Rented</th>\n",
       "      <td>1925.0</td>\n",
       "      <td>8.701299</td>\n",
       "      <td>11.978178</td>\n",
       "      <td>0.000000</td>\n",
       "      <td>1.000000</td>\n",
       "      <td>5.000000</td>\n",
       "      <td>11.000000</td>\n",
       "      <td>90.000000</td>\n",
       "    </tr>\n",
       "    <tr>\n",
       "      <th>Total Bought</th>\n",
       "      <td>1925.0</td>\n",
       "      <td>3.595844</td>\n",
       "      <td>5.596236</td>\n",
       "      <td>0.000000</td>\n",
       "      <td>0.000000</td>\n",
       "      <td>2.000000</td>\n",
       "      <td>5.000000</td>\n",
       "      <td>60.000000</td>\n",
       "    </tr>\n",
       "    <tr>\n",
       "      <th>Buy_percent</th>\n",
       "      <td>1925.0</td>\n",
       "      <td>0.281806</td>\n",
       "      <td>0.323495</td>\n",
       "      <td>0.000000</td>\n",
       "      <td>0.000000</td>\n",
       "      <td>0.181818</td>\n",
       "      <td>0.416667</td>\n",
       "      <td>1.000000</td>\n",
       "    </tr>\n",
       "  </tbody>\n",
       "</table>\n",
       "</div>"
      ],
      "text/plain": [
       "                        count       mean        std        min        25%  \\\n",
       "Age                    1925.0  39.631169  15.969080  12.000000  26.000000   \n",
       "Total_Paid_HE_Movies   1925.0  16.145455  16.526946   1.000000   5.000000   \n",
       "Bought_Disc_DVD        1925.0   1.588052   2.914257   0.000000   0.000000   \n",
       "Bought_Disc_BD         1925.0   1.284156   2.637839   0.000000   0.000000   \n",
       "Bought_Digital         1925.0   0.723636   2.081871   0.000000   0.000000   \n",
       "Rented_Disc_Store      1925.0   0.696104   2.313436   0.000000   0.000000   \n",
       "Rented_Disc_Kiosk      1925.0   2.020260   4.263794   0.000000   0.000000   \n",
       "Rented_Disc_Mail       1925.0   1.131948   4.504357   0.000000   0.000000   \n",
       "Rented_Digital_iVOD    1925.0   0.717922   2.047491   0.000000   0.000000   \n",
       "Rented_Digital_sVOD    1925.0   6.691429  10.804796   0.000000   0.000000   \n",
       "Rented_Digital_cVOD    1925.0   1.291948   3.550492   0.000000   0.000000   \n",
       "ZTotal_Paid_HE_Movies  1925.0  -0.108229   0.680958  -0.732266  -0.567454   \n",
       "Buy_Disc_Percent       1925.0   0.239981   0.306352   0.000000   0.000000   \n",
       "Buy_Digital_Percent    1925.0   0.041825   0.111739   0.000000   0.000000   \n",
       "Rent_Disc_Percent      1925.0   0.234541   0.292798   0.000000   0.000000   \n",
       "Rent_Digital_Percent   1925.0   0.483653   0.369288   0.000000   0.133333   \n",
       "Total Discs Bought     1925.0   2.872208   4.604784   0.000000   0.000000   \n",
       "Total Discs Rented     1925.0   3.848312   6.915127   0.000000   0.000000   \n",
       "Total Digital Rented   1925.0   8.701299  11.978178   0.000000   1.000000   \n",
       "Total Bought           1925.0   3.595844   5.596236   0.000000   0.000000   \n",
       "Buy_percent            1925.0   0.281806   0.323495   0.000000   0.000000   \n",
       "\n",
       "                             50%        75%        max  \n",
       "Age                    39.000000  52.000000  74.000000  \n",
       "Total_Paid_HE_Movies   10.000000  22.000000  91.000000  \n",
       "Bought_Disc_DVD         1.000000   2.000000  30.000000  \n",
       "Bought_Disc_BD          0.000000   2.000000  50.000000  \n",
       "Bought_Digital          0.000000   1.000000  30.000000  \n",
       "Rented_Disc_Store       0.000000   0.000000  50.000000  \n",
       "Rented_Disc_Kiosk       0.000000   2.000000  50.000000  \n",
       "Rented_Disc_Mail        0.000000   0.000000  70.000000  \n",
       "Rented_Digital_iVOD     0.000000   1.000000  50.000000  \n",
       "Rented_Digital_sVOD     3.000000  10.000000  80.000000  \n",
       "Rented_Digital_cVOD     0.000000   1.000000  75.000000  \n",
       "ZTotal_Paid_HE_Movies  -0.361440   0.132995   2.975994  \n",
       "Buy_Disc_Percent        0.136364   0.333333   1.000000  \n",
       "Buy_Digital_Percent     0.000000   0.014925   1.000000  \n",
       "Rent_Disc_Percent       0.116279   0.375000   1.000000  \n",
       "Rent_Digital_Percent    0.483871   0.833333   1.000000  \n",
       "Total Discs Bought      1.000000   4.000000  55.000000  \n",
       "Total Discs Rented      1.000000   5.000000  70.000000  \n",
       "Total Digital Rented    5.000000  11.000000  90.000000  \n",
       "Total Bought            2.000000   5.000000  60.000000  \n",
       "Buy_percent             0.181818   0.416667   1.000000  "
      ]
     },
     "execution_count": 4,
     "metadata": {},
     "output_type": "execute_result"
    }
   ],
   "source": [
    "dtt.describe().T"
   ]
  },
  {
   "cell_type": "markdown",
   "metadata": {},
   "source": [
    "### Consumption Distributions"
   ]
  },
  {
   "cell_type": "markdown",
   "metadata": {},
   "source": [
    "Probably need to combine disc and digital purchase into just purchase"
   ]
  },
  {
   "cell_type": "code",
   "execution_count": 5,
   "metadata": {
    "collapsed": false
   },
   "outputs": [
    {
     "data": {
      "text/plain": [
       "<matplotlib.axes._subplots.AxesSubplot at 0xc6e9898>"
      ]
     },
     "execution_count": 5,
     "metadata": {},
     "output_type": "execute_result"
    },
    {
     "data": {
      "image/png": "[encoded data removed]",
      "text/plain": [
       "<matplotlib.figure.Figure at 0x498afd0>"
      ]
     },
     "metadata": {},
     "output_type": "display_data"
    }
   ],
   "source": [
    "dtt.Total_Paid_HE_Movies.plot(kind='hist', bins = 50, title = 'Total Paid HE Movies')"
   ]
  },
  {
   "cell_type": "code",
   "execution_count": 6,
   "metadata": {
    "collapsed": false
   },
   "outputs": [
    {
     "data": {
      "text/plain": [
       "<matplotlib.axes._subplots.AxesSubplot at 0xc605898>"
      ]
     },
     "execution_count": 6,
     "metadata": {},
     "output_type": "execute_result"
    },
    {
     "data": {
      "image/png": "[encoded data removed]",
      "text/plain": [
       "<matplotlib.figure.Figure at 0xd385780>"
      ]
     },
     "metadata": {},
     "output_type": "display_data"
    }
   ],
   "source": [
    "dtt['Total Bought'].plot(kind='hist', bins = 30, title = 'Total Bought')"
   ]
  },
  {
   "cell_type": "code",
   "execution_count": 7,
   "metadata": {
    "collapsed": false
   },
   "outputs": [
    {
     "data": {
      "text/plain": [
       "<matplotlib.axes._subplots.AxesSubplot at 0xd73bb00>"
      ]
     },
     "execution_count": 7,
     "metadata": {},
     "output_type": "execute_result"
    },
    {
     "data": {
      "image/png": "[encoded data removed]",
      "text/plain": [
       "<matplotlib.figure.Figure at 0xc61ca58>"
      ]
     },
     "metadata": {},
     "output_type": "display_data"
    }
   ],
   "source": [
    "dtt['Bought_Digital'][dtt.Bought_Digital > 0].plot(kind='hist', bins = 50, title = 'Total Digital Purchases')"
   ]
  },
  {
   "cell_type": "code",
   "execution_count": 8,
   "metadata": {
    "collapsed": false
   },
   "outputs": [
    {
     "data": {
      "text/plain": [
       "<matplotlib.axes._subplots.AxesSubplot at 0xd992c50>"
      ]
     },
     "execution_count": 8,
     "metadata": {},
     "output_type": "execute_result"
    },
    {
     "data": {
      "image/png": "[encoded data removed]",
      "text/plain": [
       "<matplotlib.figure.Figure at 0xd9b9550>"
      ]
     },
     "metadata": {},
     "output_type": "display_data"
    }
   ],
   "source": [
    "dtt['Total Discs Rented'].plot(kind='hist', bins = 50, title = 'Total Discs Rented')"
   ]
  },
  {
   "cell_type": "code",
   "execution_count": 9,
   "metadata": {
    "collapsed": false
   },
   "outputs": [
    {
     "data": {
      "text/plain": [
       "<matplotlib.axes._subplots.AxesSubplot at 0xdad4588>"
      ]
     },
     "execution_count": 9,
     "metadata": {},
     "output_type": "execute_result"
    },
    {
     "data": {
      "image/png": "[encoded data removed]",
      "text/plain": [
       "<matplotlib.figure.Figure at 0xdd97240>"
      ]
     },
     "metadata": {},
     "output_type": "display_data"
    }
   ],
   "source": [
    "dtt['Total Digital Rented'].plot(kind='hist', bins = 50, title = 'Total Digital Rented')"
   ]
  },
  {
   "cell_type": "markdown",
   "metadata": {},
   "source": [
    "# Getting Dummies"
   ]
  },
  {
   "cell_type": "markdown",
   "metadata": {},
   "source": [
    "## Gender"
   ]
  },
  {
   "cell_type": "code",
   "execution_count": 10,
   "metadata": {
    "collapsed": false
   },
   "outputs": [
    {
     "name": "stdout",
     "output_type": "stream",
     "text": [
      "<class 'pandas.core.frame.DataFrame'>\n",
      "Int64Index: 1925 entries, 11752 to 4712\n",
      "Data columns (total 1 columns):\n",
      "Gender_Male    1925 non-null uint8\n",
      "dtypes: uint8(1)\n",
      "memory usage: 96.9 KB\n"
     ]
    }
   ],
   "source": [
    "dGender = pd.get_dummies(dtt.Gender, prefix='Gender', drop_first = True)\n",
    "dGender.info()"
   ]
  },
  {
   "cell_type": "markdown",
   "metadata": {},
   "source": [
    "## Age_Breaks"
   ]
  },
  {
   "cell_type": "code",
   "execution_count": 11,
   "metadata": {
    "collapsed": false
   },
   "outputs": [
    {
     "name": "stdout",
     "output_type": "stream",
     "text": [
      "<class 'pandas.core.frame.DataFrame'>\n",
      "Int64Index: 1925 entries, 11752 to 4712\n",
      "Data columns (total 6 columns):\n",
      "Age_18 to 24    1925 non-null uint8\n",
      "Age_25 to 34    1925 non-null uint8\n",
      "Age_35 to 44    1925 non-null uint8\n",
      "Age_45 to 54    1925 non-null uint8\n",
      "Age_55 to 64    1925 non-null uint8\n",
      "Age_65 to 74    1925 non-null uint8\n",
      "dtypes: uint8(6)\n",
      "memory usage: 106.3 KB\n"
     ]
    }
   ],
   "source": [
    "dAge_Breaks = pd.get_dummies(dtt.Age_Breaks, prefix = 'Age', drop_first= True)\n",
    "dAge_Breaks.info(0)"
   ]
  },
  {
   "cell_type": "markdown",
   "metadata": {},
   "source": [
    "## Race"
   ]
  },
  {
   "cell_type": "code",
   "execution_count": 12,
   "metadata": {
    "collapsed": false
   },
   "outputs": [
    {
     "name": "stdout",
     "output_type": "stream",
     "text": [
      "<class 'pandas.core.frame.DataFrame'>\n",
      "Int64Index: 1925 entries, 11752 to 4712\n",
      "Data columns (total 4 columns):\n",
      "Race_Black       1925 non-null uint8\n",
      "Race_Hispanic    1925 non-null uint8\n",
      "Race_Other       1925 non-null uint8\n",
      "Race_White       1925 non-null uint8\n",
      "dtypes: uint8(4)\n",
      "memory usage: 102.6 KB\n"
     ]
    }
   ],
   "source": [
    "dRace = pd.get_dummies(dtt.Race, prefix = 'Race',drop_first=True)\n",
    "dRace.info()"
   ]
  },
  {
   "cell_type": "markdown",
   "metadata": {},
   "source": [
    "## Region"
   ]
  },
  {
   "cell_type": "code",
   "execution_count": 13,
   "metadata": {
    "collapsed": false
   },
   "outputs": [
    {
     "name": "stdout",
     "output_type": "stream",
     "text": [
      "<class 'pandas.core.frame.DataFrame'>\n",
      "Int64Index: 1925 entries, 11752 to 4712\n",
      "Data columns (total 3 columns):\n",
      "Region_Northeast    1925 non-null uint8\n",
      "Region_South        1925 non-null uint8\n",
      "Region_West         1925 non-null uint8\n",
      "dtypes: uint8(3)\n",
      "memory usage: 100.7 KB\n"
     ]
    }
   ],
   "source": [
    "dRegion = pd.get_dummies(dtt.Region2,prefix='Region', drop_first=True)\n",
    "dRegion.info()"
   ]
  },
  {
   "cell_type": "markdown",
   "metadata": {},
   "source": [
    "## Parent"
   ]
  },
  {
   "cell_type": "code",
   "execution_count": 14,
   "metadata": {
    "collapsed": false
   },
   "outputs": [
    {
     "name": "stdout",
     "output_type": "stream",
     "text": [
      "<class 'pandas.core.frame.DataFrame'>\n",
      "Int64Index: 1925 entries, 11752 to 4712\n",
      "Data columns (total 1 columns):\n",
      "Parent_Yes    1925 non-null uint8\n",
      "dtypes: uint8(1)\n",
      "memory usage: 96.9 KB\n"
     ]
    }
   ],
   "source": [
    "dParent = pd.get_dummies(dtt.Parent,prefix='Parent',drop_first=True)\n",
    "dParent.info()"
   ]
  },
  {
   "cell_type": "markdown",
   "metadata": {},
   "source": [
    "## Income"
   ]
  },
  {
   "cell_type": "code",
   "execution_count": 15,
   "metadata": {
    "collapsed": false
   },
   "outputs": [
    {
     "name": "stdout",
     "output_type": "stream",
     "text": [
      "<class 'pandas.core.frame.DataFrame'>\n",
      "Int64Index: 1925 entries, 11752 to 4712\n",
      "Data columns (total 9 columns):\n",
      "Income_2 - $20 to $29K         1925 non-null uint8\n",
      "Income_3 - $30 to $39K         1925 non-null uint8\n",
      "Income_4 - $40 to $59K         1925 non-null uint8\n",
      "Income_5 - $60 to $74K         1925 non-null uint8\n",
      "Income_6 - $75 to $99K         1925 non-null uint8\n",
      "Income_7 - $100 to $149K       1925 non-null uint8\n",
      "Income_8 - $150 to $199K       1925 non-null uint8\n",
      "Income_9 - $200K+              1925 non-null uint8\n",
      "Income_Prefer not to answer    1925 non-null uint8\n",
      "dtypes: uint8(9)\n",
      "memory usage: 112.0 KB\n"
     ]
    }
   ],
   "source": [
    "dHH_Income = pd.get_dummies(dtt.HH_Income,prefix='Income',drop_first=True)\n",
    "dHH_Income.info()"
   ]
  },
  {
   "cell_type": "markdown",
   "metadata": {},
   "source": [
    "## Employment"
   ]
  },
  {
   "cell_type": "code",
   "execution_count": 16,
   "metadata": {
    "collapsed": false
   },
   "outputs": [
    {
     "name": "stdout",
     "output_type": "stream",
     "text": [
      "<class 'pandas.core.frame.DataFrame'>\n",
      "Int64Index: 1925 entries, 11752 to 4712\n",
      "Data columns (total 3 columns):\n",
      "Employment_2 - Part time       1925 non-null uint8\n",
      "Employment_3 - Retired         1925 non-null uint8\n",
      "Employment_4 - Not employed    1925 non-null uint8\n",
      "dtypes: uint8(3)\n",
      "memory usage: 100.7 KB\n"
     ]
    }
   ],
   "source": [
    "dEmployment = pd.get_dummies(dtt.Employment,prefix='Employment', drop_first=True)\n",
    "dEmployment.info()"
   ]
  },
  {
   "cell_type": "markdown",
   "metadata": {},
   "source": [
    "## Education"
   ]
  },
  {
   "cell_type": "code",
   "execution_count": 17,
   "metadata": {
    "collapsed": false
   },
   "outputs": [
    {
     "name": "stdout",
     "output_type": "stream",
     "text": [
      "<class 'pandas.core.frame.DataFrame'>\n",
      "Int64Index: 1925 entries, 11752 to 4712\n",
      "Data columns (total 6 columns):\n",
      "Education_2 - HS Grad                 1925 non-null uint8\n",
      "Education_3 - Some coll               1925 non-null uint8\n",
      "Education_4 - Coll Grad               1925 non-null uint8\n",
      "Education_5 - Some Post-grad          1925 non-null uint8\n",
      "Education_6 - Post-grad               1925 non-null uint8\n",
      "Education_7 - Prefer not to answer    1925 non-null uint8\n",
      "dtypes: uint8(6)\n",
      "memory usage: 106.3 KB\n"
     ]
    }
   ],
   "source": [
    "dEducation = pd.get_dummies(dtt.Education,prefix='Education', drop_first=True)\n",
    "dEducation.info()"
   ]
  },
  {
   "cell_type": "markdown",
   "metadata": {},
   "source": [
    "## Marital Status"
   ]
  },
  {
   "cell_type": "code",
   "execution_count": 18,
   "metadata": {
    "collapsed": false
   },
   "outputs": [
    {
     "name": "stdout",
     "output_type": "stream",
     "text": [
      "<class 'pandas.core.frame.DataFrame'>\n",
      "Int64Index: 1925 entries, 11752 to 4712\n",
      "Data columns (total 3 columns):\n",
      "Marital_Status_Married                 1925 non-null uint8\n",
      "Marital_Status_Prefer not to answer    1925 non-null uint8\n",
      "Marital_Status_Single                  1925 non-null uint8\n",
      "dtypes: uint8(3)\n",
      "memory usage: 100.7 KB\n"
     ]
    }
   ],
   "source": [
    "dMarital_Status = pd.get_dummies(dtt.Marital_Status,prefix='Marital_Status', drop_first=True)\n",
    "dMarital_Status.info()"
   ]
  },
  {
   "cell_type": "markdown",
   "metadata": {},
   "source": [
    "## GenderAge"
   ]
  },
  {
   "cell_type": "code",
   "execution_count": 19,
   "metadata": {
    "collapsed": false
   },
   "outputs": [
    {
     "name": "stdout",
     "output_type": "stream",
     "text": [
      "<class 'pandas.core.frame.DataFrame'>\n",
      "Int64Index: 1925 entries, 11752 to 4712\n",
      "Data columns (total 13 columns):\n",
      "GenderAge_Female 18 to 24    1925 non-null uint8\n",
      "GenderAge_Female 25 to 34    1925 non-null uint8\n",
      "GenderAge_Female 35 to 44    1925 non-null uint8\n",
      "GenderAge_Female 45 to 54    1925 non-null uint8\n",
      "GenderAge_Female 55 to 64    1925 non-null uint8\n",
      "GenderAge_Female 65 to 74    1925 non-null uint8\n",
      "GenderAge_Male 12 to 17      1925 non-null uint8\n",
      "GenderAge_Male 18 to 24      1925 non-null uint8\n",
      "GenderAge_Male 25 to 34      1925 non-null uint8\n",
      "GenderAge_Male 35 to 44      1925 non-null uint8\n",
      "GenderAge_Male 45 to 54      1925 non-null uint8\n",
      "GenderAge_Male 55 to 64      1925 non-null uint8\n",
      "GenderAge_Male 65 to 74      1925 non-null uint8\n",
      "dtypes: uint8(13)\n",
      "memory usage: 119.5 KB\n"
     ]
    }
   ],
   "source": [
    "dGenderAge = pd.get_dummies(dtt.GenderAge,prefix='GenderAge', drop_first=True)\n",
    "dGenderAge.info()"
   ]
  },
  {
   "cell_type": "markdown",
   "metadata": {},
   "source": [
    "## Model Building"
   ]
  },
  {
   "cell_type": "code",
   "execution_count": 20,
   "metadata": {
    "collapsed": false
   },
   "outputs": [
    {
     "name": "stderr",
     "output_type": "stream",
     "text": [
      "C:\\Users\\anne1\\Anaconda2\\lib\\site-packages\\statsmodels\\compat\\pandas.py:56: FutureWarning: The pandas.core.datetools module is deprecated and will be removed in a future version. Please use the pandas.tseries module instead.\n",
      "  from pandas.core import datetools\n"
     ]
    }
   ],
   "source": [
    "from scipy import stats\n",
    "import statsmodels.api as sm\n",
    "\n",
    "from sklearn import feature_selection, linear_model"
   ]
  },
  {
   "cell_type": "code",
   "execution_count": 21,
   "metadata": {
    "collapsed": false
   },
   "outputs": [],
   "source": [
    "def get_linear_model_metrics(X, y, algo):\n",
    "    # get the pvalue of X given y. Ignore f-stat for now.\n",
    "    pvals = feature_selection.f_regression(X, y)[1]\n",
    "    # start with an empty linear regression object\n",
    "    # .fit() runs the linear regression function on X and y\n",
    "    algo.fit(X,y)\n",
    "    residuals = (y-algo.predict(X)).values\n",
    "\n",
    "    # print the necessary values\n",
    "    print 'P Values:', pvals\n",
    "    print 'Coefficients:', algo.coef_\n",
    "    print 'y-intercept:', algo.intercept_\n",
    "    print 'R-Squared:', algo.score(X,y)\n",
    "    plt.figure()\n",
    "    plt.hist(residuals, bins=np.ceil(np.sqrt(len(y))).astype(int))\n",
    "    # keep the model\n",
    "    return algo\n"
   ]
  },
  {
   "cell_type": "markdown",
   "metadata": {},
   "source": [
    "### Creating Feature Sets"
   ]
  },
  {
   "cell_type": "code",
   "execution_count": 22,
   "metadata": {
    "collapsed": false
   },
   "outputs": [
    {
     "ename": "KeyError",
     "evalue": "\"['Gender_Male'] not in index\"",
     "output_type": "error",
     "traceback": [
      "\u001b[0;31m---------------------------------------------------------------------------\u001b[0m",
      "\u001b[0;31mKeyError\u001b[0m                                  Traceback (most recent call last)",
      "\u001b[0;32m<ipython-input-22-de07aed635e0>\u001b[0m in \u001b[0;36m<module>\u001b[0;34m()\u001b[0m\n\u001b[0;32m----> 1\u001b[0;31m \u001b[0mXGender\u001b[0m \u001b[1;33m=\u001b[0m \u001b[0mdtt\u001b[0m\u001b[1;33m[\u001b[0m\u001b[1;33m[\u001b[0m\u001b[1;34m'Gender_Male'\u001b[0m\u001b[1;33m]\u001b[0m\u001b[1;33m]\u001b[0m\u001b[1;33m\u001b[0m\u001b[0m\n\u001b[0m\u001b[1;32m      2\u001b[0m \u001b[1;33m\u001b[0m\u001b[0m\n\u001b[1;32m      3\u001b[0m \u001b[0mXAge_Breaks\u001b[0m \u001b[1;33m=\u001b[0m \u001b[0mdtt\u001b[0m\u001b[1;33m[\u001b[0m\u001b[1;33m[\u001b[0m\u001b[1;34m'Age_18 to 24'\u001b[0m\u001b[1;33m,\u001b[0m \u001b[1;34m'Age_25 to 34'\u001b[0m\u001b[1;33m,\u001b[0m \u001b[1;34m'Age_35 to 44'\u001b[0m\u001b[1;33m,\u001b[0m \u001b[1;34m'Age_45 to 54'\u001b[0m\u001b[1;33m,\u001b[0m \u001b[1;34m'Age_55 to 64'\u001b[0m\u001b[1;33m,\u001b[0m \u001b[1;34m'Age_65 to 74'\u001b[0m\u001b[1;33m]\u001b[0m\u001b[1;33m]\u001b[0m\u001b[1;33m\u001b[0m\u001b[0m\n\u001b[1;32m      4\u001b[0m \u001b[1;33m\u001b[0m\u001b[0m\n\u001b[1;32m      5\u001b[0m \u001b[0mXAge\u001b[0m \u001b[1;33m=\u001b[0m \u001b[0mdtt\u001b[0m\u001b[1;33m[\u001b[0m\u001b[1;33m[\u001b[0m\u001b[1;34m'Age'\u001b[0m\u001b[1;33m]\u001b[0m\u001b[1;33m]\u001b[0m\u001b[1;33m\u001b[0m\u001b[0m\n",
      "\u001b[0;32mC:\\Users\\anne1\\Anaconda2\\lib\\site-packages\\pandas\\core\\frame.pyc\u001b[0m in \u001b[0;36m__getitem__\u001b[0;34m(self, key)\u001b[0m\n\u001b[1;32m   1956\u001b[0m         \u001b[1;32mif\u001b[0m \u001b[0misinstance\u001b[0m\u001b[1;33m(\u001b[0m\u001b[0mkey\u001b[0m\u001b[1;33m,\u001b[0m \u001b[1;33m(\u001b[0m\u001b[0mSeries\u001b[0m\u001b[1;33m,\u001b[0m \u001b[0mnp\u001b[0m\u001b[1;33m.\u001b[0m\u001b[0mndarray\u001b[0m\u001b[1;33m,\u001b[0m \u001b[0mIndex\u001b[0m\u001b[1;33m,\u001b[0m \u001b[0mlist\u001b[0m\u001b[1;33m)\u001b[0m\u001b[1;33m)\u001b[0m\u001b[1;33m:\u001b[0m\u001b[1;33m\u001b[0m\u001b[0m\n\u001b[1;32m   1957\u001b[0m             \u001b[1;31m# either boolean or fancy integer index\u001b[0m\u001b[1;33m\u001b[0m\u001b[1;33m\u001b[0m\u001b[0m\n\u001b[0;32m-> 1958\u001b[0;31m             \u001b[1;32mreturn\u001b[0m \u001b[0mself\u001b[0m\u001b[1;33m.\u001b[0m\u001b[0m_getitem_array\u001b[0m\u001b[1;33m(\u001b[0m\u001b[0mkey\u001b[0m\u001b[1;33m)\u001b[0m\u001b[1;33m\u001b[0m\u001b[0m\n\u001b[0m\u001b[1;32m   1959\u001b[0m         \u001b[1;32melif\u001b[0m \u001b[0misinstance\u001b[0m\u001b[1;33m(\u001b[0m\u001b[0mkey\u001b[0m\u001b[1;33m,\u001b[0m \u001b[0mDataFrame\u001b[0m\u001b[1;33m)\u001b[0m\u001b[1;33m:\u001b[0m\u001b[1;33m\u001b[0m\u001b[0m\n\u001b[1;32m   1960\u001b[0m             \u001b[1;32mreturn\u001b[0m \u001b[0mself\u001b[0m\u001b[1;33m.\u001b[0m\u001b[0m_getitem_frame\u001b[0m\u001b[1;33m(\u001b[0m\u001b[0mkey\u001b[0m\u001b[1;33m)\u001b[0m\u001b[1;33m\u001b[0m\u001b[0m\n",
      "\u001b[0;32mC:\\Users\\anne1\\Anaconda2\\lib\\site-packages\\pandas\\core\\frame.pyc\u001b[0m in \u001b[0;36m_getitem_array\u001b[0;34m(self, key)\u001b[0m\n\u001b[1;32m   2000\u001b[0m             \u001b[1;32mreturn\u001b[0m \u001b[0mself\u001b[0m\u001b[1;33m.\u001b[0m\u001b[0mtake\u001b[0m\u001b[1;33m(\u001b[0m\u001b[0mindexer\u001b[0m\u001b[1;33m,\u001b[0m \u001b[0maxis\u001b[0m\u001b[1;33m=\u001b[0m\u001b[1;36m0\u001b[0m\u001b[1;33m,\u001b[0m \u001b[0mconvert\u001b[0m\u001b[1;33m=\u001b[0m\u001b[0mFalse\u001b[0m\u001b[1;33m)\u001b[0m\u001b[1;33m\u001b[0m\u001b[0m\n\u001b[1;32m   2001\u001b[0m         \u001b[1;32melse\u001b[0m\u001b[1;33m:\u001b[0m\u001b[1;33m\u001b[0m\u001b[0m\n\u001b[0;32m-> 2002\u001b[0;31m             \u001b[0mindexer\u001b[0m \u001b[1;33m=\u001b[0m \u001b[0mself\u001b[0m\u001b[1;33m.\u001b[0m\u001b[0mloc\u001b[0m\u001b[1;33m.\u001b[0m\u001b[0m_convert_to_indexer\u001b[0m\u001b[1;33m(\u001b[0m\u001b[0mkey\u001b[0m\u001b[1;33m,\u001b[0m \u001b[0maxis\u001b[0m\u001b[1;33m=\u001b[0m\u001b[1;36m1\u001b[0m\u001b[1;33m)\u001b[0m\u001b[1;33m\u001b[0m\u001b[0m\n\u001b[0m\u001b[1;32m   2003\u001b[0m             \u001b[1;32mreturn\u001b[0m \u001b[0mself\u001b[0m\u001b[1;33m.\u001b[0m\u001b[0mtake\u001b[0m\u001b[1;33m(\u001b[0m\u001b[0mindexer\u001b[0m\u001b[1;33m,\u001b[0m \u001b[0maxis\u001b[0m\u001b[1;33m=\u001b[0m\u001b[1;36m1\u001b[0m\u001b[1;33m,\u001b[0m \u001b[0mconvert\u001b[0m\u001b[1;33m=\u001b[0m\u001b[0mTrue\u001b[0m\u001b[1;33m)\u001b[0m\u001b[1;33m\u001b[0m\u001b[0m\n\u001b[1;32m   2004\u001b[0m \u001b[1;33m\u001b[0m\u001b[0m\n",
      "\u001b[0;32mC:\\Users\\anne1\\Anaconda2\\lib\\site-packages\\pandas\\core\\indexing.pyc\u001b[0m in \u001b[0;36m_convert_to_indexer\u001b[0;34m(self, obj, axis, is_setter)\u001b[0m\n\u001b[1;32m   1229\u001b[0m                 \u001b[0mmask\u001b[0m \u001b[1;33m=\u001b[0m \u001b[0mcheck\u001b[0m \u001b[1;33m==\u001b[0m \u001b[1;33m-\u001b[0m\u001b[1;36m1\u001b[0m\u001b[1;33m\u001b[0m\u001b[0m\n\u001b[1;32m   1230\u001b[0m                 \u001b[1;32mif\u001b[0m \u001b[0mmask\u001b[0m\u001b[1;33m.\u001b[0m\u001b[0many\u001b[0m\u001b[1;33m(\u001b[0m\u001b[1;33m)\u001b[0m\u001b[1;33m:\u001b[0m\u001b[1;33m\u001b[0m\u001b[0m\n\u001b[0;32m-> 1231\u001b[0;31m                     \u001b[1;32mraise\u001b[0m \u001b[0mKeyError\u001b[0m\u001b[1;33m(\u001b[0m\u001b[1;34m'%s not in index'\u001b[0m \u001b[1;33m%\u001b[0m \u001b[0mobjarr\u001b[0m\u001b[1;33m[\u001b[0m\u001b[0mmask\u001b[0m\u001b[1;33m]\u001b[0m\u001b[1;33m)\u001b[0m\u001b[1;33m\u001b[0m\u001b[0m\n\u001b[0m\u001b[1;32m   1232\u001b[0m \u001b[1;33m\u001b[0m\u001b[0m\n\u001b[1;32m   1233\u001b[0m                 \u001b[1;32mreturn\u001b[0m \u001b[0m_values_from_object\u001b[0m\u001b[1;33m(\u001b[0m\u001b[0mindexer\u001b[0m\u001b[1;33m)\u001b[0m\u001b[1;33m\u001b[0m\u001b[0m\n",
      "\u001b[0;31mKeyError\u001b[0m: \"['Gender_Male'] not in index\""
     ]
    }
   ],
   "source": [
    "XGender = dtt[['Gender_Male']]\n",
    "\n",
    "XAge_Breaks = dtt[['Age_18 to 24', 'Age_25 to 34', 'Age_35 to 44', 'Age_45 to 54', 'Age_55 to 64', 'Age_65 to 74']]\n",
    "\n",
    "XAge = dtt[['Age']]\n",
    "\n",
    "XGenderAge = dtt[['GenderAge_Female 18 to 24', 'GenderAge_Female 25 to 34', 'GenderAge_Female 35 to 44',\n",
    "                  'GenderAge_Female 45 to 54', 'GenderAge_Female 55 to 64', 'GenderAge_Female 65 to 74', \n",
    "                  'GenderAge_Male 12 to 17', 'GenderAge_Male 18 to 24', 'GenderAge_Male 25 to 34', \n",
    "                  'GenderAge_Male 35 to 44', 'GenderAge_Male 45 to 54', 'GenderAge_Male 55 to 64', \n",
    "                  'GenderAge_Male 65 to 74']]\n",
    "    \n",
    "    \n",
    "    \n",
    "XRace = dtt[['Race_Black','Race_Hispanic','Race_Other','Race_White']]\n",
    "\n",
    "XParent = dtt[['Parent_Yes']]\n",
    "\n",
    "XRegion = dtt[['Region_Northeast', 'Region_South', 'Region_West']]\n",
    "\n",
    "\n",
    "XIncome = dtt[['Income_2 - $20 to $29K', 'Income_3 - $30 to $39K',\n",
    "               'Income_4 - $40 to $59K', 'Income_5 - $60 to $74K', \n",
    "               'Income_6 - $75 to $99K', 'Income_7 - $100 to $149K', \n",
    "               'Income_8 - $150 to $199K', 'Income_9 - $200K+', 'Income_Prefer not to answer']]\n",
    "\n",
    "XEmpl = dtt[['Employment_2 - Part time', \n",
    "             'Employment_3 - Retired', 'Employment_4 - Not employed']]\n",
    "\n",
    "\n",
    "XEdu = dtt[['Education_2 - HS Grad', 'Education_3 - Some coll', \n",
    "            'Education_4 - Coll Grad', 'Education_5 - Some Post-grad', 'Education_6 - Post-grad', \n",
    "            'Education_7 - Prefer not to answer']]\n",
    "\n",
    "\n",
    "XMar = dtt[['Marital_Status_Married', 'Marital_Status_Single']]\n",
    "\n",
    "XPercent = dtt[['Buy_percent', 'Rent_Disc_Percent', 'Rent_Digital_Percent']]\n",
    "\n",
    "XMethod = dtt[['Total Bought', 'Total Discs Rented', 'Total Digital Rented']]\n",
    "\n",
    "XAll = pd.concat([XGender, XAge_Breaks, XRace, XRegion, XParent],axis=1)"
   ]
  },
  {
   "cell_type": "markdown",
   "metadata": {},
   "source": [
    "## Using SKLearn"
   ]
  },
  {
   "cell_type": "code",
   "execution_count": null,
   "metadata": {
    "collapsed": true
   },
   "outputs": [],
   "source": [
    "from sklearn import feature_selection, linear_model\n",
    "\n",
    "from sklearn.model_selection import cross_val_score"
   ]
  },
  {
   "cell_type": "markdown",
   "metadata": {},
   "source": [
    "## The  Model"
   ]
  },
  {
   "cell_type": "code",
   "execution_count": null,
   "metadata": {
    "collapsed": false
   },
   "outputs": [],
   "source": [
    "Buy_percent = dtt[['Buy_percent']]\n",
    "\n",
    "Rent_Disc_Percent = dtt[['Rent_Disc_Percent']]\n",
    "\n",
    "Rent_Digital_Percent = dtt[['Rent_Digital_Percent']]"
   ]
  },
  {
   "cell_type": "code",
   "execution_count": null,
   "metadata": {
    "collapsed": false
   },
   "outputs": [],
   "source": [
    "X = pd.concat([XGenderAge, Buy_percent, XParent, Rent_Digital_Percent, XEmpl, XRace, XMar], axis=1)\n",
    "\n",
    "model = linear_model.LinearRegression()\n",
    "\n",
    "get_linear_model_metrics(X,dtt['Total_Paid_HE_Movies'],model)"
   ]
  },
  {
   "cell_type": "markdown",
   "metadata": {},
   "source": [
    "# Key Measures by Demographics"
   ]
  },
  {
   "cell_type": "code",
   "execution_count": null,
   "metadata": {
    "collapsed": true
   },
   "outputs": [],
   "source": [
    "Cons_Meas_wTot = ['Total_Paid_HE_Movies','Total Bought','Total Discs Rented',\n",
    "                  'Total Digital Rented']\n",
    "\n",
    "Cons_Meas_noTot = ['Total Bought','Total Discs Rented','Total Digital Rented']"
   ]
  },
  {
   "cell_type": "markdown",
   "metadata": {},
   "source": [
    "### Consumption by Gender"
   ]
  },
  {
   "cell_type": "code",
   "execution_count": null,
   "metadata": {
    "collapsed": true
   },
   "outputs": [],
   "source": [
    "dtt.groupby(dtt.Gender)[Cons_Meas_wTot].mean()"
   ]
  },
  {
   "cell_type": "code",
   "execution_count": null,
   "metadata": {
    "collapsed": true
   },
   "outputs": [],
   "source": [
    "gby_gender = dtt.groupby(dtt.Gender)[Cons_Meas_noTot].mean()\n",
    "gby_gender.plot(kind='bar',stacked=True,title = \"Average Consumption by Gender\")"
   ]
  },
  {
   "cell_type": "code",
   "execution_count": null,
   "metadata": {
    "collapsed": true
   },
   "outputs": [],
   "source": [
    "gby_gender = dtt.groupby(dtt.Gender)[Cons_Meas_noTot].mean()\n",
    "gby_gender.plot(kind='bar',stacked=False,title = \"Average Consumption by Gender\")"
   ]
  },
  {
   "cell_type": "markdown",
   "metadata": {},
   "source": [
    "### Consumption by Age Breaks"
   ]
  },
  {
   "cell_type": "code",
   "execution_count": null,
   "metadata": {
    "collapsed": true
   },
   "outputs": [],
   "source": [
    "dtt.groupby(dtt.Age_Breaks)[Cons_Meas_wTot].mean()"
   ]
  },
  {
   "cell_type": "code",
   "execution_count": null,
   "metadata": {
    "collapsed": true
   },
   "outputs": [],
   "source": [
    "gby_age = dtt.groupby(dtt.Age_Breaks)[Cons_Meas_noTot].mean()\n",
    "gby_age.plot(kind = 'bar', stacked = True, title = 'Average Consumption by Age')"
   ]
  },
  {
   "cell_type": "code",
   "execution_count": null,
   "metadata": {
    "collapsed": true
   },
   "outputs": [],
   "source": [
    "gby_age = dtt.groupby(dtt.Age_Breaks)[Cons_Meas_noTot].mean()\n",
    "gby_age.plot(kind = 'bar', stacked = False, title = 'Average Consumption by Age')"
   ]
  },
  {
   "cell_type": "markdown",
   "metadata": {},
   "source": [
    "### Consumption by Race"
   ]
  },
  {
   "cell_type": "code",
   "execution_count": null,
   "metadata": {
    "collapsed": true
   },
   "outputs": [],
   "source": [
    "dtt.groupby(dtt.Race)[Cons_Meas_wTot].mean()"
   ]
  },
  {
   "cell_type": "code",
   "execution_count": null,
   "metadata": {
    "collapsed": true
   },
   "outputs": [],
   "source": [
    "gby_race = dtt.groupby(dtt.Race)[Cons_Meas_noTot].mean()\n",
    "gby_race.plot(kind = 'bar', stacked = True, title = 'Average Consumption by Race')"
   ]
  },
  {
   "cell_type": "code",
   "execution_count": null,
   "metadata": {
    "collapsed": true
   },
   "outputs": [],
   "source": [
    "gby_race = dtt.groupby(dtt.Race)[Cons_Meas_noTot].mean()\n",
    "gby_race.plot(kind = 'bar', stacked = False, title = 'Average Consumption by Race')"
   ]
  },
  {
   "cell_type": "markdown",
   "metadata": {},
   "source": [
    "### Consumption by Employment Status"
   ]
  },
  {
   "cell_type": "code",
   "execution_count": null,
   "metadata": {
    "collapsed": true
   },
   "outputs": [],
   "source": [
    "dtt.groupby(dtt.Employment)[Cons_Meas_wTot].mean()"
   ]
  },
  {
   "cell_type": "code",
   "execution_count": null,
   "metadata": {
    "collapsed": true
   },
   "outputs": [],
   "source": [
    "gby_emply = dtt.groupby(dtt.Employment)[Cons_Meas_noTot].mean()\n",
    "gby_emply.plot(kind = 'bar', stacked = True, title = 'Average Consumption by Employment')"
   ]
  },
  {
   "cell_type": "code",
   "execution_count": null,
   "metadata": {
    "collapsed": true
   },
   "outputs": [],
   "source": [
    "gby_emply = dtt.groupby(dtt.Employment)[Cons_Meas_noTot].mean()\n",
    "gby_emply.plot(kind = 'bar', stacked = False, title = 'Average Consumption by Employment')"
   ]
  },
  {
   "cell_type": "markdown",
   "metadata": {},
   "source": [
    "### Consumption by Education"
   ]
  },
  {
   "cell_type": "code",
   "execution_count": null,
   "metadata": {
    "collapsed": true
   },
   "outputs": [],
   "source": [
    "dtt.groupby(dtt.Education)[Cons_Meas_wTot].mean()"
   ]
  },
  {
   "cell_type": "code",
   "execution_count": null,
   "metadata": {
    "collapsed": true
   },
   "outputs": [],
   "source": [
    "gby_educ = dtt.groupby(dtt.Education)[Cons_Meas_noTot].mean()\n",
    "gby_educ = gby_educ.drop(['7 - Prefer not to answer'])\n",
    "\n",
    "gby_educ.plot(kind = 'bar', stacked = True, title = 'Average Consumption by Education')"
   ]
  },
  {
   "cell_type": "code",
   "execution_count": null,
   "metadata": {
    "collapsed": true
   },
   "outputs": [],
   "source": [
    "gby_educ = dtt.groupby(dtt.Education)[Cons_Meas_noTot].mean()\n",
    "gby_educ = gby_educ.drop(['7 - Prefer not to answer'])\n",
    "gby_educ.plot(kind = 'bar', stacked = False, title = 'Average Consumption by Education')"
   ]
  },
  {
   "cell_type": "markdown",
   "metadata": {},
   "source": [
    "### Consumption by Marital Status"
   ]
  },
  {
   "cell_type": "code",
   "execution_count": null,
   "metadata": {
    "collapsed": true
   },
   "outputs": [],
   "source": [
    "dtt.groupby(dtt.Marital_Status[dtt.Marital_Status != 'Prefer not to answer'])[Cons_Meas_wTot].mean()"
   ]
  },
  {
   "cell_type": "code",
   "execution_count": null,
   "metadata": {
    "collapsed": true
   },
   "outputs": [],
   "source": [
    "dtt.groupby(dtt.Marital_Status[dtt.Marital_Status != 'Prefer not to answer'])[Cons_Meas_noTot].mean().plot(kind='bar',stacked = True)"
   ]
  },
  {
   "cell_type": "code",
   "execution_count": null,
   "metadata": {
    "collapsed": true
   },
   "outputs": [],
   "source": [
    "dtt.groupby(\n",
    "    dtt.Marital_Status[dtt.Marital_Status != 'Prefer not to answer'])[Cons_Meas_noTot].mean().plot(kind='bar',\n",
    "                                                                                                   stacked = False)"
   ]
  },
  {
   "cell_type": "markdown",
   "metadata": {},
   "source": [
    "### Consumption by Parental status"
   ]
  },
  {
   "cell_type": "code",
   "execution_count": null,
   "metadata": {
    "collapsed": true
   },
   "outputs": [],
   "source": [
    "dtt.Parent.value_counts()"
   ]
  },
  {
   "cell_type": "code",
   "execution_count": null,
   "metadata": {
    "collapsed": true
   },
   "outputs": [],
   "source": [
    "dtt.Parent.unique()"
   ]
  },
  {
   "cell_type": "code",
   "execution_count": null,
   "metadata": {
    "collapsed": true
   },
   "outputs": [],
   "source": [
    "dtt.groupby(dtt.Parent [(dtt.Parent == \"Yes\") | (dtt.Parent == \"No\")])[Cons_Meas_wTot].mean()"
   ]
  },
  {
   "cell_type": "code",
   "execution_count": null,
   "metadata": {
    "collapsed": true
   },
   "outputs": [],
   "source": [
    "dtt.groupby(\n",
    "    dtt.Parent[(dtt.Parent == 'Yes')|(dtt.Parent == 'No')])[Cons_Meas_noTot].mean().plot(kind='bar',\n",
    "                                                                                         title = 'Consumption by Parental Status', \n",
    "                                                                                         stacked = True)"
   ]
  },
  {
   "cell_type": "code",
   "execution_count": null,
   "metadata": {
    "collapsed": true
   },
   "outputs": [],
   "source": [
    "dtt.groupby(\n",
    "    dtt.Parent[(dtt.Parent == 'Yes')|(dtt.Parent == 'No')])[Cons_Meas_noTot].mean().plot(kind='bar',\n",
    "                                                                                         title = 'Consumption by Parental Status', \n",
    "                                                                                         stacked = False)"
   ]
  }
 ],
 "metadata": {
  "kernelspec": {
   "display_name": "Python 2",
   "language": "python",
   "name": "python2"
  },
  "language_info": {
   "codemirror_mode": {
    "name": "ipython",
    "version": 2
   },
   "file_extension": ".py",
   "mimetype": "text/x-python",
   "name": "python",
   "nbconvert_exporter": "python",
   "pygments_lexer": "ipython2",
   "version": "2.7.13"
  }
 },
 "nbformat": 4,
 "nbformat_minor": 2
}
