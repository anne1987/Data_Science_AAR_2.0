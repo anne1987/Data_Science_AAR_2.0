{
 "cells": [
  {
   "cell_type": "markdown",
   "metadata": {},
   "source": [
    "### Practice Day"
   ]
  },
  {
   "cell_type": "code",
   "execution_count": 2,
   "metadata": {
    "collapsed": true
   },
   "outputs": [],
   "source": [
    "%matplotlib inline\n",
    "import numpy as np\n",
    "import pandas as pd\n",
    "from matplotlib import pyplot as plt\n",
    "import seaborn as sns\n",
    "import sklearn.linear_model"
   ]
  },
  {
   "cell_type": "code",
   "execution_count": 4,
   "metadata": {
    "collapsed": false
   },
   "outputs": [
    {
     "data": {
      "text/html": [
       "<div>\n",
       "<style>\n",
       "    .dataframe thead tr:only-child th {\n",
       "        text-align: right;\n",
       "    }\n",
       "\n",
       "    .dataframe thead th {\n",
       "        text-align: left;\n",
       "    }\n",
       "\n",
       "    .dataframe tbody tr th {\n",
       "        vertical-align: top;\n",
       "    }\n",
       "</style>\n",
       "<table border=\"1\" class=\"dataframe\">\n",
       "  <thead>\n",
       "    <tr style=\"text-align: right;\">\n",
       "      <th></th>\n",
       "      <th>customer_id</th>\n",
       "      <th>status</th>\n",
       "      <th>residence_rent_or_own</th>\n",
       "      <th>monthly_rent_amount</th>\n",
       "      <th>bank_account_direct_deposit</th>\n",
       "      <th>application_when</th>\n",
       "      <th>loan_duration</th>\n",
       "      <th>payment_ach</th>\n",
       "      <th>num_payments</th>\n",
       "      <th>address_zip</th>\n",
       "      <th>bank_routing_number</th>\n",
       "      <th>home_phone_type</th>\n",
       "      <th>monthly_income_amount</th>\n",
       "      <th>raw_l2c_score</th>\n",
       "      <th>raw_FICO_telecom</th>\n",
       "      <th>raw_FICO_retail</th>\n",
       "      <th>raw_FICO_bank_card</th>\n",
       "      <th>raw_FICO_money</th>\n",
       "    </tr>\n",
       "  </thead>\n",
       "  <tbody>\n",
       "    <tr>\n",
       "      <th>0</th>\n",
       "      <td>9ece67d6c5</td>\n",
       "      <td>Approved</td>\n",
       "      <td>True</td>\n",
       "      <td>0</td>\n",
       "      <td>True</td>\n",
       "      <td>2010-10-16 14:06:00</td>\n",
       "      <td>3</td>\n",
       "      <td>True</td>\n",
       "      <td>6</td>\n",
       "      <td>84118</td>\n",
       "      <td>124001545</td>\n",
       "      <td>Mobile</td>\n",
       "      <td>1560</td>\n",
       "      <td>614</td>\n",
       "      <td>574</td>\n",
       "      <td>600</td>\n",
       "      <td>656</td>\n",
       "      <td>561</td>\n",
       "    </tr>\n",
       "    <tr>\n",
       "      <th>1</th>\n",
       "      <td>5c2c402094</td>\n",
       "      <td>Approved</td>\n",
       "      <td>True</td>\n",
       "      <td>0</td>\n",
       "      <td>False</td>\n",
       "      <td>2010-10-17 13:01:00</td>\n",
       "      <td>6</td>\n",
       "      <td>True</td>\n",
       "      <td>13</td>\n",
       "      <td>84062</td>\n",
       "      <td>124000054</td>\n",
       "      <td>Mobile</td>\n",
       "      <td>900</td>\n",
       "      <td>708</td>\n",
       "      <td>501</td>\n",
       "      <td>550</td>\n",
       "      <td>651</td>\n",
       "      <td>563</td>\n",
       "    </tr>\n",
       "    <tr>\n",
       "      <th>2</th>\n",
       "      <td>e6254cad30</td>\n",
       "      <td>Approved</td>\n",
       "      <td>True</td>\n",
       "      <td>620</td>\n",
       "      <td>True</td>\n",
       "      <td>2010-10-17 19:52:00</td>\n",
       "      <td>6</td>\n",
       "      <td>True</td>\n",
       "      <td>13</td>\n",
       "      <td>84119</td>\n",
       "      <td>124001545</td>\n",
       "      <td>Mobile</td>\n",
       "      <td>1434</td>\n",
       "      <td>687</td>\n",
       "      <td>522</td>\n",
       "      <td>561</td>\n",
       "      <td>661</td>\n",
       "      <td>598</td>\n",
       "    </tr>\n",
       "    <tr>\n",
       "      <th>3</th>\n",
       "      <td>49fb42f51d</td>\n",
       "      <td>Approved</td>\n",
       "      <td>False</td>\n",
       "      <td>785</td>\n",
       "      <td>False</td>\n",
       "      <td>2010-10-18 07:05:00</td>\n",
       "      <td>4</td>\n",
       "      <td>True</td>\n",
       "      <td>8</td>\n",
       "      <td>84405</td>\n",
       "      <td>124002971</td>\n",
       "      <td>Mobile</td>\n",
       "      <td>1600</td>\n",
       "      <td>616</td>\n",
       "      <td>560</td>\n",
       "      <td>552</td>\n",
       "      <td>634</td>\n",
       "      <td>591</td>\n",
       "    </tr>\n",
       "    <tr>\n",
       "      <th>4</th>\n",
       "      <td>195fbe5739</td>\n",
       "      <td>Approved</td>\n",
       "      <td>True</td>\n",
       "      <td>700</td>\n",
       "      <td>True</td>\n",
       "      <td>2010-10-19 10:58:00</td>\n",
       "      <td>4</td>\n",
       "      <td>True</td>\n",
       "      <td>8</td>\n",
       "      <td>84404</td>\n",
       "      <td>124002971</td>\n",
       "      <td>Mobile</td>\n",
       "      <td>1360</td>\n",
       "      <td>681</td>\n",
       "      <td>603</td>\n",
       "      <td>654</td>\n",
       "      <td>659</td>\n",
       "      <td>636</td>\n",
       "    </tr>\n",
       "  </tbody>\n",
       "</table>\n",
       "</div>"
      ],
      "text/plain": [
       "  customer_id    status  residence_rent_or_own  monthly_rent_amount  \\\n",
       "0  9ece67d6c5  Approved                   True                    0   \n",
       "1  5c2c402094  Approved                   True                    0   \n",
       "2  e6254cad30  Approved                   True                  620   \n",
       "3  49fb42f51d  Approved                  False                  785   \n",
       "4  195fbe5739  Approved                   True                  700   \n",
       "\n",
       "   bank_account_direct_deposit    application_when  loan_duration  \\\n",
       "0                         True 2010-10-16 14:06:00              3   \n",
       "1                        False 2010-10-17 13:01:00              6   \n",
       "2                         True 2010-10-17 19:52:00              6   \n",
       "3                        False 2010-10-18 07:05:00              4   \n",
       "4                         True 2010-10-19 10:58:00              4   \n",
       "\n",
       "   payment_ach  num_payments  address_zip  bank_routing_number  \\\n",
       "0         True             6        84118            124001545   \n",
       "1         True            13        84062            124000054   \n",
       "2         True            13        84119            124001545   \n",
       "3         True             8        84405            124002971   \n",
       "4         True             8        84404            124002971   \n",
       "\n",
       "  home_phone_type  monthly_income_amount  raw_l2c_score  raw_FICO_telecom  \\\n",
       "0          Mobile                   1560            614               574   \n",
       "1          Mobile                    900            708               501   \n",
       "2          Mobile                   1434            687               522   \n",
       "3          Mobile                   1600            616               560   \n",
       "4          Mobile                   1360            681               603   \n",
       "\n",
       "   raw_FICO_retail  raw_FICO_bank_card  raw_FICO_money  \n",
       "0              600                 656             561  \n",
       "1              550                 651             563  \n",
       "2              561                 661             598  \n",
       "3              552                 634             591  \n",
       "4              654                 659             636  "
      ]
     },
     "execution_count": 4,
     "metadata": {},
     "output_type": "execute_result"
    }
   ],
   "source": [
    "# C:\\Users\\anne1\\Documents\\DS_SM_15\\lessons\\lesson-20\\code\\dataset\\loan_fullyfundeddata.xlsx\n",
    "\n",
    "# loads in csv\n",
    "df = pd.read_excel(\"loan_fullyfundeddata.xlsx\",sheetname = 0)\n",
    "df.head()"
   ]
  },
  {
   "cell_type": "code",
   "execution_count": 5,
   "metadata": {
    "collapsed": false
   },
   "outputs": [
    {
     "name": "stdout",
     "output_type": "stream",
     "text": [
      "<class 'pandas.core.frame.DataFrame'>\n",
      "RangeIndex: 400 entries, 0 to 399\n",
      "Data columns (total 18 columns):\n",
      "customer_id                    400 non-null object\n",
      "status                         400 non-null object\n",
      "residence_rent_or_own          400 non-null bool\n",
      "monthly_rent_amount            400 non-null int64\n",
      "bank_account_direct_deposit    400 non-null bool\n",
      "application_when               400 non-null datetime64[ns]\n",
      "loan_duration                  400 non-null int64\n",
      "payment_ach                    400 non-null bool\n",
      "num_payments                   400 non-null int64\n",
      "address_zip                    400 non-null int64\n",
      "bank_routing_number            400 non-null int64\n",
      "home_phone_type                400 non-null object\n",
      "monthly_income_amount          400 non-null int64\n",
      "raw_l2c_score                  400 non-null int64\n",
      "raw_FICO_telecom               400 non-null int64\n",
      "raw_FICO_retail                400 non-null int64\n",
      "raw_FICO_bank_card             400 non-null int64\n",
      "raw_FICO_money                 400 non-null int64\n",
      "dtypes: bool(3), datetime64[ns](1), int64(11), object(3)\n",
      "memory usage: 48.1+ KB\n"
     ]
    }
   ],
   "source": [
    "df.info()"
   ]
  },
  {
   "cell_type": "code",
   "execution_count": 8,
   "metadata": {
    "collapsed": false
   },
   "outputs": [
    {
     "data": {
      "text/html": [
       "<div>\n",
       "<style>\n",
       "    .dataframe thead tr:only-child th {\n",
       "        text-align: right;\n",
       "    }\n",
       "\n",
       "    .dataframe thead th {\n",
       "        text-align: left;\n",
       "    }\n",
       "\n",
       "    .dataframe tbody tr th {\n",
       "        vertical-align: top;\n",
       "    }\n",
       "</style>\n",
       "<table border=\"1\" class=\"dataframe\">\n",
       "  <thead>\n",
       "    <tr style=\"text-align: right;\">\n",
       "      <th></th>\n",
       "      <th>monthly_rent_amount</th>\n",
       "      <th>loan_duration</th>\n",
       "      <th>num_payments</th>\n",
       "      <th>address_zip</th>\n",
       "      <th>bank_routing_number</th>\n",
       "      <th>monthly_income_amount</th>\n",
       "      <th>raw_l2c_score</th>\n",
       "      <th>raw_FICO_telecom</th>\n",
       "      <th>raw_FICO_retail</th>\n",
       "      <th>raw_FICO_bank_card</th>\n",
       "      <th>raw_FICO_money</th>\n",
       "    </tr>\n",
       "  </thead>\n",
       "  <tbody>\n",
       "    <tr>\n",
       "      <th>count</th>\n",
       "      <td>400.000000</td>\n",
       "      <td>400.000000</td>\n",
       "      <td>400.000000</td>\n",
       "      <td>400.000000</td>\n",
       "      <td>4.000000e+02</td>\n",
       "      <td>400.000000</td>\n",
       "      <td>400.00000</td>\n",
       "      <td>400.000000</td>\n",
       "      <td>400.000000</td>\n",
       "      <td>400.000000</td>\n",
       "      <td>400.000000</td>\n",
       "    </tr>\n",
       "    <tr>\n",
       "      <th>mean</th>\n",
       "      <td>594.317500</td>\n",
       "      <td>5.860000</td>\n",
       "      <td>10.800000</td>\n",
       "      <td>82409.300000</td>\n",
       "      <td>1.815323e+08</td>\n",
       "      <td>2645.565000</td>\n",
       "      <td>606.55000</td>\n",
       "      <td>566.180000</td>\n",
       "      <td>592.242500</td>\n",
       "      <td>664.005000</td>\n",
       "      <td>602.565000</td>\n",
       "    </tr>\n",
       "    <tr>\n",
       "      <th>std</th>\n",
       "      <td>435.895893</td>\n",
       "      <td>1.511991</td>\n",
       "      <td>4.485007</td>\n",
       "      <td>6506.387121</td>\n",
       "      <td>9.981754e+07</td>\n",
       "      <td>1651.009577</td>\n",
       "      <td>108.37745</td>\n",
       "      <td>43.278519</td>\n",
       "      <td>51.673388</td>\n",
       "      <td>40.141042</td>\n",
       "      <td>30.989865</td>\n",
       "    </tr>\n",
       "    <tr>\n",
       "      <th>min</th>\n",
       "      <td>0.000000</td>\n",
       "      <td>2.000000</td>\n",
       "      <td>3.000000</td>\n",
       "      <td>57003.000000</td>\n",
       "      <td>1.240000e+04</td>\n",
       "      <td>300.000000</td>\n",
       "      <td>50.00000</td>\n",
       "      <td>222.000000</td>\n",
       "      <td>222.000000</td>\n",
       "      <td>222.000000</td>\n",
       "      <td>222.000000</td>\n",
       "    </tr>\n",
       "    <tr>\n",
       "      <th>25%</th>\n",
       "      <td>250.000000</td>\n",
       "      <td>5.000000</td>\n",
       "      <td>8.000000</td>\n",
       "      <td>84010.000000</td>\n",
       "      <td>1.240001e+08</td>\n",
       "      <td>1557.500000</td>\n",
       "      <td>544.00000</td>\n",
       "      <td>535.000000</td>\n",
       "      <td>553.000000</td>\n",
       "      <td>648.000000</td>\n",
       "      <td>587.750000</td>\n",
       "    </tr>\n",
       "    <tr>\n",
       "      <th>50%</th>\n",
       "      <td>577.500000</td>\n",
       "      <td>5.000000</td>\n",
       "      <td>10.000000</td>\n",
       "      <td>84084.000000</td>\n",
       "      <td>1.240030e+08</td>\n",
       "      <td>2397.000000</td>\n",
       "      <td>600.50000</td>\n",
       "      <td>566.000000</td>\n",
       "      <td>590.000000</td>\n",
       "      <td>671.000000</td>\n",
       "      <td>605.500000</td>\n",
       "    </tr>\n",
       "    <tr>\n",
       "      <th>75%</th>\n",
       "      <td>873.750000</td>\n",
       "      <td>8.000000</td>\n",
       "      <td>13.000000</td>\n",
       "      <td>84120.000000</td>\n",
       "      <td>3.240796e+08</td>\n",
       "      <td>3200.000000</td>\n",
       "      <td>671.75000</td>\n",
       "      <td>593.250000</td>\n",
       "      <td>632.000000</td>\n",
       "      <td>680.000000</td>\n",
       "      <td>621.000000</td>\n",
       "    </tr>\n",
       "    <tr>\n",
       "      <th>max</th>\n",
       "      <td>2100.000000</td>\n",
       "      <td>8.000000</td>\n",
       "      <td>34.000000</td>\n",
       "      <td>84790.000000</td>\n",
       "      <td>5.113005e+08</td>\n",
       "      <td>19392.000000</td>\n",
       "      <td>808.00000</td>\n",
       "      <td>698.000000</td>\n",
       "      <td>756.000000</td>\n",
       "      <td>796.000000</td>\n",
       "      <td>662.000000</td>\n",
       "    </tr>\n",
       "  </tbody>\n",
       "</table>\n",
       "</div>"
      ],
      "text/plain": [
       "       monthly_rent_amount  loan_duration  num_payments   address_zip  \\\n",
       "count           400.000000     400.000000    400.000000    400.000000   \n",
       "mean            594.317500       5.860000     10.800000  82409.300000   \n",
       "std             435.895893       1.511991      4.485007   6506.387121   \n",
       "min               0.000000       2.000000      3.000000  57003.000000   \n",
       "25%             250.000000       5.000000      8.000000  84010.000000   \n",
       "50%             577.500000       5.000000     10.000000  84084.000000   \n",
       "75%             873.750000       8.000000     13.000000  84120.000000   \n",
       "max            2100.000000       8.000000     34.000000  84790.000000   \n",
       "\n",
       "       bank_routing_number  monthly_income_amount  raw_l2c_score  \\\n",
       "count         4.000000e+02             400.000000      400.00000   \n",
       "mean          1.815323e+08            2645.565000      606.55000   \n",
       "std           9.981754e+07            1651.009577      108.37745   \n",
       "min           1.240000e+04             300.000000       50.00000   \n",
       "25%           1.240001e+08            1557.500000      544.00000   \n",
       "50%           1.240030e+08            2397.000000      600.50000   \n",
       "75%           3.240796e+08            3200.000000      671.75000   \n",
       "max           5.113005e+08           19392.000000      808.00000   \n",
       "\n",
       "       raw_FICO_telecom  raw_FICO_retail  raw_FICO_bank_card  raw_FICO_money  \n",
       "count        400.000000       400.000000          400.000000      400.000000  \n",
       "mean         566.180000       592.242500          664.005000      602.565000  \n",
       "std           43.278519        51.673388           40.141042       30.989865  \n",
       "min          222.000000       222.000000          222.000000      222.000000  \n",
       "25%          535.000000       553.000000          648.000000      587.750000  \n",
       "50%          566.000000       590.000000          671.000000      605.500000  \n",
       "75%          593.250000       632.000000          680.000000      621.000000  \n",
       "max          698.000000       756.000000          796.000000      662.000000  "
      ]
     },
     "execution_count": 8,
     "metadata": {},
     "output_type": "execute_result"
    }
   ],
   "source": [
    "df.describe()"
   ]
  },
  {
   "cell_type": "code",
   "execution_count": 10,
   "metadata": {
    "collapsed": false
   },
   "outputs": [
    {
     "name": "stdout",
     "output_type": "stream",
     "text": [
      "customer_id\n",
      "status\n",
      "residence_rent_or_own\n",
      "monthly_rent_amount\n",
      "bank_account_direct_deposit\n",
      "application_when\n",
      "loan_duration\n",
      "payment_ach\n",
      "num_payments\n",
      "address_zip\n",
      "bank_routing_number\n",
      "home_phone_type\n",
      "monthly_income_amount\n",
      "raw_l2c_score\n",
      "raw_FICO_telecom\n",
      "raw_FICO_retail\n",
      "raw_FICO_bank_card\n",
      "raw_FICO_money\n"
     ]
    }
   ],
   "source": [
    "columns = df.columns\n",
    "for x in columns:\n",
    "    print x"
   ]
  },
  {
   "cell_type": "code",
   "execution_count": 26,
   "metadata": {
    "collapsed": false
   },
   "outputs": [],
   "source": [
    "fico=pd.concat(\n",
    "    [df['raw_l2c_score'], df['raw_FICO_telecom'],df['raw_FICO_retail'],df['raw_FICO_bank_card'],df['raw_FICO_money']])\n",
    "\n",
    "\n",
    "df['fico_mean'] = fico.groupby(fico.index).mean()\n",
    "df.fico_mean = df.fico_mean.astype(int)\n"
   ]
  },
  {
   "cell_type": "code",
   "execution_count": 27,
   "metadata": {
    "collapsed": false
   },
   "outputs": [
    {
     "name": "stdout",
     "output_type": "stream",
     "text": [
      "<class 'pandas.core.frame.DataFrame'>\n",
      "RangeIndex: 400 entries, 0 to 399\n",
      "Data columns (total 19 columns):\n",
      "customer_id                    400 non-null object\n",
      "status                         400 non-null object\n",
      "residence_rent_or_own          400 non-null bool\n",
      "monthly_rent_amount            400 non-null int64\n",
      "bank_account_direct_deposit    400 non-null bool\n",
      "application_when               400 non-null datetime64[ns]\n",
      "loan_duration                  400 non-null int64\n",
      "payment_ach                    400 non-null bool\n",
      "num_payments                   400 non-null int64\n",
      "address_zip                    400 non-null int64\n",
      "bank_routing_number            400 non-null int64\n",
      "home_phone_type                400 non-null object\n",
      "monthly_income_amount          400 non-null int64\n",
      "raw_l2c_score                  400 non-null int64\n",
      "raw_FICO_telecom               400 non-null int64\n",
      "raw_FICO_retail                400 non-null int64\n",
      "raw_FICO_bank_card             400 non-null int64\n",
      "raw_FICO_money                 400 non-null int64\n",
      "fico_mean                      400 non-null int32\n",
      "dtypes: bool(3), datetime64[ns](1), int32(1), int64(11), object(3)\n",
      "memory usage: 49.7+ KB\n"
     ]
    }
   ],
   "source": [
    "df.info()"
   ]
  },
  {
   "cell_type": "code",
   "execution_count": null,
   "metadata": {
    "collapsed": true
   },
   "outputs": [],
   "source": []
  },
  {
   "cell_type": "code",
   "execution_count": 40,
   "metadata": {
    "collapsed": false
   },
   "outputs": [
    {
     "data": {
      "text/html": [
       "<div>\n",
       "<style>\n",
       "    .dataframe thead tr:only-child th {\n",
       "        text-align: right;\n",
       "    }\n",
       "\n",
       "    .dataframe thead th {\n",
       "        text-align: left;\n",
       "    }\n",
       "\n",
       "    .dataframe tbody tr th {\n",
       "        vertical-align: top;\n",
       "    }\n",
       "</style>\n",
       "<table border=\"1\" class=\"dataframe\">\n",
       "  <thead>\n",
       "    <tr style=\"text-align: right;\">\n",
       "      <th></th>\n",
       "      <th>customer_id</th>\n",
       "      <th>FullyFunded</th>\n",
       "    </tr>\n",
       "  </thead>\n",
       "  <tbody>\n",
       "    <tr>\n",
       "      <th>0</th>\n",
       "      <td>9ece67d6c5</td>\n",
       "      <td>True</td>\n",
       "    </tr>\n",
       "    <tr>\n",
       "      <th>1</th>\n",
       "      <td>5c2c402094</td>\n",
       "      <td>True</td>\n",
       "    </tr>\n",
       "    <tr>\n",
       "      <th>2</th>\n",
       "      <td>e6254cad30</td>\n",
       "      <td>True</td>\n",
       "    </tr>\n",
       "    <tr>\n",
       "      <th>3</th>\n",
       "      <td>49fb42f51d</td>\n",
       "      <td>True</td>\n",
       "    </tr>\n",
       "    <tr>\n",
       "      <th>4</th>\n",
       "      <td>195fbe5739</td>\n",
       "      <td>True</td>\n",
       "    </tr>\n",
       "  </tbody>\n",
       "</table>\n",
       "</div>"
      ],
      "text/plain": [
       "  customer_id  FullyFunded\n",
       "0  9ece67d6c5         True\n",
       "1  5c2c402094         True\n",
       "2  e6254cad30         True\n",
       "3  49fb42f51d         True\n",
       "4  195fbe5739         True"
      ]
     },
     "execution_count": 40,
     "metadata": {},
     "output_type": "execute_result"
    }
   ],
   "source": [
    "df2 = pd.read_excel(\"loan_fullyfundeddata.xlsx\",sheetname = 1)\n",
    "df2.head()"
   ]
  },
  {
   "cell_type": "code",
   "execution_count": 43,
   "metadata": {
    "collapsed": false
   },
   "outputs": [],
   "source": [
    "result = pd.merge(df, df2, on='customer_id', how='outer')"
   ]
  },
  {
   "cell_type": "code",
   "execution_count": 44,
   "metadata": {
    "collapsed": false
   },
   "outputs": [
    {
     "name": "stdout",
     "output_type": "stream",
     "text": [
      "<class 'pandas.core.frame.DataFrame'>\n",
      "Int64Index: 400 entries, 0 to 399\n",
      "Data columns (total 20 columns):\n",
      "customer_id                    400 non-null object\n",
      "status                         400 non-null object\n",
      "residence_rent_or_own          400 non-null bool\n",
      "monthly_rent_amount            400 non-null int64\n",
      "bank_account_direct_deposit    400 non-null bool\n",
      "application_when               400 non-null datetime64[ns]\n",
      "loan_duration                  400 non-null int64\n",
      "payment_ach                    400 non-null bool\n",
      "num_payments                   400 non-null int64\n",
      "address_zip                    400 non-null int64\n",
      "bank_routing_number            400 non-null int64\n",
      "home_phone_type                400 non-null object\n",
      "monthly_income_amount          400 non-null int64\n",
      "raw_l2c_score                  400 non-null int64\n",
      "raw_FICO_telecom               400 non-null int64\n",
      "raw_FICO_retail                400 non-null int64\n",
      "raw_FICO_bank_card             400 non-null int64\n",
      "raw_FICO_money                 400 non-null int64\n",
      "fico_mean                      400 non-null int32\n",
      "FullyFunded                    400 non-null bool\n",
      "dtypes: bool(4), datetime64[ns](1), int32(1), int64(11), object(3)\n",
      "memory usage: 53.1+ KB\n"
     ]
    }
   ],
   "source": [
    "result.info()"
   ]
  },
  {
   "cell_type": "code",
   "execution_count": 63,
   "metadata": {
    "collapsed": false
   },
   "outputs": [
    {
     "data": {
      "text/plain": [
       "LogisticRegression(C=1.0, class_weight=None, dual=False, fit_intercept=True,\n",
       "          intercept_scaling=1, max_iter=100, multi_class='ovr', n_jobs=1,\n",
       "          penalty='l2', random_state=None, solver='liblinear', tol=0.0001,\n",
       "          verbose=0, warm_start=False)"
      ]
     },
     "execution_count": 63,
     "metadata": {},
     "output_type": "execute_result"
    }
   ],
   "source": [
    "from sklearn.linear_model import LogisticRegression\n",
    "\n",
    "X = result[['residence_rent_or_own','monthly_rent_amount','bank_account_direct_deposit',\n",
    "        'loan_duration','num_payments','monthly_income_amount','fico_mean']].dropna()\n",
    "\n",
    "loan_model = LogisticRegression(fit_intercept=True)\n",
    "\n",
    "loan_model.fit(X,result['FullyFunded'])"
   ]
  },
  {
   "cell_type": "code",
   "execution_count": 64,
   "metadata": {
    "collapsed": false
   },
   "outputs": [
    {
     "name": "stdout",
     "output_type": "stream",
     "text": [
      "0.704325335681\n"
     ]
    }
   ],
   "source": [
    "from sklearn.model_selection import cross_val_score\n",
    "scores = cross_val_score(loan_model, X, y=result['FullyFunded'], groups=None, scoring='roc_auc', cv=5, \n",
    "                n_jobs=1, verbose=0, fit_params=None, pre_dispatch='2*n_jobs')\n",
    "\n",
    "print scores.mean()\n",
    "\n"
   ]
  },
  {
   "cell_type": "code",
   "execution_count": 65,
   "metadata": {
    "collapsed": false
   },
   "outputs": [],
   "source": [
    "from sklearn import feature_selection, linear_model\n",
    "\n",
    "def get_linear_model_metrics(X, y, algo):\n",
    "    # get the pvalue of X given y. Ignore f-stat for now.\n",
    "    pvals = feature_selection.f_regression(X, y)[1]\n",
    "    # start with an empty linear regression object\n",
    "    # .fit() runs the linear regression function on X and y\n",
    "    algo.fit(X,y)\n",
    "    residuals = (y-algo.predict(X)).values\n",
    "\n",
    "    # print the necessary values\n",
    "    print 'P Values:', pvals\n",
    "    print 'Coefficients:', algo.coef_\n",
    "    print 'y-intercept:', algo.intercept_\n",
    "    print 'R-Squared:', algo.score(X,y)\n",
    "    plt.figure()\n",
    "    plt.hist(residuals, bins=np.ceil(np.sqrt(len(y))))\n",
    "    # keep the model\n",
    "    return algo"
   ]
  },
  {
   "cell_type": "code",
   "execution_count": 62,
   "metadata": {
    "collapsed": false
   },
   "outputs": [
    {
     "name": "stderr",
     "output_type": "stream",
     "text": [
      "C:\\Users\\anne1\\Anaconda2\\lib\\site-packages\\pandas\\core\\computation\\expressions.py:183: UserWarning: evaluating in Python space because the '-' operator is not supported by numexpr for the bool dtype, use '^' instead\n",
      "  unsupported[op_str]))\n"
     ]
    },
    {
     "name": "stdout",
     "output_type": "stream",
     "text": [
      "P Values: [  6.67231065e-02   1.34356039e-01   3.91295080e-01   4.68609698e-08\n",
      "   7.14393869e-01   1.43291140e-01   1.36302174e-04]\n",
      "Coefficients: [[ -4.54702984e-01   3.25629696e-04  -2.75438661e-01  -5.83591999e-01\n",
      "    7.45036857e-02  -1.93897861e-04   7.82649548e-03]]\n",
      "y-intercept: [-0.10308495]\n",
      "R-Squared: 0.7625\n"
     ]
    },
    {
     "ename": "TypeError",
     "evalue": "'numpy.float64' object cannot be interpreted as an index",
     "output_type": "error",
     "traceback": [
      "\u001b[0;31m---------------------------------------------------------------------------\u001b[0m",
      "\u001b[0;31mTypeError\u001b[0m                                 Traceback (most recent call last)",
      "\u001b[0;32m<ipython-input-62-35a2c85bcd43>\u001b[0m in \u001b[0;36m<module>\u001b[0;34m()\u001b[0m\n\u001b[0;32m----> 1\u001b[0;31m \u001b[0mget_linear_model_metrics\u001b[0m\u001b[1;33m(\u001b[0m\u001b[0mX\u001b[0m\u001b[1;33m,\u001b[0m\u001b[0mresult\u001b[0m\u001b[1;33m[\u001b[0m\u001b[1;34m'FullyFunded'\u001b[0m\u001b[1;33m]\u001b[0m\u001b[1;33m,\u001b[0m\u001b[0mloan_model\u001b[0m\u001b[1;33m)\u001b[0m\u001b[1;33m\u001b[0m\u001b[0m\n\u001b[0m",
      "\u001b[0;32m<ipython-input-61-b7b2e24eeab6>\u001b[0m in \u001b[0;36mget_linear_model_metrics\u001b[0;34m(X, y, algo)\u001b[0m\n\u001b[1;32m     15\u001b[0m     \u001b[1;32mprint\u001b[0m \u001b[1;34m'R-Squared:'\u001b[0m\u001b[1;33m,\u001b[0m \u001b[0malgo\u001b[0m\u001b[1;33m.\u001b[0m\u001b[0mscore\u001b[0m\u001b[1;33m(\u001b[0m\u001b[0mX\u001b[0m\u001b[1;33m,\u001b[0m\u001b[0my\u001b[0m\u001b[1;33m)\u001b[0m\u001b[1;33m\u001b[0m\u001b[0m\n\u001b[1;32m     16\u001b[0m     \u001b[0mplt\u001b[0m\u001b[1;33m.\u001b[0m\u001b[0mfigure\u001b[0m\u001b[1;33m(\u001b[0m\u001b[1;33m)\u001b[0m\u001b[1;33m\u001b[0m\u001b[0m\n\u001b[0;32m---> 17\u001b[0;31m     \u001b[0mplt\u001b[0m\u001b[1;33m.\u001b[0m\u001b[0mhist\u001b[0m\u001b[1;33m(\u001b[0m\u001b[0mresiduals\u001b[0m\u001b[1;33m,\u001b[0m \u001b[0mbins\u001b[0m\u001b[1;33m=\u001b[0m\u001b[0mnp\u001b[0m\u001b[1;33m.\u001b[0m\u001b[0mceil\u001b[0m\u001b[1;33m(\u001b[0m\u001b[0mnp\u001b[0m\u001b[1;33m.\u001b[0m\u001b[0msqrt\u001b[0m\u001b[1;33m(\u001b[0m\u001b[0mlen\u001b[0m\u001b[1;33m(\u001b[0m\u001b[0my\u001b[0m\u001b[1;33m)\u001b[0m\u001b[1;33m)\u001b[0m\u001b[1;33m)\u001b[0m\u001b[1;33m)\u001b[0m\u001b[1;33m\u001b[0m\u001b[0m\n\u001b[0m\u001b[1;32m     18\u001b[0m     \u001b[1;31m# keep the model\u001b[0m\u001b[1;33m\u001b[0m\u001b[1;33m\u001b[0m\u001b[0m\n\u001b[1;32m     19\u001b[0m     \u001b[1;32mreturn\u001b[0m \u001b[0malgo\u001b[0m\u001b[1;33m\u001b[0m\u001b[0m\n",
      "\u001b[0;32mC:\\Users\\anne1\\Anaconda2\\lib\\site-packages\\matplotlib\\pyplot.pyc\u001b[0m in \u001b[0;36mhist\u001b[0;34m(x, bins, range, normed, weights, cumulative, bottom, histtype, align, orientation, rwidth, log, color, label, stacked, hold, data, **kwargs)\u001b[0m\n\u001b[1;32m   3079\u001b[0m                       \u001b[0mhisttype\u001b[0m\u001b[1;33m=\u001b[0m\u001b[0mhisttype\u001b[0m\u001b[1;33m,\u001b[0m \u001b[0malign\u001b[0m\u001b[1;33m=\u001b[0m\u001b[0malign\u001b[0m\u001b[1;33m,\u001b[0m \u001b[0morientation\u001b[0m\u001b[1;33m=\u001b[0m\u001b[0morientation\u001b[0m\u001b[1;33m,\u001b[0m\u001b[1;33m\u001b[0m\u001b[0m\n\u001b[1;32m   3080\u001b[0m                       \u001b[0mrwidth\u001b[0m\u001b[1;33m=\u001b[0m\u001b[0mrwidth\u001b[0m\u001b[1;33m,\u001b[0m \u001b[0mlog\u001b[0m\u001b[1;33m=\u001b[0m\u001b[0mlog\u001b[0m\u001b[1;33m,\u001b[0m \u001b[0mcolor\u001b[0m\u001b[1;33m=\u001b[0m\u001b[0mcolor\u001b[0m\u001b[1;33m,\u001b[0m \u001b[0mlabel\u001b[0m\u001b[1;33m=\u001b[0m\u001b[0mlabel\u001b[0m\u001b[1;33m,\u001b[0m\u001b[1;33m\u001b[0m\u001b[0m\n\u001b[0;32m-> 3081\u001b[0;31m                       stacked=stacked, data=data, **kwargs)\n\u001b[0m\u001b[1;32m   3082\u001b[0m     \u001b[1;32mfinally\u001b[0m\u001b[1;33m:\u001b[0m\u001b[1;33m\u001b[0m\u001b[0m\n\u001b[1;32m   3083\u001b[0m         \u001b[0max\u001b[0m\u001b[1;33m.\u001b[0m\u001b[0m_hold\u001b[0m \u001b[1;33m=\u001b[0m \u001b[0mwashold\u001b[0m\u001b[1;33m\u001b[0m\u001b[0m\n",
      "\u001b[0;32mC:\\Users\\anne1\\Anaconda2\\lib\\site-packages\\matplotlib\\__init__.pyc\u001b[0m in \u001b[0;36minner\u001b[0;34m(ax, *args, **kwargs)\u001b[0m\n\u001b[1;32m   1895\u001b[0m                     warnings.warn(msg % (label_namer, func.__name__),\n\u001b[1;32m   1896\u001b[0m                                   RuntimeWarning, stacklevel=2)\n\u001b[0;32m-> 1897\u001b[0;31m             \u001b[1;32mreturn\u001b[0m \u001b[0mfunc\u001b[0m\u001b[1;33m(\u001b[0m\u001b[0max\u001b[0m\u001b[1;33m,\u001b[0m \u001b[1;33m*\u001b[0m\u001b[0margs\u001b[0m\u001b[1;33m,\u001b[0m \u001b[1;33m**\u001b[0m\u001b[0mkwargs\u001b[0m\u001b[1;33m)\u001b[0m\u001b[1;33m\u001b[0m\u001b[0m\n\u001b[0m\u001b[1;32m   1898\u001b[0m         \u001b[0mpre_doc\u001b[0m \u001b[1;33m=\u001b[0m \u001b[0minner\u001b[0m\u001b[1;33m.\u001b[0m\u001b[0m__doc__\u001b[0m\u001b[1;33m\u001b[0m\u001b[0m\n\u001b[1;32m   1899\u001b[0m         \u001b[1;32mif\u001b[0m \u001b[0mpre_doc\u001b[0m \u001b[1;32mis\u001b[0m \u001b[0mNone\u001b[0m\u001b[1;33m:\u001b[0m\u001b[1;33m\u001b[0m\u001b[0m\n",
      "\u001b[0;32mC:\\Users\\anne1\\Anaconda2\\lib\\site-packages\\matplotlib\\axes\\_axes.pyc\u001b[0m in \u001b[0;36mhist\u001b[0;34m(***failed resolving arguments***)\u001b[0m\n\u001b[1;32m   6193\u001b[0m             \u001b[1;31m# this will automatically overwrite bins,\u001b[0m\u001b[1;33m\u001b[0m\u001b[1;33m\u001b[0m\u001b[0m\n\u001b[1;32m   6194\u001b[0m             \u001b[1;31m# so that each histogram uses the same bins\u001b[0m\u001b[1;33m\u001b[0m\u001b[1;33m\u001b[0m\u001b[0m\n\u001b[0;32m-> 6195\u001b[0;31m             \u001b[0mm\u001b[0m\u001b[1;33m,\u001b[0m \u001b[0mbins\u001b[0m \u001b[1;33m=\u001b[0m \u001b[0mnp\u001b[0m\u001b[1;33m.\u001b[0m\u001b[0mhistogram\u001b[0m\u001b[1;33m(\u001b[0m\u001b[0mx\u001b[0m\u001b[1;33m[\u001b[0m\u001b[0mi\u001b[0m\u001b[1;33m]\u001b[0m\u001b[1;33m,\u001b[0m \u001b[0mbins\u001b[0m\u001b[1;33m,\u001b[0m \u001b[0mweights\u001b[0m\u001b[1;33m=\u001b[0m\u001b[0mw\u001b[0m\u001b[1;33m[\u001b[0m\u001b[0mi\u001b[0m\u001b[1;33m]\u001b[0m\u001b[1;33m,\u001b[0m \u001b[1;33m**\u001b[0m\u001b[0mhist_kwargs\u001b[0m\u001b[1;33m)\u001b[0m\u001b[1;33m\u001b[0m\u001b[0m\n\u001b[0m\u001b[1;32m   6196\u001b[0m             \u001b[0mm\u001b[0m \u001b[1;33m=\u001b[0m \u001b[0mm\u001b[0m\u001b[1;33m.\u001b[0m\u001b[0mastype\u001b[0m\u001b[1;33m(\u001b[0m\u001b[0mfloat\u001b[0m\u001b[1;33m)\u001b[0m  \u001b[1;31m# causes problems later if it's an int\u001b[0m\u001b[1;33m\u001b[0m\u001b[0m\n\u001b[1;32m   6197\u001b[0m             \u001b[1;32mif\u001b[0m \u001b[0mmlast\u001b[0m \u001b[1;32mis\u001b[0m \u001b[0mNone\u001b[0m\u001b[1;33m:\u001b[0m\u001b[1;33m\u001b[0m\u001b[0m\n",
      "\u001b[0;32mC:\\Users\\anne1\\Anaconda2\\lib\\site-packages\\numpy\\lib\\function_base.pyc\u001b[0m in \u001b[0;36mhistogram\u001b[0;34m(a, bins, range, normed, weights, density)\u001b[0m\n\u001b[1;32m    726\u001b[0m \u001b[1;33m\u001b[0m\u001b[0m\n\u001b[1;32m    727\u001b[0m         \u001b[1;31m# Initialize empty histogram\u001b[0m\u001b[1;33m\u001b[0m\u001b[1;33m\u001b[0m\u001b[0m\n\u001b[0;32m--> 728\u001b[0;31m         \u001b[0mn\u001b[0m \u001b[1;33m=\u001b[0m \u001b[0mnp\u001b[0m\u001b[1;33m.\u001b[0m\u001b[0mzeros\u001b[0m\u001b[1;33m(\u001b[0m\u001b[0mbins\u001b[0m\u001b[1;33m,\u001b[0m \u001b[0mntype\u001b[0m\u001b[1;33m)\u001b[0m\u001b[1;33m\u001b[0m\u001b[0m\n\u001b[0m\u001b[1;32m    729\u001b[0m         \u001b[1;31m# Pre-compute histogram scaling factor\u001b[0m\u001b[1;33m\u001b[0m\u001b[1;33m\u001b[0m\u001b[0m\n\u001b[1;32m    730\u001b[0m         \u001b[0mnorm\u001b[0m \u001b[1;33m=\u001b[0m \u001b[0mbins\u001b[0m \u001b[1;33m/\u001b[0m \u001b[1;33m(\u001b[0m\u001b[0mmx\u001b[0m \u001b[1;33m-\u001b[0m \u001b[0mmn\u001b[0m\u001b[1;33m)\u001b[0m\u001b[1;33m\u001b[0m\u001b[0m\n",
      "\u001b[0;31mTypeError\u001b[0m: 'numpy.float64' object cannot be interpreted as an index"
     ]
    },
    {
     "data": {
      "image/png": "[encoded data removed]",
      "text/plain": [
       "<matplotlib.figure.Figure at 0x2256e198>"
      ]
     },
     "metadata": {},
     "output_type": "display_data"
    }
   ],
   "source": [
    "get_linear_model_metrics(X,result['FullyFunded'],loan_model)"
   ]
  },
  {
   "cell_type": "code",
   "execution_count": 66,
   "metadata": {
    "collapsed": true
   },
   "outputs": [],
   "source": [
    "from sklearn.tree import DecisionTreeClassifier\n",
    "\n",
    "model = DecisionTreeClassifier()\n",
    "\n",
    "X = result[['residence_rent_or_own','loan_duration','fico_mean','FullyFunded']].dropna()\n",
    "y = X['FullyFunded']\n",
    "X.drop('FullyFunded', axis=1, inplace=True)\n",
    "    \n",
    "    \n",
    "# Fits the model\n",
    "model.fit(X, y)\n",
    "\n",
    "# Helper function to visualize Decision Trees (creates a file tree.png)\n",
    "\n",
    "from sklearn.tree import export_graphviz\n",
    "from os import system \n",
    "def build_tree_image(model):\n",
    "    dotfile = open(\"tree.dot\", 'w')\n",
    "    export_graphviz(model,\n",
    "    out_file = dotfile,\n",
    "    feature_names = X.columns)\n",
    "    dotfile.close()\n",
    "    system(\"dot -Tpng tree.dot -o tree.png\")\n",
    "    \n",
    "build_tree_image(model)"
   ]
  },
  {
   "cell_type": "code",
   "execution_count": null,
   "metadata": {
    "collapsed": true
   },
   "outputs": [],
   "source": []
  }
 ],
 "metadata": {
  "kernelspec": {
   "display_name": "Python 2",
   "language": "python",
   "name": "python2"
  },
  "language_info": {
   "codemirror_mode": {
    "name": "ipython",
    "version": 2
   },
   "file_extension": ".py",
   "mimetype": "text/x-python",
   "name": "python",
   "nbconvert_exporter": "python",
   "pygments_lexer": "ipython2",
   "version": "2.7.13"
  }
 },
 "nbformat": 4,
 "nbformat_minor": 2
}
